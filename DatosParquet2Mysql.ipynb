{
 "cells": [
  {
   "cell_type": "markdown",
   "metadata": {},
   "source": []
  },
  {
   "cell_type": "code",
   "execution_count": null,
   "metadata": {},
   "outputs": [
    {
     "name": "stderr",
     "output_type": "stream",
     "text": [
      "Exception during reset or similar\n",
      "Traceback (most recent call last):\n",
      "  File \"C:\\Users\\kcasi\\AppData\\Local\\Packages\\PythonSoftwareFoundation.Python.3.12_qbz5n2kfra8p0\\LocalCache\\local-packages\\Python312\\site-packages\\sqlalchemy\\pool\\base.py\", line 986, in _finalize_fairy\n",
      "    fairy._reset(\n",
      "  File \"C:\\Users\\kcasi\\AppData\\Local\\Packages\\PythonSoftwareFoundation.Python.3.12_qbz5n2kfra8p0\\LocalCache\\local-packages\\Python312\\site-packages\\sqlalchemy\\pool\\base.py\", line 1432, in _reset\n",
      "    pool._dialect.do_rollback(self)\n",
      "  File \"C:\\Users\\kcasi\\AppData\\Local\\Packages\\PythonSoftwareFoundation.Python.3.12_qbz5n2kfra8p0\\LocalCache\\local-packages\\Python312\\site-packages\\sqlalchemy\\engine\\default.py\", line 699, in do_rollback\n",
      "    dbapi_connection.rollback()\n",
      "  File \"C:\\Users\\kcasi\\AppData\\Local\\Packages\\PythonSoftwareFoundation.Python.3.12_qbz5n2kfra8p0\\LocalCache\\local-packages\\Python312\\site-packages\\pymysql\\connections.py\", line 493, in rollback\n",
      "    self._read_ok_packet()\n",
      "  File \"C:\\Users\\kcasi\\AppData\\Local\\Packages\\PythonSoftwareFoundation.Python.3.12_qbz5n2kfra8p0\\LocalCache\\local-packages\\Python312\\site-packages\\pymysql\\connections.py\", line 453, in _read_ok_packet\n",
      "    pkt = self._read_packet()\n",
      "          ^^^^^^^^^^^^^^^^^^^\n",
      "  File \"C:\\Users\\kcasi\\AppData\\Local\\Packages\\PythonSoftwareFoundation.Python.3.12_qbz5n2kfra8p0\\LocalCache\\local-packages\\Python312\\site-packages\\pymysql\\connections.py\", line 753, in _read_packet\n",
      "    raise err.OperationalError(\n",
      "pymysql.err.OperationalError: (2013, 'Lost connection to MySQL server during query')\n"
     ]
    },
    {
     "name": "stdout",
     "output_type": "stream",
     "text": [
      "Conexión a la base de datos establecida con éxito.\n",
      "\n",
      "Leyendo archivo D:\\GitHub\\Proyecto Final\\Proyecto_final_Henry\\Dataset\\yellow_tripdata_2023-12.parquet\n",
      "El archivo yellow_tripdata_2023-12.parquet contiene todas las columnas necesarias. Procesando...\n"
     ]
    },
    {
     "name": "stderr",
     "output_type": "stream",
     "text": [
      "Procesando yellow_tripdata_2023-12.parquet:   1%|          | 1/113 [00:10<19:34, 10.49s/chunk]"
     ]
    },
    {
     "name": "stdout",
     "output_type": "stream",
     "text": [
      "Chunk 1/113 del archivo yellow_tripdata_2023-12.parquet cargado exitosamente.\n"
     ]
    },
    {
     "name": "stderr",
     "output_type": "stream",
     "text": [
      "Procesando yellow_tripdata_2023-12.parquet:   2%|▏         | 2/113 [00:15<13:54,  7.52s/chunk]"
     ]
    },
    {
     "name": "stdout",
     "output_type": "stream",
     "text": [
      "Chunk 2/113 del archivo yellow_tripdata_2023-12.parquet cargado exitosamente.\n"
     ]
    },
    {
     "name": "stderr",
     "output_type": "stream",
     "text": [
      "Procesando yellow_tripdata_2023-12.parquet:   3%|▎         | 3/113 [00:20<11:41,  6.38s/chunk]"
     ]
    },
    {
     "name": "stdout",
     "output_type": "stream",
     "text": [
      "Chunk 3/113 del archivo yellow_tripdata_2023-12.parquet cargado exitosamente.\n"
     ]
    },
    {
     "name": "stderr",
     "output_type": "stream",
     "text": [
      "Procesando yellow_tripdata_2023-12.parquet:   4%|▎         | 4/113 [00:25<10:16,  5.66s/chunk]"
     ]
    },
    {
     "name": "stdout",
     "output_type": "stream",
     "text": [
      "Chunk 4/113 del archivo yellow_tripdata_2023-12.parquet cargado exitosamente.\n"
     ]
    },
    {
     "name": "stderr",
     "output_type": "stream",
     "text": [
      "Procesando yellow_tripdata_2023-12.parquet:   4%|▍         | 5/113 [00:29<09:07,  5.06s/chunk]"
     ]
    },
    {
     "name": "stdout",
     "output_type": "stream",
     "text": [
      "Chunk 5/113 del archivo yellow_tripdata_2023-12.parquet cargado exitosamente.\n"
     ]
    },
    {
     "name": "stderr",
     "output_type": "stream",
     "text": [
      "Procesando yellow_tripdata_2023-12.parquet:   5%|▌         | 6/113 [00:33<08:04,  4.53s/chunk]"
     ]
    },
    {
     "name": "stdout",
     "output_type": "stream",
     "text": [
      "Chunk 6/113 del archivo yellow_tripdata_2023-12.parquet cargado exitosamente.\n"
     ]
    },
    {
     "name": "stderr",
     "output_type": "stream",
     "text": [
      "Procesando yellow_tripdata_2023-12.parquet:   6%|▌         | 7/113 [00:36<07:16,  4.12s/chunk]"
     ]
    },
    {
     "name": "stdout",
     "output_type": "stream",
     "text": [
      "Chunk 7/113 del archivo yellow_tripdata_2023-12.parquet cargado exitosamente.\n"
     ]
    },
    {
     "name": "stderr",
     "output_type": "stream",
     "text": [
      "Procesando yellow_tripdata_2023-12.parquet:   7%|▋         | 8/113 [00:39<06:44,  3.86s/chunk]"
     ]
    },
    {
     "name": "stdout",
     "output_type": "stream",
     "text": [
      "Chunk 8/113 del archivo yellow_tripdata_2023-12.parquet cargado exitosamente.\n"
     ]
    },
    {
     "name": "stderr",
     "output_type": "stream",
     "text": [
      "Procesando yellow_tripdata_2023-12.parquet:   8%|▊         | 9/113 [00:43<06:33,  3.78s/chunk]"
     ]
    },
    {
     "name": "stdout",
     "output_type": "stream",
     "text": [
      "Chunk 9/113 del archivo yellow_tripdata_2023-12.parquet cargado exitosamente.\n"
     ]
    },
    {
     "name": "stderr",
     "output_type": "stream",
     "text": [
      "Procesando yellow_tripdata_2023-12.parquet:   9%|▉         | 10/113 [00:46<06:09,  3.59s/chunk]"
     ]
    },
    {
     "name": "stdout",
     "output_type": "stream",
     "text": [
      "Chunk 10/113 del archivo yellow_tripdata_2023-12.parquet cargado exitosamente.\n"
     ]
    },
    {
     "name": "stderr",
     "output_type": "stream",
     "text": [
      "Procesando yellow_tripdata_2023-12.parquet:  10%|▉         | 11/113 [00:49<06:00,  3.53s/chunk]"
     ]
    },
    {
     "name": "stdout",
     "output_type": "stream",
     "text": [
      "Chunk 11/113 del archivo yellow_tripdata_2023-12.parquet cargado exitosamente.\n"
     ]
    },
    {
     "name": "stderr",
     "output_type": "stream",
     "text": [
      "Procesando yellow_tripdata_2023-12.parquet:  11%|█         | 12/113 [00:53<06:07,  3.64s/chunk]"
     ]
    },
    {
     "name": "stdout",
     "output_type": "stream",
     "text": [
      "Chunk 12/113 del archivo yellow_tripdata_2023-12.parquet cargado exitosamente.\n"
     ]
    },
    {
     "name": "stderr",
     "output_type": "stream",
     "text": [
      "Procesando yellow_tripdata_2023-12.parquet:  12%|█▏        | 13/113 [00:57<06:05,  3.65s/chunk]"
     ]
    },
    {
     "name": "stdout",
     "output_type": "stream",
     "text": [
      "Chunk 13/113 del archivo yellow_tripdata_2023-12.parquet cargado exitosamente.\n"
     ]
    },
    {
     "name": "stderr",
     "output_type": "stream",
     "text": [
      "Procesando yellow_tripdata_2023-12.parquet:  12%|█▏        | 14/113 [01:00<05:54,  3.58s/chunk]"
     ]
    },
    {
     "name": "stdout",
     "output_type": "stream",
     "text": [
      "Chunk 14/113 del archivo yellow_tripdata_2023-12.parquet cargado exitosamente.\n"
     ]
    },
    {
     "name": "stderr",
     "output_type": "stream",
     "text": [
      "Procesando yellow_tripdata_2023-12.parquet:  13%|█▎        | 15/113 [01:05<06:22,  3.90s/chunk]"
     ]
    },
    {
     "name": "stdout",
     "output_type": "stream",
     "text": [
      "Chunk 15/113 del archivo yellow_tripdata_2023-12.parquet cargado exitosamente.\n"
     ]
    },
    {
     "name": "stderr",
     "output_type": "stream",
     "text": [
      "Procesando yellow_tripdata_2023-12.parquet:  14%|█▍        | 16/113 [01:09<06:38,  4.11s/chunk]"
     ]
    },
    {
     "name": "stdout",
     "output_type": "stream",
     "text": [
      "Chunk 16/113 del archivo yellow_tripdata_2023-12.parquet cargado exitosamente.\n"
     ]
    },
    {
     "name": "stderr",
     "output_type": "stream",
     "text": [
      "Procesando yellow_tripdata_2023-12.parquet:  15%|█▌        | 17/113 [01:14<06:44,  4.21s/chunk]"
     ]
    },
    {
     "name": "stdout",
     "output_type": "stream",
     "text": [
      "Chunk 17/113 del archivo yellow_tripdata_2023-12.parquet cargado exitosamente.\n"
     ]
    },
    {
     "name": "stderr",
     "output_type": "stream",
     "text": [
      "Procesando yellow_tripdata_2023-12.parquet:  16%|█▌        | 18/113 [01:17<06:13,  3.94s/chunk]"
     ]
    },
    {
     "name": "stdout",
     "output_type": "stream",
     "text": [
      "Chunk 18/113 del archivo yellow_tripdata_2023-12.parquet cargado exitosamente.\n"
     ]
    },
    {
     "name": "stderr",
     "output_type": "stream",
     "text": [
      "Procesando yellow_tripdata_2023-12.parquet:  17%|█▋        | 19/113 [01:21<06:01,  3.84s/chunk]"
     ]
    },
    {
     "name": "stdout",
     "output_type": "stream",
     "text": [
      "Chunk 19/113 del archivo yellow_tripdata_2023-12.parquet cargado exitosamente.\n"
     ]
    },
    {
     "name": "stderr",
     "output_type": "stream",
     "text": [
      "Procesando yellow_tripdata_2023-12.parquet:  18%|█▊        | 20/113 [01:24<05:48,  3.75s/chunk]"
     ]
    },
    {
     "name": "stdout",
     "output_type": "stream",
     "text": [
      "Chunk 20/113 del archivo yellow_tripdata_2023-12.parquet cargado exitosamente.\n"
     ]
    },
    {
     "name": "stderr",
     "output_type": "stream",
     "text": [
      "Procesando yellow_tripdata_2023-12.parquet:  19%|█▊        | 21/113 [01:29<05:57,  3.89s/chunk]"
     ]
    },
    {
     "name": "stdout",
     "output_type": "stream",
     "text": [
      "Chunk 21/113 del archivo yellow_tripdata_2023-12.parquet cargado exitosamente.\n"
     ]
    },
    {
     "name": "stderr",
     "output_type": "stream",
     "text": [
      "Procesando yellow_tripdata_2023-12.parquet:  19%|█▉        | 22/113 [01:32<05:44,  3.79s/chunk]"
     ]
    },
    {
     "name": "stdout",
     "output_type": "stream",
     "text": [
      "Chunk 22/113 del archivo yellow_tripdata_2023-12.parquet cargado exitosamente.\n"
     ]
    },
    {
     "name": "stderr",
     "output_type": "stream",
     "text": [
      "Procesando yellow_tripdata_2023-12.parquet:  20%|██        | 23/113 [01:37<06:12,  4.14s/chunk]"
     ]
    },
    {
     "name": "stdout",
     "output_type": "stream",
     "text": [
      "Chunk 23/113 del archivo yellow_tripdata_2023-12.parquet cargado exitosamente.\n"
     ]
    },
    {
     "name": "stderr",
     "output_type": "stream",
     "text": [
      "Procesando yellow_tripdata_2023-12.parquet:  21%|██        | 24/113 [01:41<06:06,  4.12s/chunk]"
     ]
    },
    {
     "name": "stdout",
     "output_type": "stream",
     "text": [
      "Chunk 24/113 del archivo yellow_tripdata_2023-12.parquet cargado exitosamente.\n"
     ]
    },
    {
     "name": "stderr",
     "output_type": "stream",
     "text": [
      "Procesando yellow_tripdata_2023-12.parquet:  22%|██▏       | 25/113 [01:45<05:42,  3.90s/chunk]"
     ]
    },
    {
     "name": "stdout",
     "output_type": "stream",
     "text": [
      "Chunk 25/113 del archivo yellow_tripdata_2023-12.parquet cargado exitosamente.\n"
     ]
    },
    {
     "name": "stderr",
     "output_type": "stream",
     "text": [
      "Procesando yellow_tripdata_2023-12.parquet:  23%|██▎       | 26/113 [01:48<05:26,  3.75s/chunk]"
     ]
    },
    {
     "name": "stdout",
     "output_type": "stream",
     "text": [
      "Chunk 26/113 del archivo yellow_tripdata_2023-12.parquet cargado exitosamente.\n"
     ]
    },
    {
     "name": "stderr",
     "output_type": "stream",
     "text": [
      "Procesando yellow_tripdata_2023-12.parquet:  24%|██▍       | 27/113 [01:53<05:45,  4.02s/chunk]"
     ]
    },
    {
     "name": "stdout",
     "output_type": "stream",
     "text": [
      "Chunk 27/113 del archivo yellow_tripdata_2023-12.parquet cargado exitosamente.\n"
     ]
    },
    {
     "name": "stderr",
     "output_type": "stream",
     "text": [
      "Procesando yellow_tripdata_2023-12.parquet:  25%|██▍       | 28/113 [01:56<05:19,  3.76s/chunk]"
     ]
    },
    {
     "name": "stdout",
     "output_type": "stream",
     "text": [
      "Chunk 28/113 del archivo yellow_tripdata_2023-12.parquet cargado exitosamente.\n"
     ]
    },
    {
     "name": "stderr",
     "output_type": "stream",
     "text": [
      "Procesando yellow_tripdata_2023-12.parquet:  26%|██▌       | 29/113 [01:59<05:07,  3.66s/chunk]"
     ]
    },
    {
     "name": "stdout",
     "output_type": "stream",
     "text": [
      "Chunk 29/113 del archivo yellow_tripdata_2023-12.parquet cargado exitosamente.\n",
      "Chunk 30/113 del archivo yellow_tripdata_2023-12.parquet cargado exitosamente.\n",
      "Esperando 15 segundos...\n",
      "Reconectando a la base de datos...\n"
     ]
    },
    {
     "name": "stderr",
     "output_type": "stream",
     "text": [
      "Procesando yellow_tripdata_2023-12.parquet:  27%|██▋       | 30/113 [02:35<18:21, 13.27s/chunk]"
     ]
    },
    {
     "name": "stdout",
     "output_type": "stream",
     "text": [
      "Conexión a la base de datos establecida con éxito.\n",
      "Reconexión exitosa.\n"
     ]
    },
    {
     "name": "stderr",
     "output_type": "stream",
     "text": [
      "Procesando yellow_tripdata_2023-12.parquet:  27%|██▋       | 31/113 [02:46<17:02, 12.47s/chunk]"
     ]
    },
    {
     "name": "stdout",
     "output_type": "stream",
     "text": [
      "Chunk 31/113 del archivo yellow_tripdata_2023-12.parquet cargado exitosamente.\n"
     ]
    },
    {
     "name": "stderr",
     "output_type": "stream",
     "text": [
      "Procesando yellow_tripdata_2023-12.parquet:  28%|██▊       | 32/113 [02:50<13:29, 10.00s/chunk]"
     ]
    },
    {
     "name": "stdout",
     "output_type": "stream",
     "text": [
      "Chunk 32/113 del archivo yellow_tripdata_2023-12.parquet cargado exitosamente.\n"
     ]
    },
    {
     "name": "stderr",
     "output_type": "stream",
     "text": [
      "Procesando yellow_tripdata_2023-12.parquet:  29%|██▉       | 33/113 [02:53<10:41,  8.02s/chunk]"
     ]
    },
    {
     "name": "stdout",
     "output_type": "stream",
     "text": [
      "Chunk 33/113 del archivo yellow_tripdata_2023-12.parquet cargado exitosamente.\n"
     ]
    },
    {
     "name": "stderr",
     "output_type": "stream",
     "text": [
      "Procesando yellow_tripdata_2023-12.parquet:  30%|███       | 34/113 [02:57<08:43,  6.63s/chunk]"
     ]
    },
    {
     "name": "stdout",
     "output_type": "stream",
     "text": [
      "Chunk 34/113 del archivo yellow_tripdata_2023-12.parquet cargado exitosamente.\n"
     ]
    },
    {
     "name": "stderr",
     "output_type": "stream",
     "text": [
      "Procesando yellow_tripdata_2023-12.parquet:  31%|███       | 35/113 [03:00<07:24,  5.69s/chunk]"
     ]
    },
    {
     "name": "stdout",
     "output_type": "stream",
     "text": [
      "Chunk 35/113 del archivo yellow_tripdata_2023-12.parquet cargado exitosamente.\n"
     ]
    },
    {
     "name": "stderr",
     "output_type": "stream",
     "text": [
      "Procesando yellow_tripdata_2023-12.parquet:  32%|███▏      | 36/113 [03:04<06:35,  5.13s/chunk]"
     ]
    },
    {
     "name": "stdout",
     "output_type": "stream",
     "text": [
      "Chunk 36/113 del archivo yellow_tripdata_2023-12.parquet cargado exitosamente.\n"
     ]
    },
    {
     "name": "stderr",
     "output_type": "stream",
     "text": [
      "Procesando yellow_tripdata_2023-12.parquet:  33%|███▎      | 37/113 [03:07<05:42,  4.51s/chunk]"
     ]
    },
    {
     "name": "stdout",
     "output_type": "stream",
     "text": [
      "Chunk 37/113 del archivo yellow_tripdata_2023-12.parquet cargado exitosamente.\n"
     ]
    },
    {
     "name": "stderr",
     "output_type": "stream",
     "text": [
      "Procesando yellow_tripdata_2023-12.parquet:  34%|███▎      | 38/113 [03:10<05:11,  4.15s/chunk]"
     ]
    },
    {
     "name": "stdout",
     "output_type": "stream",
     "text": [
      "Chunk 38/113 del archivo yellow_tripdata_2023-12.parquet cargado exitosamente.\n"
     ]
    },
    {
     "name": "stderr",
     "output_type": "stream",
     "text": [
      "Procesando yellow_tripdata_2023-12.parquet:  35%|███▍      | 39/113 [03:14<04:52,  3.95s/chunk]"
     ]
    },
    {
     "name": "stdout",
     "output_type": "stream",
     "text": [
      "Chunk 39/113 del archivo yellow_tripdata_2023-12.parquet cargado exitosamente.\n"
     ]
    },
    {
     "name": "stderr",
     "output_type": "stream",
     "text": [
      "Procesando yellow_tripdata_2023-12.parquet:  35%|███▌      | 40/113 [03:17<04:43,  3.88s/chunk]"
     ]
    },
    {
     "name": "stdout",
     "output_type": "stream",
     "text": [
      "Chunk 40/113 del archivo yellow_tripdata_2023-12.parquet cargado exitosamente.\n"
     ]
    },
    {
     "name": "stderr",
     "output_type": "stream",
     "text": [
      "Procesando yellow_tripdata_2023-12.parquet:  36%|███▋      | 41/113 [03:22<04:52,  4.06s/chunk]"
     ]
    },
    {
     "name": "stdout",
     "output_type": "stream",
     "text": [
      "Chunk 41/113 del archivo yellow_tripdata_2023-12.parquet cargado exitosamente.\n"
     ]
    },
    {
     "name": "stderr",
     "output_type": "stream",
     "text": [
      "Procesando yellow_tripdata_2023-12.parquet:  37%|███▋      | 42/113 [03:26<04:46,  4.04s/chunk]"
     ]
    },
    {
     "name": "stdout",
     "output_type": "stream",
     "text": [
      "Chunk 42/113 del archivo yellow_tripdata_2023-12.parquet cargado exitosamente.\n"
     ]
    },
    {
     "name": "stderr",
     "output_type": "stream",
     "text": [
      "Procesando yellow_tripdata_2023-12.parquet:  38%|███▊      | 43/113 [03:29<04:29,  3.85s/chunk]"
     ]
    },
    {
     "name": "stdout",
     "output_type": "stream",
     "text": [
      "Chunk 43/113 del archivo yellow_tripdata_2023-12.parquet cargado exitosamente.\n"
     ]
    },
    {
     "name": "stderr",
     "output_type": "stream",
     "text": [
      "Procesando yellow_tripdata_2023-12.parquet:  39%|███▉      | 44/113 [03:33<04:17,  3.74s/chunk]"
     ]
    },
    {
     "name": "stdout",
     "output_type": "stream",
     "text": [
      "Chunk 44/113 del archivo yellow_tripdata_2023-12.parquet cargado exitosamente.\n"
     ]
    },
    {
     "name": "stderr",
     "output_type": "stream",
     "text": [
      "Procesando yellow_tripdata_2023-12.parquet:  40%|███▉      | 45/113 [03:37<04:13,  3.73s/chunk]"
     ]
    },
    {
     "name": "stdout",
     "output_type": "stream",
     "text": [
      "Chunk 45/113 del archivo yellow_tripdata_2023-12.parquet cargado exitosamente.\n"
     ]
    },
    {
     "name": "stderr",
     "output_type": "stream",
     "text": [
      "Procesando yellow_tripdata_2023-12.parquet:  41%|████      | 46/113 [03:41<04:18,  3.86s/chunk]"
     ]
    },
    {
     "name": "stdout",
     "output_type": "stream",
     "text": [
      "Chunk 46/113 del archivo yellow_tripdata_2023-12.parquet cargado exitosamente.\n"
     ]
    },
    {
     "name": "stderr",
     "output_type": "stream",
     "text": [
      "Procesando yellow_tripdata_2023-12.parquet:  42%|████▏     | 47/113 [03:44<04:03,  3.68s/chunk]"
     ]
    },
    {
     "name": "stdout",
     "output_type": "stream",
     "text": [
      "Chunk 47/113 del archivo yellow_tripdata_2023-12.parquet cargado exitosamente.\n"
     ]
    },
    {
     "name": "stderr",
     "output_type": "stream",
     "text": [
      "Procesando yellow_tripdata_2023-12.parquet:  42%|████▏     | 48/113 [03:48<04:12,  3.88s/chunk]"
     ]
    },
    {
     "name": "stdout",
     "output_type": "stream",
     "text": [
      "Chunk 48/113 del archivo yellow_tripdata_2023-12.parquet cargado exitosamente.\n"
     ]
    },
    {
     "name": "stderr",
     "output_type": "stream",
     "text": [
      "Procesando yellow_tripdata_2023-12.parquet:  43%|████▎     | 49/113 [03:54<04:51,  4.56s/chunk]"
     ]
    },
    {
     "name": "stdout",
     "output_type": "stream",
     "text": [
      "Chunk 49/113 del archivo yellow_tripdata_2023-12.parquet cargado exitosamente.\n"
     ]
    },
    {
     "name": "stderr",
     "output_type": "stream",
     "text": [
      "Procesando yellow_tripdata_2023-12.parquet:  44%|████▍     | 50/113 [03:58<04:25,  4.21s/chunk]"
     ]
    },
    {
     "name": "stdout",
     "output_type": "stream",
     "text": [
      "Chunk 50/113 del archivo yellow_tripdata_2023-12.parquet cargado exitosamente.\n"
     ]
    },
    {
     "name": "stderr",
     "output_type": "stream",
     "text": [
      "Procesando yellow_tripdata_2023-12.parquet:  45%|████▌     | 51/113 [04:02<04:15,  4.12s/chunk]"
     ]
    },
    {
     "name": "stdout",
     "output_type": "stream",
     "text": [
      "Chunk 51/113 del archivo yellow_tripdata_2023-12.parquet cargado exitosamente.\n"
     ]
    },
    {
     "name": "stderr",
     "output_type": "stream",
     "text": [
      "Procesando yellow_tripdata_2023-12.parquet:  46%|████▌     | 52/113 [04:05<04:00,  3.95s/chunk]"
     ]
    },
    {
     "name": "stdout",
     "output_type": "stream",
     "text": [
      "Chunk 52/113 del archivo yellow_tripdata_2023-12.parquet cargado exitosamente.\n"
     ]
    },
    {
     "name": "stderr",
     "output_type": "stream",
     "text": [
      "Procesando yellow_tripdata_2023-12.parquet:  47%|████▋     | 53/113 [04:10<04:03,  4.05s/chunk]"
     ]
    },
    {
     "name": "stdout",
     "output_type": "stream",
     "text": [
      "Chunk 53/113 del archivo yellow_tripdata_2023-12.parquet cargado exitosamente.\n"
     ]
    },
    {
     "name": "stderr",
     "output_type": "stream",
     "text": [
      "Procesando yellow_tripdata_2023-12.parquet:  48%|████▊     | 54/113 [04:14<04:05,  4.16s/chunk]"
     ]
    },
    {
     "name": "stdout",
     "output_type": "stream",
     "text": [
      "Chunk 54/113 del archivo yellow_tripdata_2023-12.parquet cargado exitosamente.\n"
     ]
    },
    {
     "name": "stderr",
     "output_type": "stream",
     "text": [
      "Procesando yellow_tripdata_2023-12.parquet:  49%|████▊     | 55/113 [04:17<03:48,  3.94s/chunk]"
     ]
    },
    {
     "name": "stdout",
     "output_type": "stream",
     "text": [
      "Chunk 55/113 del archivo yellow_tripdata_2023-12.parquet cargado exitosamente.\n"
     ]
    },
    {
     "name": "stderr",
     "output_type": "stream",
     "text": [
      "Procesando yellow_tripdata_2023-12.parquet:  50%|████▉     | 56/113 [04:21<03:34,  3.76s/chunk]"
     ]
    },
    {
     "name": "stdout",
     "output_type": "stream",
     "text": [
      "Chunk 56/113 del archivo yellow_tripdata_2023-12.parquet cargado exitosamente.\n"
     ]
    },
    {
     "name": "stderr",
     "output_type": "stream",
     "text": [
      "Procesando yellow_tripdata_2023-12.parquet:  50%|█████     | 57/113 [04:25<03:39,  3.93s/chunk]"
     ]
    },
    {
     "name": "stdout",
     "output_type": "stream",
     "text": [
      "Chunk 57/113 del archivo yellow_tripdata_2023-12.parquet cargado exitosamente.\n"
     ]
    },
    {
     "name": "stderr",
     "output_type": "stream",
     "text": [
      "Procesando yellow_tripdata_2023-12.parquet:  51%|█████▏    | 58/113 [04:29<03:32,  3.86s/chunk]"
     ]
    },
    {
     "name": "stdout",
     "output_type": "stream",
     "text": [
      "Chunk 58/113 del archivo yellow_tripdata_2023-12.parquet cargado exitosamente.\n"
     ]
    },
    {
     "name": "stderr",
     "output_type": "stream",
     "text": [
      "Procesando yellow_tripdata_2023-12.parquet:  52%|█████▏    | 59/113 [04:32<03:17,  3.66s/chunk]"
     ]
    },
    {
     "name": "stdout",
     "output_type": "stream",
     "text": [
      "Chunk 59/113 del archivo yellow_tripdata_2023-12.parquet cargado exitosamente.\n",
      "Chunk 60/113 del archivo yellow_tripdata_2023-12.parquet cargado exitosamente.\n",
      "Esperando 15 segundos...\n",
      "Reconectando a la base de datos...\n"
     ]
    },
    {
     "name": "stderr",
     "output_type": "stream",
     "text": [
      "Procesando yellow_tripdata_2023-12.parquet:  53%|█████▎    | 60/113 [05:07<11:33, 13.09s/chunk]"
     ]
    },
    {
     "name": "stdout",
     "output_type": "stream",
     "text": [
      "Conexión a la base de datos establecida con éxito.\n",
      "Reconexión exitosa.\n"
     ]
    },
    {
     "name": "stderr",
     "output_type": "stream",
     "text": [
      "Procesando yellow_tripdata_2023-12.parquet:  54%|█████▍    | 61/113 [05:15<10:07, 11.68s/chunk]"
     ]
    },
    {
     "name": "stdout",
     "output_type": "stream",
     "text": [
      "Chunk 61/113 del archivo yellow_tripdata_2023-12.parquet cargado exitosamente.\n"
     ]
    },
    {
     "name": "stderr",
     "output_type": "stream",
     "text": [
      "Procesando yellow_tripdata_2023-12.parquet:  55%|█████▍    | 62/113 [05:21<08:18,  9.77s/chunk]"
     ]
    },
    {
     "name": "stdout",
     "output_type": "stream",
     "text": [
      "Chunk 62/113 del archivo yellow_tripdata_2023-12.parquet cargado exitosamente.\n"
     ]
    },
    {
     "name": "stderr",
     "output_type": "stream",
     "text": [
      "Procesando yellow_tripdata_2023-12.parquet:  56%|█████▌    | 63/113 [05:24<06:36,  7.93s/chunk]"
     ]
    },
    {
     "name": "stdout",
     "output_type": "stream",
     "text": [
      "Chunk 63/113 del archivo yellow_tripdata_2023-12.parquet cargado exitosamente.\n"
     ]
    },
    {
     "name": "stderr",
     "output_type": "stream",
     "text": [
      "Procesando yellow_tripdata_2023-12.parquet:  57%|█████▋    | 64/113 [05:28<05:22,  6.59s/chunk]"
     ]
    },
    {
     "name": "stdout",
     "output_type": "stream",
     "text": [
      "Chunk 64/113 del archivo yellow_tripdata_2023-12.parquet cargado exitosamente.\n"
     ]
    },
    {
     "name": "stderr",
     "output_type": "stream",
     "text": [
      "Procesando yellow_tripdata_2023-12.parquet:  58%|█████▊    | 65/113 [05:31<04:26,  5.55s/chunk]"
     ]
    },
    {
     "name": "stdout",
     "output_type": "stream",
     "text": [
      "Chunk 65/113 del archivo yellow_tripdata_2023-12.parquet cargado exitosamente.\n"
     ]
    },
    {
     "name": "stderr",
     "output_type": "stream",
     "text": [
      "Procesando yellow_tripdata_2023-12.parquet:  58%|█████▊    | 66/113 [05:34<03:50,  4.90s/chunk]"
     ]
    },
    {
     "name": "stdout",
     "output_type": "stream",
     "text": [
      "Chunk 66/113 del archivo yellow_tripdata_2023-12.parquet cargado exitosamente.\n"
     ]
    },
    {
     "name": "stderr",
     "output_type": "stream",
     "text": [
      "Procesando yellow_tripdata_2023-12.parquet:  59%|█████▉    | 67/113 [05:38<03:23,  4.42s/chunk]"
     ]
    },
    {
     "name": "stdout",
     "output_type": "stream",
     "text": [
      "Chunk 67/113 del archivo yellow_tripdata_2023-12.parquet cargado exitosamente.\n"
     ]
    },
    {
     "name": "stderr",
     "output_type": "stream",
     "text": [
      "Procesando yellow_tripdata_2023-12.parquet:  60%|██████    | 68/113 [05:42<03:17,  4.39s/chunk]"
     ]
    },
    {
     "name": "stdout",
     "output_type": "stream",
     "text": [
      "Chunk 68/113 del archivo yellow_tripdata_2023-12.parquet cargado exitosamente.\n"
     ]
    },
    {
     "name": "stderr",
     "output_type": "stream",
     "text": [
      "Procesando yellow_tripdata_2023-12.parquet:  61%|██████    | 69/113 [05:45<02:56,  4.02s/chunk]"
     ]
    },
    {
     "name": "stdout",
     "output_type": "stream",
     "text": [
      "Chunk 69/113 del archivo yellow_tripdata_2023-12.parquet cargado exitosamente.\n"
     ]
    },
    {
     "name": "stderr",
     "output_type": "stream",
     "text": [
      "Procesando yellow_tripdata_2023-12.parquet:  62%|██████▏   | 70/113 [05:48<02:40,  3.72s/chunk]"
     ]
    },
    {
     "name": "stdout",
     "output_type": "stream",
     "text": [
      "Chunk 70/113 del archivo yellow_tripdata_2023-12.parquet cargado exitosamente.\n"
     ]
    },
    {
     "name": "stderr",
     "output_type": "stream",
     "text": [
      "Procesando yellow_tripdata_2023-12.parquet:  63%|██████▎   | 71/113 [05:51<02:28,  3.54s/chunk]"
     ]
    },
    {
     "name": "stdout",
     "output_type": "stream",
     "text": [
      "Chunk 71/113 del archivo yellow_tripdata_2023-12.parquet cargado exitosamente.\n"
     ]
    },
    {
     "name": "stderr",
     "output_type": "stream",
     "text": [
      "Procesando yellow_tripdata_2023-12.parquet:  64%|██████▎   | 72/113 [05:55<02:21,  3.46s/chunk]"
     ]
    },
    {
     "name": "stdout",
     "output_type": "stream",
     "text": [
      "Chunk 72/113 del archivo yellow_tripdata_2023-12.parquet cargado exitosamente.\n"
     ]
    },
    {
     "name": "stderr",
     "output_type": "stream",
     "text": [
      "Procesando yellow_tripdata_2023-12.parquet:  65%|██████▍   | 73/113 [05:59<02:27,  3.69s/chunk]"
     ]
    },
    {
     "name": "stdout",
     "output_type": "stream",
     "text": [
      "Chunk 73/113 del archivo yellow_tripdata_2023-12.parquet cargado exitosamente.\n"
     ]
    },
    {
     "name": "stderr",
     "output_type": "stream",
     "text": [
      "Procesando yellow_tripdata_2023-12.parquet:  65%|██████▌   | 74/113 [06:02<02:17,  3.54s/chunk]"
     ]
    },
    {
     "name": "stdout",
     "output_type": "stream",
     "text": [
      "Chunk 74/113 del archivo yellow_tripdata_2023-12.parquet cargado exitosamente.\n"
     ]
    },
    {
     "name": "stderr",
     "output_type": "stream",
     "text": [
      "Procesando yellow_tripdata_2023-12.parquet:  66%|██████▋   | 75/113 [06:06<02:15,  3.57s/chunk]"
     ]
    },
    {
     "name": "stdout",
     "output_type": "stream",
     "text": [
      "Chunk 75/113 del archivo yellow_tripdata_2023-12.parquet cargado exitosamente.\n"
     ]
    },
    {
     "name": "stderr",
     "output_type": "stream",
     "text": [
      "Procesando yellow_tripdata_2023-12.parquet:  67%|██████▋   | 76/113 [06:09<02:09,  3.51s/chunk]"
     ]
    },
    {
     "name": "stdout",
     "output_type": "stream",
     "text": [
      "Chunk 76/113 del archivo yellow_tripdata_2023-12.parquet cargado exitosamente.\n"
     ]
    },
    {
     "name": "stderr",
     "output_type": "stream",
     "text": [
      "Procesando yellow_tripdata_2023-12.parquet:  68%|██████▊   | 77/113 [06:13<02:08,  3.57s/chunk]"
     ]
    },
    {
     "name": "stdout",
     "output_type": "stream",
     "text": [
      "Chunk 77/113 del archivo yellow_tripdata_2023-12.parquet cargado exitosamente.\n"
     ]
    },
    {
     "name": "stderr",
     "output_type": "stream",
     "text": [
      "Procesando yellow_tripdata_2023-12.parquet:  69%|██████▉   | 78/113 [06:16<02:03,  3.52s/chunk]"
     ]
    },
    {
     "name": "stdout",
     "output_type": "stream",
     "text": [
      "Chunk 78/113 del archivo yellow_tripdata_2023-12.parquet cargado exitosamente.\n"
     ]
    },
    {
     "name": "stderr",
     "output_type": "stream",
     "text": [
      "Procesando yellow_tripdata_2023-12.parquet:  70%|██████▉   | 79/113 [06:20<01:59,  3.50s/chunk]"
     ]
    },
    {
     "name": "stdout",
     "output_type": "stream",
     "text": [
      "Chunk 79/113 del archivo yellow_tripdata_2023-12.parquet cargado exitosamente.\n"
     ]
    },
    {
     "name": "stderr",
     "output_type": "stream",
     "text": [
      "Procesando yellow_tripdata_2023-12.parquet:  71%|███████   | 80/113 [06:23<01:53,  3.44s/chunk]"
     ]
    },
    {
     "name": "stdout",
     "output_type": "stream",
     "text": [
      "Chunk 80/113 del archivo yellow_tripdata_2023-12.parquet cargado exitosamente.\n"
     ]
    },
    {
     "name": "stderr",
     "output_type": "stream",
     "text": [
      "Procesando yellow_tripdata_2023-12.parquet:  72%|███████▏  | 81/113 [06:26<01:50,  3.45s/chunk]"
     ]
    },
    {
     "name": "stdout",
     "output_type": "stream",
     "text": [
      "Chunk 81/113 del archivo yellow_tripdata_2023-12.parquet cargado exitosamente.\n"
     ]
    },
    {
     "name": "stderr",
     "output_type": "stream",
     "text": [
      "Procesando yellow_tripdata_2023-12.parquet:  73%|███████▎  | 82/113 [06:30<01:44,  3.37s/chunk]"
     ]
    },
    {
     "name": "stdout",
     "output_type": "stream",
     "text": [
      "Chunk 82/113 del archivo yellow_tripdata_2023-12.parquet cargado exitosamente.\n"
     ]
    },
    {
     "name": "stderr",
     "output_type": "stream",
     "text": [
      "Procesando yellow_tripdata_2023-12.parquet:  73%|███████▎  | 83/113 [06:33<01:41,  3.39s/chunk]"
     ]
    },
    {
     "name": "stdout",
     "output_type": "stream",
     "text": [
      "Chunk 83/113 del archivo yellow_tripdata_2023-12.parquet cargado exitosamente.\n"
     ]
    },
    {
     "name": "stderr",
     "output_type": "stream",
     "text": [
      "Procesando yellow_tripdata_2023-12.parquet:  74%|███████▍  | 84/113 [06:36<01:38,  3.41s/chunk]"
     ]
    },
    {
     "name": "stdout",
     "output_type": "stream",
     "text": [
      "Chunk 84/113 del archivo yellow_tripdata_2023-12.parquet cargado exitosamente.\n"
     ]
    },
    {
     "name": "stderr",
     "output_type": "stream",
     "text": [
      "Procesando yellow_tripdata_2023-12.parquet:  75%|███████▌  | 85/113 [06:41<01:45,  3.78s/chunk]"
     ]
    },
    {
     "name": "stdout",
     "output_type": "stream",
     "text": [
      "Chunk 85/113 del archivo yellow_tripdata_2023-12.parquet cargado exitosamente.\n"
     ]
    },
    {
     "name": "stderr",
     "output_type": "stream",
     "text": [
      "Procesando yellow_tripdata_2023-12.parquet:  76%|███████▌  | 86/113 [06:45<01:44,  3.87s/chunk]"
     ]
    },
    {
     "name": "stdout",
     "output_type": "stream",
     "text": [
      "Chunk 86/113 del archivo yellow_tripdata_2023-12.parquet cargado exitosamente.\n"
     ]
    },
    {
     "name": "stderr",
     "output_type": "stream",
     "text": [
      "Procesando yellow_tripdata_2023-12.parquet:  77%|███████▋  | 87/113 [06:49<01:42,  3.93s/chunk]"
     ]
    },
    {
     "name": "stdout",
     "output_type": "stream",
     "text": [
      "Chunk 87/113 del archivo yellow_tripdata_2023-12.parquet cargado exitosamente.\n"
     ]
    },
    {
     "name": "stderr",
     "output_type": "stream",
     "text": [
      "Procesando yellow_tripdata_2023-12.parquet:  78%|███████▊  | 88/113 [06:53<01:37,  3.89s/chunk]"
     ]
    },
    {
     "name": "stdout",
     "output_type": "stream",
     "text": [
      "Chunk 88/113 del archivo yellow_tripdata_2023-12.parquet cargado exitosamente.\n"
     ]
    },
    {
     "name": "stderr",
     "output_type": "stream",
     "text": [
      "Procesando yellow_tripdata_2023-12.parquet:  79%|███████▉  | 89/113 [06:57<01:31,  3.80s/chunk]"
     ]
    },
    {
     "name": "stdout",
     "output_type": "stream",
     "text": [
      "Chunk 89/113 del archivo yellow_tripdata_2023-12.parquet cargado exitosamente.\n",
      "Chunk 90/113 del archivo yellow_tripdata_2023-12.parquet cargado exitosamente.\n",
      "Esperando 15 segundos...\n",
      "Reconectando a la base de datos...\n"
     ]
    },
    {
     "name": "stderr",
     "output_type": "stream",
     "text": [
      "Procesando yellow_tripdata_2023-12.parquet:  80%|███████▉  | 90/113 [07:40<05:59, 15.64s/chunk]"
     ]
    },
    {
     "name": "stdout",
     "output_type": "stream",
     "text": [
      "Conexión a la base de datos establecida con éxito.\n",
      "Reconexión exitosa.\n"
     ]
    },
    {
     "name": "stderr",
     "output_type": "stream",
     "text": [
      "Procesando yellow_tripdata_2023-12.parquet:  81%|████████  | 91/113 [07:51<05:13, 14.25s/chunk]"
     ]
    },
    {
     "name": "stdout",
     "output_type": "stream",
     "text": [
      "Chunk 91/113 del archivo yellow_tripdata_2023-12.parquet cargado exitosamente.\n"
     ]
    },
    {
     "name": "stderr",
     "output_type": "stream",
     "text": [
      "Procesando yellow_tripdata_2023-12.parquet:  81%|████████▏ | 92/113 [07:55<03:56, 11.25s/chunk]"
     ]
    },
    {
     "name": "stdout",
     "output_type": "stream",
     "text": [
      "Chunk 92/113 del archivo yellow_tripdata_2023-12.parquet cargado exitosamente.\n"
     ]
    },
    {
     "name": "stderr",
     "output_type": "stream",
     "text": [
      "Procesando yellow_tripdata_2023-12.parquet:  82%|████████▏ | 93/113 [07:59<03:00,  9.03s/chunk]"
     ]
    },
    {
     "name": "stdout",
     "output_type": "stream",
     "text": [
      "Chunk 93/113 del archivo yellow_tripdata_2023-12.parquet cargado exitosamente.\n"
     ]
    },
    {
     "name": "stderr",
     "output_type": "stream",
     "text": [
      "Procesando yellow_tripdata_2023-12.parquet:  83%|████████▎ | 94/113 [08:03<02:22,  7.50s/chunk]"
     ]
    },
    {
     "name": "stdout",
     "output_type": "stream",
     "text": [
      "Chunk 94/113 del archivo yellow_tripdata_2023-12.parquet cargado exitosamente.\n"
     ]
    },
    {
     "name": "stderr",
     "output_type": "stream",
     "text": [
      "Procesando yellow_tripdata_2023-12.parquet:  84%|████████▍ | 95/113 [08:07<01:54,  6.37s/chunk]"
     ]
    },
    {
     "name": "stdout",
     "output_type": "stream",
     "text": [
      "Chunk 95/113 del archivo yellow_tripdata_2023-12.parquet cargado exitosamente.\n"
     ]
    },
    {
     "name": "stderr",
     "output_type": "stream",
     "text": [
      "Procesando yellow_tripdata_2023-12.parquet:  85%|████████▍ | 96/113 [08:11<01:39,  5.83s/chunk]"
     ]
    },
    {
     "name": "stdout",
     "output_type": "stream",
     "text": [
      "Chunk 96/113 del archivo yellow_tripdata_2023-12.parquet cargado exitosamente.\n"
     ]
    },
    {
     "name": "stderr",
     "output_type": "stream",
     "text": [
      "Procesando yellow_tripdata_2023-12.parquet:  86%|████████▌ | 97/113 [08:16<01:26,  5.41s/chunk]"
     ]
    },
    {
     "name": "stdout",
     "output_type": "stream",
     "text": [
      "Chunk 97/113 del archivo yellow_tripdata_2023-12.parquet cargado exitosamente.\n"
     ]
    },
    {
     "name": "stderr",
     "output_type": "stream",
     "text": [
      "Procesando yellow_tripdata_2023-12.parquet:  87%|████████▋ | 98/113 [08:20<01:15,  5.06s/chunk]"
     ]
    },
    {
     "name": "stdout",
     "output_type": "stream",
     "text": [
      "Chunk 98/113 del archivo yellow_tripdata_2023-12.parquet cargado exitosamente.\n"
     ]
    },
    {
     "name": "stderr",
     "output_type": "stream",
     "text": [
      "Procesando yellow_tripdata_2023-12.parquet:  88%|████████▊ | 99/113 [08:24<01:07,  4.82s/chunk]"
     ]
    },
    {
     "name": "stdout",
     "output_type": "stream",
     "text": [
      "Chunk 99/113 del archivo yellow_tripdata_2023-12.parquet cargado exitosamente.\n"
     ]
    },
    {
     "name": "stderr",
     "output_type": "stream",
     "text": [
      "Procesando yellow_tripdata_2023-12.parquet:  88%|████████▊ | 100/113 [08:28<01:00,  4.68s/chunk]"
     ]
    },
    {
     "name": "stdout",
     "output_type": "stream",
     "text": [
      "Chunk 100/113 del archivo yellow_tripdata_2023-12.parquet cargado exitosamente.\n"
     ]
    },
    {
     "name": "stderr",
     "output_type": "stream",
     "text": [
      "Procesando yellow_tripdata_2023-12.parquet:  89%|████████▉ | 101/113 [08:32<00:52,  4.35s/chunk]"
     ]
    },
    {
     "name": "stdout",
     "output_type": "stream",
     "text": [
      "Chunk 101/113 del archivo yellow_tripdata_2023-12.parquet cargado exitosamente.\n"
     ]
    },
    {
     "name": "stderr",
     "output_type": "stream",
     "text": [
      "Procesando yellow_tripdata_2023-12.parquet:  90%|█████████ | 102/113 [08:36<00:45,  4.14s/chunk]"
     ]
    },
    {
     "name": "stdout",
     "output_type": "stream",
     "text": [
      "Chunk 102/113 del archivo yellow_tripdata_2023-12.parquet cargado exitosamente.\n"
     ]
    },
    {
     "name": "stderr",
     "output_type": "stream",
     "text": [
      "Procesando yellow_tripdata_2023-12.parquet:  91%|█████████ | 103/113 [08:41<00:45,  4.55s/chunk]"
     ]
    },
    {
     "name": "stdout",
     "output_type": "stream",
     "text": [
      "Chunk 103/113 del archivo yellow_tripdata_2023-12.parquet cargado exitosamente.\n"
     ]
    },
    {
     "name": "stderr",
     "output_type": "stream",
     "text": [
      "Procesando yellow_tripdata_2023-12.parquet:  92%|█████████▏| 104/113 [08:45<00:39,  4.38s/chunk]"
     ]
    },
    {
     "name": "stdout",
     "output_type": "stream",
     "text": [
      "Chunk 104/113 del archivo yellow_tripdata_2023-12.parquet cargado exitosamente.\n"
     ]
    },
    {
     "name": "stderr",
     "output_type": "stream",
     "text": [
      "Procesando yellow_tripdata_2023-12.parquet:  93%|█████████▎| 105/113 [08:48<00:32,  4.04s/chunk]"
     ]
    },
    {
     "name": "stdout",
     "output_type": "stream",
     "text": [
      "Chunk 105/113 del archivo yellow_tripdata_2023-12.parquet cargado exitosamente.\n"
     ]
    },
    {
     "name": "stderr",
     "output_type": "stream",
     "text": [
      "Procesando yellow_tripdata_2023-12.parquet:  94%|█████████▍| 106/113 [08:52<00:27,  3.91s/chunk]"
     ]
    },
    {
     "name": "stdout",
     "output_type": "stream",
     "text": [
      "Chunk 106/113 del archivo yellow_tripdata_2023-12.parquet cargado exitosamente.\n"
     ]
    },
    {
     "name": "stderr",
     "output_type": "stream",
     "text": [
      "Procesando yellow_tripdata_2023-12.parquet:  95%|█████████▍| 107/113 [08:56<00:24,  4.05s/chunk]"
     ]
    },
    {
     "name": "stdout",
     "output_type": "stream",
     "text": [
      "Chunk 107/113 del archivo yellow_tripdata_2023-12.parquet cargado exitosamente.\n"
     ]
    },
    {
     "name": "stderr",
     "output_type": "stream",
     "text": [
      "Procesando yellow_tripdata_2023-12.parquet:  96%|█████████▌| 108/113 [09:00<00:19,  3.92s/chunk]"
     ]
    },
    {
     "name": "stdout",
     "output_type": "stream",
     "text": [
      "Chunk 108/113 del archivo yellow_tripdata_2023-12.parquet cargado exitosamente.\n"
     ]
    },
    {
     "name": "stderr",
     "output_type": "stream",
     "text": [
      "Procesando yellow_tripdata_2023-12.parquet:  96%|█████████▋| 109/113 [09:04<00:16,  4.04s/chunk]"
     ]
    },
    {
     "name": "stdout",
     "output_type": "stream",
     "text": [
      "Chunk 109/113 del archivo yellow_tripdata_2023-12.parquet cargado exitosamente.\n"
     ]
    },
    {
     "name": "stderr",
     "output_type": "stream",
     "text": [
      "Procesando yellow_tripdata_2023-12.parquet:  97%|█████████▋| 110/113 [09:09<00:12,  4.11s/chunk]"
     ]
    },
    {
     "name": "stdout",
     "output_type": "stream",
     "text": [
      "Chunk 110/113 del archivo yellow_tripdata_2023-12.parquet cargado exitosamente.\n"
     ]
    },
    {
     "name": "stderr",
     "output_type": "stream",
     "text": [
      "Procesando yellow_tripdata_2023-12.parquet:  98%|█████████▊| 111/113 [09:12<00:07,  3.94s/chunk]"
     ]
    },
    {
     "name": "stdout",
     "output_type": "stream",
     "text": [
      "Chunk 111/113 del archivo yellow_tripdata_2023-12.parquet cargado exitosamente.\n"
     ]
    },
    {
     "name": "stderr",
     "output_type": "stream",
     "text": [
      "Procesando yellow_tripdata_2023-12.parquet:  99%|█████████▉| 112/113 [09:17<00:04,  4.15s/chunk]"
     ]
    },
    {
     "name": "stdout",
     "output_type": "stream",
     "text": [
      "Chunk 112/113 del archivo yellow_tripdata_2023-12.parquet cargado exitosamente.\n"
     ]
    },
    {
     "name": "stderr",
     "output_type": "stream",
     "text": [
      "Procesando yellow_tripdata_2023-12.parquet: 100%|██████████| 113/113 [09:19<00:00,  4.95s/chunk]"
     ]
    },
    {
     "name": "stdout",
     "output_type": "stream",
     "text": [
      "Chunk 113/113 del archivo yellow_tripdata_2023-12.parquet cargado exitosamente.\n",
      "Datos del archivo yellow_tripdata_2023-12.parquet cargados exitosamente.\n",
      "\n",
      "Leyendo archivo D:\\GitHub\\Proyecto Final\\Proyecto_final_Henry\\Dataset\\yellow_tripdata_2024-07.parquet\n"
     ]
    },
    {
     "name": "stderr",
     "output_type": "stream",
     "text": [
      "\n"
     ]
    },
    {
     "name": "stdout",
     "output_type": "stream",
     "text": [
      "El archivo yellow_tripdata_2024-07.parquet contiene todas las columnas necesarias. Procesando...\n"
     ]
    },
    {
     "name": "stderr",
     "output_type": "stream",
     "text": [
      "Procesando yellow_tripdata_2024-07.parquet:   1%|          | 1/103 [00:03<06:06,  3.59s/chunk]"
     ]
    },
    {
     "name": "stdout",
     "output_type": "stream",
     "text": [
      "Chunk 1/103 del archivo yellow_tripdata_2024-07.parquet cargado exitosamente.\n"
     ]
    },
    {
     "name": "stderr",
     "output_type": "stream",
     "text": [
      "Procesando yellow_tripdata_2024-07.parquet:   2%|▏         | 2/103 [00:07<06:26,  3.83s/chunk]"
     ]
    },
    {
     "name": "stdout",
     "output_type": "stream",
     "text": [
      "Chunk 2/103 del archivo yellow_tripdata_2024-07.parquet cargado exitosamente.\n"
     ]
    },
    {
     "name": "stderr",
     "output_type": "stream",
     "text": [
      "Procesando yellow_tripdata_2024-07.parquet:   3%|▎         | 3/103 [00:11<06:11,  3.71s/chunk]"
     ]
    },
    {
     "name": "stdout",
     "output_type": "stream",
     "text": [
      "Chunk 3/103 del archivo yellow_tripdata_2024-07.parquet cargado exitosamente.\n"
     ]
    },
    {
     "name": "stderr",
     "output_type": "stream",
     "text": [
      "Procesando yellow_tripdata_2024-07.parquet:   4%|▍         | 4/103 [00:14<06:02,  3.66s/chunk]"
     ]
    },
    {
     "name": "stdout",
     "output_type": "stream",
     "text": [
      "Chunk 4/103 del archivo yellow_tripdata_2024-07.parquet cargado exitosamente.\n"
     ]
    },
    {
     "name": "stderr",
     "output_type": "stream",
     "text": [
      "Procesando yellow_tripdata_2024-07.parquet:   5%|▍         | 5/103 [00:19<06:27,  3.96s/chunk]"
     ]
    },
    {
     "name": "stdout",
     "output_type": "stream",
     "text": [
      "Chunk 5/103 del archivo yellow_tripdata_2024-07.parquet cargado exitosamente.\n"
     ]
    },
    {
     "name": "stderr",
     "output_type": "stream",
     "text": [
      "Procesando yellow_tripdata_2024-07.parquet:   6%|▌         | 6/103 [00:23<06:38,  4.11s/chunk]"
     ]
    },
    {
     "name": "stdout",
     "output_type": "stream",
     "text": [
      "Chunk 6/103 del archivo yellow_tripdata_2024-07.parquet cargado exitosamente.\n"
     ]
    },
    {
     "name": "stderr",
     "output_type": "stream",
     "text": [
      "Procesando yellow_tripdata_2024-07.parquet:   7%|▋         | 7/103 [00:27<06:18,  3.94s/chunk]"
     ]
    },
    {
     "name": "stdout",
     "output_type": "stream",
     "text": [
      "Chunk 7/103 del archivo yellow_tripdata_2024-07.parquet cargado exitosamente.\n"
     ]
    },
    {
     "name": "stderr",
     "output_type": "stream",
     "text": [
      "Procesando yellow_tripdata_2024-07.parquet:   8%|▊         | 8/103 [00:31<06:11,  3.91s/chunk]"
     ]
    },
    {
     "name": "stdout",
     "output_type": "stream",
     "text": [
      "Chunk 8/103 del archivo yellow_tripdata_2024-07.parquet cargado exitosamente.\n"
     ]
    },
    {
     "name": "stderr",
     "output_type": "stream",
     "text": [
      "Procesando yellow_tripdata_2024-07.parquet:   9%|▊         | 9/103 [00:34<05:55,  3.78s/chunk]"
     ]
    },
    {
     "name": "stdout",
     "output_type": "stream",
     "text": [
      "Chunk 9/103 del archivo yellow_tripdata_2024-07.parquet cargado exitosamente.\n"
     ]
    },
    {
     "name": "stderr",
     "output_type": "stream",
     "text": [
      "Procesando yellow_tripdata_2024-07.parquet:  10%|▉         | 10/103 [00:38<06:01,  3.89s/chunk]"
     ]
    },
    {
     "name": "stdout",
     "output_type": "stream",
     "text": [
      "Chunk 10/103 del archivo yellow_tripdata_2024-07.parquet cargado exitosamente.\n"
     ]
    },
    {
     "name": "stderr",
     "output_type": "stream",
     "text": [
      "Procesando yellow_tripdata_2024-07.parquet:  11%|█         | 11/103 [00:42<05:50,  3.81s/chunk]"
     ]
    },
    {
     "name": "stdout",
     "output_type": "stream",
     "text": [
      "Chunk 11/103 del archivo yellow_tripdata_2024-07.parquet cargado exitosamente.\n"
     ]
    },
    {
     "name": "stderr",
     "output_type": "stream",
     "text": [
      "Procesando yellow_tripdata_2024-07.parquet:  12%|█▏        | 12/103 [00:46<05:51,  3.87s/chunk]"
     ]
    },
    {
     "name": "stdout",
     "output_type": "stream",
     "text": [
      "Chunk 12/103 del archivo yellow_tripdata_2024-07.parquet cargado exitosamente.\n"
     ]
    },
    {
     "name": "stderr",
     "output_type": "stream",
     "text": [
      "Procesando yellow_tripdata_2024-07.parquet:  13%|█▎        | 13/103 [00:49<05:40,  3.79s/chunk]"
     ]
    },
    {
     "name": "stdout",
     "output_type": "stream",
     "text": [
      "Chunk 13/103 del archivo yellow_tripdata_2024-07.parquet cargado exitosamente.\n"
     ]
    },
    {
     "name": "stderr",
     "output_type": "stream",
     "text": [
      "Procesando yellow_tripdata_2024-07.parquet:  14%|█▎        | 14/103 [00:53<05:29,  3.71s/chunk]"
     ]
    },
    {
     "name": "stdout",
     "output_type": "stream",
     "text": [
      "Chunk 14/103 del archivo yellow_tripdata_2024-07.parquet cargado exitosamente.\n"
     ]
    },
    {
     "name": "stderr",
     "output_type": "stream",
     "text": [
      "Procesando yellow_tripdata_2024-07.parquet:  15%|█▍        | 15/103 [00:56<05:17,  3.61s/chunk]"
     ]
    },
    {
     "name": "stdout",
     "output_type": "stream",
     "text": [
      "Chunk 15/103 del archivo yellow_tripdata_2024-07.parquet cargado exitosamente.\n"
     ]
    },
    {
     "name": "stderr",
     "output_type": "stream",
     "text": [
      "Procesando yellow_tripdata_2024-07.parquet:  16%|█▌        | 16/103 [01:01<05:42,  3.94s/chunk]"
     ]
    },
    {
     "name": "stdout",
     "output_type": "stream",
     "text": [
      "Chunk 16/103 del archivo yellow_tripdata_2024-07.parquet cargado exitosamente.\n"
     ]
    },
    {
     "name": "stderr",
     "output_type": "stream",
     "text": [
      "Procesando yellow_tripdata_2024-07.parquet:  17%|█▋        | 17/103 [01:06<05:53,  4.11s/chunk]"
     ]
    },
    {
     "name": "stdout",
     "output_type": "stream",
     "text": [
      "Chunk 17/103 del archivo yellow_tripdata_2024-07.parquet cargado exitosamente.\n"
     ]
    },
    {
     "name": "stderr",
     "output_type": "stream",
     "text": [
      "Procesando yellow_tripdata_2024-07.parquet:  17%|█▋        | 18/103 [01:10<05:54,  4.17s/chunk]"
     ]
    },
    {
     "name": "stdout",
     "output_type": "stream",
     "text": [
      "Chunk 18/103 del archivo yellow_tripdata_2024-07.parquet cargado exitosamente.\n"
     ]
    },
    {
     "name": "stderr",
     "output_type": "stream",
     "text": [
      "Procesando yellow_tripdata_2024-07.parquet:  18%|█▊        | 19/103 [01:13<05:34,  3.98s/chunk]"
     ]
    },
    {
     "name": "stdout",
     "output_type": "stream",
     "text": [
      "Chunk 19/103 del archivo yellow_tripdata_2024-07.parquet cargado exitosamente.\n"
     ]
    },
    {
     "name": "stderr",
     "output_type": "stream",
     "text": [
      "Procesando yellow_tripdata_2024-07.parquet:  19%|█▉        | 20/103 [01:17<05:22,  3.88s/chunk]"
     ]
    },
    {
     "name": "stdout",
     "output_type": "stream",
     "text": [
      "Chunk 20/103 del archivo yellow_tripdata_2024-07.parquet cargado exitosamente.\n"
     ]
    },
    {
     "name": "stderr",
     "output_type": "stream",
     "text": [
      "Procesando yellow_tripdata_2024-07.parquet:  20%|██        | 21/103 [01:21<05:18,  3.88s/chunk]"
     ]
    },
    {
     "name": "stdout",
     "output_type": "stream",
     "text": [
      "Chunk 21/103 del archivo yellow_tripdata_2024-07.parquet cargado exitosamente.\n"
     ]
    },
    {
     "name": "stderr",
     "output_type": "stream",
     "text": [
      "Procesando yellow_tripdata_2024-07.parquet:  21%|██▏       | 22/103 [01:24<05:06,  3.78s/chunk]"
     ]
    },
    {
     "name": "stdout",
     "output_type": "stream",
     "text": [
      "Chunk 22/103 del archivo yellow_tripdata_2024-07.parquet cargado exitosamente.\n"
     ]
    },
    {
     "name": "stderr",
     "output_type": "stream",
     "text": [
      "Procesando yellow_tripdata_2024-07.parquet:  22%|██▏       | 23/103 [01:28<04:55,  3.69s/chunk]"
     ]
    },
    {
     "name": "stdout",
     "output_type": "stream",
     "text": [
      "Chunk 23/103 del archivo yellow_tripdata_2024-07.parquet cargado exitosamente.\n"
     ]
    },
    {
     "name": "stderr",
     "output_type": "stream",
     "text": [
      "Procesando yellow_tripdata_2024-07.parquet:  23%|██▎       | 24/103 [01:32<04:53,  3.72s/chunk]"
     ]
    },
    {
     "name": "stdout",
     "output_type": "stream",
     "text": [
      "Chunk 24/103 del archivo yellow_tripdata_2024-07.parquet cargado exitosamente.\n"
     ]
    },
    {
     "name": "stderr",
     "output_type": "stream",
     "text": [
      "Procesando yellow_tripdata_2024-07.parquet:  24%|██▍       | 25/103 [01:36<04:56,  3.80s/chunk]"
     ]
    },
    {
     "name": "stdout",
     "output_type": "stream",
     "text": [
      "Chunk 25/103 del archivo yellow_tripdata_2024-07.parquet cargado exitosamente.\n"
     ]
    },
    {
     "name": "stderr",
     "output_type": "stream",
     "text": [
      "Procesando yellow_tripdata_2024-07.parquet:  25%|██▌       | 26/103 [01:40<05:05,  3.96s/chunk]"
     ]
    },
    {
     "name": "stdout",
     "output_type": "stream",
     "text": [
      "Chunk 26/103 del archivo yellow_tripdata_2024-07.parquet cargado exitosamente.\n"
     ]
    },
    {
     "name": "stderr",
     "output_type": "stream",
     "text": [
      "Procesando yellow_tripdata_2024-07.parquet:  26%|██▌       | 27/103 [01:44<04:59,  3.94s/chunk]"
     ]
    },
    {
     "name": "stdout",
     "output_type": "stream",
     "text": [
      "Chunk 27/103 del archivo yellow_tripdata_2024-07.parquet cargado exitosamente.\n"
     ]
    },
    {
     "name": "stderr",
     "output_type": "stream",
     "text": [
      "Procesando yellow_tripdata_2024-07.parquet:  27%|██▋       | 28/103 [01:48<04:58,  3.97s/chunk]"
     ]
    },
    {
     "name": "stdout",
     "output_type": "stream",
     "text": [
      "Chunk 28/103 del archivo yellow_tripdata_2024-07.parquet cargado exitosamente.\n"
     ]
    },
    {
     "name": "stderr",
     "output_type": "stream",
     "text": [
      "Procesando yellow_tripdata_2024-07.parquet:  28%|██▊       | 29/103 [01:52<04:51,  3.93s/chunk]"
     ]
    },
    {
     "name": "stdout",
     "output_type": "stream",
     "text": [
      "Chunk 29/103 del archivo yellow_tripdata_2024-07.parquet cargado exitosamente.\n",
      "Chunk 30/103 del archivo yellow_tripdata_2024-07.parquet cargado exitosamente.\n",
      "Esperando 15 segundos...\n",
      "Reconectando a la base de datos...\n"
     ]
    },
    {
     "name": "stderr",
     "output_type": "stream",
     "text": [
      "Procesando yellow_tripdata_2024-07.parquet:  29%|██▉       | 30/103 [02:27<16:14, 13.35s/chunk]"
     ]
    },
    {
     "name": "stdout",
     "output_type": "stream",
     "text": [
      "Conexión a la base de datos establecida con éxito.\n",
      "Reconexión exitosa.\n"
     ]
    },
    {
     "name": "stderr",
     "output_type": "stream",
     "text": [
      "Procesando yellow_tripdata_2024-07.parquet:  30%|███       | 31/103 [02:34<13:36, 11.34s/chunk]"
     ]
    },
    {
     "name": "stdout",
     "output_type": "stream",
     "text": [
      "Chunk 31/103 del archivo yellow_tripdata_2024-07.parquet cargado exitosamente.\n"
     ]
    },
    {
     "name": "stderr",
     "output_type": "stream",
     "text": [
      "Procesando yellow_tripdata_2024-07.parquet:  31%|███       | 32/103 [02:38<10:59,  9.30s/chunk]"
     ]
    },
    {
     "name": "stdout",
     "output_type": "stream",
     "text": [
      "Chunk 32/103 del archivo yellow_tripdata_2024-07.parquet cargado exitosamente.\n"
     ]
    },
    {
     "name": "stderr",
     "output_type": "stream",
     "text": [
      "Procesando yellow_tripdata_2024-07.parquet:  32%|███▏      | 33/103 [02:43<09:22,  8.04s/chunk]"
     ]
    },
    {
     "name": "stdout",
     "output_type": "stream",
     "text": [
      "Chunk 33/103 del archivo yellow_tripdata_2024-07.parquet cargado exitosamente.\n"
     ]
    },
    {
     "name": "stderr",
     "output_type": "stream",
     "text": [
      "Procesando yellow_tripdata_2024-07.parquet:  33%|███▎      | 34/103 [02:48<08:01,  6.98s/chunk]"
     ]
    },
    {
     "name": "stdout",
     "output_type": "stream",
     "text": [
      "Chunk 34/103 del archivo yellow_tripdata_2024-07.parquet cargado exitosamente.\n"
     ]
    },
    {
     "name": "stderr",
     "output_type": "stream",
     "text": [
      "Procesando yellow_tripdata_2024-07.parquet:  34%|███▍      | 35/103 [02:52<07:01,  6.20s/chunk]"
     ]
    },
    {
     "name": "stdout",
     "output_type": "stream",
     "text": [
      "Chunk 35/103 del archivo yellow_tripdata_2024-07.parquet cargado exitosamente.\n"
     ]
    },
    {
     "name": "stderr",
     "output_type": "stream",
     "text": [
      "Procesando yellow_tripdata_2024-07.parquet:  35%|███▍      | 36/103 [02:56<06:09,  5.52s/chunk]"
     ]
    },
    {
     "name": "stdout",
     "output_type": "stream",
     "text": [
      "Chunk 36/103 del archivo yellow_tripdata_2024-07.parquet cargado exitosamente.\n"
     ]
    },
    {
     "name": "stderr",
     "output_type": "stream",
     "text": [
      "Procesando yellow_tripdata_2024-07.parquet:  36%|███▌      | 37/103 [03:00<05:35,  5.08s/chunk]"
     ]
    },
    {
     "name": "stdout",
     "output_type": "stream",
     "text": [
      "Chunk 37/103 del archivo yellow_tripdata_2024-07.parquet cargado exitosamente.\n"
     ]
    },
    {
     "name": "stderr",
     "output_type": "stream",
     "text": [
      "Procesando yellow_tripdata_2024-07.parquet:  37%|███▋      | 38/103 [03:05<05:19,  4.92s/chunk]"
     ]
    },
    {
     "name": "stdout",
     "output_type": "stream",
     "text": [
      "Chunk 38/103 del archivo yellow_tripdata_2024-07.parquet cargado exitosamente.\n"
     ]
    },
    {
     "name": "stderr",
     "output_type": "stream",
     "text": [
      "Procesando yellow_tripdata_2024-07.parquet:  38%|███▊      | 39/103 [03:09<04:56,  4.64s/chunk]"
     ]
    },
    {
     "name": "stdout",
     "output_type": "stream",
     "text": [
      "Chunk 39/103 del archivo yellow_tripdata_2024-07.parquet cargado exitosamente.\n"
     ]
    },
    {
     "name": "stderr",
     "output_type": "stream",
     "text": [
      "Procesando yellow_tripdata_2024-07.parquet:  39%|███▉      | 40/103 [03:12<04:30,  4.30s/chunk]"
     ]
    },
    {
     "name": "stdout",
     "output_type": "stream",
     "text": [
      "Chunk 40/103 del archivo yellow_tripdata_2024-07.parquet cargado exitosamente.\n"
     ]
    },
    {
     "name": "stderr",
     "output_type": "stream",
     "text": [
      "Procesando yellow_tripdata_2024-07.parquet:  40%|███▉      | 41/103 [03:16<04:23,  4.26s/chunk]"
     ]
    },
    {
     "name": "stdout",
     "output_type": "stream",
     "text": [
      "Chunk 41/103 del archivo yellow_tripdata_2024-07.parquet cargado exitosamente.\n"
     ]
    },
    {
     "name": "stderr",
     "output_type": "stream",
     "text": [
      "Procesando yellow_tripdata_2024-07.parquet:  41%|████      | 42/103 [03:20<04:12,  4.14s/chunk]"
     ]
    },
    {
     "name": "stdout",
     "output_type": "stream",
     "text": [
      "Chunk 42/103 del archivo yellow_tripdata_2024-07.parquet cargado exitosamente.\n"
     ]
    },
    {
     "name": "stderr",
     "output_type": "stream",
     "text": [
      "Procesando yellow_tripdata_2024-07.parquet:  42%|████▏     | 43/103 [03:24<04:05,  4.10s/chunk]"
     ]
    },
    {
     "name": "stdout",
     "output_type": "stream",
     "text": [
      "Chunk 43/103 del archivo yellow_tripdata_2024-07.parquet cargado exitosamente.\n"
     ]
    },
    {
     "name": "stderr",
     "output_type": "stream",
     "text": [
      "Procesando yellow_tripdata_2024-07.parquet:  43%|████▎     | 44/103 [03:28<03:58,  4.04s/chunk]"
     ]
    },
    {
     "name": "stdout",
     "output_type": "stream",
     "text": [
      "Chunk 44/103 del archivo yellow_tripdata_2024-07.parquet cargado exitosamente.\n"
     ]
    },
    {
     "name": "stderr",
     "output_type": "stream",
     "text": [
      "Procesando yellow_tripdata_2024-07.parquet:  44%|████▎     | 45/103 [03:32<03:56,  4.09s/chunk]"
     ]
    },
    {
     "name": "stdout",
     "output_type": "stream",
     "text": [
      "Chunk 45/103 del archivo yellow_tripdata_2024-07.parquet cargado exitosamente.\n"
     ]
    },
    {
     "name": "stderr",
     "output_type": "stream",
     "text": [
      "Procesando yellow_tripdata_2024-07.parquet:  45%|████▍     | 46/103 [03:36<03:42,  3.90s/chunk]"
     ]
    },
    {
     "name": "stdout",
     "output_type": "stream",
     "text": [
      "Chunk 46/103 del archivo yellow_tripdata_2024-07.parquet cargado exitosamente.\n"
     ]
    },
    {
     "name": "stderr",
     "output_type": "stream",
     "text": [
      "Procesando yellow_tripdata_2024-07.parquet:  46%|████▌     | 47/103 [03:40<03:38,  3.91s/chunk]"
     ]
    },
    {
     "name": "stdout",
     "output_type": "stream",
     "text": [
      "Chunk 47/103 del archivo yellow_tripdata_2024-07.parquet cargado exitosamente.\n"
     ]
    },
    {
     "name": "stderr",
     "output_type": "stream",
     "text": [
      "Procesando yellow_tripdata_2024-07.parquet:  47%|████▋     | 48/103 [03:44<03:39,  4.00s/chunk]"
     ]
    },
    {
     "name": "stdout",
     "output_type": "stream",
     "text": [
      "Chunk 48/103 del archivo yellow_tripdata_2024-07.parquet cargado exitosamente.\n"
     ]
    },
    {
     "name": "stderr",
     "output_type": "stream",
     "text": [
      "Procesando yellow_tripdata_2024-07.parquet:  48%|████▊     | 49/103 [03:48<03:37,  4.03s/chunk]"
     ]
    },
    {
     "name": "stdout",
     "output_type": "stream",
     "text": [
      "Chunk 49/103 del archivo yellow_tripdata_2024-07.parquet cargado exitosamente.\n"
     ]
    },
    {
     "name": "stderr",
     "output_type": "stream",
     "text": [
      "Procesando yellow_tripdata_2024-07.parquet:  49%|████▊     | 50/103 [03:52<03:32,  4.01s/chunk]"
     ]
    },
    {
     "name": "stdout",
     "output_type": "stream",
     "text": [
      "Chunk 50/103 del archivo yellow_tripdata_2024-07.parquet cargado exitosamente.\n"
     ]
    },
    {
     "name": "stderr",
     "output_type": "stream",
     "text": [
      "Procesando yellow_tripdata_2024-07.parquet:  50%|████▉     | 51/103 [03:56<03:23,  3.91s/chunk]"
     ]
    },
    {
     "name": "stdout",
     "output_type": "stream",
     "text": [
      "Chunk 51/103 del archivo yellow_tripdata_2024-07.parquet cargado exitosamente.\n"
     ]
    },
    {
     "name": "stderr",
     "output_type": "stream",
     "text": [
      "Procesando yellow_tripdata_2024-07.parquet:  50%|█████     | 52/103 [03:59<03:14,  3.82s/chunk]"
     ]
    },
    {
     "name": "stdout",
     "output_type": "stream",
     "text": [
      "Chunk 52/103 del archivo yellow_tripdata_2024-07.parquet cargado exitosamente.\n"
     ]
    },
    {
     "name": "stderr",
     "output_type": "stream",
     "text": [
      "Procesando yellow_tripdata_2024-07.parquet:  51%|█████▏    | 53/103 [04:04<03:17,  3.94s/chunk]"
     ]
    },
    {
     "name": "stdout",
     "output_type": "stream",
     "text": [
      "Chunk 53/103 del archivo yellow_tripdata_2024-07.parquet cargado exitosamente.\n"
     ]
    },
    {
     "name": "stderr",
     "output_type": "stream",
     "text": [
      "Procesando yellow_tripdata_2024-07.parquet:  52%|█████▏    | 54/103 [04:07<03:09,  3.87s/chunk]"
     ]
    },
    {
     "name": "stdout",
     "output_type": "stream",
     "text": [
      "Chunk 54/103 del archivo yellow_tripdata_2024-07.parquet cargado exitosamente.\n"
     ]
    },
    {
     "name": "stderr",
     "output_type": "stream",
     "text": [
      "Procesando yellow_tripdata_2024-07.parquet:  53%|█████▎    | 55/103 [04:11<03:04,  3.84s/chunk]"
     ]
    },
    {
     "name": "stdout",
     "output_type": "stream",
     "text": [
      "Chunk 55/103 del archivo yellow_tripdata_2024-07.parquet cargado exitosamente.\n"
     ]
    },
    {
     "name": "stderr",
     "output_type": "stream",
     "text": [
      "Procesando yellow_tripdata_2024-07.parquet:  54%|█████▍    | 56/103 [04:15<02:59,  3.83s/chunk]"
     ]
    },
    {
     "name": "stdout",
     "output_type": "stream",
     "text": [
      "Chunk 56/103 del archivo yellow_tripdata_2024-07.parquet cargado exitosamente.\n"
     ]
    },
    {
     "name": "stderr",
     "output_type": "stream",
     "text": [
      "Procesando yellow_tripdata_2024-07.parquet:  55%|█████▌    | 57/103 [04:20<03:17,  4.29s/chunk]"
     ]
    },
    {
     "name": "stdout",
     "output_type": "stream",
     "text": [
      "Chunk 57/103 del archivo yellow_tripdata_2024-07.parquet cargado exitosamente.\n"
     ]
    },
    {
     "name": "stderr",
     "output_type": "stream",
     "text": [
      "Procesando yellow_tripdata_2024-07.parquet:  56%|█████▋    | 58/103 [04:24<03:02,  4.05s/chunk]"
     ]
    },
    {
     "name": "stdout",
     "output_type": "stream",
     "text": [
      "Chunk 58/103 del archivo yellow_tripdata_2024-07.parquet cargado exitosamente.\n"
     ]
    },
    {
     "name": "stderr",
     "output_type": "stream",
     "text": [
      "Procesando yellow_tripdata_2024-07.parquet:  57%|█████▋    | 59/103 [04:27<02:51,  3.89s/chunk]"
     ]
    },
    {
     "name": "stdout",
     "output_type": "stream",
     "text": [
      "Chunk 59/103 del archivo yellow_tripdata_2024-07.parquet cargado exitosamente.\n",
      "Chunk 60/103 del archivo yellow_tripdata_2024-07.parquet cargado exitosamente.\n",
      "Esperando 15 segundos...\n",
      "Reconectando a la base de datos...\n"
     ]
    },
    {
     "name": "stderr",
     "output_type": "stream",
     "text": [
      "Procesando yellow_tripdata_2024-07.parquet:  58%|█████▊    | 60/103 [05:03<09:36, 13.41s/chunk]"
     ]
    },
    {
     "name": "stdout",
     "output_type": "stream",
     "text": [
      "Conexión a la base de datos establecida con éxito.\n",
      "Reconexión exitosa.\n"
     ]
    },
    {
     "name": "stderr",
     "output_type": "stream",
     "text": [
      "Procesando yellow_tripdata_2024-07.parquet:  59%|█████▉    | 61/103 [05:11<08:16, 11.83s/chunk]"
     ]
    },
    {
     "name": "stdout",
     "output_type": "stream",
     "text": [
      "Chunk 61/103 del archivo yellow_tripdata_2024-07.parquet cargado exitosamente.\n"
     ]
    },
    {
     "name": "stderr",
     "output_type": "stream",
     "text": [
      "Procesando yellow_tripdata_2024-07.parquet:  60%|██████    | 62/103 [05:16<06:41,  9.80s/chunk]"
     ]
    },
    {
     "name": "stdout",
     "output_type": "stream",
     "text": [
      "Chunk 62/103 del archivo yellow_tripdata_2024-07.parquet cargado exitosamente.\n"
     ]
    },
    {
     "name": "stderr",
     "output_type": "stream",
     "text": [
      "Procesando yellow_tripdata_2024-07.parquet:  61%|██████    | 63/103 [05:21<05:28,  8.22s/chunk]"
     ]
    },
    {
     "name": "stdout",
     "output_type": "stream",
     "text": [
      "Chunk 63/103 del archivo yellow_tripdata_2024-07.parquet cargado exitosamente.\n"
     ]
    },
    {
     "name": "stderr",
     "output_type": "stream",
     "text": [
      "Procesando yellow_tripdata_2024-07.parquet:  62%|██████▏   | 64/103 [05:24<04:25,  6.80s/chunk]"
     ]
    },
    {
     "name": "stdout",
     "output_type": "stream",
     "text": [
      "Chunk 64/103 del archivo yellow_tripdata_2024-07.parquet cargado exitosamente.\n"
     ]
    },
    {
     "name": "stderr",
     "output_type": "stream",
     "text": [
      "Procesando yellow_tripdata_2024-07.parquet:  63%|██████▎   | 65/103 [05:28<03:41,  5.82s/chunk]"
     ]
    },
    {
     "name": "stdout",
     "output_type": "stream",
     "text": [
      "Chunk 65/103 del archivo yellow_tripdata_2024-07.parquet cargado exitosamente.\n"
     ]
    },
    {
     "name": "stderr",
     "output_type": "stream",
     "text": [
      "Procesando yellow_tripdata_2024-07.parquet:  64%|██████▍   | 66/103 [05:31<03:08,  5.09s/chunk]"
     ]
    },
    {
     "name": "stdout",
     "output_type": "stream",
     "text": [
      "Chunk 66/103 del archivo yellow_tripdata_2024-07.parquet cargado exitosamente.\n"
     ]
    },
    {
     "name": "stderr",
     "output_type": "stream",
     "text": [
      "Procesando yellow_tripdata_2024-07.parquet:  65%|██████▌   | 67/103 [05:35<02:47,  4.66s/chunk]"
     ]
    },
    {
     "name": "stdout",
     "output_type": "stream",
     "text": [
      "Chunk 67/103 del archivo yellow_tripdata_2024-07.parquet cargado exitosamente.\n"
     ]
    },
    {
     "name": "stderr",
     "output_type": "stream",
     "text": [
      "Procesando yellow_tripdata_2024-07.parquet:  66%|██████▌   | 68/103 [05:38<02:29,  4.26s/chunk]"
     ]
    },
    {
     "name": "stdout",
     "output_type": "stream",
     "text": [
      "Chunk 68/103 del archivo yellow_tripdata_2024-07.parquet cargado exitosamente.\n"
     ]
    },
    {
     "name": "stderr",
     "output_type": "stream",
     "text": [
      "Procesando yellow_tripdata_2024-07.parquet:  67%|██████▋   | 69/103 [05:41<02:15,  3.97s/chunk]"
     ]
    },
    {
     "name": "stdout",
     "output_type": "stream",
     "text": [
      "Chunk 69/103 del archivo yellow_tripdata_2024-07.parquet cargado exitosamente.\n"
     ]
    },
    {
     "name": "stderr",
     "output_type": "stream",
     "text": [
      "Procesando yellow_tripdata_2024-07.parquet:  68%|██████▊   | 70/103 [05:45<02:04,  3.77s/chunk]"
     ]
    },
    {
     "name": "stdout",
     "output_type": "stream",
     "text": [
      "Chunk 70/103 del archivo yellow_tripdata_2024-07.parquet cargado exitosamente.\n"
     ]
    },
    {
     "name": "stderr",
     "output_type": "stream",
     "text": [
      "Procesando yellow_tripdata_2024-07.parquet:  69%|██████▉   | 71/103 [05:48<01:59,  3.74s/chunk]"
     ]
    },
    {
     "name": "stdout",
     "output_type": "stream",
     "text": [
      "Chunk 71/103 del archivo yellow_tripdata_2024-07.parquet cargado exitosamente.\n"
     ]
    },
    {
     "name": "stderr",
     "output_type": "stream",
     "text": [
      "Procesando yellow_tripdata_2024-07.parquet:  70%|██████▉   | 72/103 [05:52<01:54,  3.68s/chunk]"
     ]
    },
    {
     "name": "stdout",
     "output_type": "stream",
     "text": [
      "Chunk 72/103 del archivo yellow_tripdata_2024-07.parquet cargado exitosamente.\n"
     ]
    },
    {
     "name": "stderr",
     "output_type": "stream",
     "text": [
      "Procesando yellow_tripdata_2024-07.parquet:  71%|███████   | 73/103 [05:56<01:51,  3.72s/chunk]"
     ]
    },
    {
     "name": "stdout",
     "output_type": "stream",
     "text": [
      "Chunk 73/103 del archivo yellow_tripdata_2024-07.parquet cargado exitosamente.\n"
     ]
    },
    {
     "name": "stderr",
     "output_type": "stream",
     "text": [
      "Procesando yellow_tripdata_2024-07.parquet:  72%|███████▏  | 74/103 [06:00<01:48,  3.75s/chunk]"
     ]
    },
    {
     "name": "stdout",
     "output_type": "stream",
     "text": [
      "Chunk 74/103 del archivo yellow_tripdata_2024-07.parquet cargado exitosamente.\n"
     ]
    },
    {
     "name": "stderr",
     "output_type": "stream",
     "text": [
      "Procesando yellow_tripdata_2024-07.parquet:  73%|███████▎  | 75/103 [06:03<01:43,  3.70s/chunk]"
     ]
    },
    {
     "name": "stdout",
     "output_type": "stream",
     "text": [
      "Chunk 75/103 del archivo yellow_tripdata_2024-07.parquet cargado exitosamente.\n"
     ]
    },
    {
     "name": "stderr",
     "output_type": "stream",
     "text": [
      "Procesando yellow_tripdata_2024-07.parquet:  74%|███████▍  | 76/103 [06:07<01:39,  3.67s/chunk]"
     ]
    },
    {
     "name": "stdout",
     "output_type": "stream",
     "text": [
      "Chunk 76/103 del archivo yellow_tripdata_2024-07.parquet cargado exitosamente.\n"
     ]
    },
    {
     "name": "stderr",
     "output_type": "stream",
     "text": [
      "Procesando yellow_tripdata_2024-07.parquet:  75%|███████▍  | 77/103 [06:10<01:32,  3.55s/chunk]"
     ]
    },
    {
     "name": "stdout",
     "output_type": "stream",
     "text": [
      "Chunk 77/103 del archivo yellow_tripdata_2024-07.parquet cargado exitosamente.\n"
     ]
    },
    {
     "name": "stderr",
     "output_type": "stream",
     "text": [
      "Procesando yellow_tripdata_2024-07.parquet:  76%|███████▌  | 78/103 [06:13<01:26,  3.47s/chunk]"
     ]
    },
    {
     "name": "stdout",
     "output_type": "stream",
     "text": [
      "Chunk 78/103 del archivo yellow_tripdata_2024-07.parquet cargado exitosamente.\n"
     ]
    },
    {
     "name": "stderr",
     "output_type": "stream",
     "text": [
      "Procesando yellow_tripdata_2024-07.parquet:  77%|███████▋  | 79/103 [06:17<01:24,  3.53s/chunk]"
     ]
    },
    {
     "name": "stdout",
     "output_type": "stream",
     "text": [
      "Chunk 79/103 del archivo yellow_tripdata_2024-07.parquet cargado exitosamente.\n"
     ]
    },
    {
     "name": "stderr",
     "output_type": "stream",
     "text": [
      "Procesando yellow_tripdata_2024-07.parquet:  78%|███████▊  | 80/103 [06:21<01:26,  3.75s/chunk]"
     ]
    },
    {
     "name": "stdout",
     "output_type": "stream",
     "text": [
      "Chunk 80/103 del archivo yellow_tripdata_2024-07.parquet cargado exitosamente.\n"
     ]
    },
    {
     "name": "stderr",
     "output_type": "stream",
     "text": [
      "Procesando yellow_tripdata_2024-07.parquet:  79%|███████▊  | 81/103 [06:28<01:42,  4.65s/chunk]"
     ]
    },
    {
     "name": "stdout",
     "output_type": "stream",
     "text": [
      "Chunk 81/103 del archivo yellow_tripdata_2024-07.parquet cargado exitosamente.\n"
     ]
    },
    {
     "name": "stderr",
     "output_type": "stream",
     "text": [
      "Procesando yellow_tripdata_2024-07.parquet:  80%|███████▉  | 82/103 [06:33<01:41,  4.84s/chunk]"
     ]
    },
    {
     "name": "stdout",
     "output_type": "stream",
     "text": [
      "Chunk 82/103 del archivo yellow_tripdata_2024-07.parquet cargado exitosamente.\n"
     ]
    },
    {
     "name": "stderr",
     "output_type": "stream",
     "text": [
      "Procesando yellow_tripdata_2024-07.parquet:  81%|████████  | 83/103 [06:36<01:26,  4.34s/chunk]"
     ]
    },
    {
     "name": "stdout",
     "output_type": "stream",
     "text": [
      "Chunk 83/103 del archivo yellow_tripdata_2024-07.parquet cargado exitosamente.\n"
     ]
    },
    {
     "name": "stderr",
     "output_type": "stream",
     "text": [
      "Procesando yellow_tripdata_2024-07.parquet:  82%|████████▏ | 84/103 [06:40<01:20,  4.24s/chunk]"
     ]
    },
    {
     "name": "stdout",
     "output_type": "stream",
     "text": [
      "Chunk 84/103 del archivo yellow_tripdata_2024-07.parquet cargado exitosamente.\n"
     ]
    },
    {
     "name": "stderr",
     "output_type": "stream",
     "text": [
      "Procesando yellow_tripdata_2024-07.parquet:  83%|████████▎ | 85/103 [06:44<01:15,  4.19s/chunk]"
     ]
    },
    {
     "name": "stdout",
     "output_type": "stream",
     "text": [
      "Chunk 85/103 del archivo yellow_tripdata_2024-07.parquet cargado exitosamente.\n"
     ]
    },
    {
     "name": "stderr",
     "output_type": "stream",
     "text": [
      "Procesando yellow_tripdata_2024-07.parquet:  83%|████████▎ | 86/103 [06:48<01:08,  4.01s/chunk]"
     ]
    },
    {
     "name": "stdout",
     "output_type": "stream",
     "text": [
      "Chunk 86/103 del archivo yellow_tripdata_2024-07.parquet cargado exitosamente.\n"
     ]
    },
    {
     "name": "stderr",
     "output_type": "stream",
     "text": [
      "Procesando yellow_tripdata_2024-07.parquet:  84%|████████▍ | 87/103 [06:52<01:04,  4.06s/chunk]"
     ]
    },
    {
     "name": "stdout",
     "output_type": "stream",
     "text": [
      "Chunk 87/103 del archivo yellow_tripdata_2024-07.parquet cargado exitosamente.\n"
     ]
    },
    {
     "name": "stderr",
     "output_type": "stream",
     "text": [
      "Procesando yellow_tripdata_2024-07.parquet:  85%|████████▌ | 88/103 [06:56<00:58,  3.93s/chunk]"
     ]
    },
    {
     "name": "stdout",
     "output_type": "stream",
     "text": [
      "Chunk 88/103 del archivo yellow_tripdata_2024-07.parquet cargado exitosamente.\n"
     ]
    },
    {
     "name": "stderr",
     "output_type": "stream",
     "text": [
      "Procesando yellow_tripdata_2024-07.parquet:  86%|████████▋ | 89/103 [07:01<00:57,  4.14s/chunk]"
     ]
    },
    {
     "name": "stdout",
     "output_type": "stream",
     "text": [
      "Chunk 89/103 del archivo yellow_tripdata_2024-07.parquet cargado exitosamente.\n",
      "Chunk 90/103 del archivo yellow_tripdata_2024-07.parquet cargado exitosamente.\n",
      "Esperando 15 segundos...\n",
      "Reconectando a la base de datos...\n"
     ]
    },
    {
     "name": "stderr",
     "output_type": "stream",
     "text": [
      "Procesando yellow_tripdata_2024-07.parquet:  87%|████████▋ | 90/103 [07:37<03:01, 13.96s/chunk]"
     ]
    },
    {
     "name": "stdout",
     "output_type": "stream",
     "text": [
      "Conexión a la base de datos establecida con éxito.\n",
      "Reconexión exitosa.\n"
     ]
    },
    {
     "name": "stderr",
     "output_type": "stream",
     "text": [
      "Procesando yellow_tripdata_2024-07.parquet:  88%|████████▊ | 91/103 [07:44<02:20, 11.71s/chunk]"
     ]
    },
    {
     "name": "stdout",
     "output_type": "stream",
     "text": [
      "Chunk 91/103 del archivo yellow_tripdata_2024-07.parquet cargado exitosamente.\n"
     ]
    },
    {
     "name": "stderr",
     "output_type": "stream",
     "text": [
      "Procesando yellow_tripdata_2024-07.parquet:  89%|████████▉ | 92/103 [07:49<01:46,  9.68s/chunk]"
     ]
    },
    {
     "name": "stdout",
     "output_type": "stream",
     "text": [
      "Chunk 92/103 del archivo yellow_tripdata_2024-07.parquet cargado exitosamente.\n"
     ]
    },
    {
     "name": "stderr",
     "output_type": "stream",
     "text": [
      "Procesando yellow_tripdata_2024-07.parquet:  90%|█████████ | 93/103 [07:54<01:23,  8.32s/chunk]"
     ]
    },
    {
     "name": "stdout",
     "output_type": "stream",
     "text": [
      "Chunk 93/103 del archivo yellow_tripdata_2024-07.parquet cargado exitosamente.\n"
     ]
    },
    {
     "name": "stderr",
     "output_type": "stream",
     "text": [
      "Procesando yellow_tripdata_2024-07.parquet:  91%|█████████▏| 94/103 [07:58<01:03,  7.11s/chunk]"
     ]
    },
    {
     "name": "stdout",
     "output_type": "stream",
     "text": [
      "Chunk 94/103 del archivo yellow_tripdata_2024-07.parquet cargado exitosamente.\n"
     ]
    },
    {
     "name": "stderr",
     "output_type": "stream",
     "text": [
      "Procesando yellow_tripdata_2024-07.parquet:  92%|█████████▏| 95/103 [08:03<00:50,  6.31s/chunk]"
     ]
    },
    {
     "name": "stdout",
     "output_type": "stream",
     "text": [
      "Chunk 95/103 del archivo yellow_tripdata_2024-07.parquet cargado exitosamente.\n"
     ]
    },
    {
     "name": "stderr",
     "output_type": "stream",
     "text": [
      "Procesando yellow_tripdata_2024-07.parquet:  93%|█████████▎| 96/103 [08:07<00:39,  5.67s/chunk]"
     ]
    },
    {
     "name": "stdout",
     "output_type": "stream",
     "text": [
      "Chunk 96/103 del archivo yellow_tripdata_2024-07.parquet cargado exitosamente.\n"
     ]
    },
    {
     "name": "stderr",
     "output_type": "stream",
     "text": [
      "Procesando yellow_tripdata_2024-07.parquet:  94%|█████████▍| 97/103 [08:11<00:31,  5.23s/chunk]"
     ]
    },
    {
     "name": "stdout",
     "output_type": "stream",
     "text": [
      "Chunk 97/103 del archivo yellow_tripdata_2024-07.parquet cargado exitosamente.\n"
     ]
    },
    {
     "name": "stderr",
     "output_type": "stream",
     "text": [
      "Procesando yellow_tripdata_2024-07.parquet:  95%|█████████▌| 98/103 [08:15<00:24,  4.92s/chunk]"
     ]
    },
    {
     "name": "stdout",
     "output_type": "stream",
     "text": [
      "Chunk 98/103 del archivo yellow_tripdata_2024-07.parquet cargado exitosamente.\n"
     ]
    },
    {
     "name": "stderr",
     "output_type": "stream",
     "text": [
      "Procesando yellow_tripdata_2024-07.parquet:  96%|█████████▌| 99/103 [08:19<00:18,  4.72s/chunk]"
     ]
    },
    {
     "name": "stdout",
     "output_type": "stream",
     "text": [
      "Chunk 99/103 del archivo yellow_tripdata_2024-07.parquet cargado exitosamente.\n"
     ]
    },
    {
     "name": "stderr",
     "output_type": "stream",
     "text": [
      "Procesando yellow_tripdata_2024-07.parquet:  97%|█████████▋| 100/103 [08:23<00:13,  4.49s/chunk]"
     ]
    },
    {
     "name": "stdout",
     "output_type": "stream",
     "text": [
      "Chunk 100/103 del archivo yellow_tripdata_2024-07.parquet cargado exitosamente.\n"
     ]
    },
    {
     "name": "stderr",
     "output_type": "stream",
     "text": [
      "Procesando yellow_tripdata_2024-07.parquet:  98%|█████████▊| 101/103 [08:27<00:08,  4.31s/chunk]"
     ]
    },
    {
     "name": "stdout",
     "output_type": "stream",
     "text": [
      "Chunk 101/103 del archivo yellow_tripdata_2024-07.parquet cargado exitosamente.\n"
     ]
    },
    {
     "name": "stderr",
     "output_type": "stream",
     "text": [
      "Procesando yellow_tripdata_2024-07.parquet:  99%|█████████▉| 102/103 [08:31<00:04,  4.25s/chunk]"
     ]
    },
    {
     "name": "stdout",
     "output_type": "stream",
     "text": [
      "Chunk 102/103 del archivo yellow_tripdata_2024-07.parquet cargado exitosamente.\n"
     ]
    },
    {
     "name": "stderr",
     "output_type": "stream",
     "text": [
      "Procesando yellow_tripdata_2024-07.parquet: 100%|██████████| 103/103 [08:34<00:00,  4.99s/chunk]"
     ]
    },
    {
     "name": "stdout",
     "output_type": "stream",
     "text": [
      "Chunk 103/103 del archivo yellow_tripdata_2024-07.parquet cargado exitosamente.\n",
      "Datos del archivo yellow_tripdata_2024-07.parquet cargados exitosamente.\n"
     ]
    },
    {
     "name": "stderr",
     "output_type": "stream",
     "text": [
      "\n"
     ]
    },
    {
     "name": "stdout",
     "output_type": "stream",
     "text": [
      "Error al leer D:\\GitHub\\Proyecto Final\\Proyecto_final_Henry\\Dataset\\yellow_tripdata_2024-07.parquet: name 'file_to_inspect' is not defined\n",
      "\n",
      "Proceso de estandarización y carga completo.\n"
     ]
    }
   ],
   "source": [
    "import pandas as pd\n",
    "import sqlalchemy\n",
    "import os\n",
    "from tqdm import tqdm\n",
    "from dotenv import load_dotenv\n",
    "\n",
    "# Cargar las variables de entorno desde el archivo .env\n",
    "load_dotenv()\n",
    "\n",
    "# Obtener las credenciales de la base de datos desde las variables de entorno\n",
    "db_user = os.getenv('DB_USER')\n",
    "db_password = os.getenv('DB_PASSWORD')\n",
    "db_host = os.getenv('DB_HOST')\n",
    "db_port = os.getenv('DB_PORT')\n",
    "db_name = os.getenv('DB_NAME')\n",
    "\n",
    "# Función para conectar a la base de datos\n",
    "def connect_to_db():\n",
    "    try:\n",
    "        engine = sqlalchemy.create_engine(\n",
    "            f'mysql+pymysql://{db_user}:{db_password}@{db_host}:{db_port}/{db_name}'\n",
    "        )\n",
    "        print(\"Conexión a la base de datos establecida con éxito.\")\n",
    "        return engine\n",
    "    except Exception as e:\n",
    "        print(f\"Error al conectar a la base de datos: {e}\")\n",
    "        raise\n",
    "\n",
    "# Conectar a MySQL utilizando las credenciales del archivo .env\n",
    "engine = connect_to_db()\n",
    "\n",
    "# Ruta de la carpeta con los archivos\n",
    "folder_path = 'D:\\\\GitHub\\\\Proyecto Final\\\\Proyecto_final_Henry\\\\Dataset'\n",
    "\n",
    "# Columnas a mantener para green_tripdata\n",
    "columns_to_keep_green = [\n",
    "    'lpep_pickup_datetime', 'lpep_dropoff_datetime',\n",
    "    'PULocationID', 'DOLocationID',\n",
    "    'trip_distance', 'total_amount'\n",
    "]\n",
    "\n",
    "# Columnas a mantener para yellow_tripdata\n",
    "columns_to_keep_yellow = [\n",
    "    'tpep_pickup_datetime', 'tpep_dropoff_datetime',\n",
    "    'PULocationID', 'DOLocationID',\n",
    "    'trip_distance', 'total_amount'\n",
    "]\n",
    "\n",
    "# Columnas a mantener para fhv_tripdata\n",
    "columns_to_keep_fhv = [\n",
    "    'pickup_datetime', 'dropOff_datetime',\n",
    "    'PUlocationID', 'DOlocationID',\n",
    "    'Affiliated_base_number'\n",
    "]\n",
    "\n",
    "# Leer todos los archivos en la carpeta y estandarizar las columnas\n",
    "for filename in os.listdir(folder_path):\n",
    "    if filename.endswith('.parquet'):\n",
    "        file_path = os.path.join(folder_path, filename)\n",
    "\n",
    "        try:\n",
    "            # Leer archivo .parquet\n",
    "            print(f\"\\nLeyendo archivo {file_path}\")\n",
    "            df = pd.read_parquet(file_path)\n",
    "\n",
    "            # Verificar si es green_tripdata, yellow_tripdata o fhv_tripdata\n",
    "            if 'green' in filename.lower():\n",
    "                columns_to_keep = columns_to_keep_green\n",
    "                source_value = 'green_tripdata'\n",
    "            elif 'yellow' in filename.lower():\n",
    "                columns_to_keep = columns_to_keep_yellow\n",
    "                source_value = 'yellow_tripdata'\n",
    "            elif 'fhv' in filename.lower():\n",
    "                columns_to_keep = columns_to_keep_fhv\n",
    "                source_value = 'fhv_tripdata'\n",
    "            else:\n",
    "                print(f\"El archivo {filename} no es ni 'green', 'yellow' ni 'fhv'. Saltando.\")\n",
    "                continue\n",
    "\n",
    "            # Verificar si el archivo contiene todas las columnas necesarias\n",
    "            if all(column in df.columns for column in columns_to_keep):\n",
    "                print(f\"El archivo {filename} contiene todas las columnas necesarias. Procesando...\")\n",
    "\n",
    "                # Seleccionar columnas necesarias\n",
    "                df = df[columns_to_keep]\n",
    "\n",
    "                # Renombrar columnas según sea necesario\n",
    "                if 'yellow' in filename.lower():\n",
    "                    df.rename(columns={\n",
    "                        'tpep_pickup_datetime': 'Pickup_datetime',\n",
    "                        'tpep_dropoff_datetime': 'DropOff_datetime',\n",
    "                        'trip_distance': 'trip_miles',\n",
    "                        'total_amount': 'driver_pay'\n",
    "                    }, inplace=True)\n",
    "                elif 'green' in filename.lower():\n",
    "                    df.rename(columns={\n",
    "                        'lpep_pickup_datetime': 'Pickup_datetime',\n",
    "                        'lpep_dropoff_datetime': 'DropOff_datetime',\n",
    "                        'trip_distance': 'trip_miles',\n",
    "                        'total_amount': 'driver_pay'\n",
    "                    }, inplace=True)\n",
    "                elif 'fhv' in filename.lower():\n",
    "                    df.rename(columns={\n",
    "                        'pickup_datetime': 'Pickup_datetime',\n",
    "                        'dropOff_datetime': 'DropOff_datetime',\n",
    "                        'PUlocationID': 'PULocationID',\n",
    "                        'DOlocationID': 'DOLocationID'\n",
    "                    }, inplace=True)\n",
    "                    df['trip_miles'] = 0.0  # Agregar columna trip_miles con valores por defecto\n",
    "                    df['driver_pay'] = 0.0  # Agregar columna driver_pay con valores por defecto\n",
    "\n",
    "                # Añadir la columna 'source'\n",
    "                df['source'] = source_value\n",
    "\n",
    "                # Calcular trip_time como la diferencia entre DropOff_datetime y Pickup_datetime\n",
    "                df['Pickup_datetime'] = pd.to_datetime(df['Pickup_datetime'])\n",
    "                df['DropOff_datetime'] = pd.to_datetime(df['DropOff_datetime'])\n",
    "                df['trip_time'] = (df['DropOff_datetime'] - df['Pickup_datetime']).dt.total_seconds()\n",
    "\n",
    "                # Dividir el DataFrame en bloques de 30,000 filas\n",
    "                chunk_size = 30000  # Tamaño del chunk a 30,000 filas\n",
    "                for i in tqdm(range(0, len(df), chunk_size), desc=f\"Procesando {filename}\", unit=\"chunk\"):\n",
    "                    chunk = df[i:i + chunk_size]\n",
    "                    try:\n",
    "                        chunk.to_sql(name='taxi_fhv_data', con=engine, if_exists='append', index=False)\n",
    "                        print(f\"Chunk {i//chunk_size+1}/{len(df)//chunk_size+1} del archivo {filename} cargado exitosamente.\")\n",
    "                    except sqlalchemy.exc.OperationalError as e:\n",
    "                        print(f\"Error al cargar chunk {i//chunk_size+1}: {e}. Intentando reconectar...\")\n",
    "                        engine = connect_to_db()\n",
    "                        chunk.to_sql(name='taxi_fhv_data', con=engine, if_exists='append', index=False)\n",
    "                        print(f\"Chunk {i//chunk_size+1} del archivo {filename} cargado exitosamente tras reconexión.\")\n",
    "                print(f\"Datos del archivo {filename} cargados exitosamente.\")\n",
    "            else:\n",
    "                print(f\"El archivo {filename} no contiene todas las columnas necesarias. Saltando.\")\n",
    "\n",
    "        except FileNotFoundError:\n",
    "            print(f\"Archivo {file_path} no encontrado. Saltando.\")\n",
    "        except KeyError as e:\n",
    "            print(f\"Error de columna en {file_path}: {e}. Saltando.\")\n",
    "        except Exception as e:\n",
    "            print(f\"Error al procesar el archivo {filename}: {e}\")\n",
    "\n",
    "print(\"\\nProceso de estandarización y carga completo.\")"
   ]
  }
 ],
 "metadata": {
  "kernelspec": {
   "display_name": "Python 3",
   "language": "python",
   "name": "python3"
  },
  "language_info": {
   "codemirror_mode": {
    "name": "ipython",
    "version": 3
   },
   "file_extension": ".py",
   "mimetype": "text/x-python",
   "name": "python",
   "nbconvert_exporter": "python",
   "pygments_lexer": "ipython3",
   "version": "3.12.7"
  }
 },
 "nbformat": 4,
 "nbformat_minor": 2
}
