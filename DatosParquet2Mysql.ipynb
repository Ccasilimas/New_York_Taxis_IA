{
 "cells": [
  {
   "cell_type": "markdown",
   "metadata": {},
   "source": []
  },
  {
   "cell_type": "code",
   "execution_count": null,
   "metadata": {},
   "outputs": [
    {
     "name": "stdout",
     "output_type": "stream",
     "text": [
      "Conexión a la base de datos establecida con éxito.\n",
      "Leyendo archivo D:\\GitHub\\Proyecto Final\\Proyecto_final_Henry\\Dataset\\green_tripdata_2024-01.parquet\n",
      "El archivo green_tripdata_2024-01.parquet contiene todas las columnas necesarias. Procesando...\n"
     ]
    },
    {
     "name": "stderr",
     "output_type": "stream",
     "text": [
      "Procesando green_tripdata_2024-01.parquet:  50%|█████     | 1/2 [00:08<00:08,  8.52s/chunk]"
     ]
    },
    {
     "name": "stdout",
     "output_type": "stream",
     "text": [
      "Chunk 1/2 del archivo green_tripdata_2024-01.parquet cargado exitosamente.\n"
     ]
    },
    {
     "name": "stderr",
     "output_type": "stream",
     "text": [
      "Procesando green_tripdata_2024-01.parquet: 100%|██████████| 2/2 [00:09<00:00,  4.90s/chunk]\n"
     ]
    },
    {
     "name": "stdout",
     "output_type": "stream",
     "text": [
      "Chunk 2/2 del archivo green_tripdata_2024-01.parquet cargado exitosamente.\n",
      "Datos del archivo green_tripdata_2024-01.parquet cargados exitosamente.\n",
      "Leyendo archivo D:\\GitHub\\Proyecto Final\\Proyecto_final_Henry\\Dataset\\green_tripdata_2024-02.parquet\n",
      "El archivo green_tripdata_2024-02.parquet contiene todas las columnas necesarias. Procesando...\n"
     ]
    },
    {
     "name": "stderr",
     "output_type": "stream",
     "text": [
      "Procesando green_tripdata_2024-02.parquet:  50%|█████     | 1/2 [00:05<00:05,  5.91s/chunk]"
     ]
    },
    {
     "name": "stdout",
     "output_type": "stream",
     "text": [
      "Chunk 1/2 del archivo green_tripdata_2024-02.parquet cargado exitosamente.\n"
     ]
    },
    {
     "name": "stderr",
     "output_type": "stream",
     "text": [
      "Procesando green_tripdata_2024-02.parquet: 100%|██████████| 2/2 [00:06<00:00,  3.44s/chunk]\n"
     ]
    },
    {
     "name": "stdout",
     "output_type": "stream",
     "text": [
      "Chunk 2/2 del archivo green_tripdata_2024-02.parquet cargado exitosamente.\n",
      "Datos del archivo green_tripdata_2024-02.parquet cargados exitosamente.\n",
      "Leyendo archivo D:\\GitHub\\Proyecto Final\\Proyecto_final_Henry\\Dataset\\green_tripdata_2024-03.parquet\n",
      "El archivo green_tripdata_2024-03.parquet contiene todas las columnas necesarias. Procesando...\n"
     ]
    },
    {
     "name": "stderr",
     "output_type": "stream",
     "text": [
      "Procesando green_tripdata_2024-03.parquet:  50%|█████     | 1/2 [00:06<00:06,  6.24s/chunk]"
     ]
    },
    {
     "name": "stdout",
     "output_type": "stream",
     "text": [
      "Chunk 1/2 del archivo green_tripdata_2024-03.parquet cargado exitosamente.\n"
     ]
    },
    {
     "name": "stderr",
     "output_type": "stream",
     "text": [
      "Procesando green_tripdata_2024-03.parquet: 100%|██████████| 2/2 [00:07<00:00,  3.75s/chunk]\n"
     ]
    },
    {
     "name": "stdout",
     "output_type": "stream",
     "text": [
      "Chunk 2/2 del archivo green_tripdata_2024-03.parquet cargado exitosamente.\n",
      "Datos del archivo green_tripdata_2024-03.parquet cargados exitosamente.\n",
      "Leyendo archivo D:\\GitHub\\Proyecto Final\\Proyecto_final_Henry\\Dataset\\green_tripdata_2024-04.parquet\n",
      "El archivo green_tripdata_2024-04.parquet contiene todas las columnas necesarias. Procesando...\n"
     ]
    },
    {
     "name": "stderr",
     "output_type": "stream",
     "text": [
      "Procesando green_tripdata_2024-04.parquet:  50%|█████     | 1/2 [00:06<00:06,  6.00s/chunk]"
     ]
    },
    {
     "name": "stdout",
     "output_type": "stream",
     "text": [
      "Chunk 1/2 del archivo green_tripdata_2024-04.parquet cargado exitosamente.\n"
     ]
    },
    {
     "name": "stderr",
     "output_type": "stream",
     "text": [
      "Procesando green_tripdata_2024-04.parquet: 100%|██████████| 2/2 [00:07<00:00,  3.60s/chunk]\n"
     ]
    },
    {
     "name": "stdout",
     "output_type": "stream",
     "text": [
      "Chunk 2/2 del archivo green_tripdata_2024-04.parquet cargado exitosamente.\n",
      "Datos del archivo green_tripdata_2024-04.parquet cargados exitosamente.\n",
      "Leyendo archivo D:\\GitHub\\Proyecto Final\\Proyecto_final_Henry\\Dataset\\green_tripdata_2024-05.parquet\n",
      "El archivo green_tripdata_2024-05.parquet contiene todas las columnas necesarias. Procesando...\n"
     ]
    },
    {
     "name": "stderr",
     "output_type": "stream",
     "text": [
      "Procesando green_tripdata_2024-05.parquet:  50%|█████     | 1/2 [00:06<00:06,  6.69s/chunk]"
     ]
    },
    {
     "name": "stdout",
     "output_type": "stream",
     "text": [
      "Chunk 1/2 del archivo green_tripdata_2024-05.parquet cargado exitosamente.\n"
     ]
    },
    {
     "name": "stderr",
     "output_type": "stream",
     "text": [
      "Procesando green_tripdata_2024-05.parquet: 100%|██████████| 2/2 [00:08<00:00,  4.23s/chunk]\n"
     ]
    },
    {
     "name": "stdout",
     "output_type": "stream",
     "text": [
      "Chunk 2/2 del archivo green_tripdata_2024-05.parquet cargado exitosamente.\n",
      "Datos del archivo green_tripdata_2024-05.parquet cargados exitosamente.\n",
      "Leyendo archivo D:\\GitHub\\Proyecto Final\\Proyecto_final_Henry\\Dataset\\green_tripdata_2024-06.parquet\n",
      "El archivo green_tripdata_2024-06.parquet contiene todas las columnas necesarias. Procesando...\n"
     ]
    },
    {
     "name": "stderr",
     "output_type": "stream",
     "text": [
      "Procesando green_tripdata_2024-06.parquet:  50%|█████     | 1/2 [00:05<00:05,  5.92s/chunk]"
     ]
    },
    {
     "name": "stdout",
     "output_type": "stream",
     "text": [
      "Chunk 1/2 del archivo green_tripdata_2024-06.parquet cargado exitosamente.\n"
     ]
    },
    {
     "name": "stderr",
     "output_type": "stream",
     "text": [
      "Procesando green_tripdata_2024-06.parquet: 100%|██████████| 2/2 [00:06<00:00,  3.48s/chunk]\n"
     ]
    },
    {
     "name": "stdout",
     "output_type": "stream",
     "text": [
      "Chunk 2/2 del archivo green_tripdata_2024-06.parquet cargado exitosamente.\n",
      "Datos del archivo green_tripdata_2024-06.parquet cargados exitosamente.\n",
      "Leyendo archivo D:\\GitHub\\Proyecto Final\\Proyecto_final_Henry\\Dataset\\green_tripdata_2024-07.parquet\n",
      "El archivo green_tripdata_2024-07.parquet contiene todas las columnas necesarias. Procesando...\n"
     ]
    },
    {
     "name": "stderr",
     "output_type": "stream",
     "text": [
      "Procesando green_tripdata_2024-07.parquet:  50%|█████     | 1/2 [00:06<00:06,  6.73s/chunk]"
     ]
    },
    {
     "name": "stdout",
     "output_type": "stream",
     "text": [
      "Chunk 1/2 del archivo green_tripdata_2024-07.parquet cargado exitosamente.\n"
     ]
    },
    {
     "name": "stderr",
     "output_type": "stream",
     "text": [
      "Procesando green_tripdata_2024-07.parquet: 100%|██████████| 2/2 [00:07<00:00,  3.92s/chunk]\n"
     ]
    },
    {
     "name": "stdout",
     "output_type": "stream",
     "text": [
      "Chunk 2/2 del archivo green_tripdata_2024-07.parquet cargado exitosamente.\n",
      "Datos del archivo green_tripdata_2024-07.parquet cargados exitosamente.\n",
      "Leyendo archivo D:\\GitHub\\Proyecto Final\\Proyecto_final_Henry\\Dataset\\green_tripdata_2024-08.parquet\n",
      "El archivo green_tripdata_2024-08.parquet contiene todas las columnas necesarias. Procesando...\n"
     ]
    },
    {
     "name": "stderr",
     "output_type": "stream",
     "text": [
      "Procesando green_tripdata_2024-08.parquet:  50%|█████     | 1/2 [00:05<00:05,  5.20s/chunk]"
     ]
    },
    {
     "name": "stdout",
     "output_type": "stream",
     "text": [
      "Chunk 1/2 del archivo green_tripdata_2024-08.parquet cargado exitosamente.\n"
     ]
    },
    {
     "name": "stderr",
     "output_type": "stream",
     "text": [
      "Procesando green_tripdata_2024-08.parquet: 100%|██████████| 2/2 [00:05<00:00,  2.95s/chunk]"
     ]
    },
    {
     "name": "stdout",
     "output_type": "stream",
     "text": [
      "Chunk 2/2 del archivo green_tripdata_2024-08.parquet cargado exitosamente.\n",
      "Datos del archivo green_tripdata_2024-08.parquet cargados exitosamente.\n",
      "Leyendo archivo D:\\GitHub\\Proyecto Final\\Proyecto_final_Henry\\Dataset\\yellow_tripdata_2024-01.parquet\n"
     ]
    },
    {
     "name": "stderr",
     "output_type": "stream",
     "text": [
      "\n"
     ]
    },
    {
     "name": "stdout",
     "output_type": "stream",
     "text": [
      "El archivo yellow_tripdata_2024-01.parquet contiene todas las columnas necesarias. Procesando...\n"
     ]
    },
    {
     "name": "stderr",
     "output_type": "stream",
     "text": [
      "Procesando yellow_tripdata_2024-01.parquet:   2%|▏         | 1/60 [00:06<06:13,  6.33s/chunk]"
     ]
    },
    {
     "name": "stdout",
     "output_type": "stream",
     "text": [
      "Chunk 1/60 del archivo yellow_tripdata_2024-01.parquet cargado exitosamente.\n"
     ]
    },
    {
     "name": "stderr",
     "output_type": "stream",
     "text": [
      "Procesando yellow_tripdata_2024-01.parquet:   3%|▎         | 2/60 [00:11<05:32,  5.72s/chunk]"
     ]
    },
    {
     "name": "stdout",
     "output_type": "stream",
     "text": [
      "Chunk 2/60 del archivo yellow_tripdata_2024-01.parquet cargado exitosamente.\n"
     ]
    },
    {
     "name": "stderr",
     "output_type": "stream",
     "text": [
      "Procesando yellow_tripdata_2024-01.parquet:   5%|▌         | 3/60 [00:16<05:14,  5.51s/chunk]"
     ]
    },
    {
     "name": "stdout",
     "output_type": "stream",
     "text": [
      "Chunk 3/60 del archivo yellow_tripdata_2024-01.parquet cargado exitosamente.\n"
     ]
    },
    {
     "name": "stderr",
     "output_type": "stream",
     "text": [
      "Procesando yellow_tripdata_2024-01.parquet:   7%|▋         | 4/60 [00:22<05:07,  5.48s/chunk]"
     ]
    },
    {
     "name": "stdout",
     "output_type": "stream",
     "text": [
      "Chunk 4/60 del archivo yellow_tripdata_2024-01.parquet cargado exitosamente.\n"
     ]
    },
    {
     "name": "stderr",
     "output_type": "stream",
     "text": [
      "Procesando yellow_tripdata_2024-01.parquet:   8%|▊         | 5/60 [00:27<05:00,  5.46s/chunk]"
     ]
    },
    {
     "name": "stdout",
     "output_type": "stream",
     "text": [
      "Chunk 5/60 del archivo yellow_tripdata_2024-01.parquet cargado exitosamente.\n"
     ]
    },
    {
     "name": "stderr",
     "output_type": "stream",
     "text": [
      "Procesando yellow_tripdata_2024-01.parquet:  10%|█         | 6/60 [00:34<05:16,  5.86s/chunk]"
     ]
    },
    {
     "name": "stdout",
     "output_type": "stream",
     "text": [
      "Chunk 6/60 del archivo yellow_tripdata_2024-01.parquet cargado exitosamente.\n"
     ]
    },
    {
     "name": "stderr",
     "output_type": "stream",
     "text": [
      "Procesando yellow_tripdata_2024-01.parquet:  12%|█▏        | 7/60 [00:39<05:01,  5.70s/chunk]"
     ]
    },
    {
     "name": "stdout",
     "output_type": "stream",
     "text": [
      "Chunk 7/60 del archivo yellow_tripdata_2024-01.parquet cargado exitosamente.\n"
     ]
    },
    {
     "name": "stderr",
     "output_type": "stream",
     "text": [
      "Procesando yellow_tripdata_2024-01.parquet:  13%|█▎        | 8/60 [00:45<04:50,  5.58s/chunk]"
     ]
    },
    {
     "name": "stdout",
     "output_type": "stream",
     "text": [
      "Chunk 8/60 del archivo yellow_tripdata_2024-01.parquet cargado exitosamente.\n"
     ]
    },
    {
     "name": "stderr",
     "output_type": "stream",
     "text": [
      "Procesando yellow_tripdata_2024-01.parquet:  15%|█▌        | 9/60 [00:50<04:41,  5.51s/chunk]"
     ]
    },
    {
     "name": "stdout",
     "output_type": "stream",
     "text": [
      "Chunk 9/60 del archivo yellow_tripdata_2024-01.parquet cargado exitosamente.\n"
     ]
    },
    {
     "name": "stderr",
     "output_type": "stream",
     "text": [
      "Procesando yellow_tripdata_2024-01.parquet:  17%|█▋        | 10/60 [00:58<05:09,  6.18s/chunk]"
     ]
    },
    {
     "name": "stdout",
     "output_type": "stream",
     "text": [
      "Chunk 10/60 del archivo yellow_tripdata_2024-01.parquet cargado exitosamente.\n"
     ]
    },
    {
     "name": "stderr",
     "output_type": "stream",
     "text": [
      "Procesando yellow_tripdata_2024-01.parquet:  18%|█▊        | 11/60 [01:03<04:57,  6.07s/chunk]"
     ]
    },
    {
     "name": "stdout",
     "output_type": "stream",
     "text": [
      "Chunk 11/60 del archivo yellow_tripdata_2024-01.parquet cargado exitosamente.\n"
     ]
    },
    {
     "name": "stderr",
     "output_type": "stream",
     "text": [
      "Procesando yellow_tripdata_2024-01.parquet:  20%|██        | 12/60 [01:09<04:45,  5.94s/chunk]"
     ]
    },
    {
     "name": "stdout",
     "output_type": "stream",
     "text": [
      "Chunk 12/60 del archivo yellow_tripdata_2024-01.parquet cargado exitosamente.\n"
     ]
    },
    {
     "name": "stderr",
     "output_type": "stream",
     "text": [
      "Procesando yellow_tripdata_2024-01.parquet:  22%|██▏       | 13/60 [01:16<04:53,  6.23s/chunk]"
     ]
    },
    {
     "name": "stdout",
     "output_type": "stream",
     "text": [
      "Chunk 13/60 del archivo yellow_tripdata_2024-01.parquet cargado exitosamente.\n"
     ]
    },
    {
     "name": "stderr",
     "output_type": "stream",
     "text": [
      "Procesando yellow_tripdata_2024-01.parquet:  23%|██▎       | 14/60 [01:22<04:37,  6.02s/chunk]"
     ]
    },
    {
     "name": "stdout",
     "output_type": "stream",
     "text": [
      "Chunk 14/60 del archivo yellow_tripdata_2024-01.parquet cargado exitosamente.\n"
     ]
    },
    {
     "name": "stderr",
     "output_type": "stream",
     "text": [
      "Procesando yellow_tripdata_2024-01.parquet:  25%|██▌       | 15/60 [01:27<04:20,  5.79s/chunk]"
     ]
    },
    {
     "name": "stdout",
     "output_type": "stream",
     "text": [
      "Chunk 15/60 del archivo yellow_tripdata_2024-01.parquet cargado exitosamente.\n"
     ]
    },
    {
     "name": "stderr",
     "output_type": "stream",
     "text": [
      "Procesando yellow_tripdata_2024-01.parquet:  27%|██▋       | 16/60 [01:33<04:14,  5.78s/chunk]"
     ]
    },
    {
     "name": "stdout",
     "output_type": "stream",
     "text": [
      "Chunk 16/60 del archivo yellow_tripdata_2024-01.parquet cargado exitosamente.\n"
     ]
    },
    {
     "name": "stderr",
     "output_type": "stream",
     "text": [
      "Procesando yellow_tripdata_2024-01.parquet:  28%|██▊       | 17/60 [01:38<04:03,  5.66s/chunk]"
     ]
    },
    {
     "name": "stdout",
     "output_type": "stream",
     "text": [
      "Chunk 17/60 del archivo yellow_tripdata_2024-01.parquet cargado exitosamente.\n"
     ]
    },
    {
     "name": "stderr",
     "output_type": "stream",
     "text": [
      "Procesando yellow_tripdata_2024-01.parquet:  30%|███       | 18/60 [01:44<04:00,  5.72s/chunk]"
     ]
    },
    {
     "name": "stdout",
     "output_type": "stream",
     "text": [
      "Chunk 18/60 del archivo yellow_tripdata_2024-01.parquet cargado exitosamente.\n"
     ]
    },
    {
     "name": "stderr",
     "output_type": "stream",
     "text": [
      "Procesando yellow_tripdata_2024-01.parquet:  32%|███▏      | 19/60 [01:49<03:52,  5.68s/chunk]"
     ]
    },
    {
     "name": "stdout",
     "output_type": "stream",
     "text": [
      "Chunk 19/60 del archivo yellow_tripdata_2024-01.parquet cargado exitosamente.\n"
     ]
    },
    {
     "name": "stderr",
     "output_type": "stream",
     "text": [
      "Procesando yellow_tripdata_2024-01.parquet:  33%|███▎      | 20/60 [01:55<03:45,  5.63s/chunk]"
     ]
    },
    {
     "name": "stdout",
     "output_type": "stream",
     "text": [
      "Chunk 20/60 del archivo yellow_tripdata_2024-01.parquet cargado exitosamente.\n"
     ]
    },
    {
     "name": "stderr",
     "output_type": "stream",
     "text": [
      "Procesando yellow_tripdata_2024-01.parquet:  35%|███▌      | 21/60 [02:01<03:40,  5.65s/chunk]"
     ]
    },
    {
     "name": "stdout",
     "output_type": "stream",
     "text": [
      "Chunk 21/60 del archivo yellow_tripdata_2024-01.parquet cargado exitosamente.\n"
     ]
    },
    {
     "name": "stderr",
     "output_type": "stream",
     "text": [
      "Procesando yellow_tripdata_2024-01.parquet:  37%|███▋      | 22/60 [02:06<03:35,  5.67s/chunk]"
     ]
    },
    {
     "name": "stdout",
     "output_type": "stream",
     "text": [
      "Chunk 22/60 del archivo yellow_tripdata_2024-01.parquet cargado exitosamente.\n"
     ]
    },
    {
     "name": "stderr",
     "output_type": "stream",
     "text": [
      "Procesando yellow_tripdata_2024-01.parquet:  38%|███▊      | 23/60 [02:12<03:27,  5.61s/chunk]"
     ]
    },
    {
     "name": "stdout",
     "output_type": "stream",
     "text": [
      "Chunk 23/60 del archivo yellow_tripdata_2024-01.parquet cargado exitosamente.\n"
     ]
    },
    {
     "name": "stderr",
     "output_type": "stream",
     "text": [
      "Procesando yellow_tripdata_2024-01.parquet:  40%|████      | 24/60 [02:19<03:38,  6.07s/chunk]"
     ]
    },
    {
     "name": "stdout",
     "output_type": "stream",
     "text": [
      "Chunk 24/60 del archivo yellow_tripdata_2024-01.parquet cargado exitosamente.\n"
     ]
    },
    {
     "name": "stderr",
     "output_type": "stream",
     "text": [
      "Procesando yellow_tripdata_2024-01.parquet:  42%|████▏     | 25/60 [02:25<03:33,  6.10s/chunk]"
     ]
    },
    {
     "name": "stdout",
     "output_type": "stream",
     "text": [
      "Chunk 25/60 del archivo yellow_tripdata_2024-01.parquet cargado exitosamente.\n"
     ]
    },
    {
     "name": "stderr",
     "output_type": "stream",
     "text": [
      "Procesando yellow_tripdata_2024-01.parquet:  43%|████▎     | 26/60 [02:31<03:27,  6.11s/chunk]"
     ]
    },
    {
     "name": "stdout",
     "output_type": "stream",
     "text": [
      "Chunk 26/60 del archivo yellow_tripdata_2024-01.parquet cargado exitosamente.\n"
     ]
    },
    {
     "name": "stderr",
     "output_type": "stream",
     "text": [
      "Procesando yellow_tripdata_2024-01.parquet:  45%|████▌     | 27/60 [02:37<03:20,  6.08s/chunk]"
     ]
    },
    {
     "name": "stdout",
     "output_type": "stream",
     "text": [
      "Chunk 27/60 del archivo yellow_tripdata_2024-01.parquet cargado exitosamente.\n"
     ]
    },
    {
     "name": "stderr",
     "output_type": "stream",
     "text": [
      "Procesando yellow_tripdata_2024-01.parquet:  47%|████▋     | 28/60 [02:44<03:22,  6.33s/chunk]"
     ]
    },
    {
     "name": "stdout",
     "output_type": "stream",
     "text": [
      "Chunk 28/60 del archivo yellow_tripdata_2024-01.parquet cargado exitosamente.\n"
     ]
    },
    {
     "name": "stderr",
     "output_type": "stream",
     "text": [
      "Procesando yellow_tripdata_2024-01.parquet:  48%|████▊     | 29/60 [02:51<03:18,  6.41s/chunk]"
     ]
    },
    {
     "name": "stdout",
     "output_type": "stream",
     "text": [
      "Chunk 29/60 del archivo yellow_tripdata_2024-01.parquet cargado exitosamente.\n"
     ]
    },
    {
     "name": "stderr",
     "output_type": "stream",
     "text": [
      "Procesando yellow_tripdata_2024-01.parquet:  50%|█████     | 30/60 [02:58<03:19,  6.65s/chunk]"
     ]
    },
    {
     "name": "stdout",
     "output_type": "stream",
     "text": [
      "Chunk 30/60 del archivo yellow_tripdata_2024-01.parquet cargado exitosamente.\n"
     ]
    },
    {
     "name": "stderr",
     "output_type": "stream",
     "text": [
      "Procesando yellow_tripdata_2024-01.parquet:  52%|█████▏    | 31/60 [03:04<03:08,  6.49s/chunk]"
     ]
    },
    {
     "name": "stdout",
     "output_type": "stream",
     "text": [
      "Chunk 31/60 del archivo yellow_tripdata_2024-01.parquet cargado exitosamente.\n"
     ]
    },
    {
     "name": "stderr",
     "output_type": "stream",
     "text": [
      "Procesando yellow_tripdata_2024-01.parquet:  53%|█████▎    | 32/60 [03:10<02:53,  6.18s/chunk]"
     ]
    },
    {
     "name": "stdout",
     "output_type": "stream",
     "text": [
      "Chunk 32/60 del archivo yellow_tripdata_2024-01.parquet cargado exitosamente.\n"
     ]
    },
    {
     "name": "stderr",
     "output_type": "stream",
     "text": [
      "Procesando yellow_tripdata_2024-01.parquet:  55%|█████▌    | 33/60 [03:16<02:50,  6.30s/chunk]"
     ]
    },
    {
     "name": "stdout",
     "output_type": "stream",
     "text": [
      "Chunk 33/60 del archivo yellow_tripdata_2024-01.parquet cargado exitosamente.\n"
     ]
    },
    {
     "name": "stderr",
     "output_type": "stream",
     "text": [
      "Procesando yellow_tripdata_2024-01.parquet:  57%|█████▋    | 34/60 [03:22<02:44,  6.32s/chunk]"
     ]
    },
    {
     "name": "stdout",
     "output_type": "stream",
     "text": [
      "Chunk 34/60 del archivo yellow_tripdata_2024-01.parquet cargado exitosamente.\n"
     ]
    },
    {
     "name": "stderr",
     "output_type": "stream",
     "text": [
      "Procesando yellow_tripdata_2024-01.parquet:  58%|█████▊    | 35/60 [03:28<02:32,  6.10s/chunk]"
     ]
    },
    {
     "name": "stdout",
     "output_type": "stream",
     "text": [
      "Chunk 35/60 del archivo yellow_tripdata_2024-01.parquet cargado exitosamente.\n"
     ]
    },
    {
     "name": "stderr",
     "output_type": "stream",
     "text": [
      "Procesando yellow_tripdata_2024-01.parquet:  60%|██████    | 36/60 [03:34<02:26,  6.09s/chunk]"
     ]
    },
    {
     "name": "stdout",
     "output_type": "stream",
     "text": [
      "Chunk 36/60 del archivo yellow_tripdata_2024-01.parquet cargado exitosamente.\n"
     ]
    },
    {
     "name": "stderr",
     "output_type": "stream",
     "text": [
      "Procesando yellow_tripdata_2024-01.parquet:  62%|██████▏   | 37/60 [03:40<02:17,  5.98s/chunk]"
     ]
    },
    {
     "name": "stdout",
     "output_type": "stream",
     "text": [
      "Chunk 37/60 del archivo yellow_tripdata_2024-01.parquet cargado exitosamente.\n"
     ]
    },
    {
     "name": "stderr",
     "output_type": "stream",
     "text": [
      "Procesando yellow_tripdata_2024-01.parquet:  63%|██████▎   | 38/60 [03:46<02:10,  5.93s/chunk]"
     ]
    },
    {
     "name": "stdout",
     "output_type": "stream",
     "text": [
      "Chunk 38/60 del archivo yellow_tripdata_2024-01.parquet cargado exitosamente.\n"
     ]
    },
    {
     "name": "stderr",
     "output_type": "stream",
     "text": [
      "Procesando yellow_tripdata_2024-01.parquet:  65%|██████▌   | 39/60 [03:52<02:05,  5.99s/chunk]"
     ]
    },
    {
     "name": "stdout",
     "output_type": "stream",
     "text": [
      "Chunk 39/60 del archivo yellow_tripdata_2024-01.parquet cargado exitosamente.\n"
     ]
    },
    {
     "name": "stderr",
     "output_type": "stream",
     "text": [
      "Procesando yellow_tripdata_2024-01.parquet:  67%|██████▋   | 40/60 [03:57<01:57,  5.90s/chunk]"
     ]
    },
    {
     "name": "stdout",
     "output_type": "stream",
     "text": [
      "Chunk 40/60 del archivo yellow_tripdata_2024-01.parquet cargado exitosamente.\n"
     ]
    },
    {
     "name": "stderr",
     "output_type": "stream",
     "text": [
      "Procesando yellow_tripdata_2024-01.parquet:  68%|██████▊   | 41/60 [04:03<01:52,  5.92s/chunk]"
     ]
    },
    {
     "name": "stdout",
     "output_type": "stream",
     "text": [
      "Chunk 41/60 del archivo yellow_tripdata_2024-01.parquet cargado exitosamente.\n"
     ]
    },
    {
     "name": "stderr",
     "output_type": "stream",
     "text": [
      "Procesando yellow_tripdata_2024-01.parquet:  70%|███████   | 42/60 [04:09<01:46,  5.90s/chunk]"
     ]
    },
    {
     "name": "stdout",
     "output_type": "stream",
     "text": [
      "Chunk 42/60 del archivo yellow_tripdata_2024-01.parquet cargado exitosamente.\n"
     ]
    },
    {
     "name": "stderr",
     "output_type": "stream",
     "text": [
      "Procesando yellow_tripdata_2024-01.parquet:  72%|███████▏  | 43/60 [04:15<01:40,  5.91s/chunk]"
     ]
    },
    {
     "name": "stdout",
     "output_type": "stream",
     "text": [
      "Chunk 43/60 del archivo yellow_tripdata_2024-01.parquet cargado exitosamente.\n"
     ]
    },
    {
     "name": "stderr",
     "output_type": "stream",
     "text": [
      "Procesando yellow_tripdata_2024-01.parquet:  73%|███████▎  | 44/60 [04:21<01:34,  5.93s/chunk]"
     ]
    },
    {
     "name": "stdout",
     "output_type": "stream",
     "text": [
      "Chunk 44/60 del archivo yellow_tripdata_2024-01.parquet cargado exitosamente.\n"
     ]
    },
    {
     "name": "stderr",
     "output_type": "stream",
     "text": [
      "Procesando yellow_tripdata_2024-01.parquet:  75%|███████▌  | 45/60 [04:27<01:30,  6.02s/chunk]"
     ]
    },
    {
     "name": "stdout",
     "output_type": "stream",
     "text": [
      "Chunk 45/60 del archivo yellow_tripdata_2024-01.parquet cargado exitosamente.\n"
     ]
    },
    {
     "name": "stderr",
     "output_type": "stream",
     "text": [
      "Procesando yellow_tripdata_2024-01.parquet:  77%|███████▋  | 46/60 [04:34<01:28,  6.29s/chunk]"
     ]
    },
    {
     "name": "stdout",
     "output_type": "stream",
     "text": [
      "Chunk 46/60 del archivo yellow_tripdata_2024-01.parquet cargado exitosamente.\n"
     ]
    },
    {
     "name": "stderr",
     "output_type": "stream",
     "text": [
      "Procesando yellow_tripdata_2024-01.parquet:  78%|███████▊  | 47/60 [04:40<01:20,  6.17s/chunk]"
     ]
    },
    {
     "name": "stdout",
     "output_type": "stream",
     "text": [
      "Chunk 47/60 del archivo yellow_tripdata_2024-01.parquet cargado exitosamente.\n"
     ]
    },
    {
     "name": "stderr",
     "output_type": "stream",
     "text": [
      "Procesando yellow_tripdata_2024-01.parquet:  80%|████████  | 48/60 [04:46<01:12,  6.07s/chunk]"
     ]
    },
    {
     "name": "stdout",
     "output_type": "stream",
     "text": [
      "Chunk 48/60 del archivo yellow_tripdata_2024-01.parquet cargado exitosamente.\n"
     ]
    },
    {
     "name": "stderr",
     "output_type": "stream",
     "text": [
      "Procesando yellow_tripdata_2024-01.parquet:  82%|████████▏ | 49/60 [04:53<01:08,  6.26s/chunk]"
     ]
    },
    {
     "name": "stdout",
     "output_type": "stream",
     "text": [
      "Chunk 49/60 del archivo yellow_tripdata_2024-01.parquet cargado exitosamente.\n"
     ]
    },
    {
     "name": "stderr",
     "output_type": "stream",
     "text": [
      "Procesando yellow_tripdata_2024-01.parquet:  83%|████████▎ | 50/60 [04:59<01:02,  6.22s/chunk]"
     ]
    },
    {
     "name": "stdout",
     "output_type": "stream",
     "text": [
      "Chunk 50/60 del archivo yellow_tripdata_2024-01.parquet cargado exitosamente.\n"
     ]
    },
    {
     "name": "stderr",
     "output_type": "stream",
     "text": [
      "Procesando yellow_tripdata_2024-01.parquet:  85%|████████▌ | 51/60 [05:05<00:55,  6.18s/chunk]"
     ]
    },
    {
     "name": "stdout",
     "output_type": "stream",
     "text": [
      "Chunk 51/60 del archivo yellow_tripdata_2024-01.parquet cargado exitosamente.\n"
     ]
    },
    {
     "name": "stderr",
     "output_type": "stream",
     "text": [
      "Procesando yellow_tripdata_2024-01.parquet:  87%|████████▋ | 52/60 [05:11<00:48,  6.11s/chunk]"
     ]
    },
    {
     "name": "stdout",
     "output_type": "stream",
     "text": [
      "Chunk 52/60 del archivo yellow_tripdata_2024-01.parquet cargado exitosamente.\n"
     ]
    },
    {
     "name": "stderr",
     "output_type": "stream",
     "text": [
      "Procesando yellow_tripdata_2024-01.parquet:  88%|████████▊ | 53/60 [05:18<00:43,  6.24s/chunk]"
     ]
    },
    {
     "name": "stdout",
     "output_type": "stream",
     "text": [
      "Chunk 53/60 del archivo yellow_tripdata_2024-01.parquet cargado exitosamente.\n"
     ]
    },
    {
     "name": "stderr",
     "output_type": "stream",
     "text": [
      "Procesando yellow_tripdata_2024-01.parquet:  90%|█████████ | 54/60 [05:24<00:38,  6.38s/chunk]"
     ]
    },
    {
     "name": "stdout",
     "output_type": "stream",
     "text": [
      "Chunk 54/60 del archivo yellow_tripdata_2024-01.parquet cargado exitosamente.\n"
     ]
    },
    {
     "name": "stderr",
     "output_type": "stream",
     "text": [
      "Procesando yellow_tripdata_2024-01.parquet:  92%|█████████▏| 55/60 [05:31<00:31,  6.38s/chunk]"
     ]
    },
    {
     "name": "stdout",
     "output_type": "stream",
     "text": [
      "Chunk 55/60 del archivo yellow_tripdata_2024-01.parquet cargado exitosamente.\n"
     ]
    },
    {
     "name": "stderr",
     "output_type": "stream",
     "text": [
      "Procesando yellow_tripdata_2024-01.parquet:  93%|█████████▎| 56/60 [05:37<00:26,  6.50s/chunk]"
     ]
    },
    {
     "name": "stdout",
     "output_type": "stream",
     "text": [
      "Chunk 56/60 del archivo yellow_tripdata_2024-01.parquet cargado exitosamente.\n"
     ]
    },
    {
     "name": "stderr",
     "output_type": "stream",
     "text": [
      "Procesando yellow_tripdata_2024-01.parquet:  95%|█████████▌| 57/60 [05:44<00:19,  6.45s/chunk]"
     ]
    },
    {
     "name": "stdout",
     "output_type": "stream",
     "text": [
      "Chunk 57/60 del archivo yellow_tripdata_2024-01.parquet cargado exitosamente.\n"
     ]
    },
    {
     "name": "stderr",
     "output_type": "stream",
     "text": [
      "Procesando yellow_tripdata_2024-01.parquet:  97%|█████████▋| 58/60 [05:49<00:12,  6.08s/chunk]"
     ]
    },
    {
     "name": "stdout",
     "output_type": "stream",
     "text": [
      "Chunk 58/60 del archivo yellow_tripdata_2024-01.parquet cargado exitosamente.\n"
     ]
    },
    {
     "name": "stderr",
     "output_type": "stream",
     "text": [
      "Procesando yellow_tripdata_2024-01.parquet:  98%|█████████▊| 59/60 [05:55<00:06,  6.16s/chunk]"
     ]
    },
    {
     "name": "stdout",
     "output_type": "stream",
     "text": [
      "Chunk 59/60 del archivo yellow_tripdata_2024-01.parquet cargado exitosamente.\n"
     ]
    },
    {
     "name": "stderr",
     "output_type": "stream",
     "text": [
      "Procesando yellow_tripdata_2024-01.parquet: 100%|██████████| 60/60 [05:57<00:00,  5.97s/chunk]"
     ]
    },
    {
     "name": "stdout",
     "output_type": "stream",
     "text": [
      "Chunk 60/60 del archivo yellow_tripdata_2024-01.parquet cargado exitosamente.\n",
      "Datos del archivo yellow_tripdata_2024-01.parquet cargados exitosamente.\n",
      "Leyendo archivo D:\\GitHub\\Proyecto Final\\Proyecto_final_Henry\\Dataset\\yellow_tripdata_2024-02.parquet\n"
     ]
    },
    {
     "name": "stderr",
     "output_type": "stream",
     "text": [
      "\n"
     ]
    },
    {
     "name": "stdout",
     "output_type": "stream",
     "text": [
      "El archivo yellow_tripdata_2024-02.parquet contiene todas las columnas necesarias. Procesando...\n"
     ]
    },
    {
     "name": "stderr",
     "output_type": "stream",
     "text": [
      "Procesando yellow_tripdata_2024-02.parquet:   2%|▏         | 1/61 [00:06<06:13,  6.23s/chunk]"
     ]
    },
    {
     "name": "stdout",
     "output_type": "stream",
     "text": [
      "Chunk 1/61 del archivo yellow_tripdata_2024-02.parquet cargado exitosamente.\n"
     ]
    },
    {
     "name": "stderr",
     "output_type": "stream",
     "text": [
      "Procesando yellow_tripdata_2024-02.parquet:   3%|▎         | 2/61 [00:11<05:43,  5.83s/chunk]"
     ]
    },
    {
     "name": "stdout",
     "output_type": "stream",
     "text": [
      "Chunk 2/61 del archivo yellow_tripdata_2024-02.parquet cargado exitosamente.\n"
     ]
    },
    {
     "name": "stderr",
     "output_type": "stream",
     "text": [
      "Procesando yellow_tripdata_2024-02.parquet:   5%|▍         | 3/61 [00:17<05:47,  5.99s/chunk]"
     ]
    },
    {
     "name": "stdout",
     "output_type": "stream",
     "text": [
      "Chunk 3/61 del archivo yellow_tripdata_2024-02.parquet cargado exitosamente.\n"
     ]
    },
    {
     "name": "stderr",
     "output_type": "stream",
     "text": [
      "Procesando yellow_tripdata_2024-02.parquet:   7%|▋         | 4/61 [00:23<05:38,  5.93s/chunk]"
     ]
    },
    {
     "name": "stdout",
     "output_type": "stream",
     "text": [
      "Chunk 4/61 del archivo yellow_tripdata_2024-02.parquet cargado exitosamente.\n"
     ]
    },
    {
     "name": "stderr",
     "output_type": "stream",
     "text": [
      "Procesando yellow_tripdata_2024-02.parquet:   8%|▊         | 5/61 [00:31<06:11,  6.63s/chunk]"
     ]
    },
    {
     "name": "stdout",
     "output_type": "stream",
     "text": [
      "Chunk 5/61 del archivo yellow_tripdata_2024-02.parquet cargado exitosamente.\n"
     ]
    },
    {
     "name": "stderr",
     "output_type": "stream",
     "text": [
      "Procesando yellow_tripdata_2024-02.parquet:  10%|▉         | 6/61 [00:37<05:53,  6.43s/chunk]"
     ]
    },
    {
     "name": "stdout",
     "output_type": "stream",
     "text": [
      "Chunk 6/61 del archivo yellow_tripdata_2024-02.parquet cargado exitosamente.\n"
     ]
    },
    {
     "name": "stderr",
     "output_type": "stream",
     "text": [
      "Procesando yellow_tripdata_2024-02.parquet:  11%|█▏        | 7/61 [00:43<05:40,  6.31s/chunk]"
     ]
    },
    {
     "name": "stdout",
     "output_type": "stream",
     "text": [
      "Chunk 7/61 del archivo yellow_tripdata_2024-02.parquet cargado exitosamente.\n"
     ]
    },
    {
     "name": "stderr",
     "output_type": "stream",
     "text": [
      "Procesando yellow_tripdata_2024-02.parquet:  13%|█▎        | 8/61 [00:50<05:37,  6.36s/chunk]"
     ]
    },
    {
     "name": "stdout",
     "output_type": "stream",
     "text": [
      "Chunk 8/61 del archivo yellow_tripdata_2024-02.parquet cargado exitosamente.\n"
     ]
    },
    {
     "name": "stderr",
     "output_type": "stream",
     "text": [
      "Procesando yellow_tripdata_2024-02.parquet:  15%|█▍        | 9/61 [00:56<05:29,  6.33s/chunk]"
     ]
    },
    {
     "name": "stdout",
     "output_type": "stream",
     "text": [
      "Chunk 9/61 del archivo yellow_tripdata_2024-02.parquet cargado exitosamente.\n"
     ]
    },
    {
     "name": "stderr",
     "output_type": "stream",
     "text": [
      "Procesando yellow_tripdata_2024-02.parquet:  16%|█▋        | 10/61 [01:02<05:16,  6.21s/chunk]"
     ]
    },
    {
     "name": "stdout",
     "output_type": "stream",
     "text": [
      "Chunk 10/61 del archivo yellow_tripdata_2024-02.parquet cargado exitosamente.\n"
     ]
    },
    {
     "name": "stderr",
     "output_type": "stream",
     "text": [
      "Procesando yellow_tripdata_2024-02.parquet:  18%|█▊        | 11/61 [01:08<05:12,  6.25s/chunk]"
     ]
    },
    {
     "name": "stdout",
     "output_type": "stream",
     "text": [
      "Chunk 11/61 del archivo yellow_tripdata_2024-02.parquet cargado exitosamente.\n"
     ]
    },
    {
     "name": "stderr",
     "output_type": "stream",
     "text": [
      "Procesando yellow_tripdata_2024-02.parquet:  20%|█▉        | 12/61 [01:15<05:18,  6.51s/chunk]"
     ]
    },
    {
     "name": "stdout",
     "output_type": "stream",
     "text": [
      "Chunk 12/61 del archivo yellow_tripdata_2024-02.parquet cargado exitosamente.\n"
     ]
    },
    {
     "name": "stderr",
     "output_type": "stream",
     "text": [
      "Procesando yellow_tripdata_2024-02.parquet:  21%|██▏       | 13/61 [01:21<04:58,  6.22s/chunk]"
     ]
    },
    {
     "name": "stdout",
     "output_type": "stream",
     "text": [
      "Chunk 13/61 del archivo yellow_tripdata_2024-02.parquet cargado exitosamente.\n"
     ]
    },
    {
     "name": "stderr",
     "output_type": "stream",
     "text": [
      "Procesando yellow_tripdata_2024-02.parquet:  23%|██▎       | 14/61 [01:27<04:44,  6.05s/chunk]"
     ]
    },
    {
     "name": "stdout",
     "output_type": "stream",
     "text": [
      "Chunk 14/61 del archivo yellow_tripdata_2024-02.parquet cargado exitosamente.\n"
     ]
    },
    {
     "name": "stderr",
     "output_type": "stream",
     "text": [
      "Procesando yellow_tripdata_2024-02.parquet:  25%|██▍       | 15/61 [01:32<04:35,  6.00s/chunk]"
     ]
    },
    {
     "name": "stdout",
     "output_type": "stream",
     "text": [
      "Chunk 15/61 del archivo yellow_tripdata_2024-02.parquet cargado exitosamente.\n"
     ]
    },
    {
     "name": "stderr",
     "output_type": "stream",
     "text": [
      "Procesando yellow_tripdata_2024-02.parquet:  26%|██▌       | 16/61 [01:39<04:34,  6.10s/chunk]"
     ]
    },
    {
     "name": "stdout",
     "output_type": "stream",
     "text": [
      "Chunk 16/61 del archivo yellow_tripdata_2024-02.parquet cargado exitosamente.\n"
     ]
    },
    {
     "name": "stderr",
     "output_type": "stream",
     "text": [
      "Procesando yellow_tripdata_2024-02.parquet:  28%|██▊       | 17/61 [01:45<04:28,  6.10s/chunk]"
     ]
    },
    {
     "name": "stdout",
     "output_type": "stream",
     "text": [
      "Chunk 17/61 del archivo yellow_tripdata_2024-02.parquet cargado exitosamente.\n"
     ]
    },
    {
     "name": "stderr",
     "output_type": "stream",
     "text": [
      "Procesando yellow_tripdata_2024-02.parquet:  30%|██▉       | 18/61 [01:51<04:16,  5.96s/chunk]"
     ]
    },
    {
     "name": "stdout",
     "output_type": "stream",
     "text": [
      "Chunk 18/61 del archivo yellow_tripdata_2024-02.parquet cargado exitosamente.\n"
     ]
    },
    {
     "name": "stderr",
     "output_type": "stream",
     "text": [
      "Procesando yellow_tripdata_2024-02.parquet:  31%|███       | 19/61 [01:56<04:06,  5.87s/chunk]"
     ]
    },
    {
     "name": "stdout",
     "output_type": "stream",
     "text": [
      "Chunk 19/61 del archivo yellow_tripdata_2024-02.parquet cargado exitosamente.\n"
     ]
    },
    {
     "name": "stderr",
     "output_type": "stream",
     "text": [
      "Procesando yellow_tripdata_2024-02.parquet:  33%|███▎      | 20/61 [02:03<04:07,  6.04s/chunk]"
     ]
    },
    {
     "name": "stdout",
     "output_type": "stream",
     "text": [
      "Chunk 20/61 del archivo yellow_tripdata_2024-02.parquet cargado exitosamente.\n"
     ]
    },
    {
     "name": "stderr",
     "output_type": "stream",
     "text": [
      "Procesando yellow_tripdata_2024-02.parquet:  34%|███▍      | 21/61 [02:09<04:02,  6.05s/chunk]"
     ]
    },
    {
     "name": "stdout",
     "output_type": "stream",
     "text": [
      "Chunk 21/61 del archivo yellow_tripdata_2024-02.parquet cargado exitosamente.\n"
     ]
    },
    {
     "name": "stderr",
     "output_type": "stream",
     "text": [
      "Procesando yellow_tripdata_2024-02.parquet:  36%|███▌      | 22/61 [02:16<04:08,  6.36s/chunk]"
     ]
    },
    {
     "name": "stdout",
     "output_type": "stream",
     "text": [
      "Chunk 22/61 del archivo yellow_tripdata_2024-02.parquet cargado exitosamente.\n"
     ]
    },
    {
     "name": "stderr",
     "output_type": "stream",
     "text": [
      "Procesando yellow_tripdata_2024-02.parquet:  38%|███▊      | 23/61 [02:23<04:15,  6.72s/chunk]"
     ]
    },
    {
     "name": "stdout",
     "output_type": "stream",
     "text": [
      "Chunk 23/61 del archivo yellow_tripdata_2024-02.parquet cargado exitosamente.\n"
     ]
    },
    {
     "name": "stderr",
     "output_type": "stream",
     "text": [
      "Procesando yellow_tripdata_2024-02.parquet:  39%|███▉      | 24/61 [02:30<04:10,  6.76s/chunk]"
     ]
    },
    {
     "name": "stdout",
     "output_type": "stream",
     "text": [
      "Chunk 24/61 del archivo yellow_tripdata_2024-02.parquet cargado exitosamente.\n"
     ]
    },
    {
     "name": "stderr",
     "output_type": "stream",
     "text": [
      "Procesando yellow_tripdata_2024-02.parquet:  41%|████      | 25/61 [02:36<03:57,  6.60s/chunk]"
     ]
    },
    {
     "name": "stdout",
     "output_type": "stream",
     "text": [
      "Chunk 25/61 del archivo yellow_tripdata_2024-02.parquet cargado exitosamente.\n"
     ]
    },
    {
     "name": "stderr",
     "output_type": "stream",
     "text": [
      "Procesando yellow_tripdata_2024-02.parquet:  43%|████▎     | 26/61 [02:42<03:41,  6.34s/chunk]"
     ]
    },
    {
     "name": "stdout",
     "output_type": "stream",
     "text": [
      "Chunk 26/61 del archivo yellow_tripdata_2024-02.parquet cargado exitosamente.\n"
     ]
    },
    {
     "name": "stderr",
     "output_type": "stream",
     "text": [
      "Procesando yellow_tripdata_2024-02.parquet:  44%|████▍     | 27/61 [02:48<03:31,  6.23s/chunk]"
     ]
    },
    {
     "name": "stdout",
     "output_type": "stream",
     "text": [
      "Chunk 27/61 del archivo yellow_tripdata_2024-02.parquet cargado exitosamente.\n"
     ]
    },
    {
     "name": "stderr",
     "output_type": "stream",
     "text": [
      "Procesando yellow_tripdata_2024-02.parquet:  46%|████▌     | 28/61 [02:54<03:25,  6.24s/chunk]"
     ]
    },
    {
     "name": "stdout",
     "output_type": "stream",
     "text": [
      "Chunk 28/61 del archivo yellow_tripdata_2024-02.parquet cargado exitosamente.\n"
     ]
    },
    {
     "name": "stderr",
     "output_type": "stream",
     "text": [
      "Procesando yellow_tripdata_2024-02.parquet:  48%|████▊     | 29/61 [03:01<03:18,  6.19s/chunk]"
     ]
    },
    {
     "name": "stdout",
     "output_type": "stream",
     "text": [
      "Chunk 29/61 del archivo yellow_tripdata_2024-02.parquet cargado exitosamente.\n"
     ]
    },
    {
     "name": "stderr",
     "output_type": "stream",
     "text": [
      "Procesando yellow_tripdata_2024-02.parquet:  49%|████▉     | 30/61 [03:07<03:11,  6.18s/chunk]"
     ]
    },
    {
     "name": "stdout",
     "output_type": "stream",
     "text": [
      "Chunk 30/61 del archivo yellow_tripdata_2024-02.parquet cargado exitosamente.\n"
     ]
    },
    {
     "name": "stderr",
     "output_type": "stream",
     "text": [
      "Procesando yellow_tripdata_2024-02.parquet:  51%|█████     | 31/61 [03:13<03:08,  6.27s/chunk]"
     ]
    },
    {
     "name": "stdout",
     "output_type": "stream",
     "text": [
      "Chunk 31/61 del archivo yellow_tripdata_2024-02.parquet cargado exitosamente.\n"
     ]
    },
    {
     "name": "stderr",
     "output_type": "stream",
     "text": [
      "Procesando yellow_tripdata_2024-02.parquet:  52%|█████▏    | 32/61 [03:19<03:00,  6.23s/chunk]"
     ]
    },
    {
     "name": "stdout",
     "output_type": "stream",
     "text": [
      "Chunk 32/61 del archivo yellow_tripdata_2024-02.parquet cargado exitosamente.\n"
     ]
    },
    {
     "name": "stderr",
     "output_type": "stream",
     "text": [
      "Procesando yellow_tripdata_2024-02.parquet:  54%|█████▍    | 33/61 [03:25<02:49,  6.04s/chunk]"
     ]
    },
    {
     "name": "stdout",
     "output_type": "stream",
     "text": [
      "Chunk 33/61 del archivo yellow_tripdata_2024-02.parquet cargado exitosamente.\n"
     ]
    },
    {
     "name": "stderr",
     "output_type": "stream",
     "text": [
      "Procesando yellow_tripdata_2024-02.parquet:  56%|█████▌    | 34/61 [03:31<02:46,  6.17s/chunk]"
     ]
    },
    {
     "name": "stdout",
     "output_type": "stream",
     "text": [
      "Chunk 34/61 del archivo yellow_tripdata_2024-02.parquet cargado exitosamente.\n"
     ]
    },
    {
     "name": "stderr",
     "output_type": "stream",
     "text": [
      "Procesando yellow_tripdata_2024-02.parquet:  57%|█████▋    | 35/61 [03:38<02:47,  6.43s/chunk]"
     ]
    },
    {
     "name": "stdout",
     "output_type": "stream",
     "text": [
      "Chunk 35/61 del archivo yellow_tripdata_2024-02.parquet cargado exitosamente.\n"
     ]
    },
    {
     "name": "stderr",
     "output_type": "stream",
     "text": [
      "Procesando yellow_tripdata_2024-02.parquet:  59%|█████▉    | 36/61 [03:44<02:37,  6.31s/chunk]"
     ]
    },
    {
     "name": "stdout",
     "output_type": "stream",
     "text": [
      "Chunk 36/61 del archivo yellow_tripdata_2024-02.parquet cargado exitosamente.\n"
     ]
    },
    {
     "name": "stderr",
     "output_type": "stream",
     "text": [
      "Procesando yellow_tripdata_2024-02.parquet:  61%|██████    | 37/61 [03:51<02:32,  6.34s/chunk]"
     ]
    },
    {
     "name": "stdout",
     "output_type": "stream",
     "text": [
      "Chunk 37/61 del archivo yellow_tripdata_2024-02.parquet cargado exitosamente.\n"
     ]
    },
    {
     "name": "stderr",
     "output_type": "stream",
     "text": [
      "Procesando yellow_tripdata_2024-02.parquet:  62%|██████▏   | 38/61 [03:57<02:22,  6.18s/chunk]"
     ]
    },
    {
     "name": "stdout",
     "output_type": "stream",
     "text": [
      "Chunk 38/61 del archivo yellow_tripdata_2024-02.parquet cargado exitosamente.\n"
     ]
    },
    {
     "name": "stderr",
     "output_type": "stream",
     "text": [
      "Procesando yellow_tripdata_2024-02.parquet:  64%|██████▍   | 39/61 [04:03<02:17,  6.23s/chunk]"
     ]
    },
    {
     "name": "stdout",
     "output_type": "stream",
     "text": [
      "Chunk 39/61 del archivo yellow_tripdata_2024-02.parquet cargado exitosamente.\n"
     ]
    },
    {
     "name": "stderr",
     "output_type": "stream",
     "text": [
      "Procesando yellow_tripdata_2024-02.parquet:  66%|██████▌   | 40/61 [04:11<02:21,  6.72s/chunk]"
     ]
    },
    {
     "name": "stdout",
     "output_type": "stream",
     "text": [
      "Chunk 40/61 del archivo yellow_tripdata_2024-02.parquet cargado exitosamente.\n"
     ]
    },
    {
     "name": "stderr",
     "output_type": "stream",
     "text": [
      "Procesando yellow_tripdata_2024-02.parquet:  67%|██████▋   | 41/61 [04:17<02:12,  6.63s/chunk]"
     ]
    },
    {
     "name": "stdout",
     "output_type": "stream",
     "text": [
      "Chunk 41/61 del archivo yellow_tripdata_2024-02.parquet cargado exitosamente.\n"
     ]
    },
    {
     "name": "stderr",
     "output_type": "stream",
     "text": [
      "Procesando yellow_tripdata_2024-02.parquet:  69%|██████▉   | 42/61 [04:23<02:00,  6.36s/chunk]"
     ]
    },
    {
     "name": "stdout",
     "output_type": "stream",
     "text": [
      "Chunk 42/61 del archivo yellow_tripdata_2024-02.parquet cargado exitosamente.\n"
     ]
    },
    {
     "name": "stderr",
     "output_type": "stream",
     "text": [
      "Procesando yellow_tripdata_2024-02.parquet:  70%|███████   | 43/61 [04:29<01:50,  6.15s/chunk]"
     ]
    },
    {
     "name": "stdout",
     "output_type": "stream",
     "text": [
      "Chunk 43/61 del archivo yellow_tripdata_2024-02.parquet cargado exitosamente.\n"
     ]
    },
    {
     "name": "stderr",
     "output_type": "stream",
     "text": [
      "Procesando yellow_tripdata_2024-02.parquet:  72%|███████▏  | 44/61 [04:36<01:52,  6.60s/chunk]"
     ]
    },
    {
     "name": "stdout",
     "output_type": "stream",
     "text": [
      "Chunk 44/61 del archivo yellow_tripdata_2024-02.parquet cargado exitosamente.\n"
     ]
    },
    {
     "name": "stderr",
     "output_type": "stream",
     "text": [
      "Procesando yellow_tripdata_2024-02.parquet:  74%|███████▍  | 45/61 [04:42<01:39,  6.21s/chunk]"
     ]
    },
    {
     "name": "stdout",
     "output_type": "stream",
     "text": [
      "Chunk 45/61 del archivo yellow_tripdata_2024-02.parquet cargado exitosamente.\n"
     ]
    },
    {
     "name": "stderr",
     "output_type": "stream",
     "text": [
      "Procesando yellow_tripdata_2024-02.parquet:  75%|███████▌  | 46/61 [04:48<01:31,  6.12s/chunk]"
     ]
    },
    {
     "name": "stdout",
     "output_type": "stream",
     "text": [
      "Chunk 46/61 del archivo yellow_tripdata_2024-02.parquet cargado exitosamente.\n"
     ]
    },
    {
     "name": "stderr",
     "output_type": "stream",
     "text": [
      "Procesando yellow_tripdata_2024-02.parquet:  77%|███████▋  | 47/61 [04:53<01:23,  5.98s/chunk]"
     ]
    },
    {
     "name": "stdout",
     "output_type": "stream",
     "text": [
      "Chunk 47/61 del archivo yellow_tripdata_2024-02.parquet cargado exitosamente.\n"
     ]
    },
    {
     "name": "stderr",
     "output_type": "stream",
     "text": [
      "Procesando yellow_tripdata_2024-02.parquet:  79%|███████▊  | 48/61 [04:59<01:17,  6.00s/chunk]"
     ]
    },
    {
     "name": "stdout",
     "output_type": "stream",
     "text": [
      "Chunk 48/61 del archivo yellow_tripdata_2024-02.parquet cargado exitosamente.\n"
     ]
    },
    {
     "name": "stderr",
     "output_type": "stream",
     "text": [
      "Procesando yellow_tripdata_2024-02.parquet:  80%|████████  | 49/61 [05:05<01:10,  5.88s/chunk]"
     ]
    },
    {
     "name": "stdout",
     "output_type": "stream",
     "text": [
      "Chunk 49/61 del archivo yellow_tripdata_2024-02.parquet cargado exitosamente.\n"
     ]
    },
    {
     "name": "stderr",
     "output_type": "stream",
     "text": [
      "Procesando yellow_tripdata_2024-02.parquet:  82%|████████▏ | 50/61 [05:10<01:03,  5.81s/chunk]"
     ]
    },
    {
     "name": "stdout",
     "output_type": "stream",
     "text": [
      "Chunk 50/61 del archivo yellow_tripdata_2024-02.parquet cargado exitosamente.\n"
     ]
    },
    {
     "name": "stderr",
     "output_type": "stream",
     "text": [
      "Procesando yellow_tripdata_2024-02.parquet:  84%|████████▎ | 51/61 [05:17<01:00,  6.01s/chunk]"
     ]
    },
    {
     "name": "stdout",
     "output_type": "stream",
     "text": [
      "Chunk 51/61 del archivo yellow_tripdata_2024-02.parquet cargado exitosamente.\n"
     ]
    },
    {
     "name": "stderr",
     "output_type": "stream",
     "text": [
      "Procesando yellow_tripdata_2024-02.parquet:  85%|████████▌ | 52/61 [05:22<00:52,  5.85s/chunk]"
     ]
    },
    {
     "name": "stdout",
     "output_type": "stream",
     "text": [
      "Chunk 52/61 del archivo yellow_tripdata_2024-02.parquet cargado exitosamente.\n"
     ]
    },
    {
     "name": "stderr",
     "output_type": "stream",
     "text": [
      "Procesando yellow_tripdata_2024-02.parquet:  87%|████████▋ | 53/61 [05:28<00:46,  5.81s/chunk]"
     ]
    },
    {
     "name": "stdout",
     "output_type": "stream",
     "text": [
      "Chunk 53/61 del archivo yellow_tripdata_2024-02.parquet cargado exitosamente.\n"
     ]
    },
    {
     "name": "stderr",
     "output_type": "stream",
     "text": [
      "Procesando yellow_tripdata_2024-02.parquet:  89%|████████▊ | 54/61 [05:35<00:41,  5.99s/chunk]"
     ]
    },
    {
     "name": "stdout",
     "output_type": "stream",
     "text": [
      "Chunk 54/61 del archivo yellow_tripdata_2024-02.parquet cargado exitosamente.\n"
     ]
    },
    {
     "name": "stderr",
     "output_type": "stream",
     "text": [
      "Procesando yellow_tripdata_2024-02.parquet:  90%|█████████ | 55/61 [05:41<00:36,  6.06s/chunk]"
     ]
    },
    {
     "name": "stdout",
     "output_type": "stream",
     "text": [
      "Chunk 55/61 del archivo yellow_tripdata_2024-02.parquet cargado exitosamente.\n"
     ]
    },
    {
     "name": "stderr",
     "output_type": "stream",
     "text": [
      "Procesando yellow_tripdata_2024-02.parquet:  92%|█████████▏| 56/61 [05:47<00:30,  6.14s/chunk]"
     ]
    },
    {
     "name": "stdout",
     "output_type": "stream",
     "text": [
      "Chunk 56/61 del archivo yellow_tripdata_2024-02.parquet cargado exitosamente.\n"
     ]
    },
    {
     "name": "stderr",
     "output_type": "stream",
     "text": [
      "Procesando yellow_tripdata_2024-02.parquet:  93%|█████████▎| 57/61 [05:54<00:25,  6.40s/chunk]"
     ]
    },
    {
     "name": "stdout",
     "output_type": "stream",
     "text": [
      "Chunk 57/61 del archivo yellow_tripdata_2024-02.parquet cargado exitosamente.\n"
     ]
    },
    {
     "name": "stderr",
     "output_type": "stream",
     "text": [
      "Procesando yellow_tripdata_2024-02.parquet:  95%|█████████▌| 58/61 [06:00<00:19,  6.37s/chunk]"
     ]
    },
    {
     "name": "stdout",
     "output_type": "stream",
     "text": [
      "Chunk 58/61 del archivo yellow_tripdata_2024-02.parquet cargado exitosamente.\n"
     ]
    },
    {
     "name": "stderr",
     "output_type": "stream",
     "text": [
      "Procesando yellow_tripdata_2024-02.parquet:  97%|█████████▋| 59/61 [06:08<00:13,  6.77s/chunk]"
     ]
    },
    {
     "name": "stdout",
     "output_type": "stream",
     "text": [
      "Chunk 59/61 del archivo yellow_tripdata_2024-02.parquet cargado exitosamente.\n"
     ]
    },
    {
     "name": "stderr",
     "output_type": "stream",
     "text": [
      "Procesando yellow_tripdata_2024-02.parquet:  98%|█████████▊| 60/61 [06:14<00:06,  6.52s/chunk]"
     ]
    },
    {
     "name": "stdout",
     "output_type": "stream",
     "text": [
      "Chunk 60/61 del archivo yellow_tripdata_2024-02.parquet cargado exitosamente.\n"
     ]
    },
    {
     "name": "stderr",
     "output_type": "stream",
     "text": [
      "Procesando yellow_tripdata_2024-02.parquet: 100%|██████████| 61/61 [06:16<00:00,  6.16s/chunk]"
     ]
    },
    {
     "name": "stdout",
     "output_type": "stream",
     "text": [
      "Chunk 61/61 del archivo yellow_tripdata_2024-02.parquet cargado exitosamente.\n",
      "Datos del archivo yellow_tripdata_2024-02.parquet cargados exitosamente.\n",
      "Leyendo archivo D:\\GitHub\\Proyecto Final\\Proyecto_final_Henry\\Dataset\\yellow_tripdata_2024-03.parquet\n"
     ]
    },
    {
     "name": "stderr",
     "output_type": "stream",
     "text": [
      "\n"
     ]
    },
    {
     "name": "stdout",
     "output_type": "stream",
     "text": [
      "El archivo yellow_tripdata_2024-03.parquet contiene todas las columnas necesarias. Procesando...\n"
     ]
    },
    {
     "name": "stderr",
     "output_type": "stream",
     "text": [
      "Procesando yellow_tripdata_2024-03.parquet:   1%|▏         | 1/72 [00:06<07:41,  6.51s/chunk]"
     ]
    },
    {
     "name": "stdout",
     "output_type": "stream",
     "text": [
      "Chunk 1/72 del archivo yellow_tripdata_2024-03.parquet cargado exitosamente.\n"
     ]
    },
    {
     "name": "stderr",
     "output_type": "stream",
     "text": [
      "Procesando yellow_tripdata_2024-03.parquet:   3%|▎         | 2/72 [00:13<07:36,  6.52s/chunk]"
     ]
    },
    {
     "name": "stdout",
     "output_type": "stream",
     "text": [
      "Chunk 2/72 del archivo yellow_tripdata_2024-03.parquet cargado exitosamente.\n"
     ]
    },
    {
     "name": "stderr",
     "output_type": "stream",
     "text": [
      "Procesando yellow_tripdata_2024-03.parquet:   4%|▍         | 3/72 [00:19<07:15,  6.31s/chunk]"
     ]
    },
    {
     "name": "stdout",
     "output_type": "stream",
     "text": [
      "Chunk 3/72 del archivo yellow_tripdata_2024-03.parquet cargado exitosamente.\n"
     ]
    },
    {
     "name": "stderr",
     "output_type": "stream",
     "text": [
      "Procesando yellow_tripdata_2024-03.parquet:   6%|▌         | 4/72 [00:25<07:01,  6.20s/chunk]"
     ]
    },
    {
     "name": "stdout",
     "output_type": "stream",
     "text": [
      "Chunk 4/72 del archivo yellow_tripdata_2024-03.parquet cargado exitosamente.\n"
     ]
    },
    {
     "name": "stderr",
     "output_type": "stream",
     "text": [
      "Procesando yellow_tripdata_2024-03.parquet:   7%|▋         | 5/72 [00:31<06:51,  6.15s/chunk]"
     ]
    },
    {
     "name": "stdout",
     "output_type": "stream",
     "text": [
      "Chunk 5/72 del archivo yellow_tripdata_2024-03.parquet cargado exitosamente.\n"
     ]
    },
    {
     "name": "stderr",
     "output_type": "stream",
     "text": [
      "Procesando yellow_tripdata_2024-03.parquet:   8%|▊         | 6/72 [00:38<07:04,  6.43s/chunk]"
     ]
    },
    {
     "name": "stdout",
     "output_type": "stream",
     "text": [
      "Chunk 6/72 del archivo yellow_tripdata_2024-03.parquet cargado exitosamente.\n"
     ]
    },
    {
     "name": "stderr",
     "output_type": "stream",
     "text": [
      "Procesando yellow_tripdata_2024-03.parquet:  10%|▉         | 7/72 [00:45<07:07,  6.58s/chunk]"
     ]
    },
    {
     "name": "stdout",
     "output_type": "stream",
     "text": [
      "Chunk 7/72 del archivo yellow_tripdata_2024-03.parquet cargado exitosamente.\n"
     ]
    },
    {
     "name": "stderr",
     "output_type": "stream",
     "text": [
      "Procesando yellow_tripdata_2024-03.parquet:  11%|█         | 8/72 [00:51<07:02,  6.60s/chunk]"
     ]
    },
    {
     "name": "stdout",
     "output_type": "stream",
     "text": [
      "Chunk 8/72 del archivo yellow_tripdata_2024-03.parquet cargado exitosamente.\n"
     ]
    },
    {
     "name": "stderr",
     "output_type": "stream",
     "text": [
      "Procesando yellow_tripdata_2024-03.parquet:  12%|█▎        | 9/72 [00:58<06:50,  6.52s/chunk]"
     ]
    },
    {
     "name": "stdout",
     "output_type": "stream",
     "text": [
      "Chunk 9/72 del archivo yellow_tripdata_2024-03.parquet cargado exitosamente.\n"
     ]
    },
    {
     "name": "stderr",
     "output_type": "stream",
     "text": [
      "Procesando yellow_tripdata_2024-03.parquet:  14%|█▍        | 10/72 [01:04<06:38,  6.42s/chunk]"
     ]
    },
    {
     "name": "stdout",
     "output_type": "stream",
     "text": [
      "Chunk 10/72 del archivo yellow_tripdata_2024-03.parquet cargado exitosamente.\n"
     ]
    },
    {
     "name": "stderr",
     "output_type": "stream",
     "text": [
      "Procesando yellow_tripdata_2024-03.parquet:  15%|█▌        | 11/72 [01:10<06:20,  6.25s/chunk]"
     ]
    },
    {
     "name": "stdout",
     "output_type": "stream",
     "text": [
      "Chunk 11/72 del archivo yellow_tripdata_2024-03.parquet cargado exitosamente.\n"
     ]
    },
    {
     "name": "stderr",
     "output_type": "stream",
     "text": [
      "Procesando yellow_tripdata_2024-03.parquet:  17%|█▋        | 12/72 [01:16<06:23,  6.40s/chunk]"
     ]
    },
    {
     "name": "stdout",
     "output_type": "stream",
     "text": [
      "Chunk 12/72 del archivo yellow_tripdata_2024-03.parquet cargado exitosamente.\n"
     ]
    },
    {
     "name": "stderr",
     "output_type": "stream",
     "text": [
      "Procesando yellow_tripdata_2024-03.parquet:  18%|█▊        | 13/72 [01:22<06:03,  6.16s/chunk]"
     ]
    },
    {
     "name": "stdout",
     "output_type": "stream",
     "text": [
      "Chunk 13/72 del archivo yellow_tripdata_2024-03.parquet cargado exitosamente.\n"
     ]
    },
    {
     "name": "stderr",
     "output_type": "stream",
     "text": [
      "Procesando yellow_tripdata_2024-03.parquet:  19%|█▉        | 14/72 [01:29<06:05,  6.30s/chunk]"
     ]
    },
    {
     "name": "stdout",
     "output_type": "stream",
     "text": [
      "Chunk 14/72 del archivo yellow_tripdata_2024-03.parquet cargado exitosamente.\n"
     ]
    },
    {
     "name": "stderr",
     "output_type": "stream",
     "text": [
      "Procesando yellow_tripdata_2024-03.parquet:  21%|██        | 15/72 [01:35<06:06,  6.43s/chunk]"
     ]
    },
    {
     "name": "stdout",
     "output_type": "stream",
     "text": [
      "Chunk 15/72 del archivo yellow_tripdata_2024-03.parquet cargado exitosamente.\n"
     ]
    },
    {
     "name": "stderr",
     "output_type": "stream",
     "text": [
      "Procesando yellow_tripdata_2024-03.parquet:  22%|██▏       | 16/72 [01:41<05:55,  6.35s/chunk]"
     ]
    },
    {
     "name": "stdout",
     "output_type": "stream",
     "text": [
      "Chunk 16/72 del archivo yellow_tripdata_2024-03.parquet cargado exitosamente.\n"
     ]
    },
    {
     "name": "stderr",
     "output_type": "stream",
     "text": [
      "Procesando yellow_tripdata_2024-03.parquet:  24%|██▎       | 17/72 [01:48<05:50,  6.38s/chunk]"
     ]
    },
    {
     "name": "stdout",
     "output_type": "stream",
     "text": [
      "Chunk 17/72 del archivo yellow_tripdata_2024-03.parquet cargado exitosamente.\n"
     ]
    },
    {
     "name": "stderr",
     "output_type": "stream",
     "text": [
      "Procesando yellow_tripdata_2024-03.parquet:  25%|██▌       | 18/72 [01:54<05:35,  6.21s/chunk]"
     ]
    },
    {
     "name": "stdout",
     "output_type": "stream",
     "text": [
      "Chunk 18/72 del archivo yellow_tripdata_2024-03.parquet cargado exitosamente.\n"
     ]
    },
    {
     "name": "stderr",
     "output_type": "stream",
     "text": [
      "Procesando yellow_tripdata_2024-03.parquet:  26%|██▋       | 19/72 [02:02<06:00,  6.81s/chunk]"
     ]
    },
    {
     "name": "stdout",
     "output_type": "stream",
     "text": [
      "Chunk 19/72 del archivo yellow_tripdata_2024-03.parquet cargado exitosamente.\n"
     ]
    },
    {
     "name": "stderr",
     "output_type": "stream",
     "text": [
      "Procesando yellow_tripdata_2024-03.parquet:  28%|██▊       | 20/72 [02:10<06:07,  7.07s/chunk]"
     ]
    },
    {
     "name": "stdout",
     "output_type": "stream",
     "text": [
      "Chunk 20/72 del archivo yellow_tripdata_2024-03.parquet cargado exitosamente.\n"
     ]
    },
    {
     "name": "stderr",
     "output_type": "stream",
     "text": [
      "Procesando yellow_tripdata_2024-03.parquet:  29%|██▉       | 21/72 [02:17<05:59,  7.05s/chunk]"
     ]
    },
    {
     "name": "stdout",
     "output_type": "stream",
     "text": [
      "Chunk 21/72 del archivo yellow_tripdata_2024-03.parquet cargado exitosamente.\n"
     ]
    },
    {
     "name": "stderr",
     "output_type": "stream",
     "text": [
      "Procesando yellow_tripdata_2024-03.parquet:  31%|███       | 22/72 [02:23<05:40,  6.81s/chunk]"
     ]
    },
    {
     "name": "stdout",
     "output_type": "stream",
     "text": [
      "Chunk 22/72 del archivo yellow_tripdata_2024-03.parquet cargado exitosamente.\n"
     ]
    },
    {
     "name": "stderr",
     "output_type": "stream",
     "text": [
      "Procesando yellow_tripdata_2024-03.parquet:  32%|███▏      | 23/72 [02:30<05:32,  6.79s/chunk]"
     ]
    },
    {
     "name": "stdout",
     "output_type": "stream",
     "text": [
      "Chunk 23/72 del archivo yellow_tripdata_2024-03.parquet cargado exitosamente.\n"
     ]
    },
    {
     "name": "stderr",
     "output_type": "stream",
     "text": [
      "Procesando yellow_tripdata_2024-03.parquet:  33%|███▎      | 24/72 [02:36<05:18,  6.63s/chunk]"
     ]
    },
    {
     "name": "stdout",
     "output_type": "stream",
     "text": [
      "Chunk 24/72 del archivo yellow_tripdata_2024-03.parquet cargado exitosamente.\n"
     ]
    },
    {
     "name": "stderr",
     "output_type": "stream",
     "text": [
      "Procesando yellow_tripdata_2024-03.parquet:  35%|███▍      | 25/72 [02:43<05:13,  6.66s/chunk]"
     ]
    },
    {
     "name": "stdout",
     "output_type": "stream",
     "text": [
      "Chunk 25/72 del archivo yellow_tripdata_2024-03.parquet cargado exitosamente.\n"
     ]
    },
    {
     "name": "stderr",
     "output_type": "stream",
     "text": [
      "Procesando yellow_tripdata_2024-03.parquet:  36%|███▌      | 26/72 [02:50<05:14,  6.84s/chunk]"
     ]
    },
    {
     "name": "stdout",
     "output_type": "stream",
     "text": [
      "Chunk 26/72 del archivo yellow_tripdata_2024-03.parquet cargado exitosamente.\n"
     ]
    },
    {
     "name": "stderr",
     "output_type": "stream",
     "text": [
      "Procesando yellow_tripdata_2024-03.parquet:  38%|███▊      | 27/72 [02:57<05:07,  6.83s/chunk]"
     ]
    },
    {
     "name": "stdout",
     "output_type": "stream",
     "text": [
      "Chunk 27/72 del archivo yellow_tripdata_2024-03.parquet cargado exitosamente.\n"
     ]
    },
    {
     "name": "stderr",
     "output_type": "stream",
     "text": [
      "Procesando yellow_tripdata_2024-03.parquet:  39%|███▉      | 28/72 [03:03<04:50,  6.61s/chunk]"
     ]
    },
    {
     "name": "stdout",
     "output_type": "stream",
     "text": [
      "Chunk 28/72 del archivo yellow_tripdata_2024-03.parquet cargado exitosamente.\n"
     ]
    },
    {
     "name": "stderr",
     "output_type": "stream",
     "text": [
      "Procesando yellow_tripdata_2024-03.parquet:  40%|████      | 29/72 [03:14<05:43,  7.98s/chunk]"
     ]
    },
    {
     "name": "stdout",
     "output_type": "stream",
     "text": [
      "Chunk 29/72 del archivo yellow_tripdata_2024-03.parquet cargado exitosamente.\n"
     ]
    },
    {
     "name": "stderr",
     "output_type": "stream",
     "text": [
      "Procesando yellow_tripdata_2024-03.parquet:  42%|████▏     | 30/72 [03:21<05:20,  7.62s/chunk]"
     ]
    },
    {
     "name": "stdout",
     "output_type": "stream",
     "text": [
      "Chunk 30/72 del archivo yellow_tripdata_2024-03.parquet cargado exitosamente.\n"
     ]
    },
    {
     "name": "stderr",
     "output_type": "stream",
     "text": [
      "Procesando yellow_tripdata_2024-03.parquet:  43%|████▎     | 31/72 [03:28<05:06,  7.48s/chunk]"
     ]
    },
    {
     "name": "stdout",
     "output_type": "stream",
     "text": [
      "Chunk 31/72 del archivo yellow_tripdata_2024-03.parquet cargado exitosamente.\n"
     ]
    },
    {
     "name": "stderr",
     "output_type": "stream",
     "text": [
      "Procesando yellow_tripdata_2024-03.parquet:  44%|████▍     | 32/72 [03:36<05:04,  7.62s/chunk]"
     ]
    },
    {
     "name": "stdout",
     "output_type": "stream",
     "text": [
      "Chunk 32/72 del archivo yellow_tripdata_2024-03.parquet cargado exitosamente.\n"
     ]
    },
    {
     "name": "stderr",
     "output_type": "stream",
     "text": [
      "Procesando yellow_tripdata_2024-03.parquet:  46%|████▌     | 33/72 [03:44<05:00,  7.70s/chunk]"
     ]
    },
    {
     "name": "stdout",
     "output_type": "stream",
     "text": [
      "Chunk 33/72 del archivo yellow_tripdata_2024-03.parquet cargado exitosamente.\n"
     ]
    },
    {
     "name": "stderr",
     "output_type": "stream",
     "text": [
      "Procesando yellow_tripdata_2024-03.parquet:  47%|████▋     | 34/72 [03:52<04:58,  7.86s/chunk]"
     ]
    },
    {
     "name": "stdout",
     "output_type": "stream",
     "text": [
      "Chunk 34/72 del archivo yellow_tripdata_2024-03.parquet cargado exitosamente.\n"
     ]
    },
    {
     "name": "stderr",
     "output_type": "stream",
     "text": [
      "Procesando yellow_tripdata_2024-03.parquet:  49%|████▊     | 35/72 [03:58<04:30,  7.30s/chunk]"
     ]
    },
    {
     "name": "stdout",
     "output_type": "stream",
     "text": [
      "Chunk 35/72 del archivo yellow_tripdata_2024-03.parquet cargado exitosamente.\n"
     ]
    },
    {
     "name": "stderr",
     "output_type": "stream",
     "text": [
      "Procesando yellow_tripdata_2024-03.parquet:  50%|█████     | 36/72 [04:04<04:12,  7.01s/chunk]"
     ]
    },
    {
     "name": "stdout",
     "output_type": "stream",
     "text": [
      "Chunk 36/72 del archivo yellow_tripdata_2024-03.parquet cargado exitosamente.\n"
     ]
    },
    {
     "name": "stderr",
     "output_type": "stream",
     "text": [
      "Procesando yellow_tripdata_2024-03.parquet:  51%|█████▏    | 37/72 [04:11<04:02,  6.93s/chunk]"
     ]
    },
    {
     "name": "stdout",
     "output_type": "stream",
     "text": [
      "Chunk 37/72 del archivo yellow_tripdata_2024-03.parquet cargado exitosamente.\n"
     ]
    },
    {
     "name": "stderr",
     "output_type": "stream",
     "text": [
      "Procesando yellow_tripdata_2024-03.parquet:  53%|█████▎    | 38/72 [04:18<03:54,  6.90s/chunk]"
     ]
    },
    {
     "name": "stdout",
     "output_type": "stream",
     "text": [
      "Chunk 38/72 del archivo yellow_tripdata_2024-03.parquet cargado exitosamente.\n"
     ]
    },
    {
     "name": "stderr",
     "output_type": "stream",
     "text": [
      "Procesando yellow_tripdata_2024-03.parquet:  54%|█████▍    | 39/72 [04:25<03:48,  6.93s/chunk]"
     ]
    },
    {
     "name": "stdout",
     "output_type": "stream",
     "text": [
      "Chunk 39/72 del archivo yellow_tripdata_2024-03.parquet cargado exitosamente.\n"
     ]
    },
    {
     "name": "stderr",
     "output_type": "stream",
     "text": [
      "Procesando yellow_tripdata_2024-03.parquet:  56%|█████▌    | 40/72 [04:31<03:34,  6.71s/chunk]"
     ]
    },
    {
     "name": "stdout",
     "output_type": "stream",
     "text": [
      "Chunk 40/72 del archivo yellow_tripdata_2024-03.parquet cargado exitosamente.\n"
     ]
    },
    {
     "name": "stderr",
     "output_type": "stream",
     "text": [
      "Procesando yellow_tripdata_2024-03.parquet:  57%|█████▋    | 41/72 [04:38<03:26,  6.67s/chunk]"
     ]
    },
    {
     "name": "stdout",
     "output_type": "stream",
     "text": [
      "Chunk 41/72 del archivo yellow_tripdata_2024-03.parquet cargado exitosamente.\n"
     ]
    },
    {
     "name": "stderr",
     "output_type": "stream",
     "text": [
      "Procesando yellow_tripdata_2024-03.parquet:  58%|█████▊    | 42/72 [04:45<03:27,  6.92s/chunk]"
     ]
    },
    {
     "name": "stdout",
     "output_type": "stream",
     "text": [
      "Chunk 42/72 del archivo yellow_tripdata_2024-03.parquet cargado exitosamente.\n"
     ]
    },
    {
     "name": "stderr",
     "output_type": "stream",
     "text": [
      "Procesando yellow_tripdata_2024-03.parquet:  60%|█████▉    | 43/72 [04:52<03:19,  6.87s/chunk]"
     ]
    },
    {
     "name": "stdout",
     "output_type": "stream",
     "text": [
      "Chunk 43/72 del archivo yellow_tripdata_2024-03.parquet cargado exitosamente.\n"
     ]
    },
    {
     "name": "stderr",
     "output_type": "stream",
     "text": [
      "Procesando yellow_tripdata_2024-03.parquet:  61%|██████    | 44/72 [04:59<03:14,  6.95s/chunk]"
     ]
    },
    {
     "name": "stdout",
     "output_type": "stream",
     "text": [
      "Chunk 44/72 del archivo yellow_tripdata_2024-03.parquet cargado exitosamente.\n"
     ]
    },
    {
     "name": "stderr",
     "output_type": "stream",
     "text": [
      "Procesando yellow_tripdata_2024-03.parquet:  62%|██████▎   | 45/72 [05:06<03:08,  6.99s/chunk]"
     ]
    },
    {
     "name": "stdout",
     "output_type": "stream",
     "text": [
      "Chunk 45/72 del archivo yellow_tripdata_2024-03.parquet cargado exitosamente.\n"
     ]
    },
    {
     "name": "stderr",
     "output_type": "stream",
     "text": [
      "Procesando yellow_tripdata_2024-03.parquet:  64%|██████▍   | 46/72 [05:14<03:09,  7.28s/chunk]"
     ]
    },
    {
     "name": "stdout",
     "output_type": "stream",
     "text": [
      "Chunk 46/72 del archivo yellow_tripdata_2024-03.parquet cargado exitosamente.\n"
     ]
    },
    {
     "name": "stderr",
     "output_type": "stream",
     "text": [
      "Procesando yellow_tripdata_2024-03.parquet:  65%|██████▌   | 47/72 [05:20<02:54,  7.00s/chunk]"
     ]
    },
    {
     "name": "stdout",
     "output_type": "stream",
     "text": [
      "Chunk 47/72 del archivo yellow_tripdata_2024-03.parquet cargado exitosamente.\n"
     ]
    },
    {
     "name": "stderr",
     "output_type": "stream",
     "text": [
      "Procesando yellow_tripdata_2024-03.parquet:  67%|██████▋   | 48/72 [05:27<02:44,  6.84s/chunk]"
     ]
    },
    {
     "name": "stdout",
     "output_type": "stream",
     "text": [
      "Chunk 48/72 del archivo yellow_tripdata_2024-03.parquet cargado exitosamente.\n"
     ]
    },
    {
     "name": "stderr",
     "output_type": "stream",
     "text": [
      "Procesando yellow_tripdata_2024-03.parquet:  68%|██████▊   | 49/72 [05:34<02:37,  6.86s/chunk]"
     ]
    },
    {
     "name": "stdout",
     "output_type": "stream",
     "text": [
      "Chunk 49/72 del archivo yellow_tripdata_2024-03.parquet cargado exitosamente.\n"
     ]
    },
    {
     "name": "stderr",
     "output_type": "stream",
     "text": [
      "Procesando yellow_tripdata_2024-03.parquet:  69%|██████▉   | 50/72 [05:40<02:29,  6.79s/chunk]"
     ]
    },
    {
     "name": "stdout",
     "output_type": "stream",
     "text": [
      "Chunk 50/72 del archivo yellow_tripdata_2024-03.parquet cargado exitosamente.\n"
     ]
    },
    {
     "name": "stderr",
     "output_type": "stream",
     "text": [
      "Procesando yellow_tripdata_2024-03.parquet:  71%|███████   | 51/72 [05:47<02:23,  6.84s/chunk]"
     ]
    },
    {
     "name": "stdout",
     "output_type": "stream",
     "text": [
      "Chunk 51/72 del archivo yellow_tripdata_2024-03.parquet cargado exitosamente.\n"
     ]
    },
    {
     "name": "stderr",
     "output_type": "stream",
     "text": [
      "Procesando yellow_tripdata_2024-03.parquet:  72%|███████▏  | 52/72 [05:54<02:17,  6.89s/chunk]"
     ]
    },
    {
     "name": "stdout",
     "output_type": "stream",
     "text": [
      "Chunk 52/72 del archivo yellow_tripdata_2024-03.parquet cargado exitosamente.\n"
     ]
    },
    {
     "name": "stderr",
     "output_type": "stream",
     "text": [
      "Procesando yellow_tripdata_2024-03.parquet:  74%|███████▎  | 53/72 [06:01<02:06,  6.67s/chunk]"
     ]
    },
    {
     "name": "stdout",
     "output_type": "stream",
     "text": [
      "Chunk 53/72 del archivo yellow_tripdata_2024-03.parquet cargado exitosamente.\n"
     ]
    },
    {
     "name": "stderr",
     "output_type": "stream",
     "text": [
      "Procesando yellow_tripdata_2024-03.parquet:  75%|███████▌  | 54/72 [06:07<01:59,  6.63s/chunk]"
     ]
    },
    {
     "name": "stdout",
     "output_type": "stream",
     "text": [
      "Chunk 54/72 del archivo yellow_tripdata_2024-03.parquet cargado exitosamente.\n"
     ]
    },
    {
     "name": "stderr",
     "output_type": "stream",
     "text": [
      "Procesando yellow_tripdata_2024-03.parquet:  76%|███████▋  | 55/72 [06:14<01:53,  6.69s/chunk]"
     ]
    },
    {
     "name": "stdout",
     "output_type": "stream",
     "text": [
      "Chunk 55/72 del archivo yellow_tripdata_2024-03.parquet cargado exitosamente.\n"
     ]
    },
    {
     "name": "stderr",
     "output_type": "stream",
     "text": [
      "Procesando yellow_tripdata_2024-03.parquet:  78%|███████▊  | 56/72 [06:20<01:45,  6.58s/chunk]"
     ]
    },
    {
     "name": "stdout",
     "output_type": "stream",
     "text": [
      "Chunk 56/72 del archivo yellow_tripdata_2024-03.parquet cargado exitosamente.\n"
     ]
    },
    {
     "name": "stderr",
     "output_type": "stream",
     "text": [
      "Procesando yellow_tripdata_2024-03.parquet:  79%|███████▉  | 57/72 [06:27<01:38,  6.53s/chunk]"
     ]
    },
    {
     "name": "stdout",
     "output_type": "stream",
     "text": [
      "Chunk 57/72 del archivo yellow_tripdata_2024-03.parquet cargado exitosamente.\n"
     ]
    },
    {
     "name": "stderr",
     "output_type": "stream",
     "text": [
      "Procesando yellow_tripdata_2024-03.parquet:  81%|████████  | 58/72 [06:35<01:39,  7.11s/chunk]"
     ]
    },
    {
     "name": "stdout",
     "output_type": "stream",
     "text": [
      "Chunk 58/72 del archivo yellow_tripdata_2024-03.parquet cargado exitosamente.\n"
     ]
    },
    {
     "name": "stderr",
     "output_type": "stream",
     "text": [
      "Procesando yellow_tripdata_2024-03.parquet:  82%|████████▏ | 59/72 [06:41<01:28,  6.78s/chunk]"
     ]
    },
    {
     "name": "stdout",
     "output_type": "stream",
     "text": [
      "Chunk 59/72 del archivo yellow_tripdata_2024-03.parquet cargado exitosamente.\n"
     ]
    },
    {
     "name": "stderr",
     "output_type": "stream",
     "text": [
      "Procesando yellow_tripdata_2024-03.parquet:  83%|████████▎ | 60/72 [06:48<01:20,  6.69s/chunk]"
     ]
    },
    {
     "name": "stdout",
     "output_type": "stream",
     "text": [
      "Chunk 60/72 del archivo yellow_tripdata_2024-03.parquet cargado exitosamente.\n"
     ]
    },
    {
     "name": "stderr",
     "output_type": "stream",
     "text": [
      "Procesando yellow_tripdata_2024-03.parquet:  85%|████████▍ | 61/72 [06:55<01:17,  7.01s/chunk]"
     ]
    },
    {
     "name": "stdout",
     "output_type": "stream",
     "text": [
      "Chunk 61/72 del archivo yellow_tripdata_2024-03.parquet cargado exitosamente.\n"
     ]
    },
    {
     "name": "stderr",
     "output_type": "stream",
     "text": [
      "Procesando yellow_tripdata_2024-03.parquet:  86%|████████▌ | 62/72 [07:02<01:09,  6.95s/chunk]"
     ]
    },
    {
     "name": "stdout",
     "output_type": "stream",
     "text": [
      "Chunk 62/72 del archivo yellow_tripdata_2024-03.parquet cargado exitosamente.\n"
     ]
    },
    {
     "name": "stderr",
     "output_type": "stream",
     "text": [
      "Procesando yellow_tripdata_2024-03.parquet:  88%|████████▊ | 63/72 [07:08<01:00,  6.72s/chunk]"
     ]
    },
    {
     "name": "stdout",
     "output_type": "stream",
     "text": [
      "Chunk 63/72 del archivo yellow_tripdata_2024-03.parquet cargado exitosamente.\n"
     ]
    },
    {
     "name": "stderr",
     "output_type": "stream",
     "text": [
      "Procesando yellow_tripdata_2024-03.parquet:  89%|████████▉ | 64/72 [07:16<00:54,  6.86s/chunk]"
     ]
    },
    {
     "name": "stdout",
     "output_type": "stream",
     "text": [
      "Chunk 64/72 del archivo yellow_tripdata_2024-03.parquet cargado exitosamente.\n"
     ]
    },
    {
     "name": "stderr",
     "output_type": "stream",
     "text": [
      "Procesando yellow_tripdata_2024-03.parquet:  90%|█████████ | 65/72 [07:22<00:47,  6.73s/chunk]"
     ]
    },
    {
     "name": "stdout",
     "output_type": "stream",
     "text": [
      "Chunk 65/72 del archivo yellow_tripdata_2024-03.parquet cargado exitosamente.\n"
     ]
    },
    {
     "name": "stderr",
     "output_type": "stream",
     "text": [
      "Procesando yellow_tripdata_2024-03.parquet:  92%|█████████▏| 66/72 [07:28<00:39,  6.55s/chunk]"
     ]
    },
    {
     "name": "stdout",
     "output_type": "stream",
     "text": [
      "Chunk 66/72 del archivo yellow_tripdata_2024-03.parquet cargado exitosamente.\n"
     ]
    },
    {
     "name": "stderr",
     "output_type": "stream",
     "text": [
      "Procesando yellow_tripdata_2024-03.parquet:  93%|█████████▎| 67/72 [07:35<00:32,  6.53s/chunk]"
     ]
    },
    {
     "name": "stdout",
     "output_type": "stream",
     "text": [
      "Chunk 67/72 del archivo yellow_tripdata_2024-03.parquet cargado exitosamente.\n"
     ]
    },
    {
     "name": "stderr",
     "output_type": "stream",
     "text": [
      "Procesando yellow_tripdata_2024-03.parquet:  94%|█████████▍| 68/72 [07:41<00:25,  6.47s/chunk]"
     ]
    },
    {
     "name": "stdout",
     "output_type": "stream",
     "text": [
      "Chunk 68/72 del archivo yellow_tripdata_2024-03.parquet cargado exitosamente.\n"
     ]
    },
    {
     "name": "stderr",
     "output_type": "stream",
     "text": [
      "Procesando yellow_tripdata_2024-03.parquet:  96%|█████████▌| 69/72 [07:48<00:19,  6.58s/chunk]"
     ]
    },
    {
     "name": "stdout",
     "output_type": "stream",
     "text": [
      "Chunk 69/72 del archivo yellow_tripdata_2024-03.parquet cargado exitosamente.\n"
     ]
    },
    {
     "name": "stderr",
     "output_type": "stream",
     "text": [
      "Procesando yellow_tripdata_2024-03.parquet:  97%|█████████▋| 70/72 [07:54<00:13,  6.61s/chunk]"
     ]
    },
    {
     "name": "stdout",
     "output_type": "stream",
     "text": [
      "Chunk 70/72 del archivo yellow_tripdata_2024-03.parquet cargado exitosamente.\n"
     ]
    },
    {
     "name": "stderr",
     "output_type": "stream",
     "text": [
      "Procesando yellow_tripdata_2024-03.parquet:  99%|█████████▊| 71/72 [08:02<00:07,  7.05s/chunk]"
     ]
    },
    {
     "name": "stdout",
     "output_type": "stream",
     "text": [
      "Chunk 71/72 del archivo yellow_tripdata_2024-03.parquet cargado exitosamente.\n"
     ]
    },
    {
     "name": "stderr",
     "output_type": "stream",
     "text": [
      "Procesando yellow_tripdata_2024-03.parquet: 100%|██████████| 72/72 [08:07<00:00,  6.78s/chunk]"
     ]
    },
    {
     "name": "stdout",
     "output_type": "stream",
     "text": [
      "Chunk 72/72 del archivo yellow_tripdata_2024-03.parquet cargado exitosamente.\n",
      "Datos del archivo yellow_tripdata_2024-03.parquet cargados exitosamente.\n",
      "Leyendo archivo D:\\GitHub\\Proyecto Final\\Proyecto_final_Henry\\Dataset\\yellow_tripdata_2024-04.parquet\n"
     ]
    },
    {
     "name": "stderr",
     "output_type": "stream",
     "text": [
      "\n"
     ]
    },
    {
     "name": "stdout",
     "output_type": "stream",
     "text": [
      "El archivo yellow_tripdata_2024-04.parquet contiene todas las columnas necesarias. Procesando...\n"
     ]
    },
    {
     "name": "stderr",
     "output_type": "stream",
     "text": [
      "Procesando yellow_tripdata_2024-04.parquet:   1%|▏         | 1/71 [00:07<09:06,  7.80s/chunk]"
     ]
    },
    {
     "name": "stdout",
     "output_type": "stream",
     "text": [
      "Chunk 1/71 del archivo yellow_tripdata_2024-04.parquet cargado exitosamente.\n"
     ]
    },
    {
     "name": "stderr",
     "output_type": "stream",
     "text": [
      "Procesando yellow_tripdata_2024-04.parquet:   3%|▎         | 2/71 [00:13<07:40,  6.67s/chunk]"
     ]
    },
    {
     "name": "stdout",
     "output_type": "stream",
     "text": [
      "Chunk 2/71 del archivo yellow_tripdata_2024-04.parquet cargado exitosamente.\n"
     ]
    },
    {
     "name": "stderr",
     "output_type": "stream",
     "text": [
      "Procesando yellow_tripdata_2024-04.parquet:   4%|▍         | 3/71 [00:19<07:13,  6.38s/chunk]"
     ]
    },
    {
     "name": "stdout",
     "output_type": "stream",
     "text": [
      "Chunk 3/71 del archivo yellow_tripdata_2024-04.parquet cargado exitosamente.\n"
     ]
    },
    {
     "name": "stderr",
     "output_type": "stream",
     "text": [
      "Procesando yellow_tripdata_2024-04.parquet:   6%|▌         | 4/71 [00:27<07:41,  6.89s/chunk]"
     ]
    },
    {
     "name": "stdout",
     "output_type": "stream",
     "text": [
      "Chunk 4/71 del archivo yellow_tripdata_2024-04.parquet cargado exitosamente.\n"
     ]
    },
    {
     "name": "stderr",
     "output_type": "stream",
     "text": [
      "Procesando yellow_tripdata_2024-04.parquet:   7%|▋         | 5/71 [00:35<07:53,  7.17s/chunk]"
     ]
    },
    {
     "name": "stdout",
     "output_type": "stream",
     "text": [
      "Chunk 5/71 del archivo yellow_tripdata_2024-04.parquet cargado exitosamente.\n"
     ]
    },
    {
     "name": "stderr",
     "output_type": "stream",
     "text": [
      "Procesando yellow_tripdata_2024-04.parquet:   8%|▊         | 6/71 [00:41<07:24,  6.84s/chunk]"
     ]
    },
    {
     "name": "stdout",
     "output_type": "stream",
     "text": [
      "Chunk 6/71 del archivo yellow_tripdata_2024-04.parquet cargado exitosamente.\n"
     ]
    },
    {
     "name": "stderr",
     "output_type": "stream",
     "text": [
      "Procesando yellow_tripdata_2024-04.parquet:  10%|▉         | 7/71 [00:47<07:15,  6.80s/chunk]"
     ]
    },
    {
     "name": "stdout",
     "output_type": "stream",
     "text": [
      "Chunk 7/71 del archivo yellow_tripdata_2024-04.parquet cargado exitosamente.\n"
     ]
    },
    {
     "name": "stderr",
     "output_type": "stream",
     "text": [
      "Procesando yellow_tripdata_2024-04.parquet:  11%|█▏        | 8/71 [00:54<07:07,  6.79s/chunk]"
     ]
    },
    {
     "name": "stdout",
     "output_type": "stream",
     "text": [
      "Chunk 8/71 del archivo yellow_tripdata_2024-04.parquet cargado exitosamente.\n"
     ]
    },
    {
     "name": "stderr",
     "output_type": "stream",
     "text": [
      "Procesando yellow_tripdata_2024-04.parquet:  13%|█▎        | 9/71 [01:00<06:38,  6.43s/chunk]"
     ]
    },
    {
     "name": "stdout",
     "output_type": "stream",
     "text": [
      "Chunk 9/71 del archivo yellow_tripdata_2024-04.parquet cargado exitosamente.\n"
     ]
    },
    {
     "name": "stderr",
     "output_type": "stream",
     "text": [
      "Procesando yellow_tripdata_2024-04.parquet:  14%|█▍        | 10/71 [01:06<06:28,  6.36s/chunk]"
     ]
    },
    {
     "name": "stdout",
     "output_type": "stream",
     "text": [
      "Chunk 10/71 del archivo yellow_tripdata_2024-04.parquet cargado exitosamente.\n"
     ]
    },
    {
     "name": "stderr",
     "output_type": "stream",
     "text": [
      "Procesando yellow_tripdata_2024-04.parquet:  15%|█▌        | 11/71 [01:12<06:08,  6.14s/chunk]"
     ]
    },
    {
     "name": "stdout",
     "output_type": "stream",
     "text": [
      "Chunk 11/71 del archivo yellow_tripdata_2024-04.parquet cargado exitosamente.\n"
     ]
    },
    {
     "name": "stderr",
     "output_type": "stream",
     "text": [
      "Procesando yellow_tripdata_2024-04.parquet:  17%|█▋        | 12/71 [01:18<06:05,  6.19s/chunk]"
     ]
    },
    {
     "name": "stdout",
     "output_type": "stream",
     "text": [
      "Chunk 12/71 del archivo yellow_tripdata_2024-04.parquet cargado exitosamente.\n"
     ]
    },
    {
     "name": "stderr",
     "output_type": "stream",
     "text": [
      "Procesando yellow_tripdata_2024-04.parquet:  18%|█▊        | 13/71 [01:24<05:57,  6.17s/chunk]"
     ]
    },
    {
     "name": "stdout",
     "output_type": "stream",
     "text": [
      "Chunk 13/71 del archivo yellow_tripdata_2024-04.parquet cargado exitosamente.\n"
     ]
    },
    {
     "name": "stderr",
     "output_type": "stream",
     "text": [
      "Procesando yellow_tripdata_2024-04.parquet:  20%|█▉        | 14/71 [01:31<06:08,  6.46s/chunk]"
     ]
    },
    {
     "name": "stdout",
     "output_type": "stream",
     "text": [
      "Chunk 14/71 del archivo yellow_tripdata_2024-04.parquet cargado exitosamente.\n"
     ]
    },
    {
     "name": "stderr",
     "output_type": "stream",
     "text": [
      "Procesando yellow_tripdata_2024-04.parquet:  21%|██        | 15/71 [01:37<05:57,  6.38s/chunk]"
     ]
    },
    {
     "name": "stdout",
     "output_type": "stream",
     "text": [
      "Chunk 15/71 del archivo yellow_tripdata_2024-04.parquet cargado exitosamente.\n"
     ]
    },
    {
     "name": "stderr",
     "output_type": "stream",
     "text": [
      "Procesando yellow_tripdata_2024-04.parquet:  23%|██▎       | 16/71 [01:44<05:55,  6.46s/chunk]"
     ]
    },
    {
     "name": "stdout",
     "output_type": "stream",
     "text": [
      "Chunk 16/71 del archivo yellow_tripdata_2024-04.parquet cargado exitosamente.\n"
     ]
    },
    {
     "name": "stderr",
     "output_type": "stream",
     "text": [
      "Procesando yellow_tripdata_2024-04.parquet:  24%|██▍       | 17/71 [01:50<05:36,  6.23s/chunk]"
     ]
    },
    {
     "name": "stdout",
     "output_type": "stream",
     "text": [
      "Chunk 17/71 del archivo yellow_tripdata_2024-04.parquet cargado exitosamente.\n"
     ]
    },
    {
     "name": "stderr",
     "output_type": "stream",
     "text": [
      "Procesando yellow_tripdata_2024-04.parquet:  25%|██▌       | 18/71 [01:56<05:24,  6.12s/chunk]"
     ]
    },
    {
     "name": "stdout",
     "output_type": "stream",
     "text": [
      "Chunk 18/71 del archivo yellow_tripdata_2024-04.parquet cargado exitosamente.\n"
     ]
    },
    {
     "name": "stderr",
     "output_type": "stream",
     "text": [
      "Procesando yellow_tripdata_2024-04.parquet:  27%|██▋       | 19/71 [02:01<05:11,  6.00s/chunk]"
     ]
    },
    {
     "name": "stdout",
     "output_type": "stream",
     "text": [
      "Chunk 19/71 del archivo yellow_tripdata_2024-04.parquet cargado exitosamente.\n"
     ]
    },
    {
     "name": "stderr",
     "output_type": "stream",
     "text": [
      "Procesando yellow_tripdata_2024-04.parquet:  28%|██▊       | 20/71 [02:08<05:11,  6.11s/chunk]"
     ]
    },
    {
     "name": "stdout",
     "output_type": "stream",
     "text": [
      "Chunk 20/71 del archivo yellow_tripdata_2024-04.parquet cargado exitosamente.\n"
     ]
    },
    {
     "name": "stderr",
     "output_type": "stream",
     "text": [
      "Procesando yellow_tripdata_2024-04.parquet:  30%|██▉       | 21/71 [02:16<05:43,  6.86s/chunk]"
     ]
    },
    {
     "name": "stdout",
     "output_type": "stream",
     "text": [
      "Chunk 21/71 del archivo yellow_tripdata_2024-04.parquet cargado exitosamente.\n"
     ]
    }
   ],
   "source": [
    "import pandas as pd\n",
    "import sqlalchemy\n",
    "import os\n",
    "from tqdm import tqdm\n",
    "from dotenv import load_dotenv\n",
    "\n",
    "# Cargar las variables de entorno desde el archivo .env\n",
    "load_dotenv()\n",
    "\n",
    "# Obtener las credenciales de la base de datos desde las variables de entorno\n",
    "db_user = os.getenv('DB_USER')\n",
    "db_password = os.getenv('DB_PASSWORD')\n",
    "db_host = os.getenv('DB_HOST')\n",
    "db_port = os.getenv('DB_PORT')\n",
    "db_name = os.getenv('DB_NAME')\n",
    "\n",
    "# Conectar a MySQL utilizando las credenciales del archivo .env\n",
    "try:\n",
    "    engine = sqlalchemy.create_engine(f'mysql+pymysql://{db_user}:{db_password}@{db_host}:{db_port}/{db_name}')\n",
    "    connection = engine.connect()\n",
    "    print(\"Conexión a la base de datos establecida con éxito.\")\n",
    "except Exception as e:\n",
    "    print(f\"Error al conectar a la base de datos: {e}\")\n",
    "    raise\n",
    "\n",
    "# Ruta de la carpeta con los archivos\n",
    "folder_path = 'D:\\\\GitHub\\\\Proyecto Final\\\\Proyecto_final_Henry\\\\Dataset'\n",
    "\n",
    "# Columnas a mantener para green_tripdata\n",
    "columns_to_keep_green = ['lpep_pickup_datetime', 'lpep_dropoff_datetime', 'PULocationID', 'DOLocationID', 'trip_distance', 'total_amount']\n",
    "# Columnas a mantener para yellow_tripdata\n",
    "columns_to_keep_yellow = ['tpep_pickup_datetime', 'tpep_dropoff_datetime', 'PULocationID', 'DOLocationID', 'trip_distance', 'total_amount']\n",
    "# Columnas a mantener para fhv_tripdata\n",
    "columns_to_keep_fhv = ['pickup_datetime', 'dropOff_datetime', 'PUlocationID', 'DOlocationID', 'Affiliated_base_number']\n",
    "\n",
    "# Leer todos los archivos en la carpeta y estandarizar las columnas\n",
    "for filename in os.listdir(folder_path):\n",
    "    if filename.endswith('.parquet'):\n",
    "        file_path = os.path.join(folder_path, filename)\n",
    "        \n",
    "        try:\n",
    "            # Leer archivo .parquet\n",
    "            print(f\"Leyendo archivo {file_path}\")\n",
    "            df = pd.read_parquet(file_path)\n",
    "            \n",
    "            # Verificar si es green_tripdata, yellow_tripdata o fhv_tripdata\n",
    "            if 'green' in filename.lower():\n",
    "                columns_to_keep = columns_to_keep_green\n",
    "                source_value = 'green_tripdata'\n",
    "            elif 'yellow' in filename.lower():\n",
    "                columns_to_keep = columns_to_keep_yellow\n",
    "                source_value = 'yellow_tripdata'\n",
    "            elif 'fhv' in filename.lower():\n",
    "                columns_to_keep = columns_to_keep_fhv\n",
    "                source_value = 'fhv_tripdata'\n",
    "            else:\n",
    "                print(f\"El archivo {filename} no es ni 'green', 'yellow' ni 'fhv'. Saltando.\")\n",
    "                continue\n",
    "            \n",
    "            # Verificar si el archivo contiene todas las columnas necesarias\n",
    "            if all(column in df.columns for column in columns_to_keep):\n",
    "                print(f\"El archivo {filename} contiene todas las columnas necesarias. Procesando...\")\n",
    "                \n",
    "                # Seleccionar columnas necesarias\n",
    "                df = df[columns_to_keep]\n",
    "                \n",
    "                # Renombrar columnas según sea necesario\n",
    "                if 'yellow' in filename.lower():\n",
    "                    df.rename(columns={\n",
    "                        'tpep_pickup_datetime': 'Pickup_datetime',\n",
    "                        'tpep_dropoff_datetime': 'DropOff_datetime',\n",
    "                        'trip_distance': 'trip_miles',\n",
    "                        'total_amount': 'driver_pay'\n",
    "                    }, inplace=True)\n",
    "                elif 'green' in filename.lower():\n",
    "                    df.rename(columns={\n",
    "                        'lpep_pickup_datetime': 'Pickup_datetime',\n",
    "                        'lpep_dropoff_datetime': 'DropOff_datetime',\n",
    "                        'trip_distance': 'trip_miles',\n",
    "                        'total_amount': 'driver_pay'\n",
    "                    }, inplace=True)\n",
    "                elif 'fhv' in filename.lower():\n",
    "                    df.rename(columns={\n",
    "                        'pickup_datetime': 'Pickup_datetime',\n",
    "                        'dropOff_datetime': 'DropOff_datetime',\n",
    "                        'PUlocationID': 'PULocationID',\n",
    "                        'DOlocationID': 'DOLocationID'\n",
    "                    }, inplace=True)\n",
    "                    df['trip_miles'] = 0.0  # Agregar columna trip_miles con valores por defecto\n",
    "                    df['driver_pay'] = 0.0  # Agregar columna driver_pay con valores por defecto\n",
    "                \n",
    "                # Añadir la columna 'source'\n",
    "                df['source'] = source_value\n",
    "                \n",
    "                # Calcular trip_time como la diferencia entre DropOff_datetime y Pickup_datetime\n",
    "                df['Pickup_datetime'] = pd.to_datetime(df['Pickup_datetime'])\n",
    "                df['DropOff_datetime'] = pd.to_datetime(df['DropOff_datetime'])\n",
    "                df['trip_time'] = (df['DropOff_datetime'] - df['Pickup_datetime']).dt.total_seconds()\n",
    "                \n",
    "                # Dividir el DataFrame en bloques de 5,000 filas\n",
    "                chunk_size = 50000  # Reducir el tamaño del chunk a 5,000 filas\n",
    "                num_chunks = len(df) // chunk_size + 1\n",
    "                \n",
    "                for i in tqdm(range(num_chunks), desc=f\"Procesando {filename}\", unit=\"chunk\"):\n",
    "                    chunk = df[i * chunk_size:(i + 1) * chunk_size]\n",
    "                    try:\n",
    "                        chunk.to_sql(name='taxi_fhv_data', con=engine, if_exists='append', index=False)\n",
    "                        print(f\"Chunk {i+1}/{num_chunks} del archivo {filename} cargado exitosamente.\")\n",
    "                    except sqlalchemy.exc.OperationalError as e:\n",
    "                        print(f\"Error al cargar chunk {i+1}: {e}. Intentando reconectar...\")\n",
    "                        connection = engine.connect()\n",
    "                        chunk.to_sql(name='taxi_fhv_data', con=connection, if_exists='append', index=False)\n",
    "                        print(f\"Chunk {i+1} del archivo {filename} cargado exitosamente tras reconexión.\")\n",
    "                \n",
    "                print(f\"Datos del archivo {filename} cargados exitosamente.\")\n",
    "            else:\n",
    "                print(f\"El archivo {filename} no contiene todas las columnas necesarias. Saltando.\")\n",
    "        \n",
    "        except FileNotFoundError:\n",
    "            print(f\"Archivo {file_path} no encontrado. Saltando.\")\n",
    "        except KeyError as e:\n",
    "            print(f\"Error de columna en {file_path}: {e}. Saltando.\")\n",
    "        except Exception as e:\n",
    "            print(f\"Error al procesar el archivo {filename}: {e}\")\n",
    "\n",
    "# Ahora, inspecciona el archivo específico fhv_tripdata_2024-01.parquet\n",
    "file_to_inspect = 'fhv_tripdata_2024-01.parquet'\n",
    "file_path = os.path.join(folder_path, file_to_inspect)\n",
    "\n",
    "try:\n",
    "    # Leer archivo .parquet\n",
    "    df = pd.read_parquet(file_path)\n",
    "    \n",
    "    # Mostrar las columnas del archivo\n",
    "    print(f\"Columnas del archivo {file_to_inspect}:\")\n",
    "    print(df.columns.tolist())\n",
    "    \n",
    "except Exception as e:\n",
    "    print(f\"Error al leer {file_path}: {e}\")\n",
    "\n",
    "print(\"Proceso de estandarización y carga completo.\")\n"
   ]
  }
 ],
 "metadata": {
  "kernelspec": {
   "display_name": "Python 3",
   "language": "python",
   "name": "python3"
  },
  "language_info": {
   "codemirror_mode": {
    "name": "ipython",
    "version": 3
   },
   "file_extension": ".py",
   "mimetype": "text/x-python",
   "name": "python",
   "nbconvert_exporter": "python",
   "pygments_lexer": "ipython3",
   "version": "3.12.7"
  }
 },
 "nbformat": 4,
 "nbformat_minor": 2
}
