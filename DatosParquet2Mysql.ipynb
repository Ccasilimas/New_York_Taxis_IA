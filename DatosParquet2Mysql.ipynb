{
 "cells": [
  {
   "cell_type": "markdown",
   "metadata": {},
   "source": []
  },
  {
   "cell_type": "code",
   "execution_count": null,
   "metadata": {},
   "outputs": [
    {
     "name": "stdout",
     "output_type": "stream",
     "text": [
      "Conexión a la base de datos establecida con éxito.\n",
      "\n",
      "Leyendo archivo D:\\GitHub\\Proyecto Final\\Proyecto_final_Henry\\Dataset\\green_tripdata_2024-01.parquet\n",
      "El archivo green_tripdata_2024-01.parquet contiene todas las columnas necesarias. Procesando...\n"
     ]
    },
    {
     "name": "stderr",
     "output_type": "stream",
     "text": [
      "Procesando green_tripdata_2024-01.parquet: 100%|██████████| 1/1 [00:13<00:00, 13.46s/chunk]\n"
     ]
    },
    {
     "name": "stdout",
     "output_type": "stream",
     "text": [
      "Chunk 1/1 del archivo green_tripdata_2024-01.parquet cargado exitosamente.\n",
      "Datos del archivo green_tripdata_2024-01.parquet cargados exitosamente.\n",
      "\n",
      "Leyendo archivo D:\\GitHub\\Proyecto Final\\Proyecto_final_Henry\\Dataset\\green_tripdata_2024-02.parquet\n",
      "El archivo green_tripdata_2024-02.parquet contiene todas las columnas necesarias. Procesando...\n"
     ]
    },
    {
     "name": "stderr",
     "output_type": "stream",
     "text": [
      "Procesando green_tripdata_2024-02.parquet: 100%|██████████| 1/1 [00:07<00:00,  7.83s/chunk]\n"
     ]
    },
    {
     "name": "stdout",
     "output_type": "stream",
     "text": [
      "Chunk 1/1 del archivo green_tripdata_2024-02.parquet cargado exitosamente.\n",
      "Datos del archivo green_tripdata_2024-02.parquet cargados exitosamente.\n",
      "\n",
      "Leyendo archivo D:\\GitHub\\Proyecto Final\\Proyecto_final_Henry\\Dataset\\green_tripdata_2024-03.parquet\n",
      "El archivo green_tripdata_2024-03.parquet contiene todas las columnas necesarias. Procesando...\n"
     ]
    },
    {
     "name": "stderr",
     "output_type": "stream",
     "text": [
      "Procesando green_tripdata_2024-03.parquet: 100%|██████████| 1/1 [00:07<00:00,  7.68s/chunk]\n"
     ]
    },
    {
     "name": "stdout",
     "output_type": "stream",
     "text": [
      "Chunk 1/1 del archivo green_tripdata_2024-03.parquet cargado exitosamente.\n",
      "Datos del archivo green_tripdata_2024-03.parquet cargados exitosamente.\n",
      "\n",
      "Leyendo archivo D:\\GitHub\\Proyecto Final\\Proyecto_final_Henry\\Dataset\\green_tripdata_2024-04.parquet\n",
      "El archivo green_tripdata_2024-04.parquet contiene todas las columnas necesarias. Procesando...\n"
     ]
    },
    {
     "name": "stderr",
     "output_type": "stream",
     "text": [
      "Procesando green_tripdata_2024-04.parquet: 100%|██████████| 1/1 [00:07<00:00,  7.32s/chunk]\n"
     ]
    },
    {
     "name": "stdout",
     "output_type": "stream",
     "text": [
      "Chunk 1/1 del archivo green_tripdata_2024-04.parquet cargado exitosamente.\n",
      "Datos del archivo green_tripdata_2024-04.parquet cargados exitosamente.\n",
      "\n",
      "Leyendo archivo D:\\GitHub\\Proyecto Final\\Proyecto_final_Henry\\Dataset\\green_tripdata_2024-05.parquet\n",
      "El archivo green_tripdata_2024-05.parquet contiene todas las columnas necesarias. Procesando...\n"
     ]
    },
    {
     "name": "stderr",
     "output_type": "stream",
     "text": [
      "Procesando green_tripdata_2024-05.parquet: 100%|██████████| 1/1 [00:08<00:00,  8.47s/chunk]\n"
     ]
    },
    {
     "name": "stdout",
     "output_type": "stream",
     "text": [
      "Chunk 1/1 del archivo green_tripdata_2024-05.parquet cargado exitosamente.\n",
      "Datos del archivo green_tripdata_2024-05.parquet cargados exitosamente.\n",
      "\n",
      "Leyendo archivo D:\\GitHub\\Proyecto Final\\Proyecto_final_Henry\\Dataset\\green_tripdata_2024-06.parquet\n",
      "El archivo green_tripdata_2024-06.parquet contiene todas las columnas necesarias. Procesando...\n"
     ]
    },
    {
     "name": "stderr",
     "output_type": "stream",
     "text": [
      "Procesando green_tripdata_2024-06.parquet: 100%|██████████| 1/1 [00:07<00:00,  7.03s/chunk]\n"
     ]
    },
    {
     "name": "stdout",
     "output_type": "stream",
     "text": [
      "Chunk 1/1 del archivo green_tripdata_2024-06.parquet cargado exitosamente.\n",
      "Datos del archivo green_tripdata_2024-06.parquet cargados exitosamente.\n",
      "\n",
      "Leyendo archivo D:\\GitHub\\Proyecto Final\\Proyecto_final_Henry\\Dataset\\green_tripdata_2024-07.parquet\n",
      "El archivo green_tripdata_2024-07.parquet contiene todas las columnas necesarias. Procesando...\n"
     ]
    },
    {
     "name": "stderr",
     "output_type": "stream",
     "text": [
      "Procesando green_tripdata_2024-07.parquet: 100%|██████████| 1/1 [00:06<00:00,  6.55s/chunk]\n"
     ]
    },
    {
     "name": "stdout",
     "output_type": "stream",
     "text": [
      "Chunk 1/1 del archivo green_tripdata_2024-07.parquet cargado exitosamente.\n",
      "Datos del archivo green_tripdata_2024-07.parquet cargados exitosamente.\n",
      "\n",
      "Leyendo archivo D:\\GitHub\\Proyecto Final\\Proyecto_final_Henry\\Dataset\\green_tripdata_2024-08.parquet\n",
      "El archivo green_tripdata_2024-08.parquet contiene todas las columnas necesarias. Procesando...\n"
     ]
    },
    {
     "name": "stderr",
     "output_type": "stream",
     "text": [
      "Procesando green_tripdata_2024-08.parquet: 100%|██████████| 1/1 [00:06<00:00,  6.68s/chunk]"
     ]
    },
    {
     "name": "stdout",
     "output_type": "stream",
     "text": [
      "Chunk 1/1 del archivo green_tripdata_2024-08.parquet cargado exitosamente.\n",
      "Datos del archivo green_tripdata_2024-08.parquet cargados exitosamente.\n",
      "\n",
      "Leyendo archivo D:\\GitHub\\Proyecto Final\\Proyecto_final_Henry\\Dataset\\yellow_tripdata_2023-01.parquet\n"
     ]
    },
    {
     "name": "stderr",
     "output_type": "stream",
     "text": [
      "\n"
     ]
    },
    {
     "name": "stdout",
     "output_type": "stream",
     "text": [
      "El archivo yellow_tripdata_2023-01.parquet contiene todas las columnas necesarias. Procesando...\n"
     ]
    },
    {
     "name": "stderr",
     "output_type": "stream",
     "text": [
      "Procesando yellow_tripdata_2023-01.parquet:   5%|▍         | 1/21 [00:17<05:47, 17.36s/chunk]"
     ]
    },
    {
     "name": "stdout",
     "output_type": "stream",
     "text": [
      "Chunk 1/21 del archivo yellow_tripdata_2023-01.parquet cargado exitosamente.\n"
     ]
    },
    {
     "name": "stderr",
     "output_type": "stream",
     "text": [
      "Procesando yellow_tripdata_2023-01.parquet:  10%|▉         | 2/21 [00:36<05:48, 18.33s/chunk]"
     ]
    },
    {
     "name": "stdout",
     "output_type": "stream",
     "text": [
      "Chunk 2/21 del archivo yellow_tripdata_2023-01.parquet cargado exitosamente.\n"
     ]
    },
    {
     "name": "stderr",
     "output_type": "stream",
     "text": [
      "Procesando yellow_tripdata_2023-01.parquet:  14%|█▍        | 3/21 [00:55<05:34, 18.57s/chunk]"
     ]
    },
    {
     "name": "stdout",
     "output_type": "stream",
     "text": [
      "Chunk 3/21 del archivo yellow_tripdata_2023-01.parquet cargado exitosamente.\n"
     ]
    },
    {
     "name": "stderr",
     "output_type": "stream",
     "text": [
      "Procesando yellow_tripdata_2023-01.parquet:  19%|█▉        | 4/21 [01:14<05:20, 18.85s/chunk]"
     ]
    },
    {
     "name": "stdout",
     "output_type": "stream",
     "text": [
      "Chunk 4/21 del archivo yellow_tripdata_2023-01.parquet cargado exitosamente.\n"
     ]
    },
    {
     "name": "stderr",
     "output_type": "stream",
     "text": [
      "Procesando yellow_tripdata_2023-01.parquet:  24%|██▍       | 5/21 [01:33<05:03, 19.00s/chunk]"
     ]
    },
    {
     "name": "stdout",
     "output_type": "stream",
     "text": [
      "Chunk 5/21 del archivo yellow_tripdata_2023-01.parquet cargado exitosamente.\n"
     ]
    },
    {
     "name": "stderr",
     "output_type": "stream",
     "text": [
      "Procesando yellow_tripdata_2023-01.parquet:  29%|██▊       | 6/21 [01:56<05:05, 20.37s/chunk]"
     ]
    },
    {
     "name": "stdout",
     "output_type": "stream",
     "text": [
      "Chunk 6/21 del archivo yellow_tripdata_2023-01.parquet cargado exitosamente.\n"
     ]
    },
    {
     "name": "stderr",
     "output_type": "stream",
     "text": [
      "Procesando yellow_tripdata_2023-01.parquet:  33%|███▎      | 7/21 [02:20<04:58, 21.30s/chunk]"
     ]
    },
    {
     "name": "stdout",
     "output_type": "stream",
     "text": [
      "Chunk 7/21 del archivo yellow_tripdata_2023-01.parquet cargado exitosamente.\n"
     ]
    },
    {
     "name": "stderr",
     "output_type": "stream",
     "text": [
      "Procesando yellow_tripdata_2023-01.parquet:  38%|███▊      | 8/21 [02:39<04:29, 20.73s/chunk]"
     ]
    },
    {
     "name": "stdout",
     "output_type": "stream",
     "text": [
      "Chunk 8/21 del archivo yellow_tripdata_2023-01.parquet cargado exitosamente.\n"
     ]
    },
    {
     "name": "stderr",
     "output_type": "stream",
     "text": [
      "Procesando yellow_tripdata_2023-01.parquet:  43%|████▎     | 9/21 [03:00<04:11, 20.93s/chunk]"
     ]
    },
    {
     "name": "stdout",
     "output_type": "stream",
     "text": [
      "Chunk 9/21 del archivo yellow_tripdata_2023-01.parquet cargado exitosamente.\n"
     ]
    },
    {
     "name": "stderr",
     "output_type": "stream",
     "text": [
      "Procesando yellow_tripdata_2023-01.parquet:  48%|████▊     | 10/21 [03:22<03:53, 21.18s/chunk]"
     ]
    },
    {
     "name": "stdout",
     "output_type": "stream",
     "text": [
      "Chunk 10/21 del archivo yellow_tripdata_2023-01.parquet cargado exitosamente.\n"
     ]
    },
    {
     "name": "stderr",
     "output_type": "stream",
     "text": [
      "Procesando yellow_tripdata_2023-01.parquet:  52%|█████▏    | 11/21 [03:44<03:35, 21.53s/chunk]"
     ]
    },
    {
     "name": "stdout",
     "output_type": "stream",
     "text": [
      "Chunk 11/21 del archivo yellow_tripdata_2023-01.parquet cargado exitosamente.\n"
     ]
    },
    {
     "name": "stderr",
     "output_type": "stream",
     "text": [
      "Procesando yellow_tripdata_2023-01.parquet:  57%|█████▋    | 12/21 [04:12<03:30, 23.36s/chunk]"
     ]
    },
    {
     "name": "stdout",
     "output_type": "stream",
     "text": [
      "Chunk 12/21 del archivo yellow_tripdata_2023-01.parquet cargado exitosamente.\n"
     ]
    },
    {
     "name": "stderr",
     "output_type": "stream",
     "text": [
      "Procesando yellow_tripdata_2023-01.parquet:  62%|██████▏   | 13/21 [04:34<03:02, 22.85s/chunk]"
     ]
    },
    {
     "name": "stdout",
     "output_type": "stream",
     "text": [
      "Chunk 13/21 del archivo yellow_tripdata_2023-01.parquet cargado exitosamente.\n"
     ]
    },
    {
     "name": "stderr",
     "output_type": "stream",
     "text": [
      "Procesando yellow_tripdata_2023-01.parquet:  67%|██████▋   | 14/21 [05:00<02:46, 23.83s/chunk]"
     ]
    },
    {
     "name": "stdout",
     "output_type": "stream",
     "text": [
      "Chunk 14/21 del archivo yellow_tripdata_2023-01.parquet cargado exitosamente.\n"
     ]
    },
    {
     "name": "stderr",
     "output_type": "stream",
     "text": [
      "Procesando yellow_tripdata_2023-01.parquet:  71%|███████▏  | 15/21 [05:26<02:27, 24.63s/chunk]"
     ]
    },
    {
     "name": "stdout",
     "output_type": "stream",
     "text": [
      "Chunk 15/21 del archivo yellow_tripdata_2023-01.parquet cargado exitosamente.\n"
     ]
    },
    {
     "name": "stderr",
     "output_type": "stream",
     "text": [
      "Procesando yellow_tripdata_2023-01.parquet:  76%|███████▌  | 16/21 [05:54<02:08, 25.61s/chunk]"
     ]
    },
    {
     "name": "stdout",
     "output_type": "stream",
     "text": [
      "Chunk 16/21 del archivo yellow_tripdata_2023-01.parquet cargado exitosamente.\n"
     ]
    },
    {
     "name": "stderr",
     "output_type": "stream",
     "text": [
      "Procesando yellow_tripdata_2023-01.parquet:  81%|████████  | 17/21 [06:17<01:39, 24.77s/chunk]"
     ]
    },
    {
     "name": "stdout",
     "output_type": "stream",
     "text": [
      "Chunk 17/21 del archivo yellow_tripdata_2023-01.parquet cargado exitosamente.\n"
     ]
    },
    {
     "name": "stderr",
     "output_type": "stream",
     "text": [
      "Procesando yellow_tripdata_2023-01.parquet:  86%|████████▌ | 18/21 [06:43<01:15, 25.28s/chunk]"
     ]
    },
    {
     "name": "stdout",
     "output_type": "stream",
     "text": [
      "Chunk 18/21 del archivo yellow_tripdata_2023-01.parquet cargado exitosamente.\n"
     ]
    },
    {
     "name": "stderr",
     "output_type": "stream",
     "text": [
      "Procesando yellow_tripdata_2023-01.parquet:  90%|█████████ | 19/21 [07:12<00:52, 26.15s/chunk]"
     ]
    },
    {
     "name": "stdout",
     "output_type": "stream",
     "text": [
      "Chunk 19/21 del archivo yellow_tripdata_2023-01.parquet cargado exitosamente.\n"
     ]
    },
    {
     "name": "stderr",
     "output_type": "stream",
     "text": [
      "Procesando yellow_tripdata_2023-01.parquet:  95%|█████████▌| 20/21 [07:37<00:26, 26.03s/chunk]"
     ]
    },
    {
     "name": "stdout",
     "output_type": "stream",
     "text": [
      "Chunk 20/21 del archivo yellow_tripdata_2023-01.parquet cargado exitosamente.\n"
     ]
    },
    {
     "name": "stderr",
     "output_type": "stream",
     "text": [
      "Procesando yellow_tripdata_2023-01.parquet: 100%|██████████| 21/21 [07:51<00:00, 22.44s/chunk]"
     ]
    },
    {
     "name": "stdout",
     "output_type": "stream",
     "text": [
      "Chunk 21/21 del archivo yellow_tripdata_2023-01.parquet cargado exitosamente.\n",
      "Datos del archivo yellow_tripdata_2023-01.parquet cargados exitosamente.\n",
      "\n",
      "Leyendo archivo D:\\GitHub\\Proyecto Final\\Proyecto_final_Henry\\Dataset\\yellow_tripdata_2023-02.parquet\n"
     ]
    },
    {
     "name": "stderr",
     "output_type": "stream",
     "text": [
      "\n"
     ]
    },
    {
     "name": "stdout",
     "output_type": "stream",
     "text": [
      "El archivo yellow_tripdata_2023-02.parquet contiene todas las columnas necesarias. Procesando...\n"
     ]
    },
    {
     "name": "stderr",
     "output_type": "stream",
     "text": [
      "Procesando yellow_tripdata_2023-02.parquet:   5%|▌         | 1/20 [00:33<10:45, 33.97s/chunk]"
     ]
    },
    {
     "name": "stdout",
     "output_type": "stream",
     "text": [
      "Chunk 1/20 del archivo yellow_tripdata_2023-02.parquet cargado exitosamente.\n"
     ]
    },
    {
     "name": "stderr",
     "output_type": "stream",
     "text": [
      "Procesando yellow_tripdata_2023-02.parquet:  10%|█         | 2/20 [01:02<09:14, 30.79s/chunk]"
     ]
    },
    {
     "name": "stdout",
     "output_type": "stream",
     "text": [
      "Chunk 2/20 del archivo yellow_tripdata_2023-02.parquet cargado exitosamente.\n"
     ]
    },
    {
     "name": "stderr",
     "output_type": "stream",
     "text": [
      "Procesando yellow_tripdata_2023-02.parquet:  15%|█▌        | 3/20 [01:42<09:55, 35.04s/chunk]"
     ]
    },
    {
     "name": "stdout",
     "output_type": "stream",
     "text": [
      "Chunk 3/20 del archivo yellow_tripdata_2023-02.parquet cargado exitosamente.\n"
     ]
    },
    {
     "name": "stderr",
     "output_type": "stream",
     "text": [
      "Procesando yellow_tripdata_2023-02.parquet:  20%|██        | 4/20 [02:16<09:11, 34.46s/chunk]"
     ]
    },
    {
     "name": "stdout",
     "output_type": "stream",
     "text": [
      "Chunk 4/20 del archivo yellow_tripdata_2023-02.parquet cargado exitosamente.\n"
     ]
    },
    {
     "name": "stderr",
     "output_type": "stream",
     "text": [
      "Procesando yellow_tripdata_2023-02.parquet:  25%|██▌       | 5/20 [02:51<08:41, 34.75s/chunk]"
     ]
    },
    {
     "name": "stdout",
     "output_type": "stream",
     "text": [
      "Chunk 5/20 del archivo yellow_tripdata_2023-02.parquet cargado exitosamente.\n"
     ]
    },
    {
     "name": "stderr",
     "output_type": "stream",
     "text": [
      "Procesando yellow_tripdata_2023-02.parquet:  30%|███       | 6/20 [03:25<08:03, 34.55s/chunk]"
     ]
    },
    {
     "name": "stdout",
     "output_type": "stream",
     "text": [
      "Chunk 6/20 del archivo yellow_tripdata_2023-02.parquet cargado exitosamente.\n"
     ]
    },
    {
     "name": "stderr",
     "output_type": "stream",
     "text": [
      "Procesando yellow_tripdata_2023-02.parquet:  35%|███▌      | 7/20 [03:55<07:09, 33.01s/chunk]"
     ]
    },
    {
     "name": "stdout",
     "output_type": "stream",
     "text": [
      "Chunk 7/20 del archivo yellow_tripdata_2023-02.parquet cargado exitosamente.\n"
     ]
    },
    {
     "name": "stderr",
     "output_type": "stream",
     "text": [
      "Procesando yellow_tripdata_2023-02.parquet:  40%|████      | 8/20 [04:30<06:43, 33.64s/chunk]"
     ]
    },
    {
     "name": "stdout",
     "output_type": "stream",
     "text": [
      "Chunk 8/20 del archivo yellow_tripdata_2023-02.parquet cargado exitosamente.\n"
     ]
    },
    {
     "name": "stderr",
     "output_type": "stream",
     "text": [
      "Procesando yellow_tripdata_2023-02.parquet:  45%|████▌     | 9/20 [05:02<06:03, 33.05s/chunk]"
     ]
    },
    {
     "name": "stdout",
     "output_type": "stream",
     "text": [
      "Chunk 9/20 del archivo yellow_tripdata_2023-02.parquet cargado exitosamente.\n"
     ]
    },
    {
     "name": "stderr",
     "output_type": "stream",
     "text": [
      "Procesando yellow_tripdata_2023-02.parquet:  50%|█████     | 10/20 [05:34<05:27, 32.74s/chunk]"
     ]
    },
    {
     "name": "stdout",
     "output_type": "stream",
     "text": [
      "Chunk 10/20 del archivo yellow_tripdata_2023-02.parquet cargado exitosamente.\n"
     ]
    },
    {
     "name": "stderr",
     "output_type": "stream",
     "text": [
      "Procesando yellow_tripdata_2023-02.parquet:  55%|█████▌    | 11/20 [06:07<04:56, 32.98s/chunk]"
     ]
    },
    {
     "name": "stdout",
     "output_type": "stream",
     "text": [
      "Chunk 11/20 del archivo yellow_tripdata_2023-02.parquet cargado exitosamente.\n"
     ]
    },
    {
     "name": "stderr",
     "output_type": "stream",
     "text": [
      "Procesando yellow_tripdata_2023-02.parquet:  60%|██████    | 12/20 [06:44<04:32, 34.06s/chunk]"
     ]
    },
    {
     "name": "stdout",
     "output_type": "stream",
     "text": [
      "Chunk 12/20 del archivo yellow_tripdata_2023-02.parquet cargado exitosamente.\n"
     ]
    },
    {
     "name": "stderr",
     "output_type": "stream",
     "text": [
      "Procesando yellow_tripdata_2023-02.parquet:  65%|██████▌   | 13/20 [07:17<03:57, 33.89s/chunk]"
     ]
    },
    {
     "name": "stdout",
     "output_type": "stream",
     "text": [
      "Chunk 13/20 del archivo yellow_tripdata_2023-02.parquet cargado exitosamente.\n"
     ]
    },
    {
     "name": "stderr",
     "output_type": "stream",
     "text": [
      "Procesando yellow_tripdata_2023-02.parquet:  70%|███████   | 14/20 [07:55<03:30, 35.01s/chunk]"
     ]
    },
    {
     "name": "stdout",
     "output_type": "stream",
     "text": [
      "Chunk 14/20 del archivo yellow_tripdata_2023-02.parquet cargado exitosamente.\n"
     ]
    },
    {
     "name": "stderr",
     "output_type": "stream",
     "text": [
      "Procesando yellow_tripdata_2023-02.parquet:  75%|███████▌  | 15/20 [08:26<02:48, 33.78s/chunk]"
     ]
    },
    {
     "name": "stdout",
     "output_type": "stream",
     "text": [
      "Chunk 15/20 del archivo yellow_tripdata_2023-02.parquet cargado exitosamente.\n"
     ]
    },
    {
     "name": "stderr",
     "output_type": "stream",
     "text": [
      "Procesando yellow_tripdata_2023-02.parquet:  80%|████████  | 16/20 [09:02<02:17, 34.36s/chunk]"
     ]
    },
    {
     "name": "stdout",
     "output_type": "stream",
     "text": [
      "Chunk 16/20 del archivo yellow_tripdata_2023-02.parquet cargado exitosamente.\n"
     ]
    },
    {
     "name": "stderr",
     "output_type": "stream",
     "text": [
      "Procesando yellow_tripdata_2023-02.parquet:  85%|████████▌ | 17/20 [09:34<01:41, 33.74s/chunk]"
     ]
    },
    {
     "name": "stdout",
     "output_type": "stream",
     "text": [
      "Chunk 17/20 del archivo yellow_tripdata_2023-02.parquet cargado exitosamente.\n"
     ]
    },
    {
     "name": "stderr",
     "output_type": "stream",
     "text": [
      "Procesando yellow_tripdata_2023-02.parquet:  90%|█████████ | 18/20 [10:10<01:09, 34.56s/chunk]"
     ]
    },
    {
     "name": "stdout",
     "output_type": "stream",
     "text": [
      "Chunk 18/20 del archivo yellow_tripdata_2023-02.parquet cargado exitosamente.\n"
     ]
    },
    {
     "name": "stderr",
     "output_type": "stream",
     "text": [
      "Procesando yellow_tripdata_2023-02.parquet:  95%|█████████▌| 19/20 [10:47<00:35, 35.15s/chunk]"
     ]
    },
    {
     "name": "stdout",
     "output_type": "stream",
     "text": [
      "Chunk 19/20 del archivo yellow_tripdata_2023-02.parquet cargado exitosamente.\n"
     ]
    },
    {
     "name": "stderr",
     "output_type": "stream",
     "text": [
      "Procesando yellow_tripdata_2023-02.parquet: 100%|██████████| 20/20 [11:05<00:00, 33.27s/chunk]"
     ]
    },
    {
     "name": "stdout",
     "output_type": "stream",
     "text": [
      "Chunk 20/20 del archivo yellow_tripdata_2023-02.parquet cargado exitosamente.\n",
      "Datos del archivo yellow_tripdata_2023-02.parquet cargados exitosamente.\n",
      "\n",
      "Leyendo archivo D:\\GitHub\\Proyecto Final\\Proyecto_final_Henry\\Dataset\\yellow_tripdata_2023-03.parquet\n"
     ]
    },
    {
     "name": "stderr",
     "output_type": "stream",
     "text": [
      "\n"
     ]
    },
    {
     "name": "stdout",
     "output_type": "stream",
     "text": [
      "El archivo yellow_tripdata_2023-03.parquet contiene todas las columnas necesarias. Procesando...\n"
     ]
    },
    {
     "name": "stderr",
     "output_type": "stream",
     "text": [
      "Procesando yellow_tripdata_2023-03.parquet:   4%|▍         | 1/23 [00:42<15:29, 42.26s/chunk]"
     ]
    },
    {
     "name": "stdout",
     "output_type": "stream",
     "text": [
      "Chunk 1/23 del archivo yellow_tripdata_2023-03.parquet cargado exitosamente.\n"
     ]
    },
    {
     "name": "stderr",
     "output_type": "stream",
     "text": [
      "Procesando yellow_tripdata_2023-03.parquet:   9%|▊         | 2/23 [01:16<13:06, 37.43s/chunk]"
     ]
    },
    {
     "name": "stdout",
     "output_type": "stream",
     "text": [
      "Chunk 2/23 del archivo yellow_tripdata_2023-03.parquet cargado exitosamente.\n"
     ]
    },
    {
     "name": "stderr",
     "output_type": "stream",
     "text": [
      "Procesando yellow_tripdata_2023-03.parquet:  13%|█▎        | 3/23 [01:49<11:46, 35.33s/chunk]"
     ]
    },
    {
     "name": "stdout",
     "output_type": "stream",
     "text": [
      "Chunk 3/23 del archivo yellow_tripdata_2023-03.parquet cargado exitosamente.\n"
     ]
    },
    {
     "name": "stderr",
     "output_type": "stream",
     "text": [
      "Procesando yellow_tripdata_2023-03.parquet:  17%|█▋        | 4/23 [02:22<10:58, 34.64s/chunk]"
     ]
    },
    {
     "name": "stdout",
     "output_type": "stream",
     "text": [
      "Chunk 4/23 del archivo yellow_tripdata_2023-03.parquet cargado exitosamente.\n"
     ]
    },
    {
     "name": "stderr",
     "output_type": "stream",
     "text": [
      "Procesando yellow_tripdata_2023-03.parquet:  22%|██▏       | 5/23 [03:02<10:54, 36.36s/chunk]"
     ]
    },
    {
     "name": "stdout",
     "output_type": "stream",
     "text": [
      "Chunk 5/23 del archivo yellow_tripdata_2023-03.parquet cargado exitosamente.\n"
     ]
    },
    {
     "name": "stderr",
     "output_type": "stream",
     "text": [
      "Procesando yellow_tripdata_2023-03.parquet:  26%|██▌       | 6/23 [03:38<10:17, 36.35s/chunk]"
     ]
    },
    {
     "name": "stdout",
     "output_type": "stream",
     "text": [
      "Chunk 6/23 del archivo yellow_tripdata_2023-03.parquet cargado exitosamente.\n"
     ]
    },
    {
     "name": "stderr",
     "output_type": "stream",
     "text": [
      "Procesando yellow_tripdata_2023-03.parquet:  30%|███       | 7/23 [04:12<09:29, 35.56s/chunk]"
     ]
    },
    {
     "name": "stdout",
     "output_type": "stream",
     "text": [
      "Chunk 7/23 del archivo yellow_tripdata_2023-03.parquet cargado exitosamente.\n"
     ]
    },
    {
     "name": "stderr",
     "output_type": "stream",
     "text": [
      "Procesando yellow_tripdata_2023-03.parquet:  35%|███▍      | 8/23 [04:51<09:10, 36.68s/chunk]"
     ]
    },
    {
     "name": "stdout",
     "output_type": "stream",
     "text": [
      "Chunk 8/23 del archivo yellow_tripdata_2023-03.parquet cargado exitosamente.\n"
     ]
    },
    {
     "name": "stderr",
     "output_type": "stream",
     "text": [
      "Procesando yellow_tripdata_2023-03.parquet:  39%|███▉      | 9/23 [05:38<09:16, 39.76s/chunk]"
     ]
    },
    {
     "name": "stdout",
     "output_type": "stream",
     "text": [
      "Chunk 9/23 del archivo yellow_tripdata_2023-03.parquet cargado exitosamente.\n"
     ]
    },
    {
     "name": "stderr",
     "output_type": "stream",
     "text": [
      "Procesando yellow_tripdata_2023-03.parquet:  43%|████▎     | 10/23 [06:24<09:03, 41.77s/chunk]"
     ]
    },
    {
     "name": "stdout",
     "output_type": "stream",
     "text": [
      "Chunk 10/23 del archivo yellow_tripdata_2023-03.parquet cargado exitosamente.\n"
     ]
    }
   ],
   "source": [
    "import pandas as pd\n",
    "import sqlalchemy\n",
    "import os\n",
    "from tqdm import tqdm\n",
    "from dotenv import load_dotenv\n",
    "import time  # Importar el módulo time para pausar\n",
    "\n",
    "# Cargar las variables de entorno desde el archivo .env\n",
    "load_dotenv()\n",
    "\n",
    "# Obtener las credenciales de la base de datos desde las variables de entorno\n",
    "db_user = os.getenv('DB_USER')\n",
    "db_password = os.getenv('DB_PASSWORD')\n",
    "db_host = os.getenv('DB_HOST')\n",
    "db_port = os.getenv('DB_PORT')\n",
    "db_name = os.getenv('DB_NAME')\n",
    "\n",
    "# Función para conectar a la base de datos\n",
    "def connect_to_db():\n",
    "    try:\n",
    "        engine = sqlalchemy.create_engine(\n",
    "            f'mysql+pymysql://{db_user}:{db_password}@{db_host}:{db_port}/{db_name}'\n",
    "        )\n",
    "        connection = engine.connect()\n",
    "        print(\"Conexión a la base de datos establecida con éxito.\")\n",
    "        return engine, connection\n",
    "    except Exception as e:\n",
    "        print(f\"Error al conectar a la base de datos: {e}\")\n",
    "        raise\n",
    "\n",
    "# Conectar a MySQL utilizando las credenciales del archivo .env\n",
    "engine, connection = connect_to_db()\n",
    "\n",
    "# Ruta de la carpeta con los archivos\n",
    "folder_path = 'D:\\\\GitHub\\\\Proyecto Final\\\\Proyecto_final_Henry\\\\Dataset'\n",
    "\n",
    "# Columnas a mantener para green_tripdata\n",
    "columns_to_keep_green = [\n",
    "    'lpep_pickup_datetime', 'lpep_dropoff_datetime',\n",
    "    'PULocationID', 'DOLocationID',\n",
    "    'trip_distance', 'total_amount'\n",
    "]\n",
    "\n",
    "# Columnas a mantener para yellow_tripdata\n",
    "columns_to_keep_yellow = [\n",
    "    'tpep_pickup_datetime', 'tpep_dropoff_datetime',\n",
    "    'PULocationID', 'DOLocationID',\n",
    "    'trip_distance', 'total_amount'\n",
    "]\n",
    "\n",
    "# Columnas a mantener para fhv_tripdata\n",
    "columns_to_keep_fhv = [\n",
    "    'pickup_datetime', 'dropOff_datetime',\n",
    "    'PUlocationID', 'DOlocationID',\n",
    "    'Affiliated_base_number'\n",
    "]\n",
    "\n",
    "# Leer todos los archivos en la carpeta y estandarizar las columnas\n",
    "for filename in os.listdir(folder_path):\n",
    "    if filename.endswith('.parquet'):\n",
    "        file_path = os.path.join(folder_path, filename)\n",
    "\n",
    "        try:\n",
    "            # Leer archivo .parquet\n",
    "            print(f\"\\nLeyendo archivo {file_path}\")\n",
    "            df = pd.read_parquet(file_path)\n",
    "\n",
    "            # Verificar si es green_tripdata, yellow_tripdata o fhv_tripdata\n",
    "            if 'green' in filename.lower():\n",
    "                columns_to_keep = columns_to_keep_green\n",
    "                source_value = 'green_tripdata'\n",
    "            elif 'yellow' in filename.lower():\n",
    "                columns_to_keep = columns_to_keep_yellow\n",
    "                source_value = 'yellow_tripdata'\n",
    "            elif 'fhv' in filename.lower():\n",
    "                columns_to_keep = columns_to_keep_fhv\n",
    "                source_value = 'fhv_tripdata'\n",
    "            else:\n",
    "                print(f\"El archivo {filename} no es ni 'green', 'yellow' ni 'fhv'. Saltando.\")\n",
    "                continue\n",
    "\n",
    "            # Verificar si el archivo contiene todas las columnas necesarias\n",
    "            if all(column in df.columns for column in columns_to_keep):\n",
    "                print(f\"El archivo {filename} contiene todas las columnas necesarias. Procesando...\")\n",
    "\n",
    "                # Seleccionar columnas necesarias\n",
    "                df = df[columns_to_keep]\n",
    "\n",
    "                # Renombrar columnas según sea necesario\n",
    "                if 'yellow' in filename.lower():\n",
    "                    df.rename(columns={\n",
    "                        'tpep_pickup_datetime': 'Pickup_datetime',\n",
    "                        'tpep_dropoff_datetime': 'DropOff_datetime',\n",
    "                        'trip_distance': 'trip_miles',\n",
    "                        'total_amount': 'driver_pay'\n",
    "                    }, inplace=True)\n",
    "                elif 'green' in filename.lower():\n",
    "                    df.rename(columns={\n",
    "                        'lpep_pickup_datetime': 'Pickup_datetime',\n",
    "                        'lpep_dropoff_datetime': 'DropOff_datetime',\n",
    "                        'trip_distance': 'trip_miles',\n",
    "                        'total_amount': 'driver_pay'\n",
    "                    }, inplace=True)\n",
    "                elif 'fhv' in filename.lower():\n",
    "                    df.rename(columns={\n",
    "                        'pickup_datetime': 'Pickup_datetime',\n",
    "                        'dropOff_datetime': 'DropOff_datetime',\n",
    "                        'PUlocationID': 'PULocationID',\n",
    "                        'DOlocationID': 'DOLocationID'\n",
    "                    }, inplace=True)\n",
    "                    df['trip_miles'] = 0.0  # Agregar columna trip_miles con valores por defecto\n",
    "                    df['driver_pay'] = 0.0  # Agregar columna driver_pay con valores por defecto\n",
    "\n",
    "                # Añadir la columna 'source'\n",
    "                df['source'] = source_value\n",
    "\n",
    "                # Calcular trip_time como la diferencia entre DropOff_datetime y Pickup_datetime\n",
    "                df['Pickup_datetime'] = pd.to_datetime(df['Pickup_datetime'])\n",
    "                df['DropOff_datetime'] = pd.to_datetime(df['DropOff_datetime'])\n",
    "                df['trip_time'] = (df['DropOff_datetime'] - df['Pickup_datetime']).dt.total_seconds()\n",
    "\n",
    "                # Dividir el DataFrame en bloques de 5,000 filas\n",
    "                chunk_size = 150000  # Tamaño del chunk a 5,000 filas\n",
    "                num_chunks = len(df) // chunk_size + 1\n",
    "                chunk_counter = 0  # Contador de chunks procesados\n",
    "\n",
    "                for i in tqdm(range(num_chunks), desc=f\"Procesando {filename}\", unit=\"chunk\"):\n",
    "                    chunk = df[i * chunk_size:(i + 1) * chunk_size]\n",
    "                    try:\n",
    "                        chunk.to_sql(name='taxi_fhv_data', con=engine, if_exists='append', index=False)\n",
    "                        print(f\"Chunk {i+1}/{num_chunks} del archivo {filename} cargado exitosamente.\")\n",
    "                    except sqlalchemy.exc.OperationalError as e:\n",
    "                        print(f\"Error al cargar chunk {i+1}: {e}. Intentando reconectar...\")\n",
    "                        engine, connection = connect_to_db()\n",
    "                        chunk.to_sql(name='taxi_fhv_data', con=engine, if_exists='append', index=False)\n",
    "                        print(f\"Chunk {i+1} del archivo {filename} cargado exitosamente tras reconexión.\")\n",
    "\n",
    "                    chunk_counter += 1\n",
    "\n",
    "                    # Cada 20 chunks, esperar 15 segundos y reconectar\n",
    "                    if chunk_counter % 30 == 0:\n",
    "                        print(\"Esperando 15 segundos...\")\n",
    "                        time.sleep(30)\n",
    "                        print(\"Reconectando a la base de datos...\")\n",
    "                        connection.close()\n",
    "                        engine.dispose()\n",
    "                        engine, connection = connect_to_db()\n",
    "                        print(\"Reconexión exitosa.\")\n",
    "\n",
    "                print(f\"Datos del archivo {filename} cargados exitosamente.\")\n",
    "            else:\n",
    "                print(f\"El archivo {filename} no contiene todas las columnas necesarias. Saltando.\")\n",
    "\n",
    "        except FileNotFoundError:\n",
    "            print(f\"Archivo {file_path} no encontrado. Saltando.\")\n",
    "        except KeyError as e:\n",
    "            print(f\"Error de columna en {file_path}: {e}. Saltando.\")\n",
    "        except Exception as e:\n",
    "            print(f\"Error al procesar el archivo {filename}: {e}\")\n",
    "\n",
    "# Ahora, inspecciona el archivo específico fhv_tripdata_2024-01.parquet\n",
    "file_to_inspect = 'fhv_tripdata_2024-01.parquet'\n",
    "file_path = os.path.join(folder_path, file_to_inspect)\n",
    "\n",
    "try:\n",
    "    # Leer archivo .parquet\n",
    "    df = pd.read_parquet(file_path)\n",
    "\n",
    "    # Mostrar las columnas del archivo\n",
    "    print(f\"\\nColumnas del archivo {file_to_inspect}:\")\n",
    "    print(df.columns.tolist())\n",
    "\n",
    "except Exception as e:\n",
    "    print(f\"Error al leer {file_path}: {e}\")\n",
    "\n",
    "print(\"\\nProceso de estandarización y carga completo.\")\n"
   ]
  }
 ],
 "metadata": {
  "kernelspec": {
   "display_name": "Python 3",
   "language": "python",
   "name": "python3"
  },
  "language_info": {
   "codemirror_mode": {
    "name": "ipython",
    "version": 3
   },
   "file_extension": ".py",
   "mimetype": "text/x-python",
   "name": "python",
   "nbconvert_exporter": "python",
   "pygments_lexer": "ipython3",
   "version": "3.12.7"
  }
 },
 "nbformat": 4,
 "nbformat_minor": 2
}
