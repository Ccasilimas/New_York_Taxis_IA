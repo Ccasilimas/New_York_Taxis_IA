{
 "cells": [
  {
   "cell_type": "code",
   "execution_count": null,
   "metadata": {
    "colab": {
     "base_uri": "https://localhost:8080/"
    },
    "id": "eBCsCBokxtXG",
    "outputId": "94b5a2c2-f24d-43a4-a5e5-6f75a4aced9d"
   },
   "outputs": [],
   "source": [
    "import pandas as pd\n",
    "import seaborn as sns\n",
    "\n",
    "# Cargar los datos desde el almacenamiento\n",
    "df_medallion = pd.read_csv('/content/drive/Othercomputers/My Laptop/Google Drive/Medallion__Vehicles_-_Authorized_20241107_cleaned.csv')\n",
    "\n",
    "# Mostrar las primeras filas de cada DataFrame\n",
    "print(df_medallion.head())\n"
   ]
  },
  {
   "cell_type": "code",
   "execution_count": null,
   "metadata": {
    "id": "i7tKjOqn8Rkt"
   },
   "outputs": [],
   "source": [
    "# Columnas a eliminar\n",
    "columnas_a_eliminar_medallion =  [\n",
    "    'Name', 'Expiration Date', 'Current Status', 'DMV License Plate Number',\n",
    "    'Medallion Type', 'Agent Number', 'Agent Telephone Number', 'Agent Name',\n",
    "    'Agent Website Address','Agent Address', 'Last Time Updated'\n",
    "]\n",
    "\n",
    "\n",
    "# Eliminar columnas\n",
    "df_medallion = df_medallion.drop(columns=columnas_a_eliminar_medallion, errors='ignore')\n"
   ]
  },
  {
   "cell_type": "code",
   "execution_count": null,
   "metadata": {
    "colab": {
     "base_uri": "https://localhost:8080/",
     "height": 289
    },
    "id": "JYIZgTGg8bVM",
    "outputId": "cf2a14cc-0895-4e66-883b-a0661611aeef"
   },
   "outputs": [],
   "source": [
    "# Valores nulos en Medallion\n",
    "print(\"Valores nulos en Medallion:\")\n",
    "display(df_medallion.isnull().sum())\n"
   ]
  },
  {
   "cell_type": "code",
   "execution_count": null,
   "metadata": {
    "colab": {
     "base_uri": "https://localhost:8080/"
    },
    "id": "jpvind1N-3Hm",
    "outputId": "c788dc3d-37d8-4530-891d-baf972523696"
   },
   "outputs": [],
   "source": [
    "# Contar la cantidad de cada tipo de vehículo\n",
    "vehicle_type_counts = df_medallion['Vehicle Type'].value_counts()\n",
    "\n",
    "# Mostrar los resultados\n",
    "print(vehicle_type_counts)"
   ]
  },
  {
   "cell_type": "code",
   "execution_count": null,
   "metadata": {
    "colab": {
     "base_uri": "https://localhost:8080/"
    },
    "id": "NqEkuiMkFIlj",
    "outputId": "6a5b6f2f-5917-4728-d10e-a6ba8f2db5c1"
   },
   "outputs": [],
   "source": [
    "# Contar la cantidad de cada 'Model Year'\n",
    "model_year_counts = df_medallion['Model Year'].value_counts()\n",
    "\n",
    "# Mostrar los resultados\n",
    "print(model_year_counts)"
   ]
  },
  {
   "cell_type": "code",
   "execution_count": null,
   "metadata": {
    "colab": {
     "base_uri": "https://localhost:8080/"
    },
    "id": "lBULtEuCElFY",
    "outputId": "e42608e1-d06f-4de4-ab6a-5db8cd148bfa"
   },
   "outputs": [],
   "source": [
    "# Contar valores duplicados de 'License Number'\n",
    "duplicate_license_count = df_medallion['License Number'].duplicated().sum()\n",
    "\n",
    "# Mostrar el conteo\n",
    "print(f\"Cantidad de valores duplicados de 'License Number': {duplicate_license_count}\")"
   ]
  },
  {
   "cell_type": "code",
   "execution_count": null,
   "metadata": {
    "colab": {
     "base_uri": "https://localhost:8080/"
    },
    "id": "uRyZoLtjGCyK",
    "outputId": "1feb9b72-4fbc-425c-ff93-469b0a86741c"
   },
   "outputs": [],
   "source": [
    "# Obtener la cantidad total de registros\n",
    "total_records = len(df_medallion)\n",
    "\n",
    "# Mostrar la cantidad total\n",
    "print(f\"Cantidad total de registros en df_medallion: {total_records}\")"
   ]
  },
  {
   "cell_type": "markdown",
   "metadata": {
    "id": "D0NcFHvpH5LL"
   },
   "source": []
  },
  {
   "cell_type": "code",
   "execution_count": null,
   "metadata": {
    "colab": {
     "base_uri": "https://localhost:8080/"
    },
    "id": "vKwQtJLmHLZS",
    "outputId": "0b994079-35b8-42f6-be26-3deb155af3e1"
   },
   "outputs": [],
   "source": [
    "# Contar valores duplicados de 'Vehicle VIN Number'\n",
    "duplicate_vin_count = df_medallion['Vehicle VIN Number'].duplicated().sum()\n",
    "\n",
    "# Mostrar el conteo\n",
    "print(f\"Cantidad de valores duplicados de 'Vehicle VIN Number': {duplicate_vin_count}\")"
   ]
  },
  {
   "cell_type": "code",
   "execution_count": null,
   "metadata": {
    "id": "uJDwShsHLwhS"
   },
   "outputs": [],
   "source": [
    "\n",
    "df_medallion['Last Date Updated'] = pd.to_datetime(df_medallion['Last Date Updated'], errors='coerce')"
   ]
  },
  {
   "cell_type": "code",
   "execution_count": null,
   "metadata": {
    "id": "h69r7fNwamSB"
   },
   "outputs": [],
   "source": [
    "# Sort by 'Vehicle VIN Number' and 'Last Date Updated'\n",
    "df_medallion_sorted = df_medallion.sort_values(by=['Vehicle VIN Number', 'Last Date Updated'], ascending=[True, False])\n",
    "\n",
    "# Drop duplicates of 'Vehicle VIN Number', keeping the most recent\n",
    "df_medallion_clean = df_medallion_sorted.drop_duplicates(subset='Vehicle VIN Number', keep='first')\n",
    "\n",
    "# Sort the cleaned DataFrame by 'License Number' and 'Last Date Updated'\n",
    "df_medallion_clean = df_medallion_clean.sort_values(by=['License Number', 'Last Date Updated'], ascending=[True, False])\n",
    "\n",
    "# Drop duplicates of 'License Number' in the cleaned DataFrame, keeping the most recent\n",
    "df_medallion_clean = df_medallion_clean.drop_duplicates(subset='License Number', keep='first')\n",
    "\n",
    "\n"
   ]
  },
  {
   "cell_type": "code",
   "execution_count": null,
   "metadata": {
    "colab": {
     "base_uri": "https://localhost:8080/"
    },
    "id": "bsivtb2eIlxH",
    "outputId": "8e24bb9b-9ca9-4dae-e1f4-d4acc7917248"
   },
   "outputs": [],
   "source": [
    "print(df_medallion_clean.head())"
   ]
  },
  {
   "cell_type": "code",
   "execution_count": null,
   "metadata": {
    "colab": {
     "base_uri": "https://localhost:8080/"
    },
    "id": "xH_777_abUk8",
    "outputId": "fe568ed6-eb57-434b-df3a-9fe1eaf1829d"
   },
   "outputs": [],
   "source": [
    "# Assuming you have already executed the code to create df_medallion_clean\n",
    "\n",
    "# Get the number of rows\n",
    "row_count = len(df_medallion_clean)\n",
    "\n",
    "# Print the row count\n",
    "print(f\"Number of rows in df_medallion_clean: {row_count}\")"
   ]
  },
  {
   "cell_type": "code",
   "execution_count": null,
   "metadata": {
    "id": "l9FLYVKybdhq"
   },
   "outputs": [],
   "source": [
    "# Assuming you have df_medallion_clean DataFrame\n",
    "\n",
    "df_medallion_clean.to_csv('medallion_clean.csv', index=False)"
   ]
  }
 ],
 "metadata": {
  "colab": {
   "provenance": []
  },
  "kernelspec": {
   "display_name": "Python 3",
   "name": "python3"
  },
  "language_info": {
   "name": "python"
  }
 },
 "nbformat": 4,
 "nbformat_minor": 0
}
