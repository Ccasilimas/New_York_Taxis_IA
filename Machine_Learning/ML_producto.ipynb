{
 "cells": [
  {
   "cell_type": "markdown",
   "metadata": {},
   "source": [
    "## ***Machine Learning Products (MLOps)***\n",
    "\n",
    "#### En este cuaderno jupiter se encuentra todo el proceso del Machine Learning, desde la conexión a la base de datos hasta el sistema de recomendación\n",
    "\n",
    "\n",
    "#### 1. **Importamos librerias necesarias**"
   ]
  },
  {
   "cell_type": "code",
   "execution_count": 1,
   "metadata": {},
   "outputs": [],
   "source": [
    "# Importamos librerias \n",
    "import mysql.connector\n",
    "from mysql.connector import Error\n",
    "from sqlalchemy import create_engine\n",
    "import pandas as pd\n",
    "import os \n",
    "import env"
   ]
  },
  {
   "cell_type": "markdown",
   "metadata": {},
   "source": [
    "#### 2. **Conectamos con la base de datos**"
   ]
  },
  {
   "cell_type": "code",
   "execution_count": 2,
   "metadata": {},
   "outputs": [
    {
     "data": {
      "text/plain": [
       "<module 'env' from 'd:\\\\Personal\\\\Documentos\\\\Courses\\\\Henry\\\\Henry Students\\\\Labs\\\\Cohorte 25 ft\\\\PG_FT_25\\\\Proyecto_final_Henry\\\\Machine_Learning\\\\env.py'>"
      ]
     },
     "execution_count": 2,
     "metadata": {},
     "output_type": "execute_result"
    }
   ],
   "source": [
    "# Si existen cambios en la credenciales, refrescamos el env\n",
    "import importlib\n",
    "import env\n",
    "\n",
    "importlib.reload(env)"
   ]
  },
  {
   "cell_type": "code",
   "execution_count": 3,
   "metadata": {},
   "outputs": [],
   "source": [
    "# credenciales del AWS\n",
    "\n",
    "HOST_DB = env.DB_HOST\n",
    "USER_DB = env.DB_USER\n",
    "PASS_DB = env.DB_PASS\n",
    "NAME_DB = env.DB_NAME"
   ]
  },
  {
   "cell_type": "code",
   "execution_count": 4,
   "metadata": {},
   "outputs": [],
   "source": [
    "# Conectamos con la base de datos \n",
    "\n",
    "def BD_connection(host, user_db, user_pass, name_db):\n",
    "    connection = None\n",
    "    try:\n",
    "        connection = mysql.connector.connect(\n",
    "            host=host,\n",
    "            user=user_db,\n",
    "            passwd=user_pass,\n",
    "            database=name_db,\n",
    "            port=3306,\n",
    "            connection_timeout=300\n",
    "        )\n",
    "        print(\"MYSQL DATABASE connection succesful\")\n",
    "    except Error as err:\n",
    "        print(f\"Error: '{err}'\")\n",
    "    return connection"
   ]
  },
  {
   "cell_type": "code",
   "execution_count": 5,
   "metadata": {},
   "outputs": [
    {
     "name": "stdout",
     "output_type": "stream",
     "text": [
      "MYSQL DATABASE connection succesful\n"
     ]
    }
   ],
   "source": [
    "connection = BD_connection(HOST_DB, USER_DB, PASS_DB, NAME_DB)"
   ]
  },
  {
   "cell_type": "markdown",
   "metadata": {},
   "source": [
    "----------------------------------------------------"
   ]
  },
  {
   "cell_type": "code",
   "execution_count": 6,
   "metadata": {},
   "outputs": [
    {
     "name": "stdout",
     "output_type": "stream",
     "text": [
      "Conectado a la base de datos: UrbanTransit\n"
     ]
    }
   ],
   "source": [
    "# verifiquemos la conexion realizando una consulta simple\n",
    "if connection:\n",
    "    cursor = connection.cursor()\n",
    "    cursor.execute(\"SELECT DATABASE()\")\n",
    "    db = cursor.fetchone()\n",
    "    print(f\"Conectado a la base de datos: {db[0]}\")"
   ]
  },
  {
   "cell_type": "code",
   "execution_count": 7,
   "metadata": {},
   "outputs": [],
   "source": [
    "# Funcion para obtener las tablas disponibles\n",
    "def show_tables(connection):\n",
    "    cursor = connection.cursor()\n",
    "    cursor.execute(\"SHOW TABLES\")\n",
    "    tables = cursor.fetchall()\n",
    "    for table in tables:\n",
    "        print(table)"
   ]
  },
  {
   "cell_type": "code",
   "execution_count": 8,
   "metadata": {},
   "outputs": [
    {
     "name": "stdout",
     "output_type": "stream",
     "text": [
      "MYSQL DATABASE connection succesful\n",
      "('carga_registros',)\n",
      "('enriched_taxi_data',)\n",
      "('taxi_fhv_data',)\n",
      "('taxi_zones',)\n",
      "('temperaturas',)\n",
      "('trafico',)\n"
     ]
    }
   ],
   "source": [
    "# Corremos la query\n",
    "connection = BD_connection(HOST_DB, USER_DB, PASS_DB, NAME_DB)\n",
    "show_tables(connection)"
   ]
  },
  {
   "cell_type": "code",
   "execution_count": 9,
   "metadata": {},
   "outputs": [],
   "source": [
    "# Funcion para describir la estructura de una tabla\n",
    "def describe_table(connection, table_name):\n",
    "    cursor = connection.cursor()\n",
    "    query = f\"DESCRIBE {table_name}\"\n",
    "    cursor.execute(query)\n",
    "    columns = cursor.fetchall()\n",
    "    for column in columns:\n",
    "        print(column)"
   ]
  },
  {
   "cell_type": "code",
   "execution_count": 10,
   "metadata": {},
   "outputs": [
    {
     "name": "stdout",
     "output_type": "stream",
     "text": [
      "('id', 'int', 'NO', 'PRI', None, 'auto_increment')\n",
      "('Pickup_datetime', 'datetime', 'NO', 'MUL', None, '')\n",
      "('DropOff_datetime', 'datetime', 'NO', 'MUL', None, '')\n",
      "('PULocationID', 'int', 'YES', 'MUL', '0', '')\n",
      "('DOLocationID', 'int', 'YES', 'MUL', '0', '')\n",
      "('trip_miles', 'float', 'YES', '', '0', '')\n",
      "('driver_pay', 'float', 'YES', '', '0', '')\n",
      "('VendorID', 'varchar(50)', 'YES', '', 'Unknown', '')\n",
      "('source', 'char(1)', 'YES', '', 'U', '')\n",
      "('trip_time', 'int', 'YES', '', '0', '')\n"
     ]
    }
   ],
   "source": [
    "describe_table(connection, 'taxi_fhv_data')"
   ]
  },
  {
   "cell_type": "code",
   "execution_count": 11,
   "metadata": {},
   "outputs": [],
   "source": [
    "# Vamos a utilizar esta funcion para correr queries\n",
    "def execute_query(connection, query):\n",
    "    cursor = connection.cursor()\n",
    "    try:\n",
    "        cursor.execute(query)\n",
    "        connection.commit()\n",
    "        print(\"Query hecha con éxito\")\n",
    "    except Error as err:\n",
    "        print(\"Error\", err)"
   ]
  },
  {
   "cell_type": "code",
   "execution_count": 12,
   "metadata": {},
   "outputs": [],
   "source": [
    "def execute_query(connection, query, fetch_data=False):\n",
    "    \"\"\"\n",
    "    Ejecuta una consulta SQL en la base de datos conectada.\n",
    "\n",
    "    Args:\n",
    "    - connection: Conexión a la base de datos.\n",
    "    - query: Consulta SQL a ejecutar.\n",
    "    - fetch_data: Booleano para indicar si se deben recuperar los datos de la consulta.\n",
    "\n",
    "    Returns:\n",
    "    - Resultados de la consulta si fetch_data es True. None en caso contrario.\n",
    "    \"\"\"\n",
    "    cursor = connection.cursor(buffered=True)  # Crear un cursor con buffering\n",
    "    try:\n",
    "        cursor.execute(query)  # Ejecutar la consulta\n",
    "\n",
    "        if fetch_data:\n",
    "            resultados = cursor.fetchall()  # Recuperar todos los resultados\n",
    "            return resultados\n",
    "        else:\n",
    "            connection.commit()  # Confirmar la transacción\n",
    "            print(\"Query hecha con éxito\")\n",
    "\n",
    "    except Error as err:\n",
    "        print(\"Error:\", err)  # Imprimir cualquier error ocurrido\n",
    "    finally:\n",
    "        cursor.close()  # Cerrar el cursor\n",
    "        if connection.unread_result:\n",
    "            connection.next_result()  # Limpiar cualquier resultado no leído\n",
    "        connection.commit()  # Asegurar que cualquier resultado pendiente sea limpiado"
   ]
  },
  {
   "cell_type": "code",
   "execution_count": null,
   "metadata": {},
   "outputs": [
    {
     "name": "stdout",
     "output_type": "stream",
     "text": [
      "Conexión exitosa a la base de datos\n"
     ]
    }
   ],
   "source": [
    "# Verificar la conexión\n",
    "if connection:\n",
    "    print(\"Conexión exitosa a la base de datos\")\n",
    "\n",
    "    # Contar registros en `users_review`\n",
    "    query = \"SELECT COUNT(*) FROM taxi_fhv_data;\"\n",
    "    resultado = execute_query(connection, query, fetch_data=True)\n",
    "\n",
    "    if resultado:\n",
    "        print(f\"Número de registros en 'taxi_fhv_data': {resultado[0][0]}\")"
   ]
  },
  {
   "cell_type": "code",
   "execution_count": 13,
   "metadata": {},
   "outputs": [],
   "source": [
    "# Crear el engine de SQLAlchemy usando la conexion MySQL\n",
    "def create_sqlalchemy_engine(host_name, user_bd, password_bd, name_bd):\n",
    "    url = f\"mysql+mysqlconnector://{user_bd}:{password_bd}@{host_name}/{name_bd}\"\n",
    "    return create_engine(url)"
   ]
  },
  {
   "cell_type": "code",
   "execution_count": 14,
   "metadata": {},
   "outputs": [],
   "source": [
    "# Crear el engine\n",
    "engine = create_sqlalchemy_engine(HOST_DB, USER_DB, PASS_DB, NAME_DB)"
   ]
  },
  {
   "cell_type": "code",
   "execution_count": null,
   "metadata": {},
   "outputs": [],
   "source": [
    "# Consultar SQL para obtener la tabla \"taxis_fhv_data\"\n",
    "query_taxis = \"SELECT * FROM taxi_fhv_data ORDER BY id LIMIT 1000000; \"\n"
   ]
  },
  {
   "cell_type": "code",
   "execution_count": 18,
   "metadata": {},
   "outputs": [],
   "source": [
    "# Cargamos los datos en un Dataframe\n",
    "users_review = pd.read_sql(query_taxis, engine)\n"
   ]
  },
  {
   "cell_type": "code",
   "execution_count": 19,
   "metadata": {},
   "outputs": [],
   "source": [
    "# Punto de reinicio\n",
    "df_taxis = pd.DataFrame(users_review)"
   ]
  },
  {
   "cell_type": "code",
   "execution_count": null,
   "metadata": {},
   "outputs": [],
   "source": [
    "#df_taxis.to_csv(\"df_taxis.csv\", index=False)"
   ]
  },
  {
   "cell_type": "code",
   "execution_count": 23,
   "metadata": {},
   "outputs": [
    {
     "data": {
      "text/html": [
       "<div>\n",
       "<style scoped>\n",
       "    .dataframe tbody tr th:only-of-type {\n",
       "        vertical-align: middle;\n",
       "    }\n",
       "\n",
       "    .dataframe tbody tr th {\n",
       "        vertical-align: top;\n",
       "    }\n",
       "\n",
       "    .dataframe thead th {\n",
       "        text-align: right;\n",
       "    }\n",
       "</style>\n",
       "<table border=\"1\" class=\"dataframe\">\n",
       "  <thead>\n",
       "    <tr style=\"text-align: right;\">\n",
       "      <th></th>\n",
       "      <th>id</th>\n",
       "      <th>Pickup_datetime</th>\n",
       "      <th>DropOff_datetime</th>\n",
       "      <th>PULocationID</th>\n",
       "      <th>DOLocationID</th>\n",
       "      <th>trip_miles</th>\n",
       "      <th>driver_pay</th>\n",
       "      <th>VendorID</th>\n",
       "      <th>source</th>\n",
       "      <th>trip_time</th>\n",
       "    </tr>\n",
       "  </thead>\n",
       "  <tbody>\n",
       "    <tr>\n",
       "      <th>0</th>\n",
       "      <td>1</td>\n",
       "      <td>2024-01-01 00:46:55</td>\n",
       "      <td>2024-01-01 00:58:25</td>\n",
       "      <td>236</td>\n",
       "      <td>239</td>\n",
       "      <td>1.98</td>\n",
       "      <td>21.66</td>\n",
       "      <td>2</td>\n",
       "      <td>G</td>\n",
       "      <td>690</td>\n",
       "    </tr>\n",
       "    <tr>\n",
       "      <th>1</th>\n",
       "      <td>2</td>\n",
       "      <td>2024-01-01 00:31:42</td>\n",
       "      <td>2024-01-01 00:52:34</td>\n",
       "      <td>65</td>\n",
       "      <td>170</td>\n",
       "      <td>6.54</td>\n",
       "      <td>42.66</td>\n",
       "      <td>2</td>\n",
       "      <td>G</td>\n",
       "      <td>1252</td>\n",
       "    </tr>\n",
       "    <tr>\n",
       "      <th>2</th>\n",
       "      <td>3</td>\n",
       "      <td>2024-01-01 00:30:21</td>\n",
       "      <td>2024-01-01 00:49:23</td>\n",
       "      <td>74</td>\n",
       "      <td>262</td>\n",
       "      <td>3.08</td>\n",
       "      <td>28.05</td>\n",
       "      <td>2</td>\n",
       "      <td>G</td>\n",
       "      <td>1142</td>\n",
       "    </tr>\n",
       "    <tr>\n",
       "      <th>3</th>\n",
       "      <td>4</td>\n",
       "      <td>2024-01-01 00:30:20</td>\n",
       "      <td>2024-01-01 00:42:12</td>\n",
       "      <td>74</td>\n",
       "      <td>116</td>\n",
       "      <td>2.40</td>\n",
       "      <td>16.70</td>\n",
       "      <td>1</td>\n",
       "      <td>G</td>\n",
       "      <td>712</td>\n",
       "    </tr>\n",
       "    <tr>\n",
       "      <th>4</th>\n",
       "      <td>5</td>\n",
       "      <td>2024-01-01 00:32:38</td>\n",
       "      <td>2024-01-01 00:43:37</td>\n",
       "      <td>74</td>\n",
       "      <td>243</td>\n",
       "      <td>5.14</td>\n",
       "      <td>31.38</td>\n",
       "      <td>2</td>\n",
       "      <td>G</td>\n",
       "      <td>659</td>\n",
       "    </tr>\n",
       "    <tr>\n",
       "      <th>5</th>\n",
       "      <td>6</td>\n",
       "      <td>2024-01-01 00:43:41</td>\n",
       "      <td>2024-01-01 01:00:23</td>\n",
       "      <td>33</td>\n",
       "      <td>209</td>\n",
       "      <td>2.00</td>\n",
       "      <td>24.25</td>\n",
       "      <td>1</td>\n",
       "      <td>G</td>\n",
       "      <td>1002</td>\n",
       "    </tr>\n",
       "    <tr>\n",
       "      <th>6</th>\n",
       "      <td>7</td>\n",
       "      <td>2024-01-01 00:31:56</td>\n",
       "      <td>2024-01-01 00:48:09</td>\n",
       "      <td>74</td>\n",
       "      <td>238</td>\n",
       "      <td>3.20</td>\n",
       "      <td>28.35</td>\n",
       "      <td>1</td>\n",
       "      <td>G</td>\n",
       "      <td>973</td>\n",
       "    </tr>\n",
       "    <tr>\n",
       "      <th>7</th>\n",
       "      <td>8</td>\n",
       "      <td>2024-01-01 00:46:12</td>\n",
       "      <td>2024-01-01 00:57:39</td>\n",
       "      <td>166</td>\n",
       "      <td>239</td>\n",
       "      <td>2.01</td>\n",
       "      <td>24.37</td>\n",
       "      <td>2</td>\n",
       "      <td>G</td>\n",
       "      <td>687</td>\n",
       "    </tr>\n",
       "    <tr>\n",
       "      <th>8</th>\n",
       "      <td>9</td>\n",
       "      <td>2024-01-01 00:38:07</td>\n",
       "      <td>2024-01-01 00:39:23</td>\n",
       "      <td>226</td>\n",
       "      <td>226</td>\n",
       "      <td>0.31</td>\n",
       "      <td>6.20</td>\n",
       "      <td>2</td>\n",
       "      <td>G</td>\n",
       "      <td>76</td>\n",
       "    </tr>\n",
       "    <tr>\n",
       "      <th>9</th>\n",
       "      <td>10</td>\n",
       "      <td>2024-01-01 00:44:24</td>\n",
       "      <td>2024-01-01 00:57:47</td>\n",
       "      <td>7</td>\n",
       "      <td>129</td>\n",
       "      <td>2.32</td>\n",
       "      <td>20.88</td>\n",
       "      <td>2</td>\n",
       "      <td>G</td>\n",
       "      <td>803</td>\n",
       "    </tr>\n",
       "  </tbody>\n",
       "</table>\n",
       "</div>"
      ],
      "text/plain": [
       "   id     Pickup_datetime    DropOff_datetime  PULocationID  DOLocationID  \\\n",
       "0   1 2024-01-01 00:46:55 2024-01-01 00:58:25           236           239   \n",
       "1   2 2024-01-01 00:31:42 2024-01-01 00:52:34            65           170   \n",
       "2   3 2024-01-01 00:30:21 2024-01-01 00:49:23            74           262   \n",
       "3   4 2024-01-01 00:30:20 2024-01-01 00:42:12            74           116   \n",
       "4   5 2024-01-01 00:32:38 2024-01-01 00:43:37            74           243   \n",
       "5   6 2024-01-01 00:43:41 2024-01-01 01:00:23            33           209   \n",
       "6   7 2024-01-01 00:31:56 2024-01-01 00:48:09            74           238   \n",
       "7   8 2024-01-01 00:46:12 2024-01-01 00:57:39           166           239   \n",
       "8   9 2024-01-01 00:38:07 2024-01-01 00:39:23           226           226   \n",
       "9  10 2024-01-01 00:44:24 2024-01-01 00:57:47             7           129   \n",
       "\n",
       "   trip_miles  driver_pay VendorID source  trip_time  \n",
       "0        1.98       21.66        2      G        690  \n",
       "1        6.54       42.66        2      G       1252  \n",
       "2        3.08       28.05        2      G       1142  \n",
       "3        2.40       16.70        1      G        712  \n",
       "4        5.14       31.38        2      G        659  \n",
       "5        2.00       24.25        1      G       1002  \n",
       "6        3.20       28.35        1      G        973  \n",
       "7        2.01       24.37        2      G        687  \n",
       "8        0.31        6.20        2      G         76  \n",
       "9        2.32       20.88        2      G        803  "
      ]
     },
     "execution_count": 23,
     "metadata": {},
     "output_type": "execute_result"
    }
   ],
   "source": [
    "df_taxis.head(10)"
   ]
  },
  {
   "cell_type": "code",
   "execution_count": null,
   "metadata": {},
   "outputs": [],
   "source": [
    "import pandas as pd\n",
    "from sqlalchemy import create_engine\n",
    "from sklearn.model_selection import train_test_split\n",
    "from sklearn.linear_model import LinearRegression\n",
    "from sklearn.metrics import mean_absolute_error, r2_score\n",
    "from dotenv import load_dotenv\n",
    "import os\n",
    "\n",
    "# 🌟 Cargar variables de entorno\n",
    "load_dotenv()\n",
    "\n",
    "# 🔐 Configuración de la conexión a la base de datos\n",
    "DB_CONFIG = {\n",
    "    'host': os.getenv(\"DB_HOST\"),\n",
    "    'port': int(os.getenv(\"DB_PORT\", 3306)),\n",
    "    'user': os.getenv(\"DB_USER\"),\n",
    "    'password': os.getenv(\"DB_PASSWORD\"),\n",
    "    'database': os.getenv(\"DB_NAME\")\n",
    "}\n",
    "\n",
    "# Crear el motor de SQLAlchemy\n",
    "engine = create_engine(\n",
    "    f\"mysql+pymysql://{DB_CONFIG['user']}:{DB_CONFIG['password']}@{DB_CONFIG['host']}:{DB_CONFIG['port']}/{DB_CONFIG['database']}\"\n",
    ")\n",
    "\n",
    "# Leer los datos desde la tabla enriched_taxi_data\n",
    "query = \"SELECT * FROM enriched_taxi_data\"\n",
    "df = pd.read_sql(query, engine)\n",
    "\n",
    "# Seleccionar las características y la variable objetivo\n",
    "X = df[['PULocationID', 'pickup_borough', 'pickup_day', 'pickup_hour']]\n",
    "y = df['trip_count']\n",
    "\n",
    "# Convertir variable categórica 'pickup_borough' en variables dummy\n",
    "X = pd.get_dummies(X, columns=['pickup_borough'], drop_first=True)\n",
    "\n",
    "# Dividir los datos en conjuntos de entrenamiento y prueba\n",
    "X_train, X_test, y_train, y_test = train_test_split(X, y, test_size=0.2, random_state=42)\n",
    "\n",
    "# Crear y entrenar el modelo\n",
    "model = LinearRegression()\n",
    "model.fit(X_train, y_train)\n",
    "\n",
    "# Realizar predicciones sobre el conjunto de prueba\n",
    "y_pred = model.predict(X_test)\n",
    "\n",
    "# Evaluar el rendimiento del modelo\n",
    "mae = mean_absolute_error(y_test, y_pred)\n",
    "r2 = r2_score(y_test, y_pred)\n",
    "\n",
    "print(f\"MAE: {mae:.2f}\")\n",
    "print(f\"R²: {r2:.2f}\")\n",
    "\n",
    "# Función para predecir la demanda dada una zona, día y hora\n",
    "def predict_demand(pulocationid, pickup_day, pickup_hour, pickup_borough):\n",
    "    # Crear un DataFrame con las mismas columnas que el DataFrame original utilizado para entrenar el modelo\n",
    "    input_data = pd.DataFrame({\n",
    "        'PULocationID': [pulocationid],\n",
    "        'pickup_day': [pickup_day],\n",
    "        'pickup_hour': [pickup_hour]\n",
    "    })\n",
    "\n",
    "    # Añadir columnas dummy para 'pickup_borough'\n",
    "    borough_columns = [col for col in X.columns if col.startswith('pickup_borough_')]\n",
    "    for col in borough_columns:\n",
    "        input_data[col] = 0\n",
    "    \n",
    "    # Establecer el valor adecuado de la columna dummy correspondiente al 'pickup_borough'\n",
    "    if f'pickup_borough_{pickup_borough}' in input_data.columns:\n",
    "        input_data[f'pickup_borough_{pickup_borough}'] = 1\n",
    "    \n",
    "    prediction = model.predict(input_data)\n",
    "    return prediction[0]\n",
    "\n",
    "# Ejemplo de uso de la función predict_demand\n",
    "predicted_demand = predict_demand(11, 11, 13, 'Manhattan')\n",
    "print(f\"Predicted Demand: {predicted_demand:.2f}\")\n"
   ]
  },
  {
   "cell_type": "markdown",
   "metadata": {},
   "source": [
    "## Modelo con zonas Adjacentes\n",
    "\n",
    "Ten en cuenta que hay que dar la ruta al archivo que contiene las zonas de taxi adjacentes"
   ]
  },
  {
   "cell_type": "code",
   "execution_count": null,
   "metadata": {},
   "outputs": [],
   "source": [
    "import pandas as pd\n",
    "from sqlalchemy import create_engine\n",
    "from sklearn.model_selection import train_test_split\n",
    "from sklearn.linear_model import LinearRegression\n",
    "from sklearn.metrics import mean_absolute_error, r2_score\n",
    "from dotenv import load_dotenv\n",
    "import os\n",
    "import ast\n",
    "\n",
    "# 🌟 Cargar variables de entorno\n",
    "load_dotenv()\n",
    "\n",
    "# 🔐 Configuración de la conexión a la base de datos\n",
    "DB_CONFIG = {\n",
    "    'host': os.getenv(\"DB_HOST\"),\n",
    "    'port': int(os.getenv(\"DB_PORT\", 3306)),\n",
    "    'user': os.getenv(\"DB_USER\"),\n",
    "    'password': os.getenv(\"DB_PASSWORD\"),\n",
    "    'database': os.getenv(\"DB_NAME\")\n",
    "}\n",
    "\n",
    "# Crear el motor de SQLAlchemy\n",
    "engine = create_engine(\n",
    "    f\"mysql+pymysql://{DB_CONFIG['user']}:{DB_CONFIG['password']}@{DB_CONFIG['host']}:{DB_CONFIG['port']}/{DB_CONFIG['database']}\"\n",
    ")\n",
    "\n",
    "# Leer los datos desde la tabla enriched_taxi_data2\n",
    "query = \"SELECT * FROM enriched_taxi_data2\"\n",
    "df = pd.read_sql(query, engine)\n",
    "\n",
    "# Leer el archivo de zonas adyacentes\n",
    "adjacent_zones_df = pd.read_csv('adjacent_zones.csv')\n",
    "adjacent_zones_df['adjacent_zones'] = adjacent_zones_df['adjacent_zones'].apply(ast.literal_eval)\n",
    "\n",
    "# Función para obtener las zonas adyacentes\n",
    "def get_adjacent_zones(location_id):\n",
    "    row = adjacent_zones_df.loc[adjacent_zones_df['LocationID'] == location_id]\n",
    "    if not row.empty:\n",
    "        return row.iloc[0]['adjacent_zones']\n",
    "    else:\n",
    "        return []\n",
    "\n",
    "# Seleccionar las características y la variable objetivo\n",
    "X = df[['PULocationID', 'pickup_weekday', 'pickup_hour']]\n",
    "y = df['trip_count']\n",
    "\n",
    "# Dividir los datos en conjuntos de entrenamiento y prueba\n",
    "X_train, X_test, y_train, y_test = train_test_split(X, y, test_size=0.2, random_state=42)\n",
    "\n",
    "# Crear y entrenar el modelo\n",
    "model = LinearRegression()\n",
    "model.fit(X_train, y_train)\n",
    "\n",
    "# Realizar predicciones sobre el conjunto de prueba\n",
    "y_pred = model.predict(X_test)\n",
    "\n",
    "# Evaluar el rendimiento del modelo\n",
    "mae = mean_absolute_error(y_test, y_pred)\n",
    "r2 = r2_score(y_test, y_pred)\n",
    "\n",
    "print(f\"MAE: {mae:.2f}\")\n",
    "print(f\"R²: {r2:.2f}\")\n",
    "\n",
    "# Función para predecir la demanda en una zona incluyendo las zonas adyacentes\n",
    "def predict_demand_with_adjacent(pulocationid, pickup_weekday, pickup_hour):\n",
    "    # Obtener las zonas adyacentes\n",
    "    adjacent_zones = get_adjacent_zones(pulocationid)\n",
    "    all_zones = adjacent_zones + [pulocationid]\n",
    "    \n",
    "    # Preparar los datos de entrada para todas las zonas\n",
    "    input_data = pd.DataFrame({\n",
    "        'PULocationID': all_zones,\n",
    "        'pickup_weekday': [pickup_weekday] * len(all_zones),\n",
    "        'pickup_hour': [pickup_hour] * len(all_zones)\n",
    "    })\n",
    "    \n",
    "    # Realizar predicciones para todas las zonas y devolver los resultados individuales\n",
    "    predictions = model.predict(input_data)\n",
    "    result = {zone: prediction for zone, prediction in zip(all_zones, predictions)}\n",
    "    \n",
    "    return result\n",
    "\n",
    "# Ejemplo de uso de la función predict_demand_with_adjacent\n",
    "predicted_demands = predict_demand_with_adjacent(1, 6, 12)  # 260 es el PULocationID, 3 es miércoles, 13 es la hora\n",
    "\n",
    "# Encontrar la zona con mayor demanda\n",
    "max_zone = max(predicted_demands, key=predicted_demands.get)\n",
    "print(f\"Zone with highest demand: {max_zone}, Demand: {predicted_demands[max_zone]:.2f}\")\n"
   ]
  }
 ],
 "metadata": {
  "kernelspec": {
   "display_name": "Python 3",
   "language": "python",
   "name": "python3"
  },
  "language_info": {
   "codemirror_mode": {
    "name": "ipython",
    "version": 3
   },
   "file_extension": ".py",
   "mimetype": "text/x-python",
   "name": "python",
   "nbconvert_exporter": "python",
   "pygments_lexer": "ipython3",
   "version": "3.11.9"
  }
 },
 "nbformat": 4,
 "nbformat_minor": 2
}
