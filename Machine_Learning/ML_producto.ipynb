{
 "cells": [
  {
   "cell_type": "markdown",
   "metadata": {},
   "source": [
    "## ***Machine Learning Products (MLOps)***\n",
    "\n",
    "#### En este cuaderno jupiter se encuentra todo el proceso del Machine Learning, desde la conexión a la base de datos hasta el sistema de recomendación\n",
    "\n",
    "\n",
    "#### 1. **Importamos librerias necesarias**"
   ]
  },
  {
   "cell_type": "code",
   "execution_count": 97,
   "metadata": {},
   "outputs": [],
   "source": [
    "# Importamos librerias \n",
    "import mysql.connector\n",
    "from mysql.connector import Error\n",
    "from sqlalchemy import create_engine\n",
    "import pandas as pd\n",
    "import os \n",
    "import env"
   ]
  },
  {
   "cell_type": "markdown",
   "metadata": {},
   "source": [
    "#### 2. **Conectamos con la base de datos**"
   ]
  },
  {
   "cell_type": "code",
   "execution_count": null,
   "metadata": {},
   "outputs": [
    {
     "data": {
      "text/plain": [
       "<module 'env' from 'd:\\\\Personal\\\\Documentos\\\\Courses\\\\Henry\\\\Henry Students\\\\Labs\\\\Cohorte 25 ft\\\\PG_FT_25\\\\Proyecto_final_Henry\\\\Machine_Learning\\\\env.py'>"
      ]
     },
     "execution_count": 92,
     "metadata": {},
     "output_type": "execute_result"
    }
   ],
   "source": [
    "# Si existen cambios en la credenciales, refrescamos el env\n",
    "import importlib\n",
    "import env\n",
    "\n",
    "importlib.reload(env)"
   ]
  },
  {
   "cell_type": "code",
   "execution_count": 93,
   "metadata": {},
   "outputs": [],
   "source": [
    "# credenciales del AWS\n",
    "\n",
    "HOST_DB = env.DB_HOST\n",
    "USER_DB = env.DB_USER\n",
    "PASS_DB = env.DB_PASS\n",
    "NAME_DB = env.DB_NAME"
   ]
  },
  {
   "cell_type": "code",
   "execution_count": 103,
   "metadata": {},
   "outputs": [],
   "source": [
    "# Conectamos con la base de datos \n",
    "\n",
    "def BD_connection(host, user_db, user_pass, name_db):\n",
    "    connection = None\n",
    "    try:\n",
    "        connection = mysql.connector.connect(\n",
    "            host=host,\n",
    "            user=user_db,\n",
    "            passwd=user_pass,\n",
    "            database=name_db,\n",
    "            port=3306,\n",
    "            connection_timeout=300\n",
    "        )\n",
    "        print(\"MYSQL DATABASE connection succesful\")\n",
    "    except Error as err:\n",
    "        print(f\"Error: '{err}'\")\n",
    "    return connection"
   ]
  },
  {
   "cell_type": "code",
   "execution_count": 96,
   "metadata": {},
   "outputs": [
    {
     "name": "stdout",
     "output_type": "stream",
     "text": [
      "MYSQL DATABASE connection succesful\n"
     ]
    }
   ],
   "source": [
    "connection = BD_connection(HOST_DB, USER_DB, PASS_DB, NAME_DB)"
   ]
  },
  {
   "cell_type": "markdown",
   "metadata": {},
   "source": [
    "----------------------------------------------------"
   ]
  },
  {
   "cell_type": "code",
   "execution_count": null,
   "metadata": {},
   "outputs": [],
   "source": [
    "import pandas as pd\n",
    "from sqlalchemy import create_engine\n",
    "from sklearn.model_selection import train_test_split\n",
    "from sklearn.linear_model import LinearRegression\n",
    "from sklearn.metrics import mean_absolute_error, r2_score\n",
    "from dotenv import load_dotenv\n",
    "import os\n",
    "\n",
    "# 🌟 Cargar variables de entorno\n",
    "load_dotenv()\n",
    "\n",
    "# 🔐 Configuración de la conexión a la base de datos\n",
    "DB_CONFIG = {\n",
    "    'host': os.getenv(\"DB_HOST\"),\n",
    "    'port': int(os.getenv(\"DB_PORT\", 3306)),\n",
    "    'user': os.getenv(\"DB_USER\"),\n",
    "    'password': os.getenv(\"DB_PASSWORD\"),\n",
    "    'database': os.getenv(\"DB_NAME\")\n",
    "}\n",
    "\n",
    "# Crear el motor de SQLAlchemy\n",
    "engine = create_engine(\n",
    "    f\"mysql+pymysql://{DB_CONFIG['user']}:{DB_CONFIG['password']}@{DB_CONFIG['host']}:{DB_CONFIG['port']}/{DB_CONFIG['database']}\"\n",
    ")\n",
    "\n",
    "# Leer los datos desde la tabla enriched_taxi_data\n",
    "query = \"SELECT * FROM enriched_taxi_data\"\n",
    "df = pd.read_sql(query, engine)\n",
    "\n",
    "# Seleccionar las características y la variable objetivo\n",
    "X = df[['PULocationID', 'pickup_borough', 'pickup_day', 'pickup_hour']]\n",
    "y = df['trip_count']\n",
    "\n",
    "# Convertir variable categórica 'pickup_borough' en variables dummy\n",
    "X = pd.get_dummies(X, columns=['pickup_borough'], drop_first=True)\n",
    "\n",
    "# Dividir los datos en conjuntos de entrenamiento y prueba\n",
    "X_train, X_test, y_train, y_test = train_test_split(X, y, test_size=0.2, random_state=42)\n",
    "\n",
    "# Crear y entrenar el modelo\n",
    "model = LinearRegression()\n",
    "model.fit(X_train, y_train)\n",
    "\n",
    "# Realizar predicciones sobre el conjunto de prueba\n",
    "y_pred = model.predict(X_test)\n",
    "\n",
    "# Evaluar el rendimiento del modelo\n",
    "mae = mean_absolute_error(y_test, y_pred)\n",
    "r2 = r2_score(y_test, y_pred)\n",
    "\n",
    "print(f\"MAE: {mae:.2f}\")\n",
    "print(f\"R²: {r2:.2f}\")\n",
    "\n",
    "# Función para predecir la demanda dada una zona, día y hora\n",
    "def predict_demand(pulocationid, pickup_day, pickup_hour, pickup_borough):\n",
    "    # Crear un DataFrame con las mismas columnas que el DataFrame original utilizado para entrenar el modelo\n",
    "    input_data = pd.DataFrame({\n",
    "        'PULocationID': [pulocationid],\n",
    "        'pickup_day': [pickup_day],\n",
    "        'pickup_hour': [pickup_hour]\n",
    "    })\n",
    "\n",
    "    # Añadir columnas dummy para 'pickup_borough'\n",
    "    borough_columns = [col for col in X.columns if col.startswith('pickup_borough_')]\n",
    "    for col in borough_columns:\n",
    "        input_data[col] = 0\n",
    "    \n",
    "    # Establecer el valor adecuado de la columna dummy correspondiente al 'pickup_borough'\n",
    "    if f'pickup_borough_{pickup_borough}' in input_data.columns:\n",
    "        input_data[f'pickup_borough_{pickup_borough}'] = 1\n",
    "    \n",
    "    prediction = model.predict(input_data)\n",
    "    return prediction[0]\n",
    "\n",
    "# Ejemplo de uso de la función predict_demand\n",
    "predicted_demand = predict_demand(11, 11, 13, 'Manhattan')\n",
    "print(f\"Predicted Demand: {predicted_demand:.2f}\")\n"
   ]
  }
 ],
 "metadata": {
  "kernelspec": {
   "display_name": "Python 3",
   "language": "python",
   "name": "python3"
  },
  "language_info": {
   "codemirror_mode": {
    "name": "ipython",
    "version": 3
   },
   "file_extension": ".py",
   "mimetype": "text/x-python",
   "name": "python",
   "nbconvert_exporter": "python",
   "pygments_lexer": "ipython3",
   "version": "3.11.9"
  }
 },
 "nbformat": 4,
 "nbformat_minor": 2
}
