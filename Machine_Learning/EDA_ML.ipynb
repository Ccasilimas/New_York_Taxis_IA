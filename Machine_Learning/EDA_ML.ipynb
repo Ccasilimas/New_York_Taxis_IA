{
 "cells": [
  {
   "cell_type": "markdown",
   "metadata": {},
   "source": [
    "### ***EDA BASADO EN EL MACHINE LEARNING***\n",
    "\n",
    "###### **Filtramos los datos**"
   ]
  },
  {
   "cell_type": "code",
   "execution_count": 1,
   "metadata": {},
   "outputs": [],
   "source": [
    "# Importamos librerias \n",
    "import mysql.connector\n",
    "from mysql.connector import Error\n",
    "from sqlalchemy import create_engine\n",
    "import pandas as pd\n",
    "import os \n",
    "import env"
   ]
  },
  {
   "cell_type": "code",
   "execution_count": 2,
   "metadata": {},
   "outputs": [],
   "source": [
    "# credenciales del AWS\n",
    "\n",
    "HOST_DB = env.DB_HOST\n",
    "USER_DB = env.DB_USER\n",
    "PASS_DB = env.DB_PASS\n",
    "NAME_DB = env.DB_NAME"
   ]
  },
  {
   "cell_type": "code",
   "execution_count": null,
   "metadata": {},
   "outputs": [],
   "source": [
    "# Funcion para conectarse a la base de datos\n",
    "\n",
    "def BD_connection(host, user_db, user_pass, name_db):\n",
    "    connection = None\n",
    "    try:\n",
    "        connection = mysql.connector.connect(\n",
    "            host=host,\n",
    "            user=user_db,\n",
    "            passwd=user_pass,\n",
    "            database=name_db,\n",
    "            port=3306,\n",
    "            connection_timeout=300\n",
    "        )\n",
    "        print(\"MYSQL DATABASE connection succesful\")\n",
    "    except Error as err:\n",
    "        print(f\"Error: '{err}'\")\n",
    "    return connection"
   ]
  },
  {
   "cell_type": "code",
   "execution_count": 4,
   "metadata": {},
   "outputs": [
    {
     "name": "stdout",
     "output_type": "stream",
     "text": [
      "MYSQL DATABASE connection succesful\n"
     ]
    }
   ],
   "source": [
    "# Nos conectamos a la base de datos \n",
    "connection = BD_connection(HOST_DB, USER_DB, PASS_DB, NAME_DB)"
   ]
  },
  {
   "cell_type": "code",
   "execution_count": 5,
   "metadata": {},
   "outputs": [
    {
     "name": "stdout",
     "output_type": "stream",
     "text": [
      "Conectado a la base de datos: UrbanTransit\n"
     ]
    }
   ],
   "source": [
    "# verifiquemos la conexion realizando una consulta simple\n",
    "if connection:\n",
    "    cursor = connection.cursor()\n",
    "    cursor.execute(\"SELECT DATABASE()\")\n",
    "    db = cursor.fetchone()\n",
    "    print(f\"Conectado a la base de datos: {db[0]}\")"
   ]
  },
  {
   "cell_type": "code",
   "execution_count": 6,
   "metadata": {},
   "outputs": [],
   "source": [
    "# Funcion para obtener las tablas disponibles\n",
    "def show_tables(connection):\n",
    "    cursor = connection.cursor()\n",
    "    cursor.execute(\"SHOW TABLES\")\n",
    "    tables = cursor.fetchall()\n",
    "    for table in tables:\n",
    "        print(table)"
   ]
  },
  {
   "cell_type": "code",
   "execution_count": 7,
   "metadata": {},
   "outputs": [
    {
     "name": "stdout",
     "output_type": "stream",
     "text": [
      "MYSQL DATABASE connection succesful\n",
      "('carga_registros',)\n",
      "('enriched_taxi_data1',)\n",
      "('enriched_taxi_data2',)\n",
      "('taxi_fhv_data',)\n",
      "('taxi_fhv_data1',)\n",
      "('taxi_zones',)\n",
      "('temperaturas',)\n",
      "('trafico',)\n"
     ]
    }
   ],
   "source": [
    "# Corremos la query\n",
    "connection = BD_connection(HOST_DB, USER_DB, PASS_DB, NAME_DB)\n",
    "show_tables(connection)"
   ]
  },
  {
   "cell_type": "code",
   "execution_count": 8,
   "metadata": {},
   "outputs": [],
   "source": [
    "# Crear el engine de SQLAlchemy usando la conexion MySQL\n",
    "def create_sqlalchemy_engine(host_name, user_bd, password_bd, name_bd):\n",
    "    url = f\"mysql+mysqlconnector://{user_bd}:{password_bd}@{host_name}/{name_bd}\"\n",
    "    return create_engine(url)"
   ]
  },
  {
   "cell_type": "code",
   "execution_count": null,
   "metadata": {},
   "outputs": [],
   "source": [
    "# Creamos el engine\n",
    "engine = create_sqlalchemy_engine(HOST_DB, USER_DB, PASS_DB, NAME_DB)"
   ]
  },
  {
   "cell_type": "code",
   "execution_count": 17,
   "metadata": {},
   "outputs": [],
   "source": [
    "# Consultar SQL para obtener la tabla 'users_review' y 'sites'\n",
    "query_data0 = \"SELECT * FROM taxi_zones;\"\n",
    "query_data1 = \"SELECT * FROM taxi_fhv_data1 WHERE pickup_datetime BETWEEN '2023-01-01' AND '2024-08-31' ORDER BY id\""
   ]
  },
  {
   "cell_type": "code",
   "execution_count": null,
   "metadata": {},
   "outputs": [],
   "source": [
    "# Cargamos los datos en un Dataframe\n",
    "taxi_zone = pd.read_sql(query_data0, engine)\n",
    "taxi_green = pd.read_sql(query_data1, engine)"
   ]
  },
  {
   "cell_type": "code",
   "execution_count": 12,
   "metadata": {},
   "outputs": [],
   "source": [
    "# Creamos un punto de reinicio\n",
    "df_taxi_zone = pd.DataFrame(taxi_zone)\n",
    "df_taxi_green = pd.DataFrame(taxi_green)"
   ]
  },
  {
   "cell_type": "markdown",
   "metadata": {},
   "source": [
    "### Comenzamos con el EDA -- (EXPLORATORY DATA ANALYSIS) -- \n",
    "\n",
    "**¿En qué consiste el EDA?**\n",
    "-   Consiste en investigar y comprender los datos mediante técnicas visuales y estadísticas para descubrir patrones, identificar anomalías, probar hipótesis y extraer información útil.\n",
    "-  El EDA ayuda a los científicos de datos y analistas a obtener una comprensión inicial de los datos antes de aplicar modelos predictivos o análisis más avanzados."
   ]
  },
  {
   "cell_type": "code",
   "execution_count": 16,
   "metadata": {},
   "outputs": [
    {
     "data": {
      "text/html": [
       "<div>\n",
       "<style scoped>\n",
       "    .dataframe tbody tr th:only-of-type {\n",
       "        vertical-align: middle;\n",
       "    }\n",
       "\n",
       "    .dataframe tbody tr th {\n",
       "        vertical-align: top;\n",
       "    }\n",
       "\n",
       "    .dataframe thead th {\n",
       "        text-align: right;\n",
       "    }\n",
       "</style>\n",
       "<table border=\"1\" class=\"dataframe\">\n",
       "  <thead>\n",
       "    <tr style=\"text-align: right;\">\n",
       "      <th></th>\n",
       "      <th>id</th>\n",
       "      <th>Pickup_datetime</th>\n",
       "      <th>DropOff_datetime</th>\n",
       "      <th>PULocationID</th>\n",
       "      <th>DOLocationID</th>\n",
       "      <th>trip_miles</th>\n",
       "      <th>driver_pay</th>\n",
       "      <th>VendorID</th>\n",
       "      <th>source</th>\n",
       "      <th>trip_time</th>\n",
       "    </tr>\n",
       "  </thead>\n",
       "  <tbody>\n",
       "  </tbody>\n",
       "</table>\n",
       "</div>"
      ],
      "text/plain": [
       "Empty DataFrame\n",
       "Columns: [id, Pickup_datetime, DropOff_datetime, PULocationID, DOLocationID, trip_miles, driver_pay, VendorID, source, trip_time]\n",
       "Index: []"
      ]
     },
     "execution_count": 16,
     "metadata": {},
     "output_type": "execute_result"
    }
   ],
   "source": [
    "df_taxi_green"
   ]
  },
  {
   "cell_type": "code",
   "execution_count": 15,
   "metadata": {},
   "outputs": [
    {
     "data": {
      "text/html": [
       "<div>\n",
       "<style scoped>\n",
       "    .dataframe tbody tr th:only-of-type {\n",
       "        vertical-align: middle;\n",
       "    }\n",
       "\n",
       "    .dataframe tbody tr th {\n",
       "        vertical-align: top;\n",
       "    }\n",
       "\n",
       "    .dataframe thead th {\n",
       "        text-align: right;\n",
       "    }\n",
       "</style>\n",
       "<table border=\"1\" class=\"dataframe\">\n",
       "  <thead>\n",
       "    <tr style=\"text-align: right;\">\n",
       "      <th></th>\n",
       "      <th>LocationID</th>\n",
       "      <th>Borough</th>\n",
       "      <th>Zone</th>\n",
       "      <th>the_geom</th>\n",
       "    </tr>\n",
       "  </thead>\n",
       "  <tbody>\n",
       "    <tr>\n",
       "      <th>0</th>\n",
       "      <td>1</td>\n",
       "      <td>EWR</td>\n",
       "      <td>Newark Airport</td>\n",
       "      <td>MULTIPOLYGON (((-74.18445299999996 40.69499599...</td>\n",
       "    </tr>\n",
       "    <tr>\n",
       "      <th>1</th>\n",
       "      <td>2</td>\n",
       "      <td>Queens</td>\n",
       "      <td>Jamaica Bay</td>\n",
       "      <td>MULTIPOLYGON (((-73.82337597260663 40.63898704...</td>\n",
       "    </tr>\n",
       "    <tr>\n",
       "      <th>2</th>\n",
       "      <td>3</td>\n",
       "      <td>Bronx</td>\n",
       "      <td>Allerton/Pelham Gardens</td>\n",
       "      <td>MULTIPOLYGON (((-73.84792614099985 40.87134223...</td>\n",
       "    </tr>\n",
       "    <tr>\n",
       "      <th>3</th>\n",
       "      <td>4</td>\n",
       "      <td>Manhattan</td>\n",
       "      <td>Alphabet City</td>\n",
       "      <td>MULTIPOLYGON (((-73.97177410965318 40.72582128...</td>\n",
       "    </tr>\n",
       "    <tr>\n",
       "      <th>4</th>\n",
       "      <td>5</td>\n",
       "      <td>Staten Island</td>\n",
       "      <td>Arden Heights</td>\n",
       "      <td>MULTIPOLYGON (((-74.17421738099989 40.56256808...</td>\n",
       "    </tr>\n",
       "    <tr>\n",
       "      <th>...</th>\n",
       "      <td>...</td>\n",
       "      <td>...</td>\n",
       "      <td>...</td>\n",
       "      <td>...</td>\n",
       "    </tr>\n",
       "    <tr>\n",
       "      <th>256</th>\n",
       "      <td>259</td>\n",
       "      <td>Bronx</td>\n",
       "      <td>Woodlawn/Wakefield</td>\n",
       "      <td>MULTIPOLYGON (((-73.85107116191898 40.91037152...</td>\n",
       "    </tr>\n",
       "    <tr>\n",
       "      <th>257</th>\n",
       "      <td>260</td>\n",
       "      <td>Queens</td>\n",
       "      <td>Woodside</td>\n",
       "      <td>MULTIPOLYGON (((-73.90175373399988 40.76077547...</td>\n",
       "    </tr>\n",
       "    <tr>\n",
       "      <th>258</th>\n",
       "      <td>261</td>\n",
       "      <td>Manhattan</td>\n",
       "      <td>World Trade Center</td>\n",
       "      <td>MULTIPOLYGON (((-74.01332610899988 40.70503078...</td>\n",
       "    </tr>\n",
       "    <tr>\n",
       "      <th>259</th>\n",
       "      <td>262</td>\n",
       "      <td>Manhattan</td>\n",
       "      <td>Yorkville East</td>\n",
       "      <td>MULTIPOLYGON (((-73.94383256699986 40.78285908...</td>\n",
       "    </tr>\n",
       "    <tr>\n",
       "      <th>260</th>\n",
       "      <td>263</td>\n",
       "      <td>Manhattan</td>\n",
       "      <td>Yorkville West</td>\n",
       "      <td>MULTIPOLYGON (((-73.95218621999996 40.77301984...</td>\n",
       "    </tr>\n",
       "  </tbody>\n",
       "</table>\n",
       "<p>261 rows × 4 columns</p>\n",
       "</div>"
      ],
      "text/plain": [
       "     LocationID        Borough                     Zone  \\\n",
       "0             1            EWR           Newark Airport   \n",
       "1             2         Queens              Jamaica Bay   \n",
       "2             3          Bronx  Allerton/Pelham Gardens   \n",
       "3             4      Manhattan            Alphabet City   \n",
       "4             5  Staten Island            Arden Heights   \n",
       "..          ...            ...                      ...   \n",
       "256         259          Bronx       Woodlawn/Wakefield   \n",
       "257         260         Queens                 Woodside   \n",
       "258         261      Manhattan       World Trade Center   \n",
       "259         262      Manhattan           Yorkville East   \n",
       "260         263      Manhattan           Yorkville West   \n",
       "\n",
       "                                              the_geom  \n",
       "0    MULTIPOLYGON (((-74.18445299999996 40.69499599...  \n",
       "1    MULTIPOLYGON (((-73.82337597260663 40.63898704...  \n",
       "2    MULTIPOLYGON (((-73.84792614099985 40.87134223...  \n",
       "3    MULTIPOLYGON (((-73.97177410965318 40.72582128...  \n",
       "4    MULTIPOLYGON (((-74.17421738099989 40.56256808...  \n",
       "..                                                 ...  \n",
       "256  MULTIPOLYGON (((-73.85107116191898 40.91037152...  \n",
       "257  MULTIPOLYGON (((-73.90175373399988 40.76077547...  \n",
       "258  MULTIPOLYGON (((-74.01332610899988 40.70503078...  \n",
       "259  MULTIPOLYGON (((-73.94383256699986 40.78285908...  \n",
       "260  MULTIPOLYGON (((-73.95218621999996 40.77301984...  \n",
       "\n",
       "[261 rows x 4 columns]"
      ]
     },
     "execution_count": 15,
     "metadata": {},
     "output_type": "execute_result"
    }
   ],
   "source": [
    "df_taxi_zone"
   ]
  },
  {
   "cell_type": "code",
   "execution_count": null,
   "metadata": {},
   "outputs": [],
   "source": []
  }
 ],
 "metadata": {
  "kernelspec": {
   "display_name": "Python 3",
   "language": "python",
   "name": "python3"
  },
  "language_info": {
   "codemirror_mode": {
    "name": "ipython",
    "version": 3
   },
   "file_extension": ".py",
   "mimetype": "text/x-python",
   "name": "python",
   "nbconvert_exporter": "python",
   "pygments_lexer": "ipython3",
   "version": "3.11.9"
  }
 },
 "nbformat": 4,
 "nbformat_minor": 2
}
