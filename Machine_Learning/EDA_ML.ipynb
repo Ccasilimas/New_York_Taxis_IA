{
 "cells": [
  {
   "cell_type": "markdown",
   "metadata": {},
   "source": [
    "### ***EDA BASADO EN EL MACHINE LEARNING***\n",
    "\n",
    "###### **Filtramos los datos**"
   ]
  },
  {
   "cell_type": "code",
   "execution_count": 1,
   "metadata": {},
   "outputs": [],
   "source": [
    "# Importamos librerias \n",
    "import mysql.connector\n",
    "from mysql.connector import Error\n",
    "from sqlalchemy import create_engine\n",
    "import pandas as pd\n",
    "import os \n",
    "import env"
   ]
  },
  {
   "cell_type": "code",
   "execution_count": 2,
   "metadata": {},
   "outputs": [],
   "source": [
    "# credenciales del AWS\n",
    "\n",
    "HOST_DB = env.DB_HOST\n",
    "USER_DB = env.DB_USER\n",
    "PASS_DB = env.DB_PASS\n",
    "NAME_DB = env.DB_NAME"
   ]
  },
  {
   "cell_type": "code",
   "execution_count": 3,
   "metadata": {},
   "outputs": [],
   "source": [
    "# Funcion para conectarse a la base de datos\n",
    "\n",
    "def BD_connection(host, user_db, user_pass, name_db):\n",
    "    connection = None\n",
    "    try:\n",
    "        connection = mysql.connector.connect(\n",
    "            host=host,\n",
    "            user=user_db,\n",
    "            passwd=user_pass,\n",
    "            database=name_db,\n",
    "            port=3306,\n",
    "            connection_timeout=300\n",
    "        )\n",
    "        print(\"MYSQL DATABASE connection succesful\")\n",
    "    except Error as err:\n",
    "        print(f\"Error: '{err}'\")\n",
    "    return connection"
   ]
  },
  {
   "cell_type": "code",
   "execution_count": 4,
   "metadata": {},
   "outputs": [
    {
     "name": "stdout",
     "output_type": "stream",
     "text": [
      "MYSQL DATABASE connection succesful\n"
     ]
    }
   ],
   "source": [
    "# Nos conectamos a la base de datos \n",
    "connection = BD_connection(HOST_DB, USER_DB, PASS_DB, NAME_DB)"
   ]
  },
  {
   "cell_type": "code",
   "execution_count": 5,
   "metadata": {},
   "outputs": [
    {
     "name": "stdout",
     "output_type": "stream",
     "text": [
      "Conectado a la base de datos: UrbanTransit\n"
     ]
    }
   ],
   "source": [
    "# verifiquemos la conexion realizando una consulta simple\n",
    "if connection:\n",
    "    cursor = connection.cursor()\n",
    "    cursor.execute(\"SELECT DATABASE()\")\n",
    "    db = cursor.fetchone()\n",
    "    print(f\"Conectado a la base de datos: {db[0]}\")"
   ]
  },
  {
   "cell_type": "code",
   "execution_count": 6,
   "metadata": {},
   "outputs": [],
   "source": [
    "# Funcion para obtener las tablas disponibles\n",
    "def show_tables(connection):\n",
    "    cursor = connection.cursor()\n",
    "    cursor.execute(\"SHOW TABLES\")\n",
    "    tables = cursor.fetchall()\n",
    "    for table in tables:\n",
    "        print(table)"
   ]
  },
  {
   "cell_type": "code",
   "execution_count": 7,
   "metadata": {},
   "outputs": [
    {
     "name": "stdout",
     "output_type": "stream",
     "text": [
      "MYSQL DATABASE connection succesful\n",
      "('carga_registros',)\n",
      "('enriched_taxi_data1',)\n",
      "('enriched_taxi_data2',)\n",
      "('taxi_fhv_data',)\n",
      "('taxi_fhv_data1',)\n",
      "('taxi_zones',)\n",
      "('temperaturas',)\n",
      "('trafico',)\n"
     ]
    }
   ],
   "source": [
    "# Corremos la query\n",
    "connection = BD_connection(HOST_DB, USER_DB, PASS_DB, NAME_DB)\n",
    "show_tables(connection)"
   ]
  },
  {
   "cell_type": "code",
   "execution_count": 8,
   "metadata": {},
   "outputs": [],
   "source": [
    "# Crear el engine de SQLAlchemy usando la conexion MySQL\n",
    "def create_sqlalchemy_engine(host_name, user_bd, password_bd, name_bd):\n",
    "    url = f\"mysql+mysqlconnector://{user_bd}:{password_bd}@{host_name}/{name_bd}\"\n",
    "    return create_engine(url)"
   ]
  },
  {
   "cell_type": "code",
   "execution_count": 9,
   "metadata": {},
   "outputs": [],
   "source": [
    "# Creamos el engine\n",
    "engine = create_sqlalchemy_engine(HOST_DB, USER_DB, PASS_DB, NAME_DB)"
   ]
  },
  {
   "cell_type": "code",
   "execution_count": 10,
   "metadata": {},
   "outputs": [],
   "source": [
    "# Consultar SQL para obtener la tabla 'users_review' y 'sites'\n",
    "query_data0 = \"SELECT * FROM taxi_zones;\"\n",
    "query_data1 = \"SELECT * FROM taxi_fhv_data WHERE pickup_datetime BETWEEN '2023-01-01' AND '2024-08-31' ORDER BY id\""
   ]
  },
  {
   "cell_type": "code",
   "execution_count": 11,
   "metadata": {},
   "outputs": [],
   "source": [
    "# Cargamos los datos en un Dataframe\n",
    "taxi_zone = pd.read_sql(query_data0, engine)\n",
    "taxi_green = pd.read_sql(query_data1, engine)"
   ]
  },
  {
   "cell_type": "code",
   "execution_count": 12,
   "metadata": {},
   "outputs": [],
   "source": [
    "# Creamos un punto de reinicio\n",
    "df_taxi_zone = pd.DataFrame(taxi_zone)\n",
    "df_taxi_green = pd.DataFrame(taxi_green)"
   ]
  },
  {
   "cell_type": "markdown",
   "metadata": {},
   "source": [
    "### Comenzamos con el EDA -- (EXPLORATORY DATA ANALYSIS) -- \n",
    "\n",
    "**¿En qué consiste el EDA?**\n",
    "-   Consiste en investigar y comprender los datos mediante técnicas visuales y estadísticas para descubrir patrones, identificar anomalías, probar hipótesis y extraer información útil.\n",
    "-  El EDA ayuda a los científicos de datos y analistas a obtener una comprensión inicial de los datos antes de aplicar modelos predictivos o análisis más avanzados.\n",
    "\n",
    "## 1. ***Conociemiento del negocio*** \n",
    "\n",
    "### ***Contexto***\n",
    "\n",
    "---------------------------------------\n",
    "##### Nuestra empresa Green Route Solutions busca analizar patrones de viajes y zonas en Nueva York para identificar la mejor estrategia para implementar taxis ambientalmente amigables, considerando tanto la rentabilidad como la sostenibilidad.\n",
    "\n",
    "**Preguntas**\n",
    ">\n",
    ">\n",
    "> **1.Datos** <div>\n",
    "> 1. ¿Qué variables están presentes en cada dataset? \n",
    "> 2. ¿Qué tipos de datos contiene cada columna?  \n",
    "> 3. ¿Cuántos valores faltantes y duplicados hay por columna en cada dataset? \n",
    "> 4. ¿Hay Valores faltantes?\n",
    "> 5. ¿Hay columnas anidadas? </div>\n",
    ">  \n",
    "> **2.Analisís Temporal** <div>\n",
    "> 1. ¿Cuál es la distribución temporal de los viajes (por meses, días y horas)? </div>\n",
    "> \n",
    "> **3. Analisís de Patrones de Movilidad** <div>\n",
    "> 1. ¿Cuáles son las zonas con mayor número de viajes de inicio y destino \n",
    "> 2. ¿Cuáles son las distancias promedio por viaje y cómo varían según la zona o el borough? \n",
    "> 3. ¿Cuál es el tiempo promedio de los viajes y cómo se distribuyen durante el día?</div>\n",
    "> \n",
    "> **4. Analísis de Financiero** <div>\n",
    "> 1.  ¿Cuál es el ingreso promedio por viaje para los conductores? \n",
    "> 2. ¿Qué zonas son más rentables para los conductores y cómo se correlacionan con la cantidad de viajes?\n",
    "> 3. ¿Existen diferencias significativas en los ingresos entre los diferentes boroughs? </div>\n",
    ">\n",
    ">\n",
    "> ***Las preguntas pueden cambiar***"
   ]
  },
  {
   "cell_type": "markdown",
   "metadata": {},
   "source": [
    "## 2. ***Carga de Datos*** "
   ]
  },
  {
   "cell_type": "code",
   "execution_count": 15,
   "metadata": {},
   "outputs": [
    {
     "data": {
      "text/html": [
       "<div>\n",
       "<style scoped>\n",
       "    .dataframe tbody tr th:only-of-type {\n",
       "        vertical-align: middle;\n",
       "    }\n",
       "\n",
       "    .dataframe tbody tr th {\n",
       "        vertical-align: top;\n",
       "    }\n",
       "\n",
       "    .dataframe thead th {\n",
       "        text-align: right;\n",
       "    }\n",
       "</style>\n",
       "<table border=\"1\" class=\"dataframe\">\n",
       "  <thead>\n",
       "    <tr style=\"text-align: right;\">\n",
       "      <th></th>\n",
       "      <th>id</th>\n",
       "      <th>Pickup_datetime</th>\n",
       "      <th>DropOff_datetime</th>\n",
       "      <th>PULocationID</th>\n",
       "      <th>DOLocationID</th>\n",
       "      <th>trip_miles</th>\n",
       "      <th>driver_pay</th>\n",
       "      <th>VendorID</th>\n",
       "      <th>source</th>\n",
       "      <th>trip_time</th>\n",
       "    </tr>\n",
       "  </thead>\n",
       "  <tbody>\n",
       "    <tr>\n",
       "      <th>0</th>\n",
       "      <td>1</td>\n",
       "      <td>2024-01-01 00:46:55</td>\n",
       "      <td>2024-01-01 00:58:25</td>\n",
       "      <td>236</td>\n",
       "      <td>239</td>\n",
       "      <td>1.98</td>\n",
       "      <td>21.66</td>\n",
       "      <td>2</td>\n",
       "      <td>G</td>\n",
       "      <td>690</td>\n",
       "    </tr>\n",
       "    <tr>\n",
       "      <th>1</th>\n",
       "      <td>2</td>\n",
       "      <td>2024-01-01 00:31:42</td>\n",
       "      <td>2024-01-01 00:52:34</td>\n",
       "      <td>65</td>\n",
       "      <td>170</td>\n",
       "      <td>6.54</td>\n",
       "      <td>42.66</td>\n",
       "      <td>2</td>\n",
       "      <td>G</td>\n",
       "      <td>1252</td>\n",
       "    </tr>\n",
       "    <tr>\n",
       "      <th>2</th>\n",
       "      <td>3</td>\n",
       "      <td>2024-01-01 00:30:21</td>\n",
       "      <td>2024-01-01 00:49:23</td>\n",
       "      <td>74</td>\n",
       "      <td>262</td>\n",
       "      <td>3.08</td>\n",
       "      <td>28.05</td>\n",
       "      <td>2</td>\n",
       "      <td>G</td>\n",
       "      <td>1142</td>\n",
       "    </tr>\n",
       "    <tr>\n",
       "      <th>3</th>\n",
       "      <td>4</td>\n",
       "      <td>2024-01-01 00:30:20</td>\n",
       "      <td>2024-01-01 00:42:12</td>\n",
       "      <td>74</td>\n",
       "      <td>116</td>\n",
       "      <td>2.40</td>\n",
       "      <td>16.70</td>\n",
       "      <td>1</td>\n",
       "      <td>G</td>\n",
       "      <td>712</td>\n",
       "    </tr>\n",
       "  </tbody>\n",
       "</table>\n",
       "</div>"
      ],
      "text/plain": [
       "   id     Pickup_datetime    DropOff_datetime  PULocationID  DOLocationID  \\\n",
       "0   1 2024-01-01 00:46:55 2024-01-01 00:58:25           236           239   \n",
       "1   2 2024-01-01 00:31:42 2024-01-01 00:52:34            65           170   \n",
       "2   3 2024-01-01 00:30:21 2024-01-01 00:49:23            74           262   \n",
       "3   4 2024-01-01 00:30:20 2024-01-01 00:42:12            74           116   \n",
       "\n",
       "   trip_miles  driver_pay VendorID source  trip_time  \n",
       "0        1.98       21.66        2      G        690  \n",
       "1        6.54       42.66        2      G       1252  \n",
       "2        3.08       28.05        2      G       1142  \n",
       "3        2.40       16.70        1      G        712  "
      ]
     },
     "execution_count": 15,
     "metadata": {},
     "output_type": "execute_result"
    }
   ],
   "source": [
    "df_taxi_green.head(4)"
   ]
  },
  {
   "cell_type": "code",
   "execution_count": 16,
   "metadata": {},
   "outputs": [
    {
     "data": {
      "text/html": [
       "<div>\n",
       "<style scoped>\n",
       "    .dataframe tbody tr th:only-of-type {\n",
       "        vertical-align: middle;\n",
       "    }\n",
       "\n",
       "    .dataframe tbody tr th {\n",
       "        vertical-align: top;\n",
       "    }\n",
       "\n",
       "    .dataframe thead th {\n",
       "        text-align: right;\n",
       "    }\n",
       "</style>\n",
       "<table border=\"1\" class=\"dataframe\">\n",
       "  <thead>\n",
       "    <tr style=\"text-align: right;\">\n",
       "      <th></th>\n",
       "      <th>LocationID</th>\n",
       "      <th>Borough</th>\n",
       "      <th>Zone</th>\n",
       "      <th>the_geom</th>\n",
       "    </tr>\n",
       "  </thead>\n",
       "  <tbody>\n",
       "    <tr>\n",
       "      <th>0</th>\n",
       "      <td>1</td>\n",
       "      <td>EWR</td>\n",
       "      <td>Newark Airport</td>\n",
       "      <td>MULTIPOLYGON (((-74.18445299999996 40.69499599...</td>\n",
       "    </tr>\n",
       "    <tr>\n",
       "      <th>1</th>\n",
       "      <td>2</td>\n",
       "      <td>Queens</td>\n",
       "      <td>Jamaica Bay</td>\n",
       "      <td>MULTIPOLYGON (((-73.82337597260663 40.63898704...</td>\n",
       "    </tr>\n",
       "    <tr>\n",
       "      <th>2</th>\n",
       "      <td>3</td>\n",
       "      <td>Bronx</td>\n",
       "      <td>Allerton/Pelham Gardens</td>\n",
       "      <td>MULTIPOLYGON (((-73.84792614099985 40.87134223...</td>\n",
       "    </tr>\n",
       "    <tr>\n",
       "      <th>3</th>\n",
       "      <td>4</td>\n",
       "      <td>Manhattan</td>\n",
       "      <td>Alphabet City</td>\n",
       "      <td>MULTIPOLYGON (((-73.97177410965318 40.72582128...</td>\n",
       "    </tr>\n",
       "  </tbody>\n",
       "</table>\n",
       "</div>"
      ],
      "text/plain": [
       "   LocationID    Borough                     Zone  \\\n",
       "0           1        EWR           Newark Airport   \n",
       "1           2     Queens              Jamaica Bay   \n",
       "2           3      Bronx  Allerton/Pelham Gardens   \n",
       "3           4  Manhattan            Alphabet City   \n",
       "\n",
       "                                            the_geom  \n",
       "0  MULTIPOLYGON (((-74.18445299999996 40.69499599...  \n",
       "1  MULTIPOLYGON (((-73.82337597260663 40.63898704...  \n",
       "2  MULTIPOLYGON (((-73.84792614099985 40.87134223...  \n",
       "3  MULTIPOLYGON (((-73.97177410965318 40.72582128...  "
      ]
     },
     "execution_count": 16,
     "metadata": {},
     "output_type": "execute_result"
    }
   ],
   "source": [
    "df_taxi_zone.head(4)"
   ]
  },
  {
   "cell_type": "markdown",
   "metadata": {},
   "source": [
    "### 2.1 Análisis inicial de los datos"
   ]
  },
  {
   "cell_type": "code",
   "execution_count": 17,
   "metadata": {},
   "outputs": [
    {
     "name": "stdout",
     "output_type": "stream",
     "text": [
      "Tamaño de nuestros datos en df_taxi_green (1228937, 10)\n",
      "Tamaño de nuestros datos en df_taxi_zones (261, 4)\n"
     ]
    }
   ],
   "source": [
    "# Tamaño de los datos \n",
    "print(\"Tamaño de nuestros datos en df_taxi_green\", df_taxi_green.shape)\n",
    "print(\"Tamaño de nuestros datos en df_taxi_zones\", df_taxi_zone.shape)"
   ]
  },
  {
   "cell_type": "code",
   "execution_count": 18,
   "metadata": {},
   "outputs": [
    {
     "name": "stdout",
     "output_type": "stream",
     "text": [
      "<class 'pandas.core.frame.DataFrame'>\n",
      "RangeIndex: 1228937 entries, 0 to 1228936\n",
      "Data columns (total 10 columns):\n",
      " #   Column            Non-Null Count    Dtype         \n",
      "---  ------            --------------    -----         \n",
      " 0   id                1228937 non-null  int64         \n",
      " 1   Pickup_datetime   1228937 non-null  datetime64[ns]\n",
      " 2   DropOff_datetime  1228937 non-null  datetime64[ns]\n",
      " 3   PULocationID      1228937 non-null  int64         \n",
      " 4   DOLocationID      1228937 non-null  int64         \n",
      " 5   trip_miles        1228937 non-null  float64       \n",
      " 6   driver_pay        1228937 non-null  float64       \n",
      " 7   VendorID          1228937 non-null  object        \n",
      " 8   source            1228937 non-null  object        \n",
      " 9   trip_time         1228937 non-null  int64         \n",
      "dtypes: datetime64[ns](2), float64(2), int64(4), object(2)\n",
      "memory usage: 93.8+ MB\n"
     ]
    }
   ],
   "source": [
    "# Veamos el tipo de datos que tenemos\n",
    "df_taxi_green.info()"
   ]
  },
  {
   "cell_type": "code",
   "execution_count": 19,
   "metadata": {},
   "outputs": [
    {
     "name": "stdout",
     "output_type": "stream",
     "text": [
      "<class 'pandas.core.frame.DataFrame'>\n",
      "RangeIndex: 261 entries, 0 to 260\n",
      "Data columns (total 4 columns):\n",
      " #   Column      Non-Null Count  Dtype \n",
      "---  ------      --------------  ----- \n",
      " 0   LocationID  261 non-null    int64 \n",
      " 1   Borough     261 non-null    object\n",
      " 2   Zone        261 non-null    object\n",
      " 3   the_geom    261 non-null    object\n",
      "dtypes: int64(1), object(3)\n",
      "memory usage: 8.3+ KB\n"
     ]
    }
   ],
   "source": [
    "df_taxi_zone.info()"
   ]
  },
  {
   "cell_type": "code",
   "execution_count": 20,
   "metadata": {},
   "outputs": [],
   "source": [
    "# vamos a crear funciones para saber cuantos duplicados, faltantes tenemos en los conjuntos de datos\n",
    "def null(df, decimales=2):\n",
    "    # cantidad de null + % \n",
    "    df_nulos = pd.DataFrame({\n",
    "        \"Numeros de nulos\" : df.isnull().sum(),\n",
    "        \"Porcentaje de nulos\" : (df.isnull().sum() / df.shape[0]) * 100.0 # # Calcula el porcentaje de valores faltantes en la columna\n",
    "    })\n",
    "    # Convierte el porcentaje a cadena y añade el símbolo de porcentaje\n",
    "    df_nulos['Porcentaje de nulos'] = df_nulos['Porcentaje de nulos'].round(decimales).astype(str) + \"%\"\n",
    "    return df_nulos\n",
    "\n",
    "\n",
    "def suma_duplicados(df, decimales=2):\n",
    "    # Identifica las filas duplicadas\n",
    "    duplicados = df[df.duplicated()]\n",
    "    \n",
    "    # Inicializa diccionarios para almacenar los resultados\n",
    "    num_duplicados = {}\n",
    "    porcentaje_duplicados = {}\n",
    "    \n",
    "    for col in df.columns:\n",
    "        # Cuenta el número de duplicados en la columna\n",
    "        num_duplicados[col] = duplicados[col].count()\n",
    "        \n",
    "        # Calcula el porcentaje de duplicados en la columna\n",
    "        porcentaje_duplicados[col] = (num_duplicados[col] / df.shape[0]) * 100.0\n",
    "    \n",
    "    # Crea un DataFrame para los resultados\n",
    "    df_duplicados = pd.DataFrame({\n",
    "        \"Numero de Duplicados\": pd.Series(num_duplicados),\n",
    "        \"Porcentaje de Duplicados\": pd.Series(porcentaje_duplicados)\n",
    "    })\n",
    "    \n",
    "    # Convierte el porcentaje a cadena y añade el símbolo de porcentaje\n",
    "    df_duplicados[\"Porcentaje de Duplicados\"] = df_duplicados[\"Porcentaje de Duplicados\"].round(decimales).astype(str) + \"%\"\n",
    "        \n",
    "    return df_duplicados"
   ]
  },
  {
   "cell_type": "code",
   "execution_count": 22,
   "metadata": {},
   "outputs": [
    {
     "data": {
      "text/html": [
       "<div>\n",
       "<style scoped>\n",
       "    .dataframe tbody tr th:only-of-type {\n",
       "        vertical-align: middle;\n",
       "    }\n",
       "\n",
       "    .dataframe tbody tr th {\n",
       "        vertical-align: top;\n",
       "    }\n",
       "\n",
       "    .dataframe thead th {\n",
       "        text-align: right;\n",
       "    }\n",
       "</style>\n",
       "<table border=\"1\" class=\"dataframe\">\n",
       "  <thead>\n",
       "    <tr style=\"text-align: right;\">\n",
       "      <th></th>\n",
       "      <th>Numeros de nulos</th>\n",
       "      <th>Porcentaje de nulos</th>\n",
       "    </tr>\n",
       "  </thead>\n",
       "  <tbody>\n",
       "    <tr>\n",
       "      <th>id</th>\n",
       "      <td>0</td>\n",
       "      <td>0.0%</td>\n",
       "    </tr>\n",
       "    <tr>\n",
       "      <th>Pickup_datetime</th>\n",
       "      <td>0</td>\n",
       "      <td>0.0%</td>\n",
       "    </tr>\n",
       "    <tr>\n",
       "      <th>DropOff_datetime</th>\n",
       "      <td>0</td>\n",
       "      <td>0.0%</td>\n",
       "    </tr>\n",
       "    <tr>\n",
       "      <th>PULocationID</th>\n",
       "      <td>0</td>\n",
       "      <td>0.0%</td>\n",
       "    </tr>\n",
       "    <tr>\n",
       "      <th>DOLocationID</th>\n",
       "      <td>0</td>\n",
       "      <td>0.0%</td>\n",
       "    </tr>\n",
       "    <tr>\n",
       "      <th>trip_miles</th>\n",
       "      <td>0</td>\n",
       "      <td>0.0%</td>\n",
       "    </tr>\n",
       "    <tr>\n",
       "      <th>driver_pay</th>\n",
       "      <td>0</td>\n",
       "      <td>0.0%</td>\n",
       "    </tr>\n",
       "    <tr>\n",
       "      <th>VendorID</th>\n",
       "      <td>0</td>\n",
       "      <td>0.0%</td>\n",
       "    </tr>\n",
       "    <tr>\n",
       "      <th>source</th>\n",
       "      <td>0</td>\n",
       "      <td>0.0%</td>\n",
       "    </tr>\n",
       "    <tr>\n",
       "      <th>trip_time</th>\n",
       "      <td>0</td>\n",
       "      <td>0.0%</td>\n",
       "    </tr>\n",
       "  </tbody>\n",
       "</table>\n",
       "</div>"
      ],
      "text/plain": [
       "                  Numeros de nulos Porcentaje de nulos\n",
       "id                               0                0.0%\n",
       "Pickup_datetime                  0                0.0%\n",
       "DropOff_datetime                 0                0.0%\n",
       "PULocationID                     0                0.0%\n",
       "DOLocationID                     0                0.0%\n",
       "trip_miles                       0                0.0%\n",
       "driver_pay                       0                0.0%\n",
       "VendorID                         0                0.0%\n",
       "source                           0                0.0%\n",
       "trip_time                        0                0.0%"
      ]
     },
     "execution_count": 22,
     "metadata": {},
     "output_type": "execute_result"
    }
   ],
   "source": [
    "null(df_taxi_green)"
   ]
  },
  {
   "cell_type": "code",
   "execution_count": 23,
   "metadata": {},
   "outputs": [
    {
     "data": {
      "text/html": [
       "<div>\n",
       "<style scoped>\n",
       "    .dataframe tbody tr th:only-of-type {\n",
       "        vertical-align: middle;\n",
       "    }\n",
       "\n",
       "    .dataframe tbody tr th {\n",
       "        vertical-align: top;\n",
       "    }\n",
       "\n",
       "    .dataframe thead th {\n",
       "        text-align: right;\n",
       "    }\n",
       "</style>\n",
       "<table border=\"1\" class=\"dataframe\">\n",
       "  <thead>\n",
       "    <tr style=\"text-align: right;\">\n",
       "      <th></th>\n",
       "      <th>Numero de Duplicados</th>\n",
       "      <th>Porcentaje de Duplicados</th>\n",
       "    </tr>\n",
       "  </thead>\n",
       "  <tbody>\n",
       "    <tr>\n",
       "      <th>id</th>\n",
       "      <td>0</td>\n",
       "      <td>0.0%</td>\n",
       "    </tr>\n",
       "    <tr>\n",
       "      <th>Pickup_datetime</th>\n",
       "      <td>0</td>\n",
       "      <td>0.0%</td>\n",
       "    </tr>\n",
       "    <tr>\n",
       "      <th>DropOff_datetime</th>\n",
       "      <td>0</td>\n",
       "      <td>0.0%</td>\n",
       "    </tr>\n",
       "    <tr>\n",
       "      <th>PULocationID</th>\n",
       "      <td>0</td>\n",
       "      <td>0.0%</td>\n",
       "    </tr>\n",
       "    <tr>\n",
       "      <th>DOLocationID</th>\n",
       "      <td>0</td>\n",
       "      <td>0.0%</td>\n",
       "    </tr>\n",
       "    <tr>\n",
       "      <th>trip_miles</th>\n",
       "      <td>0</td>\n",
       "      <td>0.0%</td>\n",
       "    </tr>\n",
       "    <tr>\n",
       "      <th>driver_pay</th>\n",
       "      <td>0</td>\n",
       "      <td>0.0%</td>\n",
       "    </tr>\n",
       "    <tr>\n",
       "      <th>VendorID</th>\n",
       "      <td>0</td>\n",
       "      <td>0.0%</td>\n",
       "    </tr>\n",
       "    <tr>\n",
       "      <th>source</th>\n",
       "      <td>0</td>\n",
       "      <td>0.0%</td>\n",
       "    </tr>\n",
       "    <tr>\n",
       "      <th>trip_time</th>\n",
       "      <td>0</td>\n",
       "      <td>0.0%</td>\n",
       "    </tr>\n",
       "  </tbody>\n",
       "</table>\n",
       "</div>"
      ],
      "text/plain": [
       "                  Numero de Duplicados Porcentaje de Duplicados\n",
       "id                                   0                     0.0%\n",
       "Pickup_datetime                      0                     0.0%\n",
       "DropOff_datetime                     0                     0.0%\n",
       "PULocationID                         0                     0.0%\n",
       "DOLocationID                         0                     0.0%\n",
       "trip_miles                           0                     0.0%\n",
       "driver_pay                           0                     0.0%\n",
       "VendorID                             0                     0.0%\n",
       "source                               0                     0.0%\n",
       "trip_time                            0                     0.0%"
      ]
     },
     "execution_count": 23,
     "metadata": {},
     "output_type": "execute_result"
    }
   ],
   "source": [
    "suma_duplicados(df_taxi_green)"
   ]
  },
  {
   "cell_type": "code",
   "execution_count": 24,
   "metadata": {},
   "outputs": [
    {
     "data": {
      "text/html": [
       "<div>\n",
       "<style scoped>\n",
       "    .dataframe tbody tr th:only-of-type {\n",
       "        vertical-align: middle;\n",
       "    }\n",
       "\n",
       "    .dataframe tbody tr th {\n",
       "        vertical-align: top;\n",
       "    }\n",
       "\n",
       "    .dataframe thead th {\n",
       "        text-align: right;\n",
       "    }\n",
       "</style>\n",
       "<table border=\"1\" class=\"dataframe\">\n",
       "  <thead>\n",
       "    <tr style=\"text-align: right;\">\n",
       "      <th></th>\n",
       "      <th>Numeros de nulos</th>\n",
       "      <th>Porcentaje de nulos</th>\n",
       "    </tr>\n",
       "  </thead>\n",
       "  <tbody>\n",
       "    <tr>\n",
       "      <th>LocationID</th>\n",
       "      <td>0</td>\n",
       "      <td>0.0%</td>\n",
       "    </tr>\n",
       "    <tr>\n",
       "      <th>Borough</th>\n",
       "      <td>0</td>\n",
       "      <td>0.0%</td>\n",
       "    </tr>\n",
       "    <tr>\n",
       "      <th>Zone</th>\n",
       "      <td>0</td>\n",
       "      <td>0.0%</td>\n",
       "    </tr>\n",
       "    <tr>\n",
       "      <th>the_geom</th>\n",
       "      <td>0</td>\n",
       "      <td>0.0%</td>\n",
       "    </tr>\n",
       "  </tbody>\n",
       "</table>\n",
       "</div>"
      ],
      "text/plain": [
       "            Numeros de nulos Porcentaje de nulos\n",
       "LocationID                 0                0.0%\n",
       "Borough                    0                0.0%\n",
       "Zone                       0                0.0%\n",
       "the_geom                   0                0.0%"
      ]
     },
     "execution_count": 24,
     "metadata": {},
     "output_type": "execute_result"
    }
   ],
   "source": [
    "null(df_taxi_zone)"
   ]
  },
  {
   "cell_type": "code",
   "execution_count": 25,
   "metadata": {},
   "outputs": [
    {
     "data": {
      "text/html": [
       "<div>\n",
       "<style scoped>\n",
       "    .dataframe tbody tr th:only-of-type {\n",
       "        vertical-align: middle;\n",
       "    }\n",
       "\n",
       "    .dataframe tbody tr th {\n",
       "        vertical-align: top;\n",
       "    }\n",
       "\n",
       "    .dataframe thead th {\n",
       "        text-align: right;\n",
       "    }\n",
       "</style>\n",
       "<table border=\"1\" class=\"dataframe\">\n",
       "  <thead>\n",
       "    <tr style=\"text-align: right;\">\n",
       "      <th></th>\n",
       "      <th>Numero de Duplicados</th>\n",
       "      <th>Porcentaje de Duplicados</th>\n",
       "    </tr>\n",
       "  </thead>\n",
       "  <tbody>\n",
       "    <tr>\n",
       "      <th>LocationID</th>\n",
       "      <td>0</td>\n",
       "      <td>0.0%</td>\n",
       "    </tr>\n",
       "    <tr>\n",
       "      <th>Borough</th>\n",
       "      <td>0</td>\n",
       "      <td>0.0%</td>\n",
       "    </tr>\n",
       "    <tr>\n",
       "      <th>Zone</th>\n",
       "      <td>0</td>\n",
       "      <td>0.0%</td>\n",
       "    </tr>\n",
       "    <tr>\n",
       "      <th>the_geom</th>\n",
       "      <td>0</td>\n",
       "      <td>0.0%</td>\n",
       "    </tr>\n",
       "  </tbody>\n",
       "</table>\n",
       "</div>"
      ],
      "text/plain": [
       "            Numero de Duplicados Porcentaje de Duplicados\n",
       "LocationID                     0                     0.0%\n",
       "Borough                        0                     0.0%\n",
       "Zone                           0                     0.0%\n",
       "the_geom                       0                     0.0%"
      ]
     },
     "execution_count": 25,
     "metadata": {},
     "output_type": "execute_result"
    }
   ],
   "source": [
    "suma_duplicados(df_taxi_zone)"
   ]
  },
  {
   "cell_type": "markdown",
   "metadata": {},
   "source": [
    "#### **Observaciones del Dataset `df_taxis_green`**\n",
    "\n",
    "1. **Tamaño del Dataset:**\n",
    "   - El dataset contiene **1.2 millones de filas** y **10 columnas**.\n",
    "\n",
    "2. **Tipos de Datos:**\n",
    "   - Las columnas incluyen una variedad de tipos de datos:\n",
    "     - **Numéricas:** 4 columnas.\n",
    "     - **Decimales:** 2 columnas.\n",
    "     - **Texto (Object):** 2 columnas.\n",
    "     - **Fechas:** 2 columnas.\n",
    "\n",
    "3. **Estructura:**\n",
    "   - Las columnas de tipo fecha representan eventos clave como el inicio (`Pickup_datetime`) y el fin (`DropOff_datetime`) de los viajes.\n",
    "   - Las columnas numéricas y decimales incluyen métricas relevantes como la distancia (`trip_miles`) y el pago al conductor (`driver_pay`).\n",
    "\n",
    "4. **Duplicados y faltantes**\n",
    "   - Es de mi agrado comunicar que no tenemos faltantes, ni dupulicados, ni columnas anidadas\n",
    "\n",
    "  "
   ]
  },
  {
   "cell_type": "code",
   "execution_count": 26,
   "metadata": {},
   "outputs": [
    {
     "data": {
      "text/html": [
       "<div>\n",
       "<style scoped>\n",
       "    .dataframe tbody tr th:only-of-type {\n",
       "        vertical-align: middle;\n",
       "    }\n",
       "\n",
       "    .dataframe tbody tr th {\n",
       "        vertical-align: top;\n",
       "    }\n",
       "\n",
       "    .dataframe thead th {\n",
       "        text-align: right;\n",
       "    }\n",
       "</style>\n",
       "<table border=\"1\" class=\"dataframe\">\n",
       "  <thead>\n",
       "    <tr style=\"text-align: right;\">\n",
       "      <th></th>\n",
       "      <th>id</th>\n",
       "      <th>Pickup_datetime</th>\n",
       "      <th>DropOff_datetime</th>\n",
       "      <th>PULocationID</th>\n",
       "      <th>DOLocationID</th>\n",
       "      <th>trip_miles</th>\n",
       "      <th>driver_pay</th>\n",
       "      <th>VendorID</th>\n",
       "      <th>source</th>\n",
       "      <th>trip_time</th>\n",
       "    </tr>\n",
       "  </thead>\n",
       "  <tbody>\n",
       "    <tr>\n",
       "      <th>0</th>\n",
       "      <td>1</td>\n",
       "      <td>2024-01-01 00:46:55</td>\n",
       "      <td>2024-01-01 00:58:25</td>\n",
       "      <td>236</td>\n",
       "      <td>239</td>\n",
       "      <td>1.98</td>\n",
       "      <td>21.66</td>\n",
       "      <td>2</td>\n",
       "      <td>G</td>\n",
       "      <td>690</td>\n",
       "    </tr>\n",
       "    <tr>\n",
       "      <th>1</th>\n",
       "      <td>2</td>\n",
       "      <td>2024-01-01 00:31:42</td>\n",
       "      <td>2024-01-01 00:52:34</td>\n",
       "      <td>65</td>\n",
       "      <td>170</td>\n",
       "      <td>6.54</td>\n",
       "      <td>42.66</td>\n",
       "      <td>2</td>\n",
       "      <td>G</td>\n",
       "      <td>1252</td>\n",
       "    </tr>\n",
       "    <tr>\n",
       "      <th>2</th>\n",
       "      <td>3</td>\n",
       "      <td>2024-01-01 00:30:21</td>\n",
       "      <td>2024-01-01 00:49:23</td>\n",
       "      <td>74</td>\n",
       "      <td>262</td>\n",
       "      <td>3.08</td>\n",
       "      <td>28.05</td>\n",
       "      <td>2</td>\n",
       "      <td>G</td>\n",
       "      <td>1142</td>\n",
       "    </tr>\n",
       "    <tr>\n",
       "      <th>3</th>\n",
       "      <td>4</td>\n",
       "      <td>2024-01-01 00:30:20</td>\n",
       "      <td>2024-01-01 00:42:12</td>\n",
       "      <td>74</td>\n",
       "      <td>116</td>\n",
       "      <td>2.40</td>\n",
       "      <td>16.70</td>\n",
       "      <td>1</td>\n",
       "      <td>G</td>\n",
       "      <td>712</td>\n",
       "    </tr>\n",
       "  </tbody>\n",
       "</table>\n",
       "</div>"
      ],
      "text/plain": [
       "   id     Pickup_datetime    DropOff_datetime  PULocationID  DOLocationID  \\\n",
       "0   1 2024-01-01 00:46:55 2024-01-01 00:58:25           236           239   \n",
       "1   2 2024-01-01 00:31:42 2024-01-01 00:52:34            65           170   \n",
       "2   3 2024-01-01 00:30:21 2024-01-01 00:49:23            74           262   \n",
       "3   4 2024-01-01 00:30:20 2024-01-01 00:42:12            74           116   \n",
       "\n",
       "   trip_miles  driver_pay VendorID source  trip_time  \n",
       "0        1.98       21.66        2      G        690  \n",
       "1        6.54       42.66        2      G       1252  \n",
       "2        3.08       28.05        2      G       1142  \n",
       "3        2.40       16.70        1      G        712  "
      ]
     },
     "execution_count": 26,
     "metadata": {},
     "output_type": "execute_result"
    }
   ],
   "source": [
    "df_taxi_green.head(4)"
   ]
  },
  {
   "cell_type": "markdown",
   "metadata": {},
   "source": [
    "### **Observaciones del Dataset `df_taxis_zones`**\n",
    "\n",
    "1. **Tamaño del Dataset:**\n",
    "   - El dataset contiene **261 filas** y **4 columnas**.\n",
    "\n",
    "2. **Tipos de Datos:**\n",
    "   - Las columnas incluyen los siguientes tipos de datos:\n",
    "     - **Numérica:** 1 columna.\n",
    "     - **Texto (Object):** 3 columnas.\n",
    "\n",
    "3. **Estructura:**\n",
    "   - La columna numérica (`LocationID`) identifica de manera única cada zona.\n",
    "   - Las columnas de texto (`Borough`, `Zone`, `the_geom`) describen el distrito, la zona y la geometría respectiva de cada ubicación.\n"
   ]
  },
  {
   "cell_type": "code",
   "execution_count": 27,
   "metadata": {},
   "outputs": [
    {
     "data": {
      "text/html": [
       "<div>\n",
       "<style scoped>\n",
       "    .dataframe tbody tr th:only-of-type {\n",
       "        vertical-align: middle;\n",
       "    }\n",
       "\n",
       "    .dataframe tbody tr th {\n",
       "        vertical-align: top;\n",
       "    }\n",
       "\n",
       "    .dataframe thead th {\n",
       "        text-align: right;\n",
       "    }\n",
       "</style>\n",
       "<table border=\"1\" class=\"dataframe\">\n",
       "  <thead>\n",
       "    <tr style=\"text-align: right;\">\n",
       "      <th></th>\n",
       "      <th>LocationID</th>\n",
       "      <th>Borough</th>\n",
       "      <th>Zone</th>\n",
       "      <th>the_geom</th>\n",
       "    </tr>\n",
       "  </thead>\n",
       "  <tbody>\n",
       "    <tr>\n",
       "      <th>0</th>\n",
       "      <td>1</td>\n",
       "      <td>EWR</td>\n",
       "      <td>Newark Airport</td>\n",
       "      <td>MULTIPOLYGON (((-74.18445299999996 40.69499599...</td>\n",
       "    </tr>\n",
       "    <tr>\n",
       "      <th>1</th>\n",
       "      <td>2</td>\n",
       "      <td>Queens</td>\n",
       "      <td>Jamaica Bay</td>\n",
       "      <td>MULTIPOLYGON (((-73.82337597260663 40.63898704...</td>\n",
       "    </tr>\n",
       "    <tr>\n",
       "      <th>2</th>\n",
       "      <td>3</td>\n",
       "      <td>Bronx</td>\n",
       "      <td>Allerton/Pelham Gardens</td>\n",
       "      <td>MULTIPOLYGON (((-73.84792614099985 40.87134223...</td>\n",
       "    </tr>\n",
       "    <tr>\n",
       "      <th>3</th>\n",
       "      <td>4</td>\n",
       "      <td>Manhattan</td>\n",
       "      <td>Alphabet City</td>\n",
       "      <td>MULTIPOLYGON (((-73.97177410965318 40.72582128...</td>\n",
       "    </tr>\n",
       "  </tbody>\n",
       "</table>\n",
       "</div>"
      ],
      "text/plain": [
       "   LocationID    Borough                     Zone  \\\n",
       "0           1        EWR           Newark Airport   \n",
       "1           2     Queens              Jamaica Bay   \n",
       "2           3      Bronx  Allerton/Pelham Gardens   \n",
       "3           4  Manhattan            Alphabet City   \n",
       "\n",
       "                                            the_geom  \n",
       "0  MULTIPOLYGON (((-74.18445299999996 40.69499599...  \n",
       "1  MULTIPOLYGON (((-73.82337597260663 40.63898704...  \n",
       "2  MULTIPOLYGON (((-73.84792614099985 40.87134223...  \n",
       "3  MULTIPOLYGON (((-73.97177410965318 40.72582128...  "
      ]
     },
     "execution_count": 27,
     "metadata": {},
     "output_type": "execute_result"
    }
   ],
   "source": [
    "df_taxi_zone.head(4)"
   ]
  },
  {
   "cell_type": "markdown",
   "metadata": {},
   "source": [
    "## 3. ***Exploración General***"
   ]
  },
  {
   "cell_type": "code",
   "execution_count": 35,
   "metadata": {},
   "outputs": [
    {
     "data": {
      "text/html": [
       "<div>\n",
       "<style scoped>\n",
       "    .dataframe tbody tr th:only-of-type {\n",
       "        vertical-align: middle;\n",
       "    }\n",
       "\n",
       "    .dataframe tbody tr th {\n",
       "        vertical-align: top;\n",
       "    }\n",
       "\n",
       "    .dataframe thead th {\n",
       "        text-align: right;\n",
       "    }\n",
       "</style>\n",
       "<table border=\"1\" class=\"dataframe\">\n",
       "  <thead>\n",
       "    <tr style=\"text-align: right;\">\n",
       "      <th></th>\n",
       "      <th>trip_miles</th>\n",
       "      <th>trip_time</th>\n",
       "      <th>driver_pay</th>\n",
       "    </tr>\n",
       "  </thead>\n",
       "  <tbody>\n",
       "    <tr>\n",
       "      <th>count</th>\n",
       "      <td>1.228937e+06</td>\n",
       "      <td>1.228937e+06</td>\n",
       "      <td>1.228937e+06</td>\n",
       "    </tr>\n",
       "    <tr>\n",
       "      <th>mean</th>\n",
       "      <td>1.823741e+01</td>\n",
       "      <td>1.163003e+03</td>\n",
       "      <td>2.386643e+01</td>\n",
       "    </tr>\n",
       "    <tr>\n",
       "      <th>std</th>\n",
       "      <td>1.018510e+03</td>\n",
       "      <td>4.645839e+03</td>\n",
       "      <td>1.983473e+01</td>\n",
       "    </tr>\n",
       "    <tr>\n",
       "      <th>min</th>\n",
       "      <td>0.000000e+00</td>\n",
       "      <td>0.000000e+00</td>\n",
       "      <td>-5.010000e+02</td>\n",
       "    </tr>\n",
       "    <tr>\n",
       "      <th>25%</th>\n",
       "      <td>1.140000e+00</td>\n",
       "      <td>4.510000e+02</td>\n",
       "      <td>1.360000e+01</td>\n",
       "    </tr>\n",
       "    <tr>\n",
       "      <th>50%</th>\n",
       "      <td>1.900000e+00</td>\n",
       "      <td>7.140000e+02</td>\n",
       "      <td>1.900000e+01</td>\n",
       "    </tr>\n",
       "    <tr>\n",
       "      <th>75%</th>\n",
       "      <td>3.390000e+00</td>\n",
       "      <td>1.108000e+03</td>\n",
       "      <td>2.802000e+01</td>\n",
       "    </tr>\n",
       "    <tr>\n",
       "      <th>max</th>\n",
       "      <td>2.789900e+05</td>\n",
       "      <td>8.639500e+04</td>\n",
       "      <td>4.004500e+03</td>\n",
       "    </tr>\n",
       "  </tbody>\n",
       "</table>\n",
       "</div>"
      ],
      "text/plain": [
       "         trip_miles     trip_time    driver_pay\n",
       "count  1.228937e+06  1.228937e+06  1.228937e+06\n",
       "mean   1.823741e+01  1.163003e+03  2.386643e+01\n",
       "std    1.018510e+03  4.645839e+03  1.983473e+01\n",
       "min    0.000000e+00  0.000000e+00 -5.010000e+02\n",
       "25%    1.140000e+00  4.510000e+02  1.360000e+01\n",
       "50%    1.900000e+00  7.140000e+02  1.900000e+01\n",
       "75%    3.390000e+00  1.108000e+03  2.802000e+01\n",
       "max    2.789900e+05  8.639500e+04  4.004500e+03"
      ]
     },
     "execution_count": 35,
     "metadata": {},
     "output_type": "execute_result"
    }
   ],
   "source": [
    "std_taxis = df_taxi_green[['trip_miles', 'trip_time', 'driver_pay']]\n",
    "std_taxis.describe()"
   ]
  },
  {
   "cell_type": "code",
   "execution_count": null,
   "metadata": {},
   "outputs": [],
   "source": []
  }
 ],
 "metadata": {
  "kernelspec": {
   "display_name": "Python 3",
   "language": "python",
   "name": "python3"
  },
  "language_info": {
   "codemirror_mode": {
    "name": "ipython",
    "version": 3
   },
   "file_extension": ".py",
   "mimetype": "text/x-python",
   "name": "python",
   "nbconvert_exporter": "python",
   "pygments_lexer": "ipython3",
   "version": "3.11.9"
  }
 },
 "nbformat": 4,
 "nbformat_minor": 2
}
