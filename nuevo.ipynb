{
 "cells": [
  {
   "cell_type": "markdown",
   "metadata": {},
   "source": [
    "import pandas as pd\n",
    "import os\n",
    "\n",
    "# Ruta de la carpeta con los archivos .parquet\n",
    "folder_path = 'D:\\\\GitHub\\\\Proyecto Final\\\\Proyecto_final_Henry\\\\Dataset'\n",
    "\n",
    "# Nombre del archivo específico que quieres inspeccionar\n",
    "file_to_inspect = 'green_tripdata_2024-08.parquet'\n",
    "\n",
    "# Leer el archivo .parquet y mostrar las columnas\n",
    "file_path = os.path.join(folder_path, file_to_inspect)\n",
    "\n",
    "try:\n",
    "    # Leer archivo .parquet\n",
    "    df = pd.read_parquet(file_path)\n",
    "    \n",
    "    # Mostrar las columnas del archivo\n",
    "    print(f\"Columnas del archivo {file_to_inspect}:\")\n",
    "    print(df.columns.tolist())\n",
    "    \n",
    "except Exception as e:\n",
    "    print(f\"Error al leer {file_path}: {e}\")\n"
   ]
  }
 ],
 "metadata": {
  "language_info": {
   "name": "python"
  }
 },
 "nbformat": 4,
 "nbformat_minor": 2
}
