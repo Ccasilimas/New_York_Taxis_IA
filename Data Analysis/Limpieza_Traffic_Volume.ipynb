{
 "cells": [
  {
   "cell_type": "markdown",
   "metadata": {},
   "source": [
    "## Importar librerias y archivo de trafico"
   ]
  },
  {
   "cell_type": "code",
   "execution_count": 1,
   "metadata": {},
   "outputs": [
    {
     "name": "stdout",
     "output_type": "stream",
     "text": [
      "Columnas del dataset:\n",
      "Index(['RequestID', 'Boro', 'Yr', 'M', 'D', 'HH', 'MM', 'Vol', 'SegmentID',\n",
      "       'WktGeom', 'street', 'fromSt', 'toSt', 'Direction'],\n",
      "      dtype='object')\n",
      "\n",
      "Primeras filas del dataset:\n",
      "   RequestID    Boro    Yr  M   D  HH  MM  Vol  SegmentID  \\\n",
      "0      32970  Queens  2021  4  30   2   0    0     149701   \n",
      "1      32970  Queens  2021  4  30   2  15    1     149701   \n",
      "2      32970  Queens  2021  4  30   2  30    0     149701   \n",
      "3      32970  Queens  2021  4  30   2  45    0     149701   \n",
      "4      32970  Queens  2021  4  30   3   0    1     149701   \n",
      "\n",
      "                                        WktGeom          street  \\\n",
      "0  POINT (997407.0998491726 208620.92612708386)  PULASKI BRIDGE   \n",
      "1  POINT (997407.0998491726 208620.92612708386)  PULASKI BRIDGE   \n",
      "2  POINT (997407.0998491726 208620.92612708386)  PULASKI BRIDGE   \n",
      "3  POINT (997407.0998491726 208620.92612708386)  PULASKI BRIDGE   \n",
      "4  POINT (997407.0998491726 208620.92612708386)  PULASKI BRIDGE   \n",
      "\n",
      "                    fromSt      toSt Direction  \n",
      "0  Newtown Creek Shoreline  Dead end        NB  \n",
      "1  Newtown Creek Shoreline  Dead end        NB  \n",
      "2  Newtown Creek Shoreline  Dead end        NB  \n",
      "3  Newtown Creek Shoreline  Dead end        NB  \n",
      "4  Newtown Creek Shoreline  Dead end        NB  \n"
     ]
    }
   ],
   "source": [
    "import pandas as pd\n",
    "\n",
    "# Ruta al archivo CSV\n",
    "file_path = 'Automated_Traffic_Volume_Counts_20241108.csv'\n",
    "\n",
    "# Leer el archivo CSV\n",
    "df = pd.read_csv(file_path)\n",
    "\n",
    "# Mostrar las columnas del dataset\n",
    "print(\"Columnas del dataset:\")\n",
    "print(df.columns)\n",
    "\n",
    "# Mostrar las primeras filas del dataset para tener una idea de los datos\n",
    "print(\"\\nPrimeras filas del dataset:\")\n",
    "print(df.head())\n",
    "\n"
   ]
  },
  {
   "cell_type": "markdown",
   "metadata": {},
   "source": [
    "## Se eliminan columnas irrelevantes para el analisis"
   ]
  },
  {
   "cell_type": "code",
   "execution_count": 2,
   "metadata": {},
   "outputs": [
    {
     "name": "stdout",
     "output_type": "stream",
     "text": [
      "     Boro    Yr  M   D  HH  MM  Vol  SegmentID\n",
      "0  Queens  2021  4  30   2   0    0     149701\n",
      "1  Queens  2021  4  30   2  15    1     149701\n",
      "2  Queens  2021  4  30   2  30    0     149701\n",
      "3  Queens  2021  4  30   2  45    0     149701\n",
      "4  Queens  2021  4  30   3   0    1     149701\n"
     ]
    }
   ],
   "source": [
    "columnas_a_eliminar = [\n",
    "    'RequestID',  # ID de la solicitud, probablemente irrelevante para el análisis.\n",
    "    'WktGeom',    # Coordenadas geométricas en formato WKT, no necesarias para el análisis actual.\n",
    "    'street',     # Nombre de la calle, podría no ser necesario dependiendo del análisis.\n",
    "    'fromSt',     # Calle de origen, podría no ser necesaria.\n",
    "    'toSt',       # Calle de destino, podría no ser necesaria.\n",
    "    'Direction'   # Dirección del tráfico, podría no ser necesaria para algunos tipos de análisis.\n",
    "]\n",
    "\n",
    "# Eliminar las columnas del DataFrame\n",
    "df = df.drop(columns=columnas_a_eliminar, errors='ignore')\n",
    "\n",
    "# Mostrar las primeras filas del DataFrame limpio\n",
    "print(df.head())"
   ]
  }
 ],
 "metadata": {
  "kernelspec": {
   "display_name": "Python 3",
   "language": "python",
   "name": "python3"
  },
  "language_info": {
   "codemirror_mode": {
    "name": "ipython",
    "version": 3
   },
   "file_extension": ".py",
   "mimetype": "text/x-python",
   "name": "python",
   "nbconvert_exporter": "python",
   "pygments_lexer": "ipython3",
   "version": "3.12.7"
  }
 },
 "nbformat": 4,
 "nbformat_minor": 2
}
