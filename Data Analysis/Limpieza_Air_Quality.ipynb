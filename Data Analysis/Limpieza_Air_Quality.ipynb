{
 "cells": [
  {
   "cell_type": "markdown",
   "metadata": {},
   "source": [
    "## Importar librerias y archivo de Calidad de Aire"
   ]
  },
  {
   "cell_type": "code",
   "execution_count": null,
   "metadata": {},
   "outputs": [],
   "source": [
    "import pandas as pd\n",
    "\n",
    "# Ruta al archivo CSV\n",
    "file_path = 'Air_Quality_20241108.csv'\n",
    "\n",
    "# Leer el archivo CSV\n",
    "df = pd.read_csv(file_path)\n",
    "\n",
    "# Mostrar las columnas del dataset\n",
    "print(\"Columnas del dataset:\")\n",
    "print(df.columns)\n",
    "\n",
    "# Mostrar las primeras filas del dataset para tener una idea de los datos\n",
    "print(\"\\nPrimeras filas del dataset:\")\n",
    "print(df.head())\n",
    "\n"
   ]
  },
  {
   "cell_type": "markdown",
   "metadata": {},
   "source": [
    "# Eliminar columnas que no se utilizaran\n",
    "\n",
    "### Motivo de Eliminación\n",
    "\n",
    "**Unique ID:**\n",
    "*Motivo:* Identificación única del registro que no es necesaria para el análisis.\n",
    "\n",
    "**Indicator ID:**\n",
    "*Motivo:* ID del indicador que no aporta información adicional relevante para el análisis principal.\n",
    "\n",
    "**Name:**\n",
    "*Motivo:* Descripción detallada del indicador que puede ser redundante con otras columnas.\n",
    "\n",
    "**Measure Info:**\n",
    "*Motivo:* Información adicional sobre la medida que no es crítica para el análisis.\n",
    "\n",
    "**Geo Join ID:**\n",
    "*Motivo:* ID para unir datos geográficos que no es necesario para el análisis actual.\n",
    "\n",
    "**Message:**\n",
    "*Motivo:* Mensajes o anotaciones que pueden no aportar valor directo al análisis de emisiones.\n"
   ]
  },
  {
   "cell_type": "code",
   "execution_count": null,
   "metadata": {},
   "outputs": [],
   "source": [
    "# Columnas a eliminar\n",
    "columnas_a_eliminar = [\n",
    "    'Unique ID',\n",
    "    'Indicator ID',\n",
    "    'Name',\n",
    "    'Measure Info',\n",
    "    'Geo Join ID',\n",
    "    'Message'\n",
    "]\n",
    "\n",
    "# Eliminar las columnas\n",
    "df = df.drop(columns=columnas_a_eliminar, errors='ignore')\n"
   ]
  },
  {
   "cell_type": "code",
   "execution_count": null,
   "metadata": {},
   "outputs": [],
   "source": [
    "# Mostrar las primeras filas del DataFrame limpio\n",
    "print(df.head())"
   ]
  },
  {
   "cell_type": "markdown",
   "metadata": {},
   "source": [
    "# Valores nulos del dataframe"
   ]
  },
  {
   "cell_type": "code",
   "execution_count": null,
   "metadata": {},
   "outputs": [],
   "source": [
    "\n",
    "# Obtener los valores nulos del DataFrame\n",
    "valores_nulos = df.isnull().sum()\n",
    "\n",
    "# Mostrar los valores nulos\n",
    "print(\"\\nValores nulos por columna:\")\n",
    "print(valores_nulos)"
   ]
  },
  {
   "cell_type": "markdown",
   "metadata": {},
   "source": [
    "# Eliminar las filas donde 'Geo Place Name' tenga valores nulos"
   ]
  },
  {
   "cell_type": "code",
   "execution_count": null,
   "metadata": {},
   "outputs": [],
   "source": [
    "\n",
    "# Eliminar las filas donde 'Geo Place Name' tenga valores nulos\n",
    "df = df.dropna(subset=['Geo Place Name'])\n"
   ]
  },
  {
   "cell_type": "markdown",
   "metadata": {},
   "source": [
    "# Mostrar la cantidad de filas en el DataFrame\n"
   ]
  },
  {
   "cell_type": "code",
   "execution_count": 13,
   "metadata": {},
   "outputs": [
    {
     "name": "stdout",
     "output_type": "stream",
     "text": [
      "Cantidad de filas en el DataFrame:\n",
      "18016\n"
     ]
    }
   ],
   "source": [
    "# Mostrar la cantidad de filas en el DataFrame\n",
    "print(\"Cantidad de filas en el DataFrame:\")\n",
    "print(df.shape[0])"
   ]
  },
  {
   "cell_type": "markdown",
   "metadata": {},
   "source": [
    "# Mostrar la cantidad de valores nulos en cada columna del DataFrame\n"
   ]
  },
  {
   "cell_type": "code",
   "execution_count": 14,
   "metadata": {},
   "outputs": [
    {
     "name": "stdout",
     "output_type": "stream",
     "text": [
      "Cantidad de valores nulos en cada columna:\n",
      "Measure           0\n",
      "Geo Type Name     0\n",
      "Geo Place Name    0\n",
      "Time Period       0\n",
      "Start_Date        0\n",
      "Data Value        0\n",
      "dtype: int64\n"
     ]
    }
   ],
   "source": [
    "# Mostrar la cantidad de valores nulos en cada columna del DataFrame\n",
    "print(\"Cantidad de valores nulos en cada columna:\")\n",
    "print(df.isnull().sum())"
   ]
  },
  {
   "cell_type": "markdown",
   "metadata": {},
   "source": [
    "# Buscar duplicados en el DataFrame\n"
   ]
  },
  {
   "cell_type": "code",
   "execution_count": 16,
   "metadata": {},
   "outputs": [
    {
     "name": "stdout",
     "output_type": "stream",
     "text": [
      "Filas duplicadas donde todos los datos son iguales:\n",
      "                               Measure Geo Type Name  \\\n",
      "1708                              Mean         UHF42   \n",
      "3972                              Mean         UHF34   \n",
      "4035                              Mean            CD   \n",
      "7315                    Number per km2         UHF42   \n",
      "8836                              Mean            CD   \n",
      "9909             Estimated annual rate         UHF42   \n",
      "10128            Estimated annual rate         UHF42   \n",
      "10242            Estimated annual rate         UHF42   \n",
      "10247            Estimated annual rate         UHF42   \n",
      "10340            Estimated annual rate         UHF42   \n",
      "10422            Estimated annual rate         UHF42   \n",
      "10545  Estimated annual rate (age 18+)         UHF42   \n",
      "10683            Estimated annual rate         UHF42   \n",
      "10866            Estimated annual rate         UHF42   \n",
      "11037     Annual average concentration         UHF42   \n",
      "11116                             Mean            CD   \n",
      "11314            Estimated annual rate         UHF42   \n",
      "11470            Estimated annual rate         UHF42   \n",
      "11750            Estimated annual rate       Borough   \n",
      "12055            Estimated annual rate         UHF42   \n",
      "12319     Annual average concentration         UHF42   \n",
      "12477                   Number per km2         UHF42   \n",
      "12496     Annual average concentration         UHF42   \n",
      "12634            Estimated annual rate       Borough   \n",
      "13524                   Number per km2         UHF42   \n",
      "14371                   Number per km2         UHF42   \n",
      "14467                   Number per km2         UHF42   \n",
      "14529                   Number per km2         UHF42   \n",
      "14722     Annual average concentration         UHF42   \n",
      "15072     Annual average concentration         UHF42   \n",
      "15162     Annual average concentration            CD   \n",
      "15722                   Number per km2         UHF42   \n",
      "15730     Annual average concentration            CD   \n",
      "15810                   Number per km2         UHF42   \n",
      "15916                   Number per km2         UHF42   \n",
      "15951                   Number per km2         UHF42   \n",
      "16943            Estimated annual rate         UHF42   \n",
      "17022                             Mean         UHF34   \n",
      "17684     Annual average concentration         UHF42   \n",
      "\n",
      "                          Geo Place Name  Time Period  Start_Date  Data Value  \n",
      "1708                           Rockaways  Summer 2014  06/01/2014         7.4  \n",
      "3972                           Rockaways  Summer 2014  06/01/2014         7.4  \n",
      "4035   Rockaway and Broad Channel (CD14)  Summer 2017  06/01/2017         7.7  \n",
      "7315                Canarsie - Flatlands         2015  01/01/2015         0.0  \n",
      "8836                 Coney Island (CD13)  Summer 2021  06/01/2021         8.0  \n",
      "9909                Pelham - Throgs Neck    2012-2014  01/02/2012        13.9  \n",
      "10128                   Crotona -Tremont    2017-2019  01/01/2017        13.0  \n",
      "10242                         Greenpoint    2017-2019  01/01/2017         4.0  \n",
      "10247           Ridgewood - Forest Hills    2017-2019  01/01/2017         5.0  \n",
      "10340                    Upper West Side    2017-2019  01/01/2017         5.0  \n",
      "10422                      Fresh Meadows    2017-2019  01/01/2017         5.0  \n",
      "10545                        Willowbrook    2005-2007  01/01/2005        16.2  \n",
      "10683               Flushing - Clearview    2017-2019  01/01/2017         6.0  \n",
      "10866                    Northeast Bronx    2017-2019  01/01/2017        10.0  \n",
      "11037                        East Harlem         2005  01/01/2005         4.2  \n",
      "11116  South Beach and Willowbrook (CD2)  Summer 2015  06/01/2015         8.8  \n",
      "11314                    Northeast Bronx    2005-2007  01/01/2005        25.9  \n",
      "11470          South Beach - Tottenville    2017-2019  01/01/2017        10.0  \n",
      "11750                             Queens    2017-2019  01/01/2017         5.0  \n",
      "12055           Greenwich Village - SoHo    2017-2019  01/01/2017         3.0  \n",
      "12319                    Upper East Side         2005  01/01/2005         4.5  \n",
      "12477                      Port Richmond         2015  01/01/2015         0.0  \n",
      "12496                        Sunset Park         2005  01/01/2005         3.2  \n",
      "12634                              Bronx    2017-2019  01/01/2017        12.0  \n",
      "13524                          Rockaways         2013  01/01/2013         0.0  \n",
      "14371                        Willowbrook         2013  01/01/2013         0.0  \n",
      "14467          South Beach - Tottenville         2013  01/01/2013         0.0  \n",
      "14529                      Port Richmond         2013  01/01/2013         0.0  \n",
      "14722        Gramercy Park - Murray Hill         2005  01/01/2005         5.3  \n",
      "15072        Gramercy Park - Murray Hill         2011  01/01/2011         2.8  \n",
      "15162   Greenwich Village and Soho (CD2)         2011  01/01/2011         2.6  \n",
      "15722               Canarsie - Flatlands         2013  01/01/2013         0.0  \n",
      "15730          Clinton and Chelsea (CD4)         2011  01/01/2011         2.9  \n",
      "15810                          Rockaways         2015  01/01/2015         0.0  \n",
      "15916                        Willowbrook         2015  01/01/2015         0.0  \n",
      "15951          South Beach - Tottenville         2015  01/01/2015         0.0  \n",
      "16943             Stapleton - St. George    2017-2019  01/01/2017        12.0  \n",
      "17022       Union Square-Lower Manhattan  Summer 2013  06/01/2013        25.3  \n",
      "17684           Greenwich Village - SoHo         2011  01/01/2011         2.6  \n"
     ]
    }
   ],
   "source": [
    "# Buscar filas duplicadas donde todos los datos sean iguales\n",
    "duplicados_completos = df[df.duplicated()]\n",
    "\n",
    "# Mostrar las filas duplicadas\n",
    "print(\"Filas duplicadas donde todos los datos son iguales:\")\n",
    "print(duplicados_completos)"
   ]
  }
 ],
 "metadata": {
  "kernelspec": {
   "display_name": "Python 3",
   "language": "python",
   "name": "python3"
  },
  "language_info": {
   "codemirror_mode": {
    "name": "ipython",
    "version": 3
   },
   "file_extension": ".py",
   "mimetype": "text/x-python",
   "name": "python",
   "nbconvert_exporter": "python",
   "pygments_lexer": "ipython3",
   "version": "3.12.7"
  }
 },
 "nbformat": 4,
 "nbformat_minor": 2
}
