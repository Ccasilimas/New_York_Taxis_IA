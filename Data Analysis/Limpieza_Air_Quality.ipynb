{
 "cells": [
  {
   "cell_type": "markdown",
   "metadata": {},
   "source": [
    "## Importar librerias y archivo de Calidad de Aire"
   ]
  },
  {
   "cell_type": "code",
   "execution_count": null,
   "metadata": {},
   "outputs": [],
   "source": [
    "import pandas as pd\n",
    "\n",
    "# Ruta al archivo CSV\n",
    "file_path = 'Air_Quality_20241108.csv'\n",
    "\n",
    "# Leer el archivo CSV\n",
    "df = pd.read_csv(file_path)\n",
    "\n",
    "# Mostrar las columnas del dataset\n",
    "print(\"Columnas del dataset:\")\n",
    "print(df.columns)\n",
    "\n",
    "# Mostrar las primeras filas del dataset para tener una idea de los datos\n",
    "print(\"\\nPrimeras filas del dataset:\")\n",
    "print(df.head())\n",
    "\n"
   ]
  },
  {
   "cell_type": "markdown",
   "metadata": {},
   "source": [
    "# Eliminar columnas que no se utilizaran\n",
    "\n",
    "### Motivo de Eliminación\n",
    "\n",
    "**Unique ID:**\n",
    "*Motivo:* Identificación única del registro que no es necesaria para el análisis.\n",
    "\n",
    "**Indicator ID:**\n",
    "*Motivo:* ID del indicador que no aporta información adicional relevante para el análisis principal.\n",
    "\n",
    "**Name:**\n",
    "*Motivo:* Descripción detallada del indicador que puede ser redundante con otras columnas.\n",
    "\n",
    "**Measure Info:**\n",
    "*Motivo:* Información adicional sobre la medida que no es crítica para el análisis.\n",
    "\n",
    "**Geo Join ID:**\n",
    "*Motivo:* ID para unir datos geográficos que no es necesario para el análisis actual.\n",
    "\n",
    "**Message:**\n",
    "*Motivo:* Mensajes o anotaciones que pueden no aportar valor directo al análisis de emisiones.\n"
   ]
  },
  {
   "cell_type": "code",
   "execution_count": null,
   "metadata": {},
   "outputs": [],
   "source": [
    "# Columnas a eliminar\n",
    "columnas_a_eliminar = [\n",
    "    'Unique ID',\n",
    "    'Indicator ID',\n",
    "    'Name',\n",
    "    'Measure Info',\n",
    "    'Geo Join ID',\n",
    "    'Message'\n",
    "]\n",
    "\n",
    "# Eliminar las columnas\n",
    "df = df.drop(columns=columnas_a_eliminar, errors='ignore')\n"
   ]
  },
  {
   "cell_type": "code",
   "execution_count": null,
   "metadata": {},
   "outputs": [],
   "source": [
    "# Mostrar las primeras filas del DataFrame limpio\n",
    "print(df.head())"
   ]
  },
  {
   "cell_type": "markdown",
   "metadata": {},
   "source": [
    "# Valores nulos del dataframe"
   ]
  },
  {
   "cell_type": "code",
   "execution_count": null,
   "metadata": {},
   "outputs": [],
   "source": [
    "\n",
    "# Obtener los valores nulos del DataFrame\n",
    "valores_nulos = df.isnull().sum()\n",
    "\n",
    "# Mostrar los valores nulos\n",
    "print(\"\\nValores nulos por columna:\")\n",
    "print(valores_nulos)"
   ]
  },
  {
   "cell_type": "markdown",
   "metadata": {},
   "source": [
    "# Eliminar las filas donde 'Geo Place Name' tenga valores nulos"
   ]
  },
  {
   "cell_type": "code",
   "execution_count": null,
   "metadata": {},
   "outputs": [],
   "source": [
    "\n",
    "# Eliminar las filas donde 'Geo Place Name' tenga valores nulos\n",
    "df = df.dropna(subset=['Geo Place Name'])\n"
   ]
  },
  {
   "cell_type": "markdown",
   "metadata": {},
   "source": [
    "# Mostrar la cantidad de filas en el DataFrame\n"
   ]
  },
  {
   "cell_type": "code",
   "execution_count": 13,
   "metadata": {},
   "outputs": [
    {
     "name": "stdout",
     "output_type": "stream",
     "text": [
      "Cantidad de filas en el DataFrame:\n",
      "18016\n"
     ]
    }
   ],
   "source": [
    "# Mostrar la cantidad de filas en el DataFrame\n",
    "print(\"Cantidad de filas en el DataFrame:\")\n",
    "print(df.shape[0])"
   ]
  },
  {
   "cell_type": "markdown",
   "metadata": {},
   "source": [
    "# Mostrar la cantidad de valores nulos en cada columna del DataFrame\n"
   ]
  },
  {
   "cell_type": "code",
   "execution_count": 14,
   "metadata": {},
   "outputs": [
    {
     "name": "stdout",
     "output_type": "stream",
     "text": [
      "Cantidad de valores nulos en cada columna:\n",
      "Measure           0\n",
      "Geo Type Name     0\n",
      "Geo Place Name    0\n",
      "Time Period       0\n",
      "Start_Date        0\n",
      "Data Value        0\n",
      "dtype: int64\n"
     ]
    }
   ],
   "source": [
    "# Mostrar la cantidad de valores nulos en cada columna del DataFrame\n",
    "print(\"Cantidad de valores nulos en cada columna:\")\n",
    "print(df.isnull().sum())"
   ]
  }
 ],
 "metadata": {
  "kernelspec": {
   "display_name": "Python 3",
   "language": "python",
   "name": "python3"
  },
  "language_info": {
   "codemirror_mode": {
    "name": "ipython",
    "version": 3
   },
   "file_extension": ".py",
   "mimetype": "text/x-python",
   "name": "python",
   "nbconvert_exporter": "python",
   "pygments_lexer": "ipython3",
   "version": "3.12.7"
  }
 },
 "nbformat": 4,
 "nbformat_minor": 2
}
