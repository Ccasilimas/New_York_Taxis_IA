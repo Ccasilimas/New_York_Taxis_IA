{
 "cells": [
  {
   "cell_type": "markdown",
   "metadata": {},
   "source": [
    "# Se Importan librerias y dataframe "
   ]
  },
  {
   "cell_type": "code",
   "execution_count": null,
   "metadata": {
    "colab": {
     "base_uri": "https://localhost:8080/"
    },
    "id": "eBCsCBokxtXG",
    "outputId": "94b5a2c2-f24d-43a4-a5e5-6f75a4aced9d"
   },
   "outputs": [],
   "source": [
    "import pandas as pd\n",
    "import seaborn as sns\n",
    "import matplotlib.pyplot as plt\n",
    "\n",
    "# Cargar los datos desde el almacenamiento\n",
    "df_medallion = pd.read_csv('Medallion_clean.csv')\n",
    "\n",
    "# Mostrar las primeras filas de cada DataFrame\n",
    "print(df_medallion.head())\n"
   ]
  },
  {
   "cell_type": "markdown",
   "metadata": {},
   "source": [
    "# Se eliminan columnas inecesarias"
   ]
  },
  {
   "cell_type": "markdown",
   "metadata": {},
   "source": [
    "# Razones para la Eliminación\n",
    "\n",
    "**Name, Expiration Date, Current Status:**\n",
    "\n",
    "*Motivo:* Información administrativa que no es esencial para el análisis de eficiencia operativa o emisiones.\n",
    "\n",
    "**DMV License Plate Number:**\n",
    "\n",
    "*Motivo:* Número de identificación de la placa del vehículo, no relevante para el análisis de nuestro objetivo.\n",
    "\n",
    "**Medallion Type, Agent Number, Agent Telephone Number, Agent Name:**\n",
    "\n",
    "*Motivo:* Información administrativa sobre agentes y tipos de medallones, no crítica para el análisis de operaciones.\n",
    "\n",
    "**Agent Website Address, Agent Address:**\n",
    "\n",
    "*Motivo:* Información adicional sobre agentes, no aporta valor significativo al análisis principal de eficiencia y emisiones.\n",
    "\n",
    "**Last Time Updated:**\n",
    "\n",
    "*Motivo:* Esta columna se integra con Last Date Updated para formar una única columna *Last Updated*, facilitando así la eliminación de duplicados y manteniendo la información más reciente.\n"
   ]
  },
  {
   "cell_type": "code",
   "execution_count": null,
   "metadata": {
    "id": "i7tKjOqn8Rkt"
   },
   "outputs": [],
   "source": [
    "# Columnas a eliminar\n",
    "columnas_a_eliminar_medallion =  [\n",
    "    'Name', 'Expiration Date', 'Current Status', 'DMV License Plate Number',\n",
    "    'Medallion Type', 'Agent Number', 'Agent Telephone Number', 'Agent Name',\n",
    "    'Agent Website Address','Agent Address', 'Last Time Updated'\n",
    "]\n",
    "\n",
    "\n",
    "# Eliminar columnas\n",
    "df_medallion = df_medallion.drop(columns=columnas_a_eliminar_medallion, errors='ignore')\n"
   ]
  },
  {
   "cell_type": "markdown",
   "metadata": {},
   "source": [
    "# Ver Valores nulos en Medallion"
   ]
  },
  {
   "cell_type": "code",
   "execution_count": null,
   "metadata": {
    "colab": {
     "base_uri": "https://localhost:8080/",
     "height": 289
    },
    "id": "JYIZgTGg8bVM",
    "outputId": "cf2a14cc-0895-4e66-883b-a0661611aeef"
   },
   "outputs": [],
   "source": [
    "# Valores nulos en Medallion\n",
    "print(\"Valores nulos en Medallion:\")\n",
    "display(df_medallion.isnull().sum())\n"
   ]
  },
  {
   "cell_type": "markdown",
   "metadata": {},
   "source": [
    "# Buscar duplicados"
   ]
  },
  {
   "cell_type": "code",
   "execution_count": null,
   "metadata": {
    "colab": {
     "base_uri": "https://localhost:8080/"
    },
    "id": "lBULtEuCElFY",
    "outputId": "e42608e1-d06f-4de4-ab6a-5db8cd148bfa"
   },
   "outputs": [],
   "source": [
    "# Contar valores duplicados de 'License Number'\n",
    "duplicate_license_count = df_medallion['License Number'].duplicated().sum()\n",
    "\n",
    "# Mostrar el conteo\n",
    "print(f\"Cantidad de valores duplicados de 'License Number': {duplicate_license_count}\")"
   ]
  },
  {
   "cell_type": "code",
   "execution_count": null,
   "metadata": {
    "colab": {
     "base_uri": "https://localhost:8080/"
    },
    "id": "uRyZoLtjGCyK",
    "outputId": "1feb9b72-4fbc-425c-ff93-469b0a86741c"
   },
   "outputs": [],
   "source": [
    "# Obtener la cantidad total de registros\n",
    "total_records = len(df_medallion)\n",
    "\n",
    "# Mostrar la cantidad total\n",
    "print(f\"Cantidad total de registros en df_medallion: {total_records}\")"
   ]
  },
  {
   "cell_type": "code",
   "execution_count": null,
   "metadata": {
    "colab": {
     "base_uri": "https://localhost:8080/"
    },
    "id": "vKwQtJLmHLZS",
    "outputId": "0b994079-35b8-42f6-be26-3deb155af3e1"
   },
   "outputs": [],
   "source": [
    "# Contar valores duplicados de 'Vehicle VIN Number'\n",
    "duplicate_vin_count = df_medallion['Vehicle VIN Number'].duplicated().sum()\n",
    "\n",
    "# Mostrar el conteo\n",
    "print(f\"Cantidad de valores duplicados de 'Vehicle VIN Number': {duplicate_vin_count}\")"
   ]
  },
  {
   "cell_type": "markdown",
   "metadata": {
    "id": "D0NcFHvpH5LL"
   },
   "source": [
    "# Eliminar duplicados y tomar valor de ultima fecha actualizada"
   ]
  },
  {
   "cell_type": "code",
   "execution_count": null,
   "metadata": {
    "id": "h69r7fNwamSB"
   },
   "outputs": [],
   "source": [
    "# Ordenar por 'Vehicle VIN Number' y 'Last Date Updated'\n",
    "df_medallion_sorted = df_medallion.sort_values(by=['Vehicle VIN Number', 'Last Date Updated'], ascending=[True, False])\n",
    "\n",
    "# Eliminar duplicados de 'Vehicle VIN Number', manteniendo el más reciente\n",
    "df_medallion = df_medallion_sorted.drop_duplicates(subset='Vehicle VIN Number', keep='first')\n",
    "\n",
    "# Ordenar el DataFrame limpio por 'License Number' y 'Last Date Updated'\n",
    "df_medallion = df_medallion_clean.sort_values(by=['License Number', 'Last Date Updated'], ascending=[True, False])\n",
    "\n",
    "# Eliminar duplicados de 'License Number' en el DataFrame limpio, manteniendo el más reciente\n",
    "df_medallion = df_medallion_clean.drop_duplicates(subset='License Number', keep='first')\n",
    "\n",
    "print(df_medallion.head())\n"
   ]
  },
  {
   "cell_type": "markdown",
   "metadata": {},
   "source": [
    "# Reemplazar valores NaN en la columna 'Vehicle Type' con 'SD'\n"
   ]
  },
  {
   "cell_type": "code",
   "execution_count": null,
   "metadata": {},
   "outputs": [],
   "source": [
    "# Reemplazar valores NaN en la columna 'Vehicle Type' con 'SD'\n",
    "df_medallion['Vehicle Type'] = df_medallion['Vehicle Type'].fillna('SD')"
   ]
  },
  {
   "cell_type": "markdown",
   "metadata": {},
   "source": [
    "# Corregir la columna Model_Year de df"
   ]
  },
  {
   "cell_type": "code",
   "execution_count": null,
   "metadata": {},
   "outputs": [],
   "source": [
    "\n",
    "# Eliminar filas con valores NaN en la columna 'Model Year'\n",
    "df_medallion = df_medallion.dropna(subset=['Model Year'])\n",
    "\n",
    "# Convertir la columna 'Model Year' a enteros sin decimales\n",
    "df_medallion['Model Year'] = df_medallion['Model Year'].astype(int)\n",
    "\n",
    "# Verificar los cambios\n",
    "print(df_medallion['Model Year'].dtype)\n",
    "print(df_medallion.head())"
   ]
  },
  {
   "cell_type": "markdown",
   "metadata": {},
   "source": [
    "# Se Exporta a CVS limpio "
   ]
  },
  {
   "cell_type": "code",
   "execution_count": null,
   "metadata": {
    "id": "l9FLYVKybdhq"
   },
   "outputs": [],
   "source": [
    "\n",
    "df_medallion.to_csv('medallion_clean.csv', index=False)"
   ]
  },
  {
   "cell_type": "markdown",
   "metadata": {},
   "source": [
    "# Analisis de los datos ya limpios"
   ]
  },
  {
   "cell_type": "code",
   "execution_count": null,
   "metadata": {},
   "outputs": [],
   "source": [
    "# Cargar el archivo CSV\n",
    "file_path = r'medallion_clean111.csv'\n",
    "df_medallion_clean = pd.read_csv(file_path)\n",
    "\n",
    "# Describir el DataFrame\n",
    "print(\"Descripción del DataFrame:\")\n",
    "print(df_medallion_clean.describe(include='all'))\n",
    "\n",
    "# Verificar valores nulos\n",
    "print(\"\\nValores nulos por columna:\")\n",
    "print(df_medallion_clean.isnull().sum())\n",
    "\n",
    "# Buscar duplicados\n",
    "print(\"\\nCantidad de filas duplicadas:\")\n",
    "print(df_medallion_clean.duplicated().sum())\n",
    "\n",
    "# Analizar tipos de datos\n",
    "print(\"\\nTipos de datos por columna:\")\n",
    "print(df_medallion_clean.dtypes)\n",
    "\n",
    "print(f\"Cantidad de líneas en df_medallion_clean: {len(df_medallion_clean)}\")"
   ]
  }
 ],
 "metadata": {
  "colab": {
   "provenance": []
  },
  "kernelspec": {
   "display_name": "Python 3",
   "name": "python3"
  },
  "language_info": {
   "codemirror_mode": {
    "name": "ipython",
    "version": 3
   },
   "file_extension": ".py",
   "mimetype": "text/x-python",
   "name": "python",
   "nbconvert_exporter": "python",
   "pygments_lexer": "ipython3",
   "version": "3.12.7"
  }
 },
 "nbformat": 4,
 "nbformat_minor": 0
}
