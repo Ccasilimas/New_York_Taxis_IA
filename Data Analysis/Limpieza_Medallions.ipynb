{
 "cells": [
  {
   "cell_type": "markdown",
   "metadata": {},
   "source": [
    "# Se Importan librerias y dataframe "
   ]
  },
  {
   "cell_type": "code",
   "execution_count": 4,
   "metadata": {
    "colab": {
     "base_uri": "https://localhost:8080/"
    },
    "id": "eBCsCBokxtXG",
    "outputId": "94b5a2c2-f24d-43a4-a5e5-6f75a4aced9d"
   },
   "outputs": [
    {
     "name": "stdout",
     "output_type": "stream",
     "text": [
      "  License Number Vehicle VIN Number Vehicle Type  Model Year Last Date Updated\n",
      "0           1A10  NM0GS9E29P1553903          WAV      2023.0        2024-11-07\n",
      "1           1A11  JTMRWRFV5ND149811          HYB      2022.0        2024-11-07\n",
      "2           1A12  4T1BD1FK5EU127379          NaN      2016.0        2020-06-30\n",
      "3           1A13  4T3LWRFV1MU047137          HYB      2021.0        2024-11-07\n",
      "4           1A14  5TDZZ3DC3LS050041          WAV      2020.0        2024-11-07\n"
     ]
    }
   ],
   "source": [
    "import pandas as pd\n",
    "import seaborn as sns\n",
    "import matplotlib.pyplot as plt\n",
    "\n",
    "# Cargar los datos desde el almacenamiento\n",
    "df_medallion = pd.read_csv('Medallion_clean.csv')\n",
    "\n",
    "# Mostrar las primeras filas de cada DataFrame\n",
    "print(df_medallion.head())\n"
   ]
  },
  {
   "cell_type": "markdown",
   "metadata": {},
   "source": [
    "# Se eliminan columnas inecesarias"
   ]
  },
  {
   "cell_type": "markdown",
   "metadata": {},
   "source": [
    "# Razones para la Eliminación\n",
    "\n",
    "**Name, Expiration Date, Current Status:**\n",
    "\n",
    "*Motivo:* Información administrativa que no es esencial para el análisis de eficiencia operativa o emisiones.\n",
    "\n",
    "**DMV License Plate Number:**\n",
    "\n",
    "*Motivo:* Número de identificación de la placa del vehículo, no relevante para el análisis de nuestro objetivo.\n",
    "\n",
    "**Medallion Type, Agent Number, Agent Telephone Number, Agent Name:**\n",
    "\n",
    "*Motivo:* Información administrativa sobre agentes y tipos de medallones, no crítica para el análisis de operaciones.\n",
    "\n",
    "**Agent Website Address, Agent Address:**\n",
    "\n",
    "*Motivo:* Información adicional sobre agentes, no aporta valor significativo al análisis principal de eficiencia y emisiones.\n",
    "\n",
    "**Last Time Updated:**\n",
    "\n",
    "*Motivo:* Esta columna se integra con Last Date Updated para formar una única columna *Last Updated*, facilitando así la eliminación de duplicados y manteniendo la información más reciente.\n"
   ]
  },
  {
   "cell_type": "code",
   "execution_count": 5,
   "metadata": {
    "id": "i7tKjOqn8Rkt"
   },
   "outputs": [],
   "source": [
    "# Columnas a eliminar\n",
    "columnas_a_eliminar_medallion =  [\n",
    "    'Name', 'Expiration Date', 'Current Status', 'DMV License Plate Number',\n",
    "    'Medallion Type', 'Agent Number', 'Agent Telephone Number', 'Agent Name',\n",
    "    'Agent Website Address','Agent Address', 'Last Time Updated'\n",
    "]\n",
    "\n",
    "\n",
    "# Eliminar columnas\n",
    "df_medallion = df_medallion.drop(columns=columnas_a_eliminar_medallion, errors='ignore')\n"
   ]
  },
  {
   "cell_type": "markdown",
   "metadata": {},
   "source": [
    "# Ver Valores nulos en Medallion"
   ]
  },
  {
   "cell_type": "code",
   "execution_count": 6,
   "metadata": {
    "colab": {
     "base_uri": "https://localhost:8080/",
     "height": 289
    },
    "id": "JYIZgTGg8bVM",
    "outputId": "cf2a14cc-0895-4e66-883b-a0661611aeef"
   },
   "outputs": [
    {
     "name": "stdout",
     "output_type": "stream",
     "text": [
      "Valores nulos en Medallion:\n"
     ]
    },
    {
     "data": {
      "text/plain": [
       "License Number           0\n",
       "Vehicle VIN Number       0\n",
       "Vehicle Type          2517\n",
       "Model Year               1\n",
       "Last Date Updated        1\n",
       "dtype: int64"
      ]
     },
     "metadata": {},
     "output_type": "display_data"
    }
   ],
   "source": [
    "# Valores nulos en Medallion\n",
    "print(\"Valores nulos en Medallion:\")\n",
    "display(df_medallion.isnull().sum())\n"
   ]
  },
  {
   "cell_type": "markdown",
   "metadata": {},
   "source": [
    "# Buscar duplicados"
   ]
  },
  {
   "cell_type": "code",
   "execution_count": 7,
   "metadata": {
    "colab": {
     "base_uri": "https://localhost:8080/"
    },
    "id": "lBULtEuCElFY",
    "outputId": "e42608e1-d06f-4de4-ab6a-5db8cd148bfa"
   },
   "outputs": [
    {
     "name": "stdout",
     "output_type": "stream",
     "text": [
      "Cantidad de valores duplicados de 'License Number': 0\n"
     ]
    }
   ],
   "source": [
    "# Contar valores duplicados de 'License Number'\n",
    "duplicate_license_count = df_medallion['License Number'].duplicated().sum()\n",
    "\n",
    "# Mostrar el conteo\n",
    "print(f\"Cantidad de valores duplicados de 'License Number': {duplicate_license_count}\")"
   ]
  },
  {
   "cell_type": "code",
   "execution_count": 8,
   "metadata": {
    "colab": {
     "base_uri": "https://localhost:8080/"
    },
    "id": "uRyZoLtjGCyK",
    "outputId": "1feb9b72-4fbc-425c-ff93-469b0a86741c"
   },
   "outputs": [
    {
     "name": "stdout",
     "output_type": "stream",
     "text": [
      "Cantidad total de registros en df_medallion: 13147\n"
     ]
    }
   ],
   "source": [
    "# Obtener la cantidad total de registros\n",
    "total_records = len(df_medallion)\n",
    "\n",
    "# Mostrar la cantidad total\n",
    "print(f\"Cantidad total de registros en df_medallion: {total_records}\")"
   ]
  },
  {
   "cell_type": "code",
   "execution_count": 9,
   "metadata": {
    "colab": {
     "base_uri": "https://localhost:8080/"
    },
    "id": "vKwQtJLmHLZS",
    "outputId": "0b994079-35b8-42f6-be26-3deb155af3e1"
   },
   "outputs": [
    {
     "name": "stdout",
     "output_type": "stream",
     "text": [
      "Cantidad de valores duplicados de 'Vehicle VIN Number': 0\n"
     ]
    }
   ],
   "source": [
    "# Contar valores duplicados de 'Vehicle VIN Number'\n",
    "duplicate_vin_count = df_medallion['Vehicle VIN Number'].duplicated().sum()\n",
    "\n",
    "# Mostrar el conteo\n",
    "print(f\"Cantidad de valores duplicados de 'Vehicle VIN Number': {duplicate_vin_count}\")"
   ]
  },
  {
   "cell_type": "markdown",
   "metadata": {
    "id": "D0NcFHvpH5LL"
   },
   "source": [
    "# Eliminar duplicados y tomar valor de ultima fecha actualizada"
   ]
  },
  {
   "cell_type": "code",
   "execution_count": 21,
   "metadata": {
    "id": "h69r7fNwamSB"
   },
   "outputs": [
    {
     "name": "stdout",
     "output_type": "stream",
     "text": [
      "  License Number Vehicle VIN Number Vehicle Type  Model Year Last Date Updated\n",
      "0           1A10  NM0GS9E29P1553903          WAV        2023        2024-11-07\n",
      "1           1A11  JTMRWRFV5ND149811          HYB        2022        2024-11-07\n",
      "2           1A12  4T1BD1FK5EU127379           SD        2016        2020-06-30\n",
      "3           1A13  4T3LWRFV1MU047137          HYB        2021        2024-11-07\n",
      "4           1A14  5TDZZ3DC3LS050041          WAV        2020        2024-11-07\n"
     ]
    }
   ],
   "source": [
    "# Ordenar por 'Vehicle VIN Number' y 'Last Date Updated'\n",
    "df_medallion_sorted = df_medallion.sort_values(by=['Vehicle VIN Number', 'Last Date Updated'], ascending=[True, False])\n",
    "\n",
    "# Eliminar duplicados de 'Vehicle VIN Number', manteniendo el más reciente\n",
    "df_medallion = df_medallion_sorted.drop_duplicates(subset='Vehicle VIN Number', keep='first')\n",
    "\n",
    "# Ordenar el DataFrame limpio por 'License Number' y 'Last Date Updated'\n",
    "df_medallion = df_medallion_clean.sort_values(by=['License Number', 'Last Date Updated'], ascending=[True, False])\n",
    "\n",
    "# Eliminar duplicados de 'License Number' en el DataFrame limpio, manteniendo el más reciente\n",
    "df_medallion = df_medallion_clean.drop_duplicates(subset='License Number', keep='first')\n",
    "\n",
    "print(df_medallion.head())\n"
   ]
  },
  {
   "cell_type": "markdown",
   "metadata": {},
   "source": [
    "# Reemplazar valores NaN en la columna 'Vehicle Type' con 'SD'\n"
   ]
  },
  {
   "cell_type": "code",
   "execution_count": 22,
   "metadata": {},
   "outputs": [],
   "source": [
    "# Reemplazar valores NaN en la columna 'Vehicle Type' con 'SD'\n",
    "df_medallion['Vehicle Type'] = df_medallion['Vehicle Type'].fillna('SD')\n",
    "\n"
   ]
  },
  {
   "cell_type": "markdown",
   "metadata": {},
   "source": [
    "# Corregir la columna Model_Year de df"
   ]
  },
  {
   "cell_type": "code",
   "execution_count": 23,
   "metadata": {},
   "outputs": [
    {
     "name": "stdout",
     "output_type": "stream",
     "text": [
      "int32\n",
      "  License Number Vehicle VIN Number Vehicle Type  Model Year Last Date Updated\n",
      "0           1A10  NM0GS9E29P1553903          WAV        2023        2024-11-07\n",
      "1           1A11  JTMRWRFV5ND149811          HYB        2022        2024-11-07\n",
      "2           1A12  4T1BD1FK5EU127379           SD        2016        2020-06-30\n",
      "3           1A13  4T3LWRFV1MU047137          HYB        2021        2024-11-07\n",
      "4           1A14  5TDZZ3DC3LS050041          WAV        2020        2024-11-07\n"
     ]
    }
   ],
   "source": [
    "\n",
    "# Eliminar filas con valores NaN en la columna 'Model Year'\n",
    "df_medallion = df_medallion.dropna(subset=['Model Year'])\n",
    "\n",
    "# Convertir la columna 'Model Year' a enteros sin decimales\n",
    "df_medallion['Model Year'] = df_medallion['Model Year'].astype(int)\n",
    "\n",
    "# Verificar los cambios\n",
    "print(df_medallion['Model Year'].dtype)\n",
    "print(df_medallion.head())"
   ]
  },
  {
   "cell_type": "markdown",
   "metadata": {},
   "source": [
    "# Se Exporta a CVS limpio "
   ]
  },
  {
   "cell_type": "code",
   "execution_count": 24,
   "metadata": {
    "id": "l9FLYVKybdhq"
   },
   "outputs": [],
   "source": [
    "# Assuming you have df_medallion_clean DataFrame\n",
    "\n",
    "df_medallion.to_csv('medallion_clean111.csv', index=False)"
   ]
  },
  {
   "cell_type": "markdown",
   "metadata": {},
   "source": [
    "# Analisis de los datos ya limpios"
   ]
  },
  {
   "cell_type": "code",
   "execution_count": null,
   "metadata": {},
   "outputs": [
    {
     "name": "stdout",
     "output_type": "stream",
     "text": [
      "Descripción del DataFrame:\n",
      "       License Number Vehicle VIN Number Vehicle Type    Model Year  \\\n",
      "count           13146              13146        13146  13146.000000   \n",
      "unique          13146              13146            6           NaN   \n",
      "top              1A10  NM0GS9E29P1553903          HYB           NaN   \n",
      "freq                1                  1         5855           NaN   \n",
      "mean              NaN                NaN          NaN   2018.621786   \n",
      "std               NaN                NaN          NaN     18.004077   \n",
      "min               NaN                NaN          NaN      0.000000   \n",
      "25%               NaN                NaN          NaN   2015.000000   \n",
      "50%               NaN                NaN          NaN   2019.000000   \n",
      "75%               NaN                NaN          NaN   2022.000000   \n",
      "max               NaN                NaN          NaN   2025.000000   \n",
      "\n",
      "       Last Date Updated  \n",
      "count              13146  \n",
      "unique              1215  \n",
      "top           2024-11-07  \n",
      "freq                9389  \n",
      "mean                 NaN  \n",
      "std                  NaN  \n",
      "min                  NaN  \n",
      "25%                  NaN  \n",
      "50%                  NaN  \n",
      "75%                  NaN  \n",
      "max                  NaN  \n",
      "\n",
      "Valores nulos por columna:\n",
      "License Number        0\n",
      "Vehicle VIN Number    0\n",
      "Vehicle Type          0\n",
      "Model Year            0\n",
      "Last Date Updated     0\n",
      "dtype: int64\n"
     ]
    },
    {
     "data": {
      "image/png": "[encoded data removed]",
      "text/plain": [
       "<Figure size 1000x600 with 1 Axes>"
      ]
     },
     "metadata": {},
     "output_type": "display_data"
    },
    {
     "name": "stdout",
     "output_type": "stream",
     "text": [
      "\n",
      "Cantidad de filas duplicadas:\n",
      "0\n",
      "\n",
      "Tipos de datos por columna:\n",
      "License Number        object\n",
      "Vehicle VIN Number    object\n",
      "Vehicle Type          object\n",
      "Model Year             int64\n",
      "Last Date Updated     object\n",
      "dtype: object\n",
      "Cantidad de líneas en df_medallion_clean: 13146\n"
     ]
    }
   ],
   "source": [
    "# Cargar el archivo CSV\n",
    "file_path = r'medallion_clean111.csv'\n",
    "df_medallion_clean = pd.read_csv(file_path)\n",
    "\n",
    "# Describir el DataFrame\n",
    "print(\"Descripción del DataFrame:\")\n",
    "print(df_medallion_clean.describe(include='all'))\n",
    "\n",
    "# Verificar valores nulos\n",
    "print(\"\\nValores nulos por columna:\")\n",
    "print(df_medallion_clean.isnull().sum())\n",
    "\n",
    "# Buscar duplicados\n",
    "print(\"\\nCantidad de filas duplicadas:\")\n",
    "print(df_medallion_clean.duplicated().sum())\n",
    "\n",
    "# Analizar tipos de datos\n",
    "print(\"\\nTipos de datos por columna:\")\n",
    "print(df_medallion_clean.dtypes)\n",
    "\n",
    "print(f\"Cantidad de líneas en df_medallion_clean: {len(df_medallion_clean)}\")"
   ]
  }
 ],
 "metadata": {
  "colab": {
   "provenance": []
  },
  "kernelspec": {
   "display_name": "Python 3",
   "name": "python3"
  },
  "language_info": {
   "codemirror_mode": {
    "name": "ipython",
    "version": 3
   },
   "file_extension": ".py",
   "mimetype": "text/x-python",
   "name": "python",
   "nbconvert_exporter": "python",
   "pygments_lexer": "ipython3",
   "version": "3.12.7"
  }
 },
 "nbformat": 4,
 "nbformat_minor": 0
}
